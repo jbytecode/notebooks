{
 "cells": [
  {
   "cell_type": "markdown",
   "id": "8f5b26d4-49a4-4271-9078-94f3fedc9de6",
   "metadata": {},
   "source": [
    "$$\n",
    "\\begin{align}\n",
    "x^2 + xy = 28 \\\\\n",
    "y^2 + xy = 21\n",
    "\\end{align}\n",
    "$$"
   ]
  },
  {
   "cell_type": "code",
   "execution_count": 1,
   "id": "399d1d0e-47a3-4f37-afed-cd7eaeb85667",
   "metadata": {},
   "outputs": [
    {
     "name": "stderr",
     "output_type": "stream",
     "text": [
      "┌ Info: Results of Nonlinear Solver Algorithm\n",
      "│  * Algorithm: Trust-region with dogleg and autoscaling\n",
      "│  * Starting Point: [1.0, 1.0]\n",
      "│  * Zero: [4.0, 3.0]\n",
      "│  * Inf-norm of residuals: 0.000000\n",
      "│  * Iterations: 6\n",
      "│  * Convergence: true\n",
      "│    * |x - x'| < 0.0e+00: false\n",
      "│    * |f(x)| < 1.0e-08: true\n",
      "│  * Function Calls (f): 7\n",
      "│  * Jacobian Calls (df/dx): 7\n",
      "└ @ Main In[1]:11\n"
     ]
    }
   ],
   "source": [
    "using NLsolve\n",
    "\n",
    "function f!(F, x)\n",
    "    F[1] = 28.0 - x[1]^2 - x[1] * x[2]\n",
    "    F[2] = 21.0 - x[2]^2 - x[1] * x[2]\n",
    "end\n",
    "\n",
    "initial_x = [1.0, 1.0]\n",
    "result = nlsolve(f!, initial_x, autodiff = :forward)\n",
    "\n",
    "@info result"
   ]
  },
  {
   "cell_type": "code",
   "execution_count": null,
   "id": "f5129ab9-f478-4f0a-ae2e-dfc379308a1e",
   "metadata": {},
   "outputs": [],
   "source": []
  }
 ],
 "metadata": {
  "kernelspec": {
   "display_name": "Julia 1.7.3",
   "language": "julia",
   "name": "julia-1.7"
  },
  "language_info": {
   "file_extension": ".jl",
   "mimetype": "application/julia",
   "name": "julia",
   "version": "1.7.3"
  }
 },
 "nbformat": 4,
 "nbformat_minor": 5
}
