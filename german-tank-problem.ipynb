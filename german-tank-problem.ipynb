{
 "cells": [
  {
   "cell_type": "code",
   "execution_count": 6,
   "id": "94c6dd9e",
   "metadata": {},
   "outputs": [
    {
     "data": {
      "text/plain": [
       "nestimate (generic function with 1 method)"
      ]
     },
     "execution_count": 6,
     "metadata": {},
     "output_type": "execute_result"
    }
   ],
   "source": [
    "using StatsBase\n",
    "function nestimate(sampl::AbstractArray; method = \"mvue\")::Float64\n",
    "\n",
    "    function mvue(sampl::AbstractArray)::Float64\n",
    "        mx = maximum(sampl)\n",
    "        estimate = mx + mx / length(sampl) - 1.0\n",
    "        return estimate\n",
    "    end\n",
    "\n",
    "    function mom(sampl::AbstractArray)::Float64\n",
    "        return 2.0 * mean(sampl) - 1.0\n",
    "    end\n",
    "\n",
    "    if method == \"mvue\"\n",
    "        return mvue(sampl)\n",
    "    elseif method == \"mom\"\n",
    "        return mom(sampl)\n",
    "    else\n",
    "        throw(ArgumentError(\"Unknown method: $method\"))\n",
    "    end\n",
    "end"
   ]
  },
  {
   "cell_type": "markdown",
   "id": "45acce99",
   "metadata": {},
   "source": [
    "### Minimum Variance Estimator"
   ]
  },
  {
   "cell_type": "markdown",
   "id": "4ca038d4",
   "metadata": {},
   "source": [
    "$$\n",
    "\\hat{n} = \\max{x} + \\frac{\\max{x}}{n} - 1\n",
    "$$"
   ]
  },
  {
   "cell_type": "markdown",
   "id": "8026063e",
   "metadata": {},
   "source": [
    "### Method of Moments Estimator"
   ]
  },
  {
   "cell_type": "markdown",
   "id": "22049072",
   "metadata": {},
   "source": [
    "$$\n",
    "\\hat{n} = 2  \\frac{\\Sigma{x}}{n} - 1\n",
    "$$"
   ]
  },
  {
   "cell_type": "markdown",
   "id": "54f19e41",
   "metadata": {},
   "source": [
    "### Example"
   ]
  },
  {
   "cell_type": "code",
   "execution_count": 12,
   "id": "6efc0132",
   "metadata": {},
   "outputs": [
    {
     "data": {
      "text/plain": [
       "10-element Vector{Int64}:\n",
       " 34\n",
       " 59\n",
       " 22\n",
       " 39\n",
       " 77\n",
       " 41\n",
       " 16\n",
       " 10\n",
       " 54\n",
       " 11"
      ]
     },
     "execution_count": 12,
     "metadata": {},
     "output_type": "execute_result"
    }
   ],
   "source": [
    "x = [34, 59, 22, 39, 77, 41, 16, 10, 54, 11]"
   ]
  },
  {
   "cell_type": "code",
   "execution_count": 13,
   "id": "fcdc18ac",
   "metadata": {},
   "outputs": [
    {
     "data": {
      "text/plain": [
       "83.7"
      ]
     },
     "execution_count": 13,
     "metadata": {},
     "output_type": "execute_result"
    }
   ],
   "source": [
    "nestimate(x, method = \"mvue\")"
   ]
  },
  {
   "cell_type": "code",
   "execution_count": 14,
   "id": "ab29172e",
   "metadata": {},
   "outputs": [
    {
     "data": {
      "text/plain": [
       "71.6"
      ]
     },
     "execution_count": 14,
     "metadata": {},
     "output_type": "execute_result"
    }
   ],
   "source": [
    "nestimate(x, method = \"mom\")"
   ]
  },
  {
   "cell_type": "code",
   "execution_count": null,
   "id": "498c00ab",
   "metadata": {},
   "outputs": [],
   "source": []
  }
 ],
 "metadata": {
  "kernelspec": {
   "display_name": "Julia 1.9.0-rc2",
   "language": "julia",
   "name": "julia-1.9"
  },
  "language_info": {
   "file_extension": ".jl",
   "mimetype": "application/julia",
   "name": "julia",
   "version": "1.9.0"
  }
 },
 "nbformat": 4,
 "nbformat_minor": 5
}
