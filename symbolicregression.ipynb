{
 "cells": [
  {
   "cell_type": "markdown",
   "id": "d8e26331",
   "metadata": {},
   "source": [
    "## Symbolic Regression "
   ]
  },
  {
   "cell_type": "markdown",
   "id": "67a14917",
   "metadata": {},
   "source": [
    "### The XOR Problem"
   ]
  },
  {
   "cell_type": "code",
   "execution_count": 1,
   "id": "915689a1",
   "metadata": {},
   "outputs": [],
   "source": [
    "using SymbolicRegression, MLJ"
   ]
  },
  {
   "cell_type": "code",
   "execution_count": 5,
   "id": "c871553f",
   "metadata": {},
   "outputs": [],
   "source": [
    "x = (x1 = Float64[1, 1, 0, 0], x2 = Float64[1, 0, 1, 0])\n",
    "y = Float64[0, 1, 1, 0];"
   ]
  },
  {
   "cell_type": "code",
   "execution_count": 3,
   "id": "839ac02a",
   "metadata": {},
   "outputs": [
    {
     "data": {
      "text/plain": [
       "(x1 = [1.0, 1.0, 0.0, 0.0],\n",
       " x2 = [1.0, 0.0, 1.0, 0.0],)"
      ]
     },
     "execution_count": 3,
     "metadata": {},
     "output_type": "execute_result"
    }
   ],
   "source": [
    "x"
   ]
  },
  {
   "cell_type": "code",
   "execution_count": 4,
   "id": "5cce0564",
   "metadata": {},
   "outputs": [
    {
     "data": {
      "text/plain": [
       "4-element Vector{Float64}:\n",
       " 0.0\n",
       " 1.0\n",
       " 1.0\n",
       " 0.0"
      ]
     },
     "execution_count": 4,
     "metadata": {},
     "output_type": "execute_result"
    }
   ],
   "source": [
    "y"
   ]
  },
  {
   "cell_type": "code",
   "execution_count": 19,
   "id": "bd25ad93",
   "metadata": {},
   "outputs": [],
   "source": [
    "model = SRRegressor(\n",
    "           niterations=50,\n",
    "           binary_operators = [+, -, *],\n",
    "           unary_operators = [abs],\n",
    "           should_simplify = true,\n",
    "           save_to_file = false\n",
    ");"
   ]
  },
  {
   "cell_type": "code",
   "execution_count": 20,
   "id": "783b3dc2",
   "metadata": {},
   "outputs": [
    {
     "data": {
      "text/plain": [
       "untrained Machine; caches model-specific representations of data\n",
       "  model: SRRegressor(binary_operators = Function[+, -, *], …)\n",
       "  args: \n",
       "    1:\tSource @629 ⏎ Table{AbstractVector{Continuous}}\n",
       "    2:\tSource @749 ⏎ AbstractVector{Continuous}\n"
      ]
     },
     "execution_count": 20,
     "metadata": {},
     "output_type": "execute_result"
    }
   ],
   "source": [
    "mach = machine(model, x, y)"
   ]
  },
  {
   "cell_type": "code",
   "execution_count": 21,
   "id": "cd42be4f",
   "metadata": {
    "scrolled": false
   },
   "outputs": [
    {
     "name": "stderr",
     "output_type": "stream",
     "text": [
      "\u001b[33m\u001b[1m┌ \u001b[22m\u001b[39m\u001b[33m\u001b[1mWarning: \u001b[22m\u001b[39mYou are using multithreading mode, but only one thread is available. Try starting julia with `--threads=auto`.\n",
      "\u001b[33m\u001b[1m└ \u001b[22m\u001b[39m\u001b[90m@ SymbolicRegression ~/.julia/packages/SymbolicRegression/XKtla/src/SymbolicRegression.jl:546\u001b[39m\n"
     ]
    },
    {
     "data": {
      "text/plain": [
       "trained Machine; caches model-specific representations of data\n",
       "  model: SRRegressor(binary_operators = Function[+, -, *], …)\n",
       "  args: \n",
       "    1:\tSource @629 ⏎ Table{AbstractVector{Continuous}}\n",
       "    2:\tSource @749 ⏎ AbstractVector{Continuous}\n"
      ]
     },
     "execution_count": 21,
     "metadata": {},
     "output_type": "execute_result"
    }
   ],
   "source": [
    "fit!(mach, verbosity = 0)"
   ]
  },
  {
   "cell_type": "code",
   "execution_count": 22,
   "id": "d3bbf42b",
   "metadata": {},
   "outputs": [
    {
     "data": {
      "text/plain": [
       "(best_idx = 2,\n",
       " equations = DynamicExpressions.EquationModule.Node{Float64}[0.49999999999953443, abs(x2 - x1)],\n",
       " equation_strings = [\"0.49999999999953443\", \"abs(x2 - x1)\"],\n",
       " losses = [0.25, 0.0],\n",
       " complexities = [1, 4],\n",
       " scores = [36.04365338911715, 12.014551129705717],)"
      ]
     },
     "execution_count": 22,
     "metadata": {},
     "output_type": "execute_result"
    }
   ],
   "source": [
    "report(mach)"
   ]
  },
  {
   "cell_type": "code",
   "execution_count": 23,
   "id": "b85943a9",
   "metadata": {},
   "outputs": [
    {
     "data": {
      "text/plain": [
       "4-element Vector{Float64}:\n",
       " 0.0\n",
       " 1.0\n",
       " 1.0\n",
       " 0.0"
      ]
     },
     "execution_count": 23,
     "metadata": {},
     "output_type": "execute_result"
    }
   ],
   "source": [
    "predict(mach, x)"
   ]
  },
  {
   "cell_type": "code",
   "execution_count": 24,
   "id": "9a472c63",
   "metadata": {},
   "outputs": [
    {
     "data": {
      "text/plain": [
       "4-element Vector{Float64}:\n",
       " 0.0\n",
       " 1.0\n",
       " 1.0\n",
       " 0.0"
      ]
     },
     "execution_count": 24,
     "metadata": {},
     "output_type": "execute_result"
    }
   ],
   "source": [
    "y"
   ]
  },
  {
   "cell_type": "markdown",
   "id": "b9986ece",
   "metadata": {},
   "source": [
    "_________________________________"
   ]
  },
  {
   "cell_type": "markdown",
   "id": "807e28f6",
   "metadata": {},
   "source": [
    "### Multiple Linear Regression"
   ]
  },
  {
   "cell_type": "code",
   "execution_count": 25,
   "id": "b4a0ab01",
   "metadata": {},
   "outputs": [
    {
     "data": {
      "text/plain": [
       "100×4 Matrix{Float64}:\n",
       " 0.138917   0.682485   -0.58824    8.51877\n",
       " 0.531597   0.679788    0.475486  11.5324\n",
       " 0.675932   0.789144    1.55958   13.885\n",
       " 0.152677   0.973508   -0.581972  10.049\n",
       " 0.881541   0.62497    -1.86629   10.6663\n",
       " 0.707281   0.499442    0.770999  11.8046\n",
       " 0.239886   0.815299   -2.10495    8.17097\n",
       " 0.964792   0.493836   -0.12281   12.1703\n",
       " 0.42657    0.219206   -0.948479   7.2804\n",
       " 0.200197   0.66679    -1.56679    7.76814\n",
       " 0.423647   0.609216    0.228466  10.3928\n",
       " 0.886924   0.989866    1.78651   16.1705\n",
       " 0.104968   0.776594   -0.476318   8.93149\n",
       " ⋮                                \n",
       " 0.563341   0.766334    0.580689  12.2291\n",
       " 0.789549   0.757934    0.18192   12.9193\n",
       " 0.0965075  0.0169687   0.732317   6.2997\n",
       " 0.946819   0.782775    0.139021  13.787\n",
       " 0.741317   0.400415    1.31655   12.0252\n",
       " 0.95654    0.873976    0.484256  14.6368\n",
       " 0.237202   0.762834   -0.928244   9.07193\n",
       " 0.888619   0.174577   -0.739033   9.57695\n",
       " 0.900598   0.933838    0.458701  14.6309\n",
       " 0.260953   0.032994   -1.30448    5.16526\n",
       " 0.360481   0.756651    1.13524   11.7209\n",
       " 0.779549   0.415645    0.597762  11.5737"
      ]
     },
     "execution_count": 25,
     "metadata": {},
     "output_type": "execute_result"
    }
   ],
   "source": [
    "n = 100\n",
    "x1 = rand(n)\n",
    "x2 = rand(n)\n",
    "e  = randn(n)\n",
    "y = @. 5.0 + 5.0 * x1 + 5.0 * x2 + e \n",
    "hcat(x1, x2, e, y)"
   ]
  },
  {
   "cell_type": "code",
   "execution_count": 26,
   "id": "c26126fc",
   "metadata": {},
   "outputs": [],
   "source": [
    "x = (x1 = x1, x2 = x2);"
   ]
  },
  {
   "cell_type": "code",
   "execution_count": 27,
   "id": "6052cb3f",
   "metadata": {},
   "outputs": [],
   "source": [
    "model = SRRegressor(\n",
    "           niterations=50,\n",
    "           binary_operators = [+, -, *, /, ^],\n",
    "           unary_operators = [],\n",
    "           should_simplify = true,\n",
    "           save_to_file = false,\n",
    "           should_optimize_constants = true\n",
    ");"
   ]
  },
  {
   "cell_type": "code",
   "execution_count": 28,
   "id": "ae4b86d5",
   "metadata": {},
   "outputs": [
    {
     "data": {
      "text/plain": [
       "untrained Machine; caches model-specific representations of data\n",
       "  model: SRRegressor(binary_operators = Function[+, -, *, /, ^], …)\n",
       "  args: \n",
       "    1:\tSource @842 ⏎ Table{AbstractVector{Continuous}}\n",
       "    2:\tSource @664 ⏎ AbstractVector{Continuous}\n"
      ]
     },
     "execution_count": 28,
     "metadata": {},
     "output_type": "execute_result"
    }
   ],
   "source": [
    "mach = machine(model, x, y)"
   ]
  },
  {
   "cell_type": "code",
   "execution_count": 29,
   "id": "d938cd6a",
   "metadata": {},
   "outputs": [
    {
     "name": "stderr",
     "output_type": "stream",
     "text": [
      "\u001b[33m\u001b[1m┌ \u001b[22m\u001b[39m\u001b[33m\u001b[1mWarning: \u001b[22m\u001b[39mYou are using multithreading mode, but only one thread is available. Try starting julia with `--threads=auto`.\n",
      "\u001b[33m\u001b[1m└ \u001b[22m\u001b[39m\u001b[90m@ SymbolicRegression ~/.julia/packages/SymbolicRegression/XKtla/src/SymbolicRegression.jl:546\u001b[39m\n"
     ]
    },
    {
     "data": {
      "text/plain": [
       "trained Machine; caches model-specific representations of data\n",
       "  model: SRRegressor(binary_operators = Function[+, -, *, /, ^], …)\n",
       "  args: \n",
       "    1:\tSource @842 ⏎ Table{AbstractVector{Continuous}}\n",
       "    2:\tSource @664 ⏎ AbstractVector{Continuous}\n"
      ]
     },
     "execution_count": 29,
     "metadata": {},
     "output_type": "execute_result"
    }
   ],
   "source": [
    "fit!(mach, verbosity = 0)"
   ]
  },
  {
   "cell_type": "code",
   "execution_count": 30,
   "id": "e7cb240d",
   "metadata": {},
   "outputs": [
    {
     "data": {
      "text/plain": [
       "(best_idx = 4,\n",
       " equations = DynamicExpressions.EquationModule.Node{Float64}[10.232315007067802, (x1 + 9.746550911010067), ((x1 * 6.310149195723144) + 7.167071080353323), (((x1 + x2) * 5.054068687237679) + 5.018626666960289), (((x1 * 5.180283069347846) + 5.03230998980253) + (x2 * 4.91667179728503)), (((x1 * 4.605820339957924) + 5.288226281086519) + (x2 * (x1 + 4.437620668971425))), (((((x1 + x2) * 5.428241379008618) + (x2 ^ x1)) + 4.428128295392362) - x2), ((((x1 * 5.0313576105489926) + 5.544142572391885) + (x2 * (x1 + (3.9585695406457484 + x1)))) - x1), ((((x1 * 5.0313576105489926) + 5.544142572391885) + (x2 * (((x1 ^ x2) + x1) + 3.9585695406457484))) - x1), ((((x1 * 5.0313576105489926) + 5.544142572391885) + (x2 * (((x1 ^ x2) + x1) + 3.9585695406457484))) - (x1 ^ 0.9009793611948865))],\n",
       " equation_strings = [\"10.232315007067802\", \"(x1 + 9.746550911010067)\", \"((x1 * 6.310149195723144) + 7.167071080353323)\", \"(((x1 + x2) * 5.054068687237679) + 5.018626666960289)\", \"(((x1 * 5.180283069347846) + 5.03230998980253) + (x2 * 4.91667179728503))\", \"(((x1 * 4.605820339957924) + 5.288226281086519) + (x2 * (x1 + 4.437620668971425)))\", \"(((((x1 + x2) * 5.428241379008618) + (x2 ^ x1)) + 4.428128295392362) - x2)\", \"((((x1 * 5.0313576105489926) + 5.544142572391885) + (x2 * (x1 + (3.9585695406457484 + x1)))) - x1)\", \"((((x1 * 5.0313576105489926) + 5.544142572391885) + (x2 * (((x1 ^ x2) + x1) + 3.9585695406457484))) - x1)\", \"((((x1 * 5.0313576105489926) + 5.544142572391885) + (x2 * (((x1 ^ x2) + x1) + 3.9585695406457484))) - (x1 ^ 0.9009793611948865))\"],\n",
       " losses = [6.013193106022077, 5.028513954152839, 2.639102676343721, 0.9059988227409456, 0.9038847647241194, 0.8837781551089425, 0.8824081472143657, 0.8782782398256606, 0.8776615105962928, 0.8744183471163534],\n",
       " complexities = [1, 3, 5, 7, 9, 11, 13, 15, 17, 19],\n",
       " scores = [36.04365338911715, 0.08941570119263288, 0.32234276992758637, 0.5345781181996497, 0.001168063511333906, 0.011247902116337078, 0.0007756872350035782, 0.0023456278149874324, 0.0003512246103996546, 0.0018510384499461367],)"
      ]
     },
     "execution_count": 30,
     "metadata": {},
     "output_type": "execute_result"
    }
   ],
   "source": [
    "report(mach)"
   ]
  },
  {
   "cell_type": "markdown",
   "id": "115f249c",
   "metadata": {},
   "source": [
    "```julia\n",
    "(((x1 + x2) * 5.054068687237679) + 5.018626666960289)\n",
    "```"
   ]
  },
  {
   "cell_type": "code",
   "execution_count": null,
   "id": "53399d68",
   "metadata": {},
   "outputs": [],
   "source": []
  }
 ],
 "metadata": {
  "kernelspec": {
   "display_name": "Julia 1.10.0-beta2",
   "language": "julia",
   "name": "julia-1.10"
  },
  "language_info": {
   "file_extension": ".jl",
   "mimetype": "application/julia",
   "name": "julia",
   "version": "1.10.0"
  }
 },
 "nbformat": 4,
 "nbformat_minor": 5
}
