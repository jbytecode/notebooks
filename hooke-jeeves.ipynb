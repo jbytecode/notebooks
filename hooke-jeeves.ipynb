{
 "cells": [
  {
   "cell_type": "markdown",
   "id": "9b2e406a-8298-4c1c-adb9-4be0aeee0f36",
   "metadata": {},
   "source": [
    "# Hooke-Jeeves Pattern Search"
   ]
  },
  {
   "cell_type": "code",
   "execution_count": 3,
   "id": "17c58f05-04a0-4734-bfd5-8e3e10beec88",
   "metadata": {},
   "outputs": [
    {
     "data": {
      "text/plain": [
       "mutate (generic function with 1 method)"
      ]
     },
     "execution_count": 3,
     "metadata": {},
     "output_type": "execute_result"
    }
   ],
   "source": [
    "function mutate(par, p, d)\n",
    "    newpar = copy(par)\n",
    "    newpar[p] += d\n",
    "    return newpar\n",
    "end"
   ]
  },
  {
   "cell_type": "code",
   "execution_count": 2,
   "id": "6e73000e-2b45-49cf-9728-2f2470b074ff",
   "metadata": {},
   "outputs": [
    {
     "data": {
      "text/plain": [
       "hj (generic function with 1 method)"
      ]
     },
     "execution_count": 2,
     "metadata": {},
     "output_type": "execute_result"
    }
   ],
   "source": [
    "function hj(\n",
    "    f::Function,\n",
    "    par::Vector{Float64};\n",
    "    maxiter = 1000,\n",
    "    startstep = 5.0,\n",
    "    endstep = 0.0001,\n",
    ")\n",
    "    p = length(par)\n",
    "    currentstep = startstep\n",
    "    iter::Int64 = 0\n",
    "    while iter < maxiter\n",
    "        fold = f(par)\n",
    "        fnow = fold\n",
    "        for currentp = 1:p\n",
    "            mutateleft = mutate(par, currentp, -currentstep)\n",
    "            fleft = f(mutateleft)\n",
    "            mutateright = mutate(par, currentp, currentstep)\n",
    "            fright = f(mutateright)\n",
    "            if fleft < fold\n",
    "                par = mutateleft\n",
    "                fnow = fleft\n",
    "            elseif fright < fold\n",
    "                par = mutateright\n",
    "                fnow = fright\n",
    "            end\n",
    "        end\n",
    "        if fold <= fnow\n",
    "            currentstep /= 2\n",
    "        end\n",
    "        if currentstep < endstep\n",
    "            break\n",
    "        end\n",
    "        iter += 1\n",
    "    end\n",
    "\n",
    "    return Dict(\"par\" => par, \"iter\" => iter, \"step\" => currentstep)\n",
    "end"
   ]
  },
  {
   "cell_type": "code",
   "execution_count": 4,
   "id": "b26843cd-f84e-43bd-8289-7b2d7c325341",
   "metadata": {},
   "outputs": [
    {
     "data": {
      "text/plain": [
       "f (generic function with 1 method)"
      ]
     },
     "execution_count": 4,
     "metadata": {},
     "output_type": "execute_result"
    }
   ],
   "source": [
    "function f(x::Vector{Float64})::Float64\n",
    "    return (x[1] - 3.14159265)^2 + (x[2] - 2.71828183)^2\n",
    "end"
   ]
  },
  {
   "cell_type": "code",
   "execution_count": 5,
   "id": "d3d5c649-392f-499d-806f-34234425b2d2",
   "metadata": {},
   "outputs": [
    {
     "data": {
      "text/plain": [
       "Dict{String, Any} with 3 entries:\n",
       "  \"par\"  => [3.14163, 2.71835]\n",
       "  \"step\" => 7.62939e-5\n",
       "  \"iter\" => 31"
      ]
     },
     "execution_count": 5,
     "metadata": {},
     "output_type": "execute_result"
    }
   ],
   "source": [
    "hj(f, [0.0, 0.0])"
   ]
  },
  {
   "cell_type": "code",
   "execution_count": 6,
   "id": "6d581118-c3a0-4f8c-a038-b2a7dbc96ee5",
   "metadata": {},
   "outputs": [
    {
     "data": {
      "text/plain": [
       "f10 (generic function with 1 method)"
      ]
     },
     "execution_count": 6,
     "metadata": {},
     "output_type": "execute_result"
    }
   ],
   "source": [
    "function f10(x::Vector{Float64})::Float64\n",
    "    s = 0.0\n",
    "    for i in x\n",
    "        s += (i - 10.0)^2\n",
    "    end\n",
    "    return s\n",
    "end"
   ]
  },
  {
   "cell_type": "code",
   "execution_count": 13,
   "id": "054fbe4d-42d8-439d-8948-8704d93208c4",
   "metadata": {},
   "outputs": [
    {
     "data": {
      "text/plain": [
       "Dict{String, Any} with 3 entries:\n",
       "  \"par\"  => [10.0, 10.0, 10.0, 10.0, 10.0]\n",
       "  \"step\" => 7.45058e-8\n",
       "  \"iter\" => 79"
      ]
     },
     "execution_count": 13,
     "metadata": {},
     "output_type": "execute_result"
    }
   ],
   "source": [
    "hj(f10, [rand() for i in 1:5], endstep = 0.0000001)"
   ]
  },
  {
   "cell_type": "code",
   "execution_count": null,
   "id": "ee723c7a-fd94-4f56-8c7a-73c91c505a14",
   "metadata": {},
   "outputs": [],
   "source": []
  }
 ],
 "metadata": {
  "kernelspec": {
   "display_name": "Julia 1.9.0-DEV",
   "language": "julia",
   "name": "julia-1.9"
  },
  "language_info": {
   "file_extension": ".jl",
   "mimetype": "application/julia",
   "name": "julia",
   "version": "1.9.0"
  }
 },
 "nbformat": 4,
 "nbformat_minor": 5
}
