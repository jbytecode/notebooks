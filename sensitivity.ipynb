{
 "cells": [
  {
   "cell_type": "markdown",
   "id": "0fc69a2f-0a31-42f8-9cb5-dcbe2e524883",
   "metadata": {},
   "source": [
    "### Problem 1"
   ]
  },
  {
   "cell_type": "markdown",
   "id": "320b40f0-6e51-47e7-a9b5-ff6f61460cac",
   "metadata": {},
   "source": [
    "\\begin{aligned}\n",
    "\\max z = & 3x + 4y \\\\\n",
    "\\text{Subject to:} & \\\\\n",
    "& 2x + 4y \\le 24 \\\\\n",
    "& 6x + 3y \\le 36 \\\\\n",
    "& x, y \\ge 0\n",
    "\\end{aligned}"
   ]
  },
  {
   "cell_type": "markdown",
   "id": "70d36f95-7be7-493c-9a20-b64c36b12210",
   "metadata": {},
   "source": [
    "| -   | x     | y     | s1    | s2    | Solution |\n",
    "|:---:| :---: | :---: | :---: | :---: | :----:   |\n",
    "| z   |   -3  |  -4   |   0   |  0    |    0     |\n",
    "| s1  |   2   |   4   |   1   |  0    |   24     |\n",
    "| s2  |   6   |   3   |   0   |  1    |   36     |"
   ]
  },
  {
   "cell_type": "markdown",
   "id": "548e296c-fcdd-4123-8b8d-2a971907edf9",
   "metadata": {},
   "source": [
    "- $y$ enters\n",
    "- $s_1$ leaves the solution"
   ]
  },
  {
   "cell_type": "code",
   "execution_count": null,
   "id": "09e36d32-2bd1-4180-a89e-a36309484110",
   "metadata": {},
   "outputs": [],
   "source": [
    "s1 = [2, 4, 1, 0, 24]\n",
    "y = s1 / 4"
   ]
  },
  {
   "cell_type": "code",
   "execution_count": null,
   "id": "b9d92a9e-41d9-4679-9508-8e076fdda92e",
   "metadata": {},
   "outputs": [],
   "source": [
    "z = [-3, -4, 0, 0, 0]\n",
    "newz = z + y * 4"
   ]
  },
  {
   "cell_type": "code",
   "execution_count": null,
   "id": "6bc89cd0-78a5-4ac3-8e31-a5b96b91ece6",
   "metadata": {},
   "outputs": [],
   "source": [
    "s2 = [6, 3, 0, 1, 36]\n",
    "news2 = s2 + y * (-3)"
   ]
  },
  {
   "cell_type": "markdown",
   "id": "a6b88601-5ccf-407f-861c-90693c79853b",
   "metadata": {},
   "source": [
    "| -   | x     | y     | s1    | s2    | Solution |\n",
    "|:---:| :---: | :---: | :---: | :---: | :----:   |\n",
    "| z   |   -1  |   0   |   1   |  0    |    24     |\n",
    "| y   |   0.5 |   1   |  0.25 |  0    |    6     |\n",
    "| s2  |   4.5 |   0   | -0.75 |  1    |   18     |"
   ]
  },
  {
   "cell_type": "markdown",
   "id": "9fb3546b-fee8-4ae5-bb5f-56f0b69c9e10",
   "metadata": {},
   "source": [
    "- $x_1$ enters\n",
    "- $s_2$ leaves the solution "
   ]
  },
  {
   "cell_type": "code",
   "execution_count": null,
   "id": "c0100b97-3b73-4ba2-9523-7f50d375916b",
   "metadata": {},
   "outputs": [],
   "source": [
    "x = news2 / 4.5"
   ]
  },
  {
   "cell_type": "code",
   "execution_count": null,
   "id": "e7cb99b9-4cc2-4070-932b-17d312768683",
   "metadata": {},
   "outputs": [],
   "source": [
    "newy = y + (-0.5) * x"
   ]
  },
  {
   "cell_type": "code",
   "execution_count": null,
   "id": "b4b9bfd0-6b50-4df5-b794-bdc05522226d",
   "metadata": {},
   "outputs": [],
   "source": [
    "newnewz = newz + 1 * x"
   ]
  },
  {
   "cell_type": "markdown",
   "id": "51ca9bb7-6118-4139-8f07-4b67b8055f1c",
   "metadata": {},
   "source": [
    "| -   | x     | y     | s1    | s2    | Solution |\n",
    "|:---:| :---: | :---: | :---: | :---: | :----:   |\n",
    "| z   |   0   |   0   |  **0.83** |  **0.22**  |    28    |\n",
    "| y   |   0   |   1   |  0.33 |  -0.11|    4     |\n",
    "| x   |   1   |   0   | -0.16 |  0.22 |    4     |"
   ]
  },
  {
   "cell_type": "markdown",
   "id": "c0ecc8ae-747d-4ba4-bf68-3299de49d561",
   "metadata": {},
   "source": [
    "The optimum solution is $\\{x = 4 , y = 4\\}$ and $z = 24$."
   ]
  },
  {
   "cell_type": "code",
   "execution_count": null,
   "id": "c02b56b9-e6ed-4e2e-8a36-2f0be8a5bad6",
   "metadata": {},
   "outputs": [],
   "source": [
    "Binv = [0.33333333 -0.11111111; -0.16666666 0.22222222]"
   ]
  },
  {
   "cell_type": "code",
   "execution_count": null,
   "id": "ea9d6fc4-2071-4f88-9bb2-69aa4ba38748",
   "metadata": {},
   "outputs": [],
   "source": [
    "rhs = [24, 36]"
   ]
  },
  {
   "cell_type": "code",
   "execution_count": null,
   "id": "c0d0669f-1b55-423e-8b68-0dab6fbf4d6d",
   "metadata": {},
   "outputs": [],
   "source": [
    "Binv * rhs"
   ]
  },
  {
   "cell_type": "markdown",
   "id": "89050d36-f4cc-4bab-9f47-83ca10f66707",
   "metadata": {},
   "source": [
    "- Increasing RHS value from 36 to 37"
   ]
  },
  {
   "cell_type": "markdown",
   "id": "9b041e55-d6cf-4ce4-be0b-068be836968e",
   "metadata": {},
   "source": [
    "### Julia Solution with JuMP"
   ]
  },
  {
   "cell_type": "code",
   "execution_count": null,
   "id": "c2561fee-7c37-4ed2-853f-0a1ae2f42617",
   "metadata": {},
   "outputs": [],
   "source": [
    "using JuMP, GLPK"
   ]
  },
  {
   "cell_type": "code",
   "execution_count": null,
   "id": "8de767fe-6366-454c-aabe-0ffe38735060",
   "metadata": {},
   "outputs": [],
   "source": [
    "m = Model(GLPK.Optimizer)\n",
    "@variable(m, x)\n",
    "@variable(m, y)\n",
    "@objective(m, Max, 3x + 4y)\n",
    "@constraint(m, c1, 2x + 4y <= 24)\n",
    "@constraint(m, c2, 6x + 3y <= 36)\n",
    "@constraint(m, x >= 0)\n",
    "@constraint(m, y >= 0)\n",
    "optimize!(m)\n",
    "println(value.([x, y]))\n",
    "println(JuMP.shadow_price(c1))\n",
    "println(JuMP.shadow_price(c2))"
   ]
  },
  {
   "cell_type": "code",
   "execution_count": null,
   "id": "33a81afb-4c48-48b9-8dc6-7008824669db",
   "metadata": {},
   "outputs": [],
   "source": []
  }
 ],
 "metadata": {
  "kernelspec": {
   "display_name": "Julia 1.9 1.9.0-DEV",
   "language": "julia",
   "name": "julia-1.9-1.9"
  },
  "language_info": {
   "file_extension": ".jl",
   "mimetype": "application/julia",
   "name": "julia",
   "version": "1.9.0"
  }
 },
 "nbformat": 4,
 "nbformat_minor": 5
}
