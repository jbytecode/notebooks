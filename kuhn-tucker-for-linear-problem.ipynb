{
 "cells": [
  {
   "cell_type": "code",
   "execution_count": 1,
   "id": "7335dfe3-574e-4df1-978e-531f49c1aa32",
   "metadata": {},
   "outputs": [],
   "source": [
    "using NLsolve"
   ]
  },
  {
   "cell_type": "markdown",
   "id": "ae605b46-a2d8-4470-b569-5202ff0cdba7",
   "metadata": {},
   "source": [
    "$$\n",
    "\\begin{aligned}\n",
    "\\max z & = 3x + 5y \\\\\n",
    "\\text{Subject to:} \\\\\n",
    "& 5x + 10y \\le 100 \\\\\n",
    "& x \\ge 0 \\\\\n",
    "& y \\ge 0\n",
    "\\end{aligned}\n",
    "$$"
   ]
  },
  {
   "cell_type": "markdown",
   "id": "ec754c02-6698-4a12-adf6-eaeffad7330f",
   "metadata": {},
   "source": [
    "$$\n",
    "\\begin{aligned}\n",
    "\\max z & = 3x + 5y \\\\\n",
    "\\text{Subject to:} \\\\\n",
    "& 5x + 10y \\le 100 \\\\\n",
    "& -x \\le 0 \\\\\n",
    "& -y \\ge 0\n",
    "\\end{aligned}\n",
    "$$"
   ]
  },
  {
   "cell_type": "markdown",
   "id": "152bea7c-2a2f-47c4-a7a4-7f893f99c1f4",
   "metadata": {},
   "source": [
    "_________________"
   ]
  },
  {
   "cell_type": "markdown",
   "id": "6b814aa8-7561-437d-9d78-3e9dbb79f98f",
   "metadata": {},
   "source": [
    "- $3 - \\lambda_1 5 - \\lambda_2 (-1) = 0$\n",
    "- $5 - \\lambda_1 10 - \\lambda_3 (-1) = 0$\n",
    "- $\\lambda_1 (100 - 5x - 10y) = 0$\n",
    "- $\\lambda_2 (0 + x) = 0$\n",
    "- $\\lambda_3 (0 + y) = 0$"
   ]
  },
  {
   "cell_type": "markdown",
   "id": "adb13242-bb7c-48d1-b96e-e4748036b67d",
   "metadata": {},
   "source": [
    "_____________________"
   ]
  },
  {
   "cell_type": "code",
   "execution_count": 22,
   "id": "02b5b411-ef19-4963-b275-662cd94605d3",
   "metadata": {},
   "outputs": [
    {
     "data": {
      "text/plain": [
       "f! (generic function with 1 method)"
      ]
     },
     "execution_count": 22,
     "metadata": {},
     "output_type": "execute_result"
    }
   ],
   "source": [
    "# x, y, l1, l2, l3\n",
    "function f!(F, x)\n",
    "    F[1] = 3 - x[3] * 5 - x[4] * (-1)\n",
    "    F[2] = 5 - x[3] * 10 - x[5] * (-1)\n",
    "    F[3] = x[3] * (100 - 5 * x[1] - 10 * x[2])\n",
    "    F[4] = x[4] * x[1]\n",
    "    F[5] = x[5] * x[2]\n",
    "end"
   ]
  },
  {
   "cell_type": "code",
   "execution_count": 35,
   "id": "82dbbd86-73f3-469a-8f70-927bdec79dac",
   "metadata": {},
   "outputs": [
    {
     "data": {
      "text/plain": [
       "Results of Nonlinear Solver Algorithm\n",
       " * Algorithm: Trust-region with dogleg and autoscaling\n",
       " * Starting Point: [1.0, 1.0, 1.0, 1.0, 1.0]\n",
       " * Zero: [20.000000000018446, -9.22409941498867e-12, 0.6000000000000922, 4.612599222024691e-13, 1.0000000000009226]\n",
       " * Inf-norm of residuals: 0.000000\n",
       " * Iterations: 10\n",
       " * Convergence: true\n",
       "   * |x - x'| < 0.0e+00: false\n",
       "   * |f(x)| < 1.0e-08: true\n",
       " * Function Calls (f): 11\n",
       " * Jacobian Calls (df/dx): 9"
      ]
     },
     "execution_count": 35,
     "metadata": {},
     "output_type": "execute_result"
    }
   ],
   "source": [
    "initial_x = [1.0, 1.0, 1.0, 1.0, 1.0]\n",
    "\n",
    "nlsolve(f!, initial_x, autodiff = :forward)"
   ]
  },
  {
   "cell_type": "code",
   "execution_count": 28,
   "id": "9e63f198-7806-41ab-bb3b-7650b44f8a17",
   "metadata": {},
   "outputs": [],
   "source": [
    "using JuMP"
   ]
  },
  {
   "cell_type": "code",
   "execution_count": 29,
   "id": "904af74f-43c7-49e9-8289-36e680537b85",
   "metadata": {},
   "outputs": [],
   "source": [
    "using GLPK"
   ]
  },
  {
   "cell_type": "code",
   "execution_count": 33,
   "id": "863acc18-3d03-4372-8eee-5f26dece54c3",
   "metadata": {},
   "outputs": [
    {
     "name": "stdout",
     "output_type": "stream",
     "text": [
      "20.0\n",
      "0.0\n"
     ]
    }
   ],
   "source": [
    "m = Model(GLPK.Optimizer)\n",
    "@variable(m, x)\n",
    "@variable(m, y)\n",
    "@objective(m, Max, 3x + 5y)\n",
    "@constraint(m, 5x + 10y <= 100)\n",
    "@constraint(m, x >= 0)\n",
    "@constraint(m, y >= 0)\n",
    "optimize!(m)\n",
    "println(value(x))\n",
    "println(value(y))"
   ]
  },
  {
   "cell_type": "code",
   "execution_count": null,
   "id": "effcb62f-3b01-4c32-8487-9d8bc1e2cf8c",
   "metadata": {},
   "outputs": [],
   "source": []
  }
 ],
 "metadata": {
  "kernelspec": {
   "display_name": "Julia 1.7.1",
   "language": "julia",
   "name": "julia-1.7"
  },
  "language_info": {
   "file_extension": ".jl",
   "mimetype": "application/julia",
   "name": "julia",
   "version": "1.7.1"
  }
 },
 "nbformat": 4,
 "nbformat_minor": 5
}
