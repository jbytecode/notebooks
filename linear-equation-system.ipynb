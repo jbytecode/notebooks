{
 "cells": [
  {
   "cell_type": "markdown",
   "id": "9b2827d7-7691-4e0f-bf3b-be72476ede7b",
   "metadata": {},
   "source": [
    "$$\n",
    "\\begin{align}\n",
    "w + 2y = 10 \\\\\n",
    "y + 2z = 14 \\\\\n",
    "z + 2w = 9\n",
    "\\end{align}\n",
    "$$"
   ]
  },
  {
   "cell_type": "code",
   "execution_count": 1,
   "id": "41e5683d-2091-4a2a-a833-fb1acdaf9f58",
   "metadata": {},
   "outputs": [
    {
     "name": "stderr",
     "output_type": "stream",
     "text": [
      "┌ Info: [2.0, 4.0, 5.0]\n",
      "└ @ Main In[1]:11\n",
      "┌ Info: 11.0\n",
      "└ @ Main In[1]:12\n"
     ]
    }
   ],
   "source": [
    "A = [\n",
    "    1 2 0;\n",
    "    0 1 2;\n",
    "    2 0 1;\n",
    "]\n",
    "\n",
    "b = [10, 14, 9]\n",
    "\n",
    "wyz = A \\ b \n",
    "\n",
    "@info wyz\n",
    "@info sum(wyz)\n"
   ]
  },
  {
   "cell_type": "code",
   "execution_count": null,
   "id": "e68edca1-6689-4cee-b06d-46476fe78dc4",
   "metadata": {},
   "outputs": [],
   "source": []
  }
 ],
 "metadata": {
  "kernelspec": {
   "display_name": "Julia 1.7.3",
   "language": "julia",
   "name": "julia-1.7"
  },
  "language_info": {
   "file_extension": ".jl",
   "mimetype": "application/julia",
   "name": "julia",
   "version": "1.7.3"
  }
 },
 "nbformat": 4,
 "nbformat_minor": 5
}
