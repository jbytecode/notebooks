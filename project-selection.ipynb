{
 "cells": [
  {
   "cell_type": "markdown",
   "id": "c2e7c49d",
   "metadata": {},
   "source": [
    "## Project Selection Problem "
   ]
  },
  {
   "cell_type": "markdown",
   "id": "bc390c95",
   "metadata": {},
   "source": [
    "|      Project    |   Year 1   |   Year  2    |  Year 3     |    Return   |\n",
    "| :------------:  | :-------:  | :---------:  | :-------:   | :--------:  |\n",
    "|        1        |    10      |      12      |    15       |     50      |\n",
    "|        2        |    15      |      17      |    19       |     75      |\n",
    "|        3        |    20      |      22      |    23       |     80      |\n",
    "|        4        |    22      |      25      |    25       |     90      |\n",
    "|        5        |    20      |      25      |    30       |     100     |\n",
    "|    Budget       |    40      |      50      |    60       |             |"
   ]
  },
  {
   "cell_type": "markdown",
   "id": "1c13b414",
   "metadata": {},
   "source": [
    "- There are 5 alternative projects.\n",
    "- In the first, second, and third years, the budget is 40 million, 50 million, and 60 million respectively.\n",
    "- Once the first project is completed, there will be a return of 50 million, whereas, once the second project is completed, there will be a return of 75 million\n",
    "- If **Project 1** is selected, it costs 10, 12, and 15 million dollars in years 1st, 2nd, and 3rd, respectively. \n",
    "- Maximize the total return under the budget constraints"
   ]
  },
  {
   "cell_type": "markdown",
   "id": "bd4fcbff",
   "metadata": {},
   "source": [
    "$$\n",
    "\\begin{aligned}\n",
    "\\max z = & 50x_1 + 75x_2 + 80x_3 + 90x_4 + 100x_5 \\\\\n",
    "\\text{Subject to:} & \\\\\n",
    "& 10x_1 + 15x_2 + 20x_3 + 22x_4 + 20x_5 \\le 40 \\\\\n",
    "& 12x_1 + 17x_2 + 22x_3 + 25x_4 + 25x_5 \\le 50 \\\\\n",
    "& 15x_1 + 19x_2 + 23x_3 + 25x_4 + 30x_5 \\le 60 \\\\\n",
    "& x_1, x_2, \\ldots, x_5 \\in \\{0, 1\\}\n",
    "\\end{aligned}\n",
    "$$"
   ]
  },
  {
   "cell_type": "code",
   "execution_count": 5,
   "id": "ae821ac9",
   "metadata": {},
   "outputs": [],
   "source": [
    "using JuMP, HiGHS\n",
    "\n",
    "m = Model(HiGHS.Optimizer)\n",
    "\n",
    "MOI.set(m, MOI.Silent(), true) \n",
    "\n",
    "@variable(m, x[1:5], Bin)\n",
    "\n",
    "@objective(m, Max, sum([50.0, 75, 80, 90, 100] .* x[1:5]))\n",
    "\n",
    "@constraint(m, sum([10.0, 15, 20, 22, 20] .* x[1:5]) <= 40)\n",
    "@constraint(m, sum([12.0, 17, 22, 25, 25] .* x[1:5]) <= 50)\n",
    "@constraint(m, sum([15.0, 19, 23, 25, 30] .* x[1:5]) <= 60)\n",
    "\n",
    "optimize!(m)"
   ]
  },
  {
   "cell_type": "code",
   "execution_count": 7,
   "id": "f2f12538",
   "metadata": {},
   "outputs": [
    {
     "data": {
      "text/plain": [
       "180.0"
      ]
     },
     "execution_count": 7,
     "metadata": {},
     "output_type": "execute_result"
    }
   ],
   "source": [
    "objective_value(m)"
   ]
  },
  {
   "cell_type": "code",
   "execution_count": 8,
   "id": "c47cbe73",
   "metadata": {},
   "outputs": [
    {
     "data": {
      "text/plain": [
       "5×2 Matrix{Float64}:\n",
       " 1.0   0.0\n",
       " 2.0  -0.0\n",
       " 3.0   1.0\n",
       " 4.0  -0.0\n",
       " 5.0   1.0"
      ]
     },
     "execution_count": 8,
     "metadata": {},
     "output_type": "execute_result"
    }
   ],
   "source": [
    "hcat(1:5, value.(x))"
   ]
  },
  {
   "cell_type": "code",
   "execution_count": null,
   "id": "3cf1755a",
   "metadata": {},
   "outputs": [],
   "source": []
  }
 ],
 "metadata": {
  "kernelspec": {
   "display_name": "Julia 1.10.0-rc1",
   "language": "julia",
   "name": "julia-1.10"
  },
  "language_info": {
   "file_extension": ".jl",
   "mimetype": "application/julia",
   "name": "julia",
   "version": "1.10.0"
  }
 },
 "nbformat": 4,
 "nbformat_minor": 5
}
