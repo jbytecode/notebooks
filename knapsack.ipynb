{
 "cells": [
  {
   "cell_type": "code",
   "execution_count": 2,
   "id": "555a43c8",
   "metadata": {},
   "outputs": [],
   "source": [
    "using Pkg"
   ]
  },
  {
   "cell_type": "code",
   "execution_count": 3,
   "id": "a42d9d73",
   "metadata": {},
   "outputs": [
    {
     "name": "stderr",
     "output_type": "stream",
     "text": [
      "\u001b[32m\u001b[1m  Activating\u001b[22m\u001b[39m project at `~/code/julia/notebooks`\n"
     ]
    }
   ],
   "source": [
    "Pkg.activate(\".\")"
   ]
  },
  {
   "cell_type": "code",
   "execution_count": 4,
   "id": "99b918e4",
   "metadata": {},
   "outputs": [],
   "source": [
    "using OperationsResearchModels"
   ]
  },
  {
   "cell_type": "markdown",
   "id": "fc13075d",
   "metadata": {},
   "source": [
    "## The problem"
   ]
  },
  {
   "cell_type": "markdown",
   "id": "37c2ea5e",
   "metadata": {},
   "source": [
    "|       |  item 1  | item 2 | item 3 | item 4 | item 5 | item 6 | item 7 |\n",
    "| :--:  | :---:    | :---:  | :---:  | :---:  | :---:  | :---:  | :---:  |\n",
    "| Value |  8       |   7    |   10   |   6    |   5    |   9    |  4     |\n",
    "| Weight| 10       |   12   |  9     |   11   |   9    |   8    |  13    |"
   ]
  },
  {
   "cell_type": "markdown",
   "id": "6850fbee",
   "metadata": {},
   "source": [
    "Assume that the capacity of the knapsack is **25** kgs."
   ]
  },
  {
   "cell_type": "markdown",
   "id": "a1e7976a",
   "metadata": {},
   "source": [
    "## The mathematical model"
   ]
  },
  {
   "cell_type": "markdown",
   "id": "a9ebf118",
   "metadata": {},
   "source": [
    "$$\n",
    "\\begin{aligned}\n",
    "\\max z & = 8x_1 + 7x_2 + 10x_3 + 6x_4 + 5x_5 + 9x_6 + 4x_7 \\\\\n",
    "\\text{Subject to:} & \\\\\n",
    "& 10x_1 + 12x_2 + 9x_3 + 11x_4 + 9x_5 + 8x_6 + 13x_7 \\le 25 \\\\\n",
    "& x_i \\in \\{0, 1\\} \\\\\n",
    "& i = 1, 2, \\ldots, 7 \\\\\n",
    "\\end{aligned}\n",
    "$$"
   ]
  },
  {
   "cell_type": "markdown",
   "id": "75dd5e7e",
   "metadata": {},
   "source": [
    "## The Julia solution with OperationsResearchModels.jl package"
   ]
  },
  {
   "cell_type": "code",
   "execution_count": 5,
   "id": "c1f88a11",
   "metadata": {},
   "outputs": [
    {
     "data": {
      "text/plain": [
       "7-element Vector{Int64}:\n",
       "  8\n",
       "  7\n",
       " 10\n",
       "  6\n",
       "  5\n",
       "  9\n",
       "  4"
      ]
     },
     "execution_count": 5,
     "metadata": {},
     "output_type": "execute_result"
    }
   ],
   "source": [
    "values = [8, 7, 10, 6, 5, 9, 4]"
   ]
  },
  {
   "cell_type": "code",
   "execution_count": 6,
   "id": "2d7c911f",
   "metadata": {},
   "outputs": [
    {
     "data": {
      "text/plain": [
       "7-element Vector{Int64}:\n",
       " 10\n",
       " 12\n",
       "  9\n",
       " 11\n",
       "  9\n",
       "  8\n",
       " 13"
      ]
     },
     "execution_count": 6,
     "metadata": {},
     "output_type": "execute_result"
    }
   ],
   "source": [
    "weights = [10, 12, 9, 11, 9, 8, 13]"
   ]
  },
  {
   "cell_type": "code",
   "execution_count": 7,
   "id": "73b991bb",
   "metadata": {},
   "outputs": [
    {
     "data": {
      "text/plain": [
       "25"
      ]
     },
     "execution_count": 7,
     "metadata": {},
     "output_type": "execute_result"
    }
   ],
   "source": [
    "capacity = 25"
   ]
  },
  {
   "cell_type": "code",
   "execution_count": 8,
   "id": "2fff8c72",
   "metadata": {},
   "outputs": [
    {
     "data": {
      "text/plain": [
       "KnapsackProblem([8.0, 7.0, 10.0, 6.0, 5.0, 9.0, 4.0], [10.0, 12.0, 9.0, 11.0, 9.0, 8.0, 13.0], 25.0)"
      ]
     },
     "execution_count": 8,
     "metadata": {},
     "output_type": "execute_result"
    }
   ],
   "source": [
    "problem = KnapsackProblem(values, weights, capacity)"
   ]
  },
  {
   "cell_type": "code",
   "execution_count": 9,
   "id": "563e08b3",
   "metadata": {},
   "outputs": [
    {
     "data": {
      "text/plain": [
       "KnapsackResult(Bool[0, 0, 1, 0, 0, 1, 0], A JuMP Model\n",
       "├ solver: HiGHS\n",
       "├ objective_sense: MAX_SENSE\n",
       "│ └ objective_function_type: JuMP.AffExpr\n",
       "├ num_variables: 7\n",
       "├ num_constraints: 8\n",
       "│ ├ JuMP.AffExpr in MOI.LessThan{Float64}: 1\n",
       "│ └ JuMP.VariableRef in MOI.ZeroOne: 7\n",
       "└ Names registered in the model\n",
       "  └ :x, 19.0)"
      ]
     },
     "execution_count": 9,
     "metadata": {},
     "output_type": "execute_result"
    }
   ],
   "source": [
    "result = solve(problem)"
   ]
  },
  {
   "cell_type": "code",
   "execution_count": 10,
   "id": "edc2ab5b",
   "metadata": {},
   "outputs": [
    {
     "data": {
      "text/plain": [
       "19.0"
      ]
     },
     "execution_count": 10,
     "metadata": {},
     "output_type": "execute_result"
    }
   ],
   "source": [
    "result.objective"
   ]
  },
  {
   "cell_type": "code",
   "execution_count": 11,
   "id": "1571be4b",
   "metadata": {},
   "outputs": [
    {
     "data": {
      "text/plain": [
       "7-element Vector{Bool}:\n",
       " 0\n",
       " 0\n",
       " 1\n",
       " 0\n",
       " 0\n",
       " 1\n",
       " 0"
      ]
     },
     "execution_count": 11,
     "metadata": {},
     "output_type": "execute_result"
    }
   ],
   "source": [
    "result.selected"
   ]
  },
  {
   "cell_type": "code",
   "execution_count": 12,
   "id": "b98c5fcf",
   "metadata": {},
   "outputs": [
    {
     "data": {
      "text/plain": [
       "2-element Vector{Int64}:\n",
       " 3\n",
       " 6"
      ]
     },
     "execution_count": 12,
     "metadata": {},
     "output_type": "execute_result"
    }
   ],
   "source": [
    "findall(x -> x == 1, result.selected)"
   ]
  },
  {
   "cell_type": "code",
   "execution_count": 13,
   "id": "b955d0a6",
   "metadata": {},
   "outputs": [
    {
     "name": "stdout",
     "output_type": "stream",
     "text": [
      "Max 8 x[1] + 7 x[2] + 10 x[3] + 6 x[4] + 5 x[5] + 9 x[6] + 4 x[7]\n",
      "Subject to\n",
      " 10 x[1] + 12 x[2] + 9 x[3] + 11 x[4] + 9 x[5] + 8 x[6] + 13 x[7] ≤ 25\n",
      " x[1] binary\n",
      " x[2] binary\n",
      " x[3] binary\n",
      " x[4] binary\n",
      " x[5] binary\n",
      " x[6] binary\n",
      " x[7] binary\n",
      "\n"
     ]
    }
   ],
   "source": [
    "println(result.model)"
   ]
  },
  {
   "cell_type": "markdown",
   "id": "f41acbac",
   "metadata": {},
   "source": [
    "## Documentation"
   ]
  },
  {
   "cell_type": "code",
   "execution_count": 14,
   "id": "d9edc5d1",
   "metadata": {},
   "outputs": [
    {
     "name": "stdout",
     "output_type": "stream",
     "text": [
      "search: \u001b[0m\u001b[1mK\u001b[22m\u001b[0m\u001b[1mn\u001b[22m\u001b[0m\u001b[1ma\u001b[22m\u001b[0m\u001b[1mp\u001b[22m\u001b[0m\u001b[1ms\u001b[22m\u001b[0m\u001b[1ma\u001b[22m\u001b[0m\u001b[1mc\u001b[22m\u001b[0m\u001b[1mk\u001b[22m\u001b[0m\u001b[1mP\u001b[22m\u001b[0m\u001b[1mr\u001b[22m\u001b[0m\u001b[1mo\u001b[22m\u001b[0m\u001b[1mb\u001b[22m\u001b[0m\u001b[1ml\u001b[22m\u001b[0m\u001b[1me\u001b[22m\u001b[0m\u001b[1mm\u001b[22m \u001b[0m\u001b[1mK\u001b[22m\u001b[0m\u001b[1mn\u001b[22m\u001b[0m\u001b[1ma\u001b[22m\u001b[0m\u001b[1mp\u001b[22m\u001b[0m\u001b[1ms\u001b[22m\u001b[0m\u001b[1ma\u001b[22m\u001b[0m\u001b[1mc\u001b[22m\u001b[0m\u001b[1mk\u001b[22mResult JohnsonProblem SimplexProblem GameProblem\n",
      "\n"
     ]
    },
    {
     "data": {
      "text/latex": [
       "\\begin{verbatim}\n",
       "KnapsackProblem\n",
       "\\end{verbatim}\n",
       "\\section{Description}\n",
       "Defines the knapsack problem.\n",
       "\n",
       "\\section{Fields}\n",
       "\\begin{itemize}\n",
       "\\item \\texttt{values::Vector\\{Float64\\}}: The values of the items.\n",
       "\n",
       "\n",
       "\\item \\texttt{weights::Vector\\{Float64\\}}: The weights of the items.\n",
       "\n",
       "\n",
       "\\item \\texttt{capacity::Float64}: The maximum capacity of the knapsack.\n",
       "\n",
       "\\end{itemize}\n",
       "\\section{Output}\n",
       "\\begin{itemize}\n",
       "\\item \\texttt{KnapsackResult}: The custom data type that holds selected items, model, and objective value.\n",
       "\n",
       "\\end{itemize}\n"
      ],
      "text/markdown": [
       "```julia\n",
       "KnapsackProblem\n",
       "```\n",
       "\n",
       "# Description\n",
       "\n",
       "Defines the knapsack problem.\n",
       "\n",
       "# Fields\n",
       "\n",
       "  * `values::Vector{Float64}`: The values of the items.\n",
       "  * `weights::Vector{Float64}`: The weights of the items.\n",
       "  * `capacity::Float64`: The maximum capacity of the knapsack.\n",
       "\n",
       "# Output\n",
       "\n",
       "  * `KnapsackResult`: The custom data type that holds selected items, model, and objective value.\n"
      ],
      "text/plain": [
       "  \u001b[36mKnapsackProblem\u001b[39m\n",
       "\n",
       "\u001b[1m  Description\u001b[22m\n",
       "  \u001b[1m≡≡≡≡≡≡≡≡≡≡≡\u001b[22m\n",
       "\n",
       "  Defines the knapsack problem.\n",
       "\n",
       "\u001b[1m  Fields\u001b[22m\n",
       "  \u001b[1m≡≡≡≡≡≡\u001b[22m\n",
       "\n",
       "    \u001b[34m• \u001b[39m \u001b[36mvalues::Vector{Float64}\u001b[39m: The values of the items.\n",
       "    \u001b[34m• \u001b[39m \u001b[36mweights::Vector{Float64}\u001b[39m: The weights of the items.\n",
       "    \u001b[34m• \u001b[39m \u001b[36mcapacity::Float64\u001b[39m: The maximum capacity of the knapsack.\n",
       "\n",
       "\u001b[1m  Output\u001b[22m\n",
       "  \u001b[1m≡≡≡≡≡≡\u001b[22m\n",
       "\n",
       "    \u001b[34m• \u001b[39m \u001b[36mKnapsackResult\u001b[39m: The custom data type that holds selected items,\n",
       "       model, and objective value."
      ]
     },
     "execution_count": 14,
     "metadata": {},
     "output_type": "execute_result"
    }
   ],
   "source": [
    "?KnapsackProblem"
   ]
  },
  {
   "cell_type": "code",
   "execution_count": 15,
   "id": "de19231a",
   "metadata": {},
   "outputs": [
    {
     "name": "stdout",
     "output_type": "stream",
     "text": [
      "search: \u001b[0m\u001b[1mK\u001b[22m\u001b[0m\u001b[1mn\u001b[22m\u001b[0m\u001b[1ma\u001b[22m\u001b[0m\u001b[1mp\u001b[22m\u001b[0m\u001b[1ms\u001b[22m\u001b[0m\u001b[1ma\u001b[22m\u001b[0m\u001b[1mc\u001b[22m\u001b[0m\u001b[1mk\u001b[22m\u001b[0m\u001b[1mR\u001b[22m\u001b[0m\u001b[1me\u001b[22m\u001b[0m\u001b[1ms\u001b[22m\u001b[0m\u001b[1mu\u001b[22m\u001b[0m\u001b[1ml\u001b[22m\u001b[0m\u001b[1mt\u001b[22m \u001b[0m\u001b[1mK\u001b[22m\u001b[0m\u001b[1mn\u001b[22m\u001b[0m\u001b[1ma\u001b[22m\u001b[0m\u001b[1mp\u001b[22m\u001b[0m\u001b[1ms\u001b[22m\u001b[0m\u001b[1ma\u001b[22m\u001b[0m\u001b[1mc\u001b[22m\u001b[0m\u001b[1mk\u001b[22mP\u001b[0m\u001b[1mr\u001b[22mobl\u001b[0m\u001b[1me\u001b[22mm PMedianResult JohnsonResult MstResult\n",
      "\n"
     ]
    },
    {
     "data": {
      "text/latex": [
       "\\begin{verbatim}\n",
       "KnapsackResult\n",
       "\\end{verbatim}\n",
       "\\section{Description}\n",
       "A structure to hold the result of the knapsack problem.\n",
       "\n",
       "\\section{Fields}\n",
       "\\begin{itemize}\n",
       "\\item \\texttt{selected}: A vector of booleans indicating which items are selected.\n",
       "\n",
       "\n",
       "\\item \\texttt{model}: The JuMP model used to solve the problem.\n",
       "\n",
       "\n",
       "\\item \\texttt{objective}: The objective value of the model.\n",
       "\n",
       "\\end{itemize}\n"
      ],
      "text/markdown": [
       "```julia\n",
       "KnapsackResult\n",
       "```\n",
       "\n",
       "# Description\n",
       "\n",
       "A structure to hold the result of the knapsack problem.\n",
       "\n",
       "# Fields\n",
       "\n",
       "  * `selected`: A vector of booleans indicating which items are selected.\n",
       "  * `model`: The JuMP model used to solve the problem.\n",
       "  * `objective`: The objective value of the model.\n"
      ],
      "text/plain": [
       "  \u001b[36mKnapsackResult\u001b[39m\n",
       "\n",
       "\u001b[1m  Description\u001b[22m\n",
       "  \u001b[1m≡≡≡≡≡≡≡≡≡≡≡\u001b[22m\n",
       "\n",
       "  A structure to hold the result of the knapsack problem.\n",
       "\n",
       "\u001b[1m  Fields\u001b[22m\n",
       "  \u001b[1m≡≡≡≡≡≡\u001b[22m\n",
       "\n",
       "    \u001b[34m• \u001b[39m \u001b[36mselected\u001b[39m: A vector of booleans indicating which items are selected.\n",
       "    \u001b[34m• \u001b[39m \u001b[36mmodel\u001b[39m: The JuMP model used to solve the problem.\n",
       "    \u001b[34m• \u001b[39m \u001b[36mobjective\u001b[39m: The objective value of the model."
      ]
     },
     "execution_count": 15,
     "metadata": {},
     "output_type": "execute_result"
    }
   ],
   "source": [
    "?KnapsackResult"
   ]
  },
  {
   "cell_type": "code",
   "execution_count": 16,
   "id": "5c399c40",
   "metadata": {},
   "outputs": [
    {
     "data": {
      "text/latex": [
       "\\begin{verbatim}\n",
       "solve(problem::KnapsackProblem)::KnapsackResult\n",
       "\\end{verbatim}\n",
       "\\section{Description}\n",
       "Solves the knapsack problem.\n",
       "\n",
       "\\section{Arguments}\n",
       "\\begin{itemize}\n",
       "\\item \\texttt{problem::KnapsackProblem}: The problem in type of KnapsackProblem.\n",
       "\n",
       "\\end{itemize}\n",
       "\\section{Output}\n",
       "\\begin{itemize}\n",
       "\\item \\texttt{KnapsackResult}: The custom data type that holds selected items, model, and objective value.\n",
       "\n",
       "\\end{itemize}\n",
       "\\section{Example}\n",
       "\\begin{verbatim}\n",
       "julia> values = [10, 20, 30, 40, 50];\n",
       "julia> weights = [1, 2, 3, 4, 5];\n",
       "julia> capacity = 10;\n",
       "julia> solve(KnapsackProblem(values, weights, capacity));\n",
       "\\end{verbatim}\n"
      ],
      "text/markdown": [
       "```julia\n",
       "solve(problem::KnapsackProblem)::KnapsackResult\n",
       "```\n",
       "\n",
       "# Description\n",
       "\n",
       "Solves the knapsack problem.\n",
       "\n",
       "# Arguments\n",
       "\n",
       "  * `problem::KnapsackProblem`: The problem in type of KnapsackProblem.\n",
       "\n",
       "# Output\n",
       "\n",
       "  * `KnapsackResult`: The custom data type that holds selected items, model, and objective value.\n",
       "\n",
       "# Example\n",
       "\n",
       "```julia\n",
       "julia> values = [10, 20, 30, 40, 50];\n",
       "julia> weights = [1, 2, 3, 4, 5];\n",
       "julia> capacity = 10;\n",
       "julia> solve(KnapsackProblem(values, weights, capacity));\n",
       "```\n"
      ],
      "text/plain": [
       "  \u001b[36msolve(problem::KnapsackProblem)::KnapsackResult\u001b[39m\n",
       "\n",
       "\u001b[1m  Description\u001b[22m\n",
       "  \u001b[1m≡≡≡≡≡≡≡≡≡≡≡\u001b[22m\n",
       "\n",
       "  Solves the knapsack problem.\n",
       "\n",
       "\u001b[1m  Arguments\u001b[22m\n",
       "  \u001b[1m≡≡≡≡≡≡≡≡≡\u001b[22m\n",
       "\n",
       "    \u001b[34m• \u001b[39m \u001b[36mproblem::KnapsackProblem\u001b[39m: The problem in type of KnapsackProblem.\n",
       "\n",
       "\u001b[1m  Output\u001b[22m\n",
       "  \u001b[1m≡≡≡≡≡≡\u001b[22m\n",
       "\n",
       "    \u001b[34m• \u001b[39m \u001b[36mKnapsackResult\u001b[39m: The custom data type that holds selected items,\n",
       "       model, and objective value.\n",
       "\n",
       "\u001b[1m  Example\u001b[22m\n",
       "  \u001b[1m≡≡≡≡≡≡≡\u001b[22m\n",
       "\n",
       "  \u001b[36mjulia> values = [10, 20, 30, 40, 50];\u001b[39m\n",
       "  \u001b[36mjulia> weights = [1, 2, 3, 4, 5];\u001b[39m\n",
       "  \u001b[36mjulia> capacity = 10;\u001b[39m\n",
       "  \u001b[36mjulia> solve(KnapsackProblem(values, weights, capacity));\u001b[39m"
      ]
     },
     "execution_count": 16,
     "metadata": {},
     "output_type": "execute_result"
    }
   ],
   "source": [
    "?solve(::KnapsackProblem)"
   ]
  },
  {
   "cell_type": "code",
   "execution_count": null,
   "id": "a31c6725",
   "metadata": {},
   "outputs": [],
   "source": []
  }
 ],
 "metadata": {
  "kernelspec": {
   "display_name": "Julia 1.12.0-rc2",
   "language": "julia",
   "name": "julia-1.12"
  },
  "language_info": {
   "file_extension": ".jl",
   "mimetype": "application/julia",
   "name": "julia",
   "version": "1.12.0"
  }
 },
 "nbformat": 4,
 "nbformat_minor": 5
}
