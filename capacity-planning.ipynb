{
 "cells": [
  {
   "cell_type": "code",
   "execution_count": 1,
   "id": "4daabbc1",
   "metadata": {},
   "outputs": [],
   "source": [
    "using Pkg"
   ]
  },
  {
   "cell_type": "code",
   "execution_count": 2,
   "id": "7b14779c",
   "metadata": {},
   "outputs": [
    {
     "name": "stderr",
     "output_type": "stream",
     "text": [
      "\u001b[32m\u001b[1m  Activating\u001b[22m\u001b[39m project at `~/code/julia/notebooks`\n"
     ]
    }
   ],
   "source": [
    "Pkg.activate(\".\")"
   ]
  },
  {
   "cell_type": "code",
   "execution_count": 3,
   "id": "a6db8439",
   "metadata": {},
   "outputs": [],
   "source": [
    "using JuMP, HiGHS"
   ]
  },
  {
   "cell_type": "code",
   "execution_count": 4,
   "id": "6b493cf4",
   "metadata": {},
   "outputs": [
    {
     "data": {
      "text/plain": [
       "A JuMP Model\n",
       "├ solver: HiGHS\n",
       "├ objective_sense: FEASIBILITY_SENSE\n",
       "├ num_variables: 0\n",
       "├ num_constraints: 0\n",
       "└ Names registered in the model: none"
      ]
     },
     "execution_count": 4,
     "metadata": {},
     "output_type": "execute_result"
    }
   ],
   "source": [
    "m = Model(HiGHS.Optimizer)"
   ]
  },
  {
   "cell_type": "code",
   "execution_count": 5,
   "id": "888356d3",
   "metadata": {},
   "outputs": [
    {
     "data": {
      "text/latex": [
       "$ x $"
      ],
      "text/plain": [
       "x"
      ]
     },
     "execution_count": 5,
     "metadata": {},
     "output_type": "execute_result"
    }
   ],
   "source": [
    "@variable(m, x >= 0)"
   ]
  },
  {
   "cell_type": "code",
   "execution_count": 6,
   "id": "6e8806e4",
   "metadata": {},
   "outputs": [
    {
     "data": {
      "text/latex": [
       "$ y $"
      ],
      "text/plain": [
       "y"
      ]
     },
     "execution_count": 6,
     "metadata": {},
     "output_type": "execute_result"
    }
   ],
   "source": [
    "@variable(m, y >= 0)"
   ]
  },
  {
   "cell_type": "code",
   "execution_count": 7,
   "id": "748842f3",
   "metadata": {},
   "outputs": [
    {
     "data": {
      "text/latex": [
       "$ 3 x + 4 y $"
      ],
      "text/plain": [
       "3 x + 4 y"
      ]
     },
     "execution_count": 7,
     "metadata": {},
     "output_type": "execute_result"
    }
   ],
   "source": [
    "@objective(m, Max, 3x + 4y)"
   ]
  },
  {
   "cell_type": "code",
   "execution_count": 8,
   "id": "e57d9c0f",
   "metadata": {},
   "outputs": [
    {
     "data": {
      "text/latex": [
       "$$ x + 2 y \\leq 300 $$"
      ],
      "text/plain": [
       "x + 2 y ≤ 300"
      ]
     },
     "execution_count": 8,
     "metadata": {},
     "output_type": "execute_result"
    }
   ],
   "source": [
    "@constraint(m, x + 2y <= 300)"
   ]
  },
  {
   "cell_type": "code",
   "execution_count": 9,
   "id": "aee9f299",
   "metadata": {},
   "outputs": [
    {
     "data": {
      "text/latex": [
       "$$ 2 x + y \\leq 300 $$"
      ],
      "text/plain": [
       "2 x + y ≤ 300"
      ]
     },
     "execution_count": 9,
     "metadata": {},
     "output_type": "execute_result"
    }
   ],
   "source": [
    "@constraint(m, 2x + y <= 300)"
   ]
  },
  {
   "cell_type": "code",
   "execution_count": 10,
   "id": "7507bace",
   "metadata": {},
   "outputs": [
    {
     "data": {
      "text/latex": [
       "$$ \\begin{aligned}\n",
       "\\max\\quad & 3 x + 4 y\\\\\n",
       "\\text{Subject to} \\quad & x + 2 y \\leq 300\\\\\n",
       " & 2 x + y \\leq 300\\\\\n",
       " & x \\geq 0\\\\\n",
       " & y \\geq 0\\\\\n",
       "\\end{aligned} $$"
      ],
      "text/plain": [
       "$$ \\begin{aligned}\n",
       "\\max\\quad & 3 x + 4 y\\\\\n",
       "\\text{Subject to} \\quad & x + 2 y \\leq 300\\\\\n",
       " & 2 x + y \\leq 300\\\\\n",
       " & x \\geq 0\\\\\n",
       " & y \\geq 0\\\\\n",
       "\\end{aligned} $$"
      ]
     },
     "execution_count": 10,
     "metadata": {},
     "output_type": "execute_result"
    }
   ],
   "source": [
    "JuMP.latex_formulation(m)"
   ]
  },
  {
   "cell_type": "code",
   "execution_count": 11,
   "id": "ae3652d3",
   "metadata": {},
   "outputs": [
    {
     "name": "stdout",
     "output_type": "stream",
     "text": [
      "Running HiGHS 1.11.0 (git hash: 364c83a51e): Copyright (c) 2025 HiGHS under MIT licence terms\n",
      "LP   has 2 rows; 2 cols; 4 nonzeros\n",
      "Coefficient ranges:\n",
      "  Matrix [1e+00, 2e+00]\n",
      "  Cost   [3e+00, 4e+00]\n",
      "  Bound  [0e+00, 0e+00]\n",
      "  RHS    [3e+02, 3e+02]\n",
      "Presolving model\n",
      "2 rows, 2 cols, 4 nonzeros  0s\n",
      "2 rows, 2 cols, 4 nonzeros  0s\n",
      "Presolve : Reductions: rows 2(-0); columns 2(-0); elements 4(-0) - Not reduced\n",
      "Problem not reduced by presolve: solving the LP\n",
      "Using EKK dual simplex solver - serial\n",
      "  Iteration        Objective     Infeasibilities num(sum)\n",
      "          0    -6.9999931588e+00 Ph1: 2(6); Du: 2(6.99999) 0s\n",
      "          2     7.0000000000e+02 Pr: 0(0) 0s\n",
      "Model status        : Optimal\n",
      "Simplex   iterations: 2\n",
      "Objective value     :  7.0000000000e+02\n",
      "P-D objective error :  0.0000000000e+00\n",
      "HiGHS run time      :          0.00\n"
     ]
    }
   ],
   "source": [
    "optimize!(m)"
   ]
  },
  {
   "cell_type": "code",
   "execution_count": 12,
   "id": "37e346ec",
   "metadata": {},
   "outputs": [
    {
     "data": {
      "text/plain": [
       "100.0"
      ]
     },
     "execution_count": 12,
     "metadata": {},
     "output_type": "execute_result"
    }
   ],
   "source": [
    "value(x)"
   ]
  },
  {
   "cell_type": "code",
   "execution_count": 13,
   "id": "086a3d83",
   "metadata": {},
   "outputs": [
    {
     "data": {
      "text/plain": [
       "100.0"
      ]
     },
     "execution_count": 13,
     "metadata": {},
     "output_type": "execute_result"
    }
   ],
   "source": [
    "value(y)"
   ]
  },
  {
   "cell_type": "code",
   "execution_count": 14,
   "id": "503399a1",
   "metadata": {},
   "outputs": [
    {
     "data": {
      "text/plain": [
       "700.0"
      ]
     },
     "execution_count": 14,
     "metadata": {},
     "output_type": "execute_result"
    }
   ],
   "source": [
    "objective_value(m)"
   ]
  },
  {
   "cell_type": "markdown",
   "id": "45b3f745",
   "metadata": {},
   "source": [
    "### The solution"
   ]
  },
  {
   "cell_type": "markdown",
   "id": "67f4fd64",
   "metadata": {},
   "source": [
    "$x = 100, y = 100, z = 700$"
   ]
  },
  {
   "cell_type": "markdown",
   "id": "0fa93cd1",
   "metadata": {},
   "source": [
    "## Unknown capacities"
   ]
  },
  {
   "cell_type": "code",
   "execution_count": 16,
   "id": "95b38424",
   "metadata": {},
   "outputs": [
    {
     "name": "stdout",
     "output_type": "stream",
     "text": [
      "Running HiGHS 1.11.0 (git hash: 364c83a51e): Copyright (c) 2025 HiGHS under MIT licence terms\n",
      "LP   has 3 rows; 4 cols; 8 nonzeros\n",
      "Coefficient ranges:\n",
      "  Matrix [1e+00, 2e+00]\n",
      "  Cost   [3e+00, 4e+00]\n",
      "  Bound  [0e+00, 0e+00]\n",
      "  RHS    [6e+02, 6e+02]\n",
      "Presolving model\n",
      "2 rows, 3 cols, 6 nonzeros  0s\n",
      "2 rows, 3 cols, 6 nonzeros  0s\n",
      "Presolve : Reductions: rows 2(-1); columns 3(-1); elements 6(-2)\n",
      "Solving the presolved LP\n",
      "Using EKK dual simplex solver - serial\n",
      "  Iteration        Objective     Infeasibilities num(sum)\n",
      "          0    -6.9999704133e+00 Ph1: 2(6); Du: 2(6.99997) 0s\n",
      "          3    -8.0000000000e+02 Pr: 0(0) 0s\n",
      "Solving the original LP from the solution after postsolve\n",
      "Model status        : Optimal\n",
      "Simplex   iterations: 3\n",
      "Objective value     :  8.0000000000e+02\n",
      "P-D objective error :  0.0000000000e+00\n",
      "HiGHS run time      :          0.00\n",
      "[0.0, 200.0, 400.0, 200.0]\n",
      "800.0\n"
     ]
    }
   ],
   "source": [
    "begin\n",
    "    m = Model(HiGHS.Optimizer)\n",
    "    @variable(m, x >= 0)\n",
    "    @variable(m, y >= 0)\n",
    "    @variable(m, cap1 >= 0)\n",
    "    @variable(m, cap2 >= 0)\n",
    "    @objective(m, Max, 3x + 4y)\n",
    "    @constraint(m, x + 2y <= cap1)\n",
    "    @constraint(m, 2x + y <= cap2)\n",
    "    @constraint(m, cap1 + cap2 == 600)\n",
    "    optimize!(m)\n",
    "    println(value.([x, y, cap1, cap2]))\n",
    "    println(objective_value(m))\n",
    "end"
   ]
  },
  {
   "cell_type": "code",
   "execution_count": 17,
   "id": "f77702da",
   "metadata": {},
   "outputs": [
    {
     "data": {
      "text/latex": [
       "$$ \\begin{aligned}\n",
       "\\max\\quad & 3 x + 4 y\\\\\n",
       "\\text{Subject to} \\quad & cap1 + cap2 = 600\\\\\n",
       " & x + 2 y - cap1 \\leq 0\\\\\n",
       " & 2 x + y - cap2 \\leq 0\\\\\n",
       " & x \\geq 0\\\\\n",
       " & y \\geq 0\\\\\n",
       " & cap1 \\geq 0\\\\\n",
       " & cap2 \\geq 0\\\\\n",
       "\\end{aligned} $$"
      ],
      "text/plain": [
       "$$ \\begin{aligned}\n",
       "\\max\\quad & 3 x + 4 y\\\\\n",
       "\\text{Subject to} \\quad & cap1 + cap2 = 600\\\\\n",
       " & x + 2 y - cap1 \\leq 0\\\\\n",
       " & 2 x + y - cap2 \\leq 0\\\\\n",
       " & x \\geq 0\\\\\n",
       " & y \\geq 0\\\\\n",
       " & cap1 \\geq 0\\\\\n",
       " & cap2 \\geq 0\\\\\n",
       "\\end{aligned} $$"
      ]
     },
     "execution_count": 17,
     "metadata": {},
     "output_type": "execute_result"
    }
   ],
   "source": [
    "latex_formulation(m)"
   ]
  },
  {
   "cell_type": "markdown",
   "id": "c7a42a13",
   "metadata": {},
   "source": [
    "### New Solution"
   ]
  },
  {
   "cell_type": "markdown",
   "id": "d883fc9e",
   "metadata": {},
   "source": [
    "$x = 0, y = 200, \\text{cap1} = 400, \\text{cap2} = 200, z = 800$"
   ]
  },
  {
   "cell_type": "code",
   "execution_count": null,
   "id": "d5587d95",
   "metadata": {},
   "outputs": [],
   "source": []
  }
 ],
 "metadata": {
  "kernelspec": {
   "display_name": "julia 1.12.0",
   "language": "julia",
   "name": "julia-1.12"
  },
  "language_info": {
   "file_extension": ".jl",
   "mimetype": "application/julia",
   "name": "julia",
   "version": "1.12.0"
  }
 },
 "nbformat": 4,
 "nbformat_minor": 5
}
