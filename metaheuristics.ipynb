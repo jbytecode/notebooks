{
 "cells": [
  {
   "cell_type": "code",
   "execution_count": 1,
   "id": "5fc12254-6bb6-4551-8ee0-f5eeee3c513c",
   "metadata": {},
   "outputs": [],
   "source": [
    "using Metaheuristics"
   ]
  },
  {
   "cell_type": "markdown",
   "id": "36b6299e-f488-4aa9-8b7d-c8e67053bbb4",
   "metadata": {},
   "source": [
    "### Cost Function"
   ]
  },
  {
   "cell_type": "markdown",
   "id": "72f6d5ab-a23a-4769-a03f-9790796f245f",
   "metadata": {},
   "source": [
    "$$\n",
    "f(x_1, x_2) = (x_1 - \\pi)^2 + (x_2 - e)^2\n",
    "$$"
   ]
  },
  {
   "cell_type": "code",
   "execution_count": 2,
   "id": "7cef705d-c010-4879-bdb6-e76a87403a76",
   "metadata": {},
   "outputs": [
    {
     "data": {
      "text/plain": [
       "cost (generic function with 1 method)"
      ]
     },
     "execution_count": 2,
     "metadata": {},
     "output_type": "execute_result"
    }
   ],
   "source": [
    "function cost(x)\n",
    "    return (x[1] - pi)^2.0 + (x[2] - exp(1.0))^2.0\n",
    "end"
   ]
  },
  {
   "cell_type": "code",
   "execution_count": 3,
   "id": "7bb49a82-b540-48a3-b6fc-7c222218b861",
   "metadata": {},
   "outputs": [
    {
     "data": {
      "text/plain": [
       "2×2 Matrix{Float64}:\n",
       " -50.0  -50.0\n",
       "  50.0   50.0"
      ]
     },
     "execution_count": 3,
     "metadata": {},
     "output_type": "execute_result"
    }
   ],
   "source": [
    "bounds = [-50.0 -50.0; 50.0 50.0]"
   ]
  },
  {
   "cell_type": "markdown",
   "id": "63b4b634-2c2c-4e9d-b264-3b80dca1eb8c",
   "metadata": {},
   "source": [
    "### DE (Differential Evaluation"
   ]
  },
  {
   "cell_type": "code",
   "execution_count": 5,
   "id": "5d07ca04-2148-4053-9b69-47a68412643d",
   "metadata": {},
   "outputs": [
    {
     "data": {
      "text/html": [
       "<pre>\n",
       "+=========== RESULT ==========+\n",
       "  iteration: 1000\n",
       "    minimum: 1.97215e-31\n",
       "  minimizer: [3.141592653589793, 2.7182818284590455]\n",
       "    f calls: 20000\n",
       " total time: 1.4459 s\n",
       "+============================+\n",
       "</pre>\n"
      ],
      "text/plain": [
       "+=========== RESULT ==========+\n",
       "  iteration: 1000\n",
       "    minimum: 1.97215e-31\n",
       "  minimizer: [3.141592653589793, 2.7182818284590455]\n",
       "    f calls: 20000\n",
       " total time: 1.4459 s\n",
       "+============================+\n"
      ]
     },
     "execution_count": 5,
     "metadata": {},
     "output_type": "execute_result"
    }
   ],
   "source": [
    "result_de = optimize(cost, bounds, DE())"
   ]
  },
  {
   "cell_type": "code",
   "execution_count": 6,
   "id": "8f5b8288-c900-4ae6-997f-5ae277fbf753",
   "metadata": {},
   "outputs": [
    {
     "data": {
      "text/plain": [
       "2-element Vector{Float64}:\n",
       " 3.141592653589793\n",
       " 2.7182818284590455"
      ]
     },
     "execution_count": 6,
     "metadata": {},
     "output_type": "execute_result"
    }
   ],
   "source": [
    "minimizer(result_de)"
   ]
  },
  {
   "cell_type": "markdown",
   "id": "72e11596-cdaf-4e9b-869d-e23318f18b80",
   "metadata": {},
   "source": [
    "### PSO (Particle Swarm Optimization)"
   ]
  },
  {
   "cell_type": "code",
   "execution_count": 8,
   "id": "b990d7dc-1214-40bc-8510-933505449c7e",
   "metadata": {},
   "outputs": [
    {
     "data": {
      "text/html": [
       "<pre>\n",
       "+=========== RESULT ==========+\n",
       "  iteration: 1000\n",
       "    minimum: 0\n",
       "  minimizer: [3.141592653589793, 2.718281828459045]\n",
       "    f calls: 20000\n",
       " total time: 0.3958 s\n",
       "+============================+\n",
       "</pre>\n"
      ],
      "text/plain": [
       "+=========== RESULT ==========+\n",
       "  iteration: 1000\n",
       "    minimum: 0\n",
       "  minimizer: [3.141592653589793, 2.718281828459045]\n",
       "    f calls: 20000\n",
       " total time: 0.3958 s\n",
       "+============================+\n"
      ]
     },
     "execution_count": 8,
     "metadata": {},
     "output_type": "execute_result"
    }
   ],
   "source": [
    "result_pso = optimize(cost, bounds, PSO())"
   ]
  },
  {
   "cell_type": "code",
   "execution_count": 9,
   "id": "c24c701a-679c-4a7b-a1c6-3423279a2eb5",
   "metadata": {},
   "outputs": [
    {
     "data": {
      "text/plain": [
       "2-element Vector{Float64}:\n",
       " 3.141592653589793\n",
       " 2.718281828459045"
      ]
     },
     "execution_count": 9,
     "metadata": {},
     "output_type": "execute_result"
    }
   ],
   "source": [
    "minimizer(result_pso)"
   ]
  },
  {
   "cell_type": "markdown",
   "id": "ad857843-017f-403a-9ff4-bb301c645615",
   "metadata": {},
   "source": [
    "### ABC (Artificial Bee Colony)"
   ]
  },
  {
   "cell_type": "code",
   "execution_count": 10,
   "id": "c8321f8e-5b56-47d9-bdd4-876a95a6a1f2",
   "metadata": {},
   "outputs": [
    {
     "data": {
      "text/html": [
       "<pre>\n",
       "+=========== RESULT ==========+\n",
       "  iteration: 395\n",
       "    minimum: 1.44116e-18\n",
       "  minimizer: [3.141592652390614, 2.718281828403104]\n",
       "    f calls: 20018\n",
       " total time: 0.6631 s\n",
       "+============================+\n",
       "</pre>\n"
      ],
      "text/plain": [
       "+=========== RESULT ==========+\n",
       "  iteration: 395\n",
       "    minimum: 1.44116e-18\n",
       "  minimizer: [3.141592652390614, 2.718281828403104]\n",
       "    f calls: 20018\n",
       " total time: 0.6631 s\n",
       "+============================+\n"
      ]
     },
     "execution_count": 10,
     "metadata": {},
     "output_type": "execute_result"
    }
   ],
   "source": [
    "result_abc = optimize(cost, bounds, ABC())"
   ]
  },
  {
   "cell_type": "code",
   "execution_count": 11,
   "id": "b7326630-09ec-4725-8bbc-6a91f5982f9e",
   "metadata": {},
   "outputs": [
    {
     "data": {
      "text/plain": [
       "2-element Vector{Float64}:\n",
       " 3.141592652390614\n",
       " 2.718281828403104"
      ]
     },
     "execution_count": 11,
     "metadata": {},
     "output_type": "execute_result"
    }
   ],
   "source": [
    "minimizer(result_abc)"
   ]
  },
  {
   "cell_type": "markdown",
   "id": "626a1453-5d6f-4690-b39f-59e0b906b6da",
   "metadata": {},
   "source": [
    "### SA (Simulated Annealing)"
   ]
  },
  {
   "cell_type": "code",
   "execution_count": 12,
   "id": "aa4e8112-d356-4e75-8d53-a06b0fc15a18",
   "metadata": {},
   "outputs": [
    {
     "data": {
      "text/html": [
       "<pre>\n",
       "+=========== RESULT ==========+\n",
       "  iteration: 40\n",
       "    minimum: 0\n",
       "  minimizer: [3.141592653589793, 2.718281828459045]\n",
       "    f calls: 19002\n",
       " total time: 0.2798 s\n",
       "+============================+\n",
       "</pre>\n"
      ],
      "text/plain": [
       "+=========== RESULT ==========+\n",
       "  iteration: 40\n",
       "    minimum: 0\n",
       "  minimizer: [3.141592653589793, 2.718281828459045]\n",
       "    f calls: 19002\n",
       " total time: 0.2798 s\n",
       "+============================+\n"
      ]
     },
     "execution_count": 12,
     "metadata": {},
     "output_type": "execute_result"
    }
   ],
   "source": [
    "result_sa = optimize(cost, bounds, SA())"
   ]
  },
  {
   "cell_type": "code",
   "execution_count": 14,
   "id": "8f4ee72b-1ce3-478a-aa1a-00af7720d483",
   "metadata": {},
   "outputs": [
    {
     "data": {
      "text/plain": [
       "2-element Vector{Float64}:\n",
       " 3.141592653589793\n",
       " 2.718281828459045"
      ]
     },
     "execution_count": 14,
     "metadata": {},
     "output_type": "execute_result"
    }
   ],
   "source": [
    "minimizer(result_sa)"
   ]
  },
  {
   "cell_type": "markdown",
   "id": "8623716a-8047-486b-b180-9097179d4a22",
   "metadata": {},
   "source": [
    "### WOA (Whale Optimization Algorithm)"
   ]
  },
  {
   "cell_type": "code",
   "execution_count": 21,
   "id": "93abe441-3f06-42b4-bfef-65b3c97090d7",
   "metadata": {},
   "outputs": [
    {
     "data": {
      "text/html": [
       "<pre>\n",
       "+=========== RESULT ==========+\n",
       "  iteration: 500\n",
       "    minimum: 3.87664e-07\n",
       "  minimizer: [3.1411852758527465, 2.7187526864878]\n",
       "    f calls: 15000\n",
       " total time: 0.0066 s\n",
       "+============================+\n",
       "</pre>\n"
      ],
      "text/plain": [
       "+=========== RESULT ==========+\n",
       "  iteration: 500\n",
       "    minimum: 3.87664e-07\n",
       "  minimizer: [3.1411852758527465, 2.7187526864878]\n",
       "    f calls: 15000\n",
       " total time: 0.0066 s\n",
       "+============================+\n"
      ]
     },
     "execution_count": 21,
     "metadata": {},
     "output_type": "execute_result"
    }
   ],
   "source": [
    "result_woa = optimize(cost, bounds, Metaheuristics.WOA())"
   ]
  },
  {
   "cell_type": "code",
   "execution_count": 22,
   "id": "5210f764-5cb4-4fa3-a503-dc2e83c7b01f",
   "metadata": {},
   "outputs": [
    {
     "data": {
      "text/plain": [
       "2-element Vector{Float64}:\n",
       " 3.1411852758527465\n",
       " 2.7187526864878"
      ]
     },
     "execution_count": 22,
     "metadata": {},
     "output_type": "execute_result"
    }
   ],
   "source": [
    "minimizer(result_woa)"
   ]
  },
  {
   "cell_type": "code",
   "execution_count": 23,
   "id": "1e220640-1830-4eeb-96a2-80b6fe2bbeac",
   "metadata": {},
   "outputs": [
    {
     "data": {
      "text/plain": [
       "3.8766390388435485e-7"
      ]
     },
     "execution_count": 23,
     "metadata": {},
     "output_type": "execute_result"
    }
   ],
   "source": [
    "minimum(result_woa)"
   ]
  },
  {
   "cell_type": "code",
   "execution_count": null,
   "id": "c815a1e0-deef-4b73-bcd3-68b967c4cd4c",
   "metadata": {},
   "outputs": [],
   "source": []
  }
 ],
 "metadata": {
  "kernelspec": {
   "display_name": "Julia 1.7.2",
   "language": "julia",
   "name": "julia-1.7"
  },
  "language_info": {
   "file_extension": ".jl",
   "mimetype": "application/julia",
   "name": "julia",
   "version": "1.7.2"
  }
 },
 "nbformat": 4,
 "nbformat_minor": 5
}
