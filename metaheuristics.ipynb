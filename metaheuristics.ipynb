{
 "cells": [
  {
   "cell_type": "code",
   "execution_count": 52,
   "id": "5fc12254-6bb6-4551-8ee0-f5eeee3c513c",
   "metadata": {},
   "outputs": [],
   "source": [
    "using Metaheuristics"
   ]
  },
  {
   "cell_type": "markdown",
   "id": "36b6299e-f488-4aa9-8b7d-c8e67053bbb4",
   "metadata": {},
   "source": [
    "### Cost Function"
   ]
  },
  {
   "cell_type": "markdown",
   "id": "72f6d5ab-a23a-4769-a03f-9790796f245f",
   "metadata": {},
   "source": [
    "$$\n",
    "f(x_1, x_2) = (x_1 - \\pi)^2 + (x_2 - e)^2\n",
    "$$"
   ]
  },
  {
   "cell_type": "code",
   "execution_count": 53,
   "id": "7cef705d-c010-4879-bdb6-e76a87403a76",
   "metadata": {},
   "outputs": [
    {
     "data": {
      "text/plain": [
       "cost (generic function with 1 method)"
      ]
     },
     "execution_count": 53,
     "metadata": {},
     "output_type": "execute_result"
    }
   ],
   "source": [
    "function cost(x)\n",
    "    return (x[1] - pi)^2.0 + (x[2] - exp(1.0))^2.0\n",
    "end"
   ]
  },
  {
   "cell_type": "code",
   "execution_count": 54,
   "id": "7bb49a82-b540-48a3-b6fc-7c222218b861",
   "metadata": {},
   "outputs": [
    {
     "data": {
      "text/plain": [
       "2×2 Matrix{Float64}:\n",
       " -50.0  -50.0\n",
       "  50.0   50.0"
      ]
     },
     "execution_count": 54,
     "metadata": {},
     "output_type": "execute_result"
    }
   ],
   "source": [
    "bounds = [-50.0 -50.0; 50.0 50.0]"
   ]
  },
  {
   "cell_type": "markdown",
   "id": "63b4b634-2c2c-4e9d-b264-3b80dca1eb8c",
   "metadata": {},
   "source": [
    "### DE (Differential Evaluation"
   ]
  },
  {
   "cell_type": "code",
   "execution_count": 55,
   "id": "5d07ca04-2148-4053-9b69-47a68412643d",
   "metadata": {},
   "outputs": [
    {
     "data": {
      "text/html": [
       "<pre>\n",
       "+=========== RESULT ==========+\n",
       "  iteration: 1000\n",
       "    minimum: 1.97215e-31\n",
       "  minimizer: [3.141592653589793, 2.7182818284590446]\n",
       "    f calls: 20000\n",
       " total time: 0.0291 s\n",
       "+============================+\n",
       "</pre>\n"
      ],
      "text/plain": [
       "+=========== RESULT ==========+\n",
       "  iteration: 1000\n",
       "    minimum: 1.97215e-31\n",
       "  minimizer: [3.141592653589793, 2.7182818284590446]\n",
       "    f calls: 20000\n",
       " total time: 0.0291 s\n",
       "+============================+\n"
      ]
     },
     "execution_count": 55,
     "metadata": {},
     "output_type": "execute_result"
    }
   ],
   "source": [
    "result_de = optimize(cost, bounds, DE())"
   ]
  },
  {
   "cell_type": "code",
   "execution_count": 56,
   "id": "8f5b8288-c900-4ae6-997f-5ae277fbf753",
   "metadata": {},
   "outputs": [
    {
     "data": {
      "text/plain": [
       "2-element Vector{Float64}:\n",
       " 3.141592653589793\n",
       " 2.7182818284590446"
      ]
     },
     "execution_count": 56,
     "metadata": {},
     "output_type": "execute_result"
    }
   ],
   "source": [
    "minimizer(result_de)"
   ]
  },
  {
   "cell_type": "markdown",
   "id": "72e11596-cdaf-4e9b-869d-e23318f18b80",
   "metadata": {},
   "source": [
    "### PSO (Particle Swarm Optimization)"
   ]
  },
  {
   "cell_type": "code",
   "execution_count": 57,
   "id": "b990d7dc-1214-40bc-8510-933505449c7e",
   "metadata": {},
   "outputs": [
    {
     "data": {
      "text/html": [
       "<pre>\n",
       "+=========== RESULT ==========+\n",
       "  iteration: 1000\n",
       "    minimum: 0\n",
       "  minimizer: [3.141592653589793, 2.718281828459045]\n",
       "    f calls: 20000\n",
       " total time: 0.0724 s\n",
       "+============================+\n",
       "</pre>\n"
      ],
      "text/plain": [
       "+=========== RESULT ==========+\n",
       "  iteration: 1000\n",
       "    minimum: 0\n",
       "  minimizer: [3.141592653589793, 2.718281828459045]\n",
       "    f calls: 20000\n",
       " total time: 0.0724 s\n",
       "+============================+\n"
      ]
     },
     "execution_count": 57,
     "metadata": {},
     "output_type": "execute_result"
    }
   ],
   "source": [
    "result_pso = optimize(cost, bounds, PSO())"
   ]
  },
  {
   "cell_type": "code",
   "execution_count": 58,
   "id": "c24c701a-679c-4a7b-a1c6-3423279a2eb5",
   "metadata": {},
   "outputs": [
    {
     "data": {
      "text/plain": [
       "2-element Vector{Float64}:\n",
       " 3.141592653589793\n",
       " 2.718281828459045"
      ]
     },
     "execution_count": 58,
     "metadata": {},
     "output_type": "execute_result"
    }
   ],
   "source": [
    "minimizer(result_pso)"
   ]
  },
  {
   "cell_type": "markdown",
   "id": "ad857843-017f-403a-9ff4-bb301c645615",
   "metadata": {},
   "source": [
    "### ABC (Artificial Bee Colony)"
   ]
  },
  {
   "cell_type": "code",
   "execution_count": 59,
   "id": "c8321f8e-5b56-47d9-bdd4-876a95a6a1f2",
   "metadata": {},
   "outputs": [
    {
     "data": {
      "text/html": [
       "<pre>\n",
       "+=========== RESULT ==========+\n",
       "  iteration: 394\n",
       "    minimum: 2.17055e-18\n",
       "  minimizer: [3.141592652123325, 2.718281828317566]\n",
       "    f calls: 20023\n",
       " total time: 0.0098 s\n",
       "+============================+\n",
       "</pre>\n"
      ],
      "text/plain": [
       "+=========== RESULT ==========+\n",
       "  iteration: 394\n",
       "    minimum: 2.17055e-18\n",
       "  minimizer: [3.141592652123325, 2.718281828317566]\n",
       "    f calls: 20023\n",
       " total time: 0.0098 s\n",
       "+============================+\n"
      ]
     },
     "execution_count": 59,
     "metadata": {},
     "output_type": "execute_result"
    }
   ],
   "source": [
    "result_abc = optimize(cost, bounds, ABC())"
   ]
  },
  {
   "cell_type": "code",
   "execution_count": 60,
   "id": "b7326630-09ec-4725-8bbc-6a91f5982f9e",
   "metadata": {},
   "outputs": [
    {
     "data": {
      "text/plain": [
       "2-element Vector{Float64}:\n",
       " 3.141592652123325\n",
       " 2.718281828317566"
      ]
     },
     "execution_count": 60,
     "metadata": {},
     "output_type": "execute_result"
    }
   ],
   "source": [
    "minimizer(result_abc)"
   ]
  },
  {
   "cell_type": "markdown",
   "id": "626a1453-5d6f-4690-b39f-59e0b906b6da",
   "metadata": {},
   "source": [
    "### SA (Simulated Annealing)"
   ]
  },
  {
   "cell_type": "code",
   "execution_count": 61,
   "id": "aa4e8112-d356-4e75-8d53-a06b0fc15a18",
   "metadata": {},
   "outputs": [
    {
     "data": {
      "text/html": [
       "<pre>\n",
       "+=========== RESULT ==========+\n",
       "  iteration: 40\n",
       "    minimum: 0\n",
       "  minimizer: [3.141592653589793, 2.718281828459045]\n",
       "    f calls: 19002\n",
       " total time: 0.0218 s\n",
       "+============================+\n",
       "</pre>\n"
      ],
      "text/plain": [
       "+=========== RESULT ==========+\n",
       "  iteration: 40\n",
       "    minimum: 0\n",
       "  minimizer: [3.141592653589793, 2.718281828459045]\n",
       "    f calls: 19002\n",
       " total time: 0.0218 s\n",
       "+============================+\n"
      ]
     },
     "execution_count": 61,
     "metadata": {},
     "output_type": "execute_result"
    }
   ],
   "source": [
    "result_sa = optimize(cost, bounds, SA())"
   ]
  },
  {
   "cell_type": "code",
   "execution_count": 62,
   "id": "8f4ee72b-1ce3-478a-aa1a-00af7720d483",
   "metadata": {},
   "outputs": [
    {
     "data": {
      "text/plain": [
       "2-element Vector{Float64}:\n",
       " 3.141592653589793\n",
       " 2.718281828459045"
      ]
     },
     "execution_count": 62,
     "metadata": {},
     "output_type": "execute_result"
    }
   ],
   "source": [
    "minimizer(result_sa)"
   ]
  },
  {
   "cell_type": "markdown",
   "id": "8623716a-8047-486b-b180-9097179d4a22",
   "metadata": {},
   "source": [
    "### WOA (Whale Optimization Algorithm)"
   ]
  },
  {
   "cell_type": "code",
   "execution_count": 63,
   "id": "93abe441-3f06-42b4-bfef-65b3c97090d7",
   "metadata": {},
   "outputs": [
    {
     "data": {
      "text/html": [
       "<pre>\n",
       "+=========== RESULT ==========+\n",
       "  iteration: 500\n",
       "    minimum: 4.16055e-06\n",
       "  minimizer: [3.1402571426116266, 2.719823569264724]\n",
       "    f calls: 15000\n",
       " total time: 0.0080 s\n",
       "+============================+\n",
       "</pre>\n"
      ],
      "text/plain": [
       "+=========== RESULT ==========+\n",
       "  iteration: 500\n",
       "    minimum: 4.16055e-06\n",
       "  minimizer: [3.1402571426116266, 2.719823569264724]\n",
       "    f calls: 15000\n",
       " total time: 0.0080 s\n",
       "+============================+\n"
      ]
     },
     "execution_count": 63,
     "metadata": {},
     "output_type": "execute_result"
    }
   ],
   "source": [
    "result_woa = optimize(cost, bounds, Metaheuristics.WOA())"
   ]
  },
  {
   "cell_type": "code",
   "execution_count": 64,
   "id": "5210f764-5cb4-4fa3-a503-dc2e83c7b01f",
   "metadata": {},
   "outputs": [
    {
     "data": {
      "text/plain": [
       "2-element Vector{Float64}:\n",
       " 3.1402571426116266\n",
       " 2.719823569264724"
      ]
     },
     "execution_count": 64,
     "metadata": {},
     "output_type": "execute_result"
    }
   ],
   "source": [
    "minimizer(result_woa)"
   ]
  },
  {
   "cell_type": "code",
   "execution_count": 65,
   "id": "1e220640-1830-4eeb-96a2-80b6fe2bbeac",
   "metadata": {},
   "outputs": [
    {
     "data": {
      "text/plain": [
       "4.160554284699173e-6"
      ]
     },
     "execution_count": 65,
     "metadata": {},
     "output_type": "execute_result"
    }
   ],
   "source": [
    "minimum(result_woa)"
   ]
  },
  {
   "cell_type": "markdown",
   "id": "6d0a3ad4-1a1a-4188-a01d-e727f481e548",
   "metadata": {},
   "source": [
    "### MCCGA (Machine-coded Compact Genetic Algorithm)"
   ]
  },
  {
   "cell_type": "code",
   "execution_count": 66,
   "id": "72e36332-ef01-42eb-96c9-a618ae23a367",
   "metadata": {},
   "outputs": [
    {
     "data": {
      "text/html": [
       "<pre>\n",
       "+=========== RESULT ==========+\n",
       "  iteration: 3322\n",
       "    minimum: 2.19264e-07\n",
       "  minimizer: [3.1416015625, 2.71875]\n",
       "    f calls: 6643\n",
       " total time: 0.1007 s\n",
       "+============================+\n",
       "</pre>\n"
      ],
      "text/plain": [
       "+=========== RESULT ==========+\n",
       "  iteration: 3322\n",
       "    minimum: 2.19264e-07\n",
       "  minimizer: [3.1416015625, 2.71875]\n",
       "    f calls: 6643\n",
       " total time: 0.1007 s\n",
       "+============================+\n"
      ]
     },
     "execution_count": 66,
     "metadata": {},
     "output_type": "execute_result"
    }
   ],
   "source": [
    "result_mccga = optimize(cost, bounds, MCCGA())"
   ]
  },
  {
   "cell_type": "code",
   "execution_count": 67,
   "id": "8738802f-e02d-4b33-941e-8f1d2e17e63b",
   "metadata": {},
   "outputs": [
    {
     "data": {
      "text/plain": [
       "2-element Vector{Float64}:\n",
       " 3.1416015625\n",
       " 2.71875"
      ]
     },
     "execution_count": 67,
     "metadata": {},
     "output_type": "execute_result"
    }
   ],
   "source": [
    "minimizer(result_mccga)"
   ]
  },
  {
   "cell_type": "code",
   "execution_count": 68,
   "id": "8e9d08e0-fe1f-4823-8bed-604e250b1682",
   "metadata": {},
   "outputs": [
    {
     "data": {
      "text/plain": [
       "2.1926396044116857e-7"
      ]
     },
     "execution_count": 68,
     "metadata": {},
     "output_type": "execute_result"
    }
   ],
   "source": [
    "minimum(result_mccga)"
   ]
  },
  {
   "cell_type": "code",
   "execution_count": null,
   "id": "dabaf7fc-e9ce-45e6-b989-7be3b63a8786",
   "metadata": {},
   "outputs": [],
   "source": []
  }
 ],
 "metadata": {
  "kernelspec": {
   "display_name": "Julia 1.7.2",
   "language": "julia",
   "name": "julia-1.7"
  },
  "language_info": {
   "file_extension": ".jl",
   "mimetype": "application/julia",
   "name": "julia",
   "version": "1.7.2"
  }
 },
 "nbformat": 4,
 "nbformat_minor": 5
}
