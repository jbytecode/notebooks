{
 "cells": [
  {
   "cell_type": "markdown",
   "id": "b42748d1-0aef-48ee-a650-4537ff578672",
   "metadata": {
    "tags": []
   },
   "source": [
    "# Kuhn-Tucker Example"
   ]
  },
  {
   "cell_type": "markdown",
   "id": "909a6034-d6d4-4bb9-a195-8f6e2c6a49cd",
   "metadata": {},
   "source": [
    "$$\n",
    "\\begin{aligned}\n",
    "\\max z & = x_1 - x_2 \\\\\n",
    "\\text{Subject to:} \\\\\n",
    "& x_1^2 + x_2^2 \\le 1 \n",
    "\\end{aligned}\n",
    "$$"
   ]
  },
  {
   "cell_type": "markdown",
   "id": "04968fb5-b2bb-4b95-8efb-9fab90ffaaae",
   "metadata": {},
   "source": [
    "_____________________"
   ]
  },
  {
   "cell_type": "markdown",
   "id": "c0a440d1-8fa2-46aa-a5e8-9ff12b54a4a1",
   "metadata": {},
   "source": [
    "- $1 - \\lambda (2x_1) = 0$\n",
    "- $-1 -\\lambda (2x_2) = 0$\n",
    "- $\\lambda(1 - x_1^2 - x_2^2) = 0$\n",
    "- $\\lambda \\ge 0$"
   ]
  },
  {
   "cell_type": "markdown",
   "id": "28135c45-ab7e-475c-90c5-1f7f2e912458",
   "metadata": {},
   "source": [
    "__________________________"
   ]
  },
  {
   "cell_type": "code",
   "execution_count": null,
   "id": "e0c36ab6-fc90-45dd-8b2f-49656d8e728f",
   "metadata": {},
   "outputs": [],
   "source": [
    "using NLsolve"
   ]
  },
  {
   "cell_type": "code",
   "execution_count": 16,
   "id": "6fad32b9-e7db-412b-8522-cccc047f4a57",
   "metadata": {},
   "outputs": [
    {
     "data": {
      "text/plain": [
       "f! (generic function with 1 method)"
      ]
     },
     "execution_count": 16,
     "metadata": {},
     "output_type": "execute_result"
    }
   ],
   "source": [
    "function f!(F, x)\n",
    "    F[1] = 1.0 - x[3] * 2 * x[1]\n",
    "    F[2] = -1.0 - x[3] * 2 * x[2]\n",
    "    F[3] = x[3] * (1 - x[1]^2 - x[2]^2)\n",
    "end "
   ]
  },
  {
   "cell_type": "markdown",
   "id": "d56c3e1f-1bf6-40d7-9230-2cdf90f14694",
   "metadata": {},
   "source": [
    "If $\\lambda = 0$ then"
   ]
  },
  {
   "cell_type": "code",
   "execution_count": 18,
   "id": "1ea4b901-28f3-49e6-b14b-8aafadf3c36b",
   "metadata": {},
   "outputs": [
    {
     "data": {
      "text/plain": [
       "Results of Nonlinear Solver Algorithm\n",
       " * Algorithm: Trust-region with dogleg and autoscaling\n",
       " * Starting Point: [0.0, 0.0, 0.0]\n",
       " * Zero: [NaN, NaN, NaN]\n",
       " * Inf-norm of residuals: 1.000000\n",
       " * Iterations: 1\n",
       " * Convergence: false\n",
       "   * |x - x'| < 0.0e+00: false\n",
       "   * |f(x)| < 1.0e-08: false\n",
       " * Function Calls (f): 2\n",
       " * Jacobian Calls (df/dx): 1"
      ]
     },
     "execution_count": 18,
     "metadata": {},
     "output_type": "execute_result"
    }
   ],
   "source": [
    "initial_x = [0.0, 0.0, 0.0]\n",
    "\n",
    "nlsolve(f!, initial_x, autodiff = :forward)"
   ]
  },
  {
   "cell_type": "markdown",
   "id": "340f32b9-8fb2-405f-9b45-956c34e3ff3e",
   "metadata": {},
   "source": [
    "no solutions! If $\\lambda \\ge 0$ then "
   ]
  },
  {
   "cell_type": "code",
   "execution_count": 19,
   "id": "f289571e-04b3-40fd-abf0-7474324c41b3",
   "metadata": {},
   "outputs": [
    {
     "data": {
      "text/plain": [
       "Results of Nonlinear Solver Algorithm\n",
       " * Algorithm: Trust-region with dogleg and autoscaling\n",
       " * Starting Point: [0.0, 0.0, 5.0]\n",
       " * Zero: [0.7071067811865467, -0.7071067811865467, 0.7071067811865471]\n",
       " * Inf-norm of residuals: 0.000000\n",
       " * Iterations: 9\n",
       " * Convergence: true\n",
       "   * |x - x'| < 0.0e+00: false\n",
       "   * |f(x)| < 1.0e-08: true\n",
       " * Function Calls (f): 9\n",
       " * Jacobian Calls (df/dx): 7"
      ]
     },
     "execution_count": 19,
     "metadata": {},
     "output_type": "execute_result"
    }
   ],
   "source": [
    "initial_x = [0.0, 0.0, 5.0]\n",
    "\n",
    "nlsolve(f!, initial_x, autodiff = :forward)"
   ]
  },
  {
   "cell_type": "code",
   "execution_count": null,
   "id": "89e98ab8-e3bc-4a9e-94fb-8b200fb4f207",
   "metadata": {},
   "outputs": [],
   "source": []
  }
 ],
 "metadata": {
  "kernelspec": {
   "display_name": "Julia 1.7.1",
   "language": "julia",
   "name": "julia-1.7"
  },
  "language_info": {
   "file_extension": ".jl",
   "mimetype": "application/julia",
   "name": "julia",
   "version": "1.7.1"
  }
 },
 "nbformat": 4,
 "nbformat_minor": 5
}
