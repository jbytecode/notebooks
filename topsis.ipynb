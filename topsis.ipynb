{
 "cells": [
  {
   "cell_type": "markdown",
   "id": "14693e81-dd92-43a4-ba5a-b472719b10a6",
   "metadata": {},
   "source": [
    "## House selection using TOPSIS method"
   ]
  },
  {
   "cell_type": "code",
   "execution_count": 61,
   "id": "59fcd487-a322-4c93-8978-6db9c60b7aa0",
   "metadata": {},
   "outputs": [],
   "source": [
    "using JMcDM"
   ]
  },
  {
   "cell_type": "code",
   "execution_count": 53,
   "id": "00546298-0a3d-488a-bbfe-9581cfaeb27f",
   "metadata": {},
   "outputs": [],
   "source": [
    "using Pkg"
   ]
  },
  {
   "cell_type": "code",
   "execution_count": 54,
   "id": "b033f3c6-0d06-4bda-87bf-c5b276792e45",
   "metadata": {},
   "outputs": [],
   "source": [
    "using DataFrames"
   ]
  },
  {
   "cell_type": "code",
   "execution_count": 55,
   "id": "b5899645-9d49-4bcc-89f3-1c7b8b85580f",
   "metadata": {},
   "outputs": [
    {
     "data": {
      "text/html": [
       "<div><div style = \"float: left;\"><span>4×5 DataFrame</span></div><div style = \"clear: both;\"></div></div><div class = \"data-frame\" style = \"overflow-x: scroll;\"><table class = \"data-frame\" style = \"margin-bottom: 6px;\"><thead><tr class = \"header\"><th class = \"rowNumber\" style = \"font-weight: bold; text-align: right;\">Row</th><th style = \"text-align: left;\">price</th><th style = \"text-align: left;\">rooms</th><th style = \"text-align: left;\">size</th><th style = \"text-align: left;\">distance_to_transportation</th><th style = \"text-align: left;\">years</th></tr><tr class = \"subheader headerLastRow\"><th class = \"rowNumber\" style = \"font-weight: bold; text-align: right;\"></th><th title = \"Float64\" style = \"text-align: left;\">Float64</th><th title = \"Float64\" style = \"text-align: left;\">Float64</th><th title = \"Float64\" style = \"text-align: left;\">Float64</th><th title = \"Float64\" style = \"text-align: left;\">Float64</th><th title = \"Float64\" style = \"text-align: left;\">Float64</th></tr></thead><tbody><tr><td class = \"rowNumber\" style = \"font-weight: bold; text-align: right;\">1</td><td style = \"text-align: right;\">2500.0</td><td style = \"text-align: right;\">2.0</td><td style = \"text-align: right;\">50.0</td><td style = \"text-align: right;\">1000.0</td><td style = \"text-align: right;\">3.0</td></tr><tr><td class = \"rowNumber\" style = \"font-weight: bold; text-align: right;\">2</td><td style = \"text-align: right;\">3000.0</td><td style = \"text-align: right;\">2.0</td><td style = \"text-align: right;\">75.0</td><td style = \"text-align: right;\">1200.0</td><td style = \"text-align: right;\">4.0</td></tr><tr><td class = \"rowNumber\" style = \"font-weight: bold; text-align: right;\">3</td><td style = \"text-align: right;\">4000.0</td><td style = \"text-align: right;\">3.0</td><td style = \"text-align: right;\">100.0</td><td style = \"text-align: right;\">800.0</td><td style = \"text-align: right;\">8.0</td></tr><tr><td class = \"rowNumber\" style = \"font-weight: bold; text-align: right;\">4</td><td style = \"text-align: right;\">5000.0</td><td style = \"text-align: right;\">3.0</td><td style = \"text-align: right;\">100.0</td><td style = \"text-align: right;\">750.0</td><td style = \"text-align: right;\">7.0</td></tr></tbody></table></div>"
      ],
      "text/latex": [
       "\\begin{tabular}{r|ccccc}\n",
       "\t& price & rooms & size & distance\\_to\\_transportation & years\\\\\n",
       "\t\\hline\n",
       "\t& Float64 & Float64 & Float64 & Float64 & Float64\\\\\n",
       "\t\\hline\n",
       "\t1 & 2500.0 & 2.0 & 50.0 & 1000.0 & 3.0 \\\\\n",
       "\t2 & 3000.0 & 2.0 & 75.0 & 1200.0 & 4.0 \\\\\n",
       "\t3 & 4000.0 & 3.0 & 100.0 & 800.0 & 8.0 \\\\\n",
       "\t4 & 5000.0 & 3.0 & 100.0 & 750.0 & 7.0 \\\\\n",
       "\\end{tabular}\n"
      ],
      "text/plain": [
       "\u001b[1m4×5 DataFrame\u001b[0m\n",
       "\u001b[1m Row \u001b[0m│\u001b[1m price   \u001b[0m\u001b[1m rooms   \u001b[0m\u001b[1m size    \u001b[0m\u001b[1m distance_to_transportation \u001b[0m\u001b[1m years   \u001b[0m\n",
       "     │\u001b[90m Float64 \u001b[0m\u001b[90m Float64 \u001b[0m\u001b[90m Float64 \u001b[0m\u001b[90m Float64                    \u001b[0m\u001b[90m Float64 \u001b[0m\n",
       "─────┼────────────────────────────────────────────────────────────────\n",
       "   1 │  2500.0      2.0     50.0                      1000.0      3.0\n",
       "   2 │  3000.0      2.0     75.0                      1200.0      4.0\n",
       "   3 │  4000.0      3.0    100.0                       800.0      8.0\n",
       "   4 │  5000.0      3.0    100.0                       750.0      7.0"
      ]
     },
     "execution_count": 55,
     "metadata": {},
     "output_type": "execute_result"
    }
   ],
   "source": [
    "df = DataFrame(\n",
    "    price            = [2500.0, 3000, 4000, 5000],\n",
    "    rooms             = [2.0   ,  2,  3,    3   ],\n",
    "    size              = [50.0  , 75,  100, 100   ],\n",
    "    distance_to_transportation = [1000.0, 1200, 800, 750  ],\n",
    "    years             = [3.0,  4,  8,  7]\n",
    ")"
   ]
  },
  {
   "cell_type": "code",
   "execution_count": 56,
   "id": "c34bc8ef-ab9c-4bc1-93fa-7e9327f12727",
   "metadata": {},
   "outputs": [],
   "source": [
    "using JMcDM"
   ]
  },
  {
   "cell_type": "code",
   "execution_count": 57,
   "id": "6376917b-95f3-42ce-a3e0-370ed58f7dff",
   "metadata": {},
   "outputs": [
    {
     "data": {
      "text/plain": [
       "5-element Vector{Float64}:\n",
       " 0.4\n",
       " 0.35\n",
       " 0.1\n",
       " 0.1\n",
       " 0.05"
      ]
     },
     "execution_count": 57,
     "metadata": {},
     "output_type": "execute_result"
    }
   ],
   "source": [
    "w = [0.40, 0.35, 0.10, 0.10, 0.05]"
   ]
  },
  {
   "cell_type": "code",
   "execution_count": 58,
   "id": "dff4369b-f25c-4f64-a41d-6020e25a0dfb",
   "metadata": {},
   "outputs": [
    {
     "data": {
      "text/plain": [
       "1.0"
      ]
     },
     "execution_count": 58,
     "metadata": {},
     "output_type": "execute_result"
    }
   ],
   "source": [
    "sum(w)"
   ]
  },
  {
   "cell_type": "code",
   "execution_count": 59,
   "id": "09a38534-3c38-461f-bbad-ff1d2ee9bbdd",
   "metadata": {},
   "outputs": [
    {
     "data": {
      "text/plain": [
       "5-element Vector{Function}:\n",
       " minimum (generic function with 14 methods)\n",
       " maximum (generic function with 13 methods)\n",
       " maximum (generic function with 13 methods)\n",
       " minimum (generic function with 14 methods)\n",
       " minimum (generic function with 14 methods)"
      ]
     },
     "execution_count": 59,
     "metadata": {},
     "output_type": "execute_result"
    }
   ],
   "source": [
    "directions = [minimum, maximum, maximum, minimum, minimum]"
   ]
  },
  {
   "cell_type": "code",
   "execution_count": 60,
   "id": "ffa09c6d-b5a7-4e1e-895f-f2420bdecd4a",
   "metadata": {},
   "outputs": [
    {
     "data": {
      "text/plain": [
       "Scores:\n",
       "Any[0.6406174807581927, 0.5803095524444111, 0.5322792751459361, 0.36892095845129724]\n",
       "Best indices:\n",
       "1\n"
      ]
     },
     "execution_count": 60,
     "metadata": {},
     "output_type": "execute_result"
    }
   ],
   "source": [
    "topsis_result = topsis(df, w, directions)"
   ]
  },
  {
   "cell_type": "code",
   "execution_count": null,
   "id": "c49329f0-f42e-436f-bc47-68dfaa205229",
   "metadata": {},
   "outputs": [],
   "source": []
  }
 ],
 "metadata": {
  "kernelspec": {
   "display_name": "Julia 1.9.0-DEV",
   "language": "julia",
   "name": "julia-1.9"
  },
  "language_info": {
   "file_extension": ".jl",
   "mimetype": "application/julia",
   "name": "julia",
   "version": "1.9.0"
  }
 },
 "nbformat": 4,
 "nbformat_minor": 5
}
