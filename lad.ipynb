{
 "cells": [
  {
   "cell_type": "markdown",
   "id": "1ae63b19-671d-4efd-a8af-fe1a7977d1d2",
   "metadata": {},
   "source": [
    "# Estimating LAD (Least Absolute Deviations) Regression"
   ]
  },
  {
   "cell_type": "code",
   "execution_count": 1,
   "id": "6dad5977-5889-4821-92b5-0961c91984d9",
   "metadata": {},
   "outputs": [
    {
     "name": "stderr",
     "output_type": "stream",
     "text": [
      "┌ Info: Loading package JuMP\n",
      "└ @ Main In[1]:1\n",
      "┌ Info: Loading package GLPK\n",
      "└ @ Main In[1]:3\n",
      "┌ Info: Loading Plots\n",
      "└ @ Main In[1]:5\n"
     ]
    }
   ],
   "source": [
    "@info \"Loading package JuMP\"\n",
    "using JuMP\n",
    "@info \"Loading package GLPK\"\n",
    "using GLPK\n",
    "@info \"Loading Plots\"\n",
    "using Plots"
   ]
  },
  {
   "cell_type": "markdown",
   "id": "9a441c0c-a8a5-4e0b-9658-1cbc03063f2f",
   "metadata": {},
   "source": [
    "## Phone Data "
   ]
  },
  {
   "cell_type": "code",
   "execution_count": 2,
   "id": "ba74f425-58ba-4f53-aedc-33c42267a629",
   "metadata": {},
   "outputs": [],
   "source": [
    "year = collect(50:73)\n",
    "calls=[4.4, 4.7, 4.7, 5.9, 6.6, 7.3, 8.1, 8.8, 10.6, 12.0, 13.5, 14.9, 16.1, 21.2, 119.0, 124.0,\n",
    "          142.0, 159.0, 182.0, 212.0, 43.0, 24.0, 27.0, 29.0];"
   ]
  },
  {
   "cell_type": "markdown",
   "id": "f05497ec-cd96-45fa-a2d8-f8651add42e9",
   "metadata": {},
   "source": [
    "## Scatter Plot"
   ]
  },
  {
   "cell_type": "code",
   "execution_count": 3,
   "id": "a8f093cf-7c14-4efa-af36-b9b5222d1408",
   "metadata": {},
   "outputs": [
    {
     "data": {
      "image/svg+xml": [
       "<?xml version=\"1.0\" encoding=\"utf-8\"?>\n",
       "<svg xmlns=\"http://www.w3.org/2000/svg\" xmlns:xlink=\"http://www.w3.org/1999/xlink\" width=\"600\" height=\"400\" viewBox=\"0 0 2400 1600\">\n",
       "<defs>\n",
       "  <clipPath id=\"clip780\">\n",
       "    <rect x=\"0\" y=\"0\" width=\"2400\" height=\"1600\"/>\n",
       "  </clipPath>\n",
       "</defs>\n",
       "<path clip-path=\"url(#clip780)\" d=\"\n",
       "M0 1600 L2400 1600 L2400 0 L0 0  Z\n",
       "  \" fill=\"#ffffff\" fill-rule=\"evenodd\" fill-opacity=\"1\"/>\n",
       "<defs>\n",
       "  <clipPath id=\"clip781\">\n",
       "    <rect x=\"480\" y=\"0\" width=\"1681\" height=\"1600\"/>\n",
       "  </clipPath>\n",
       "</defs>\n",
       "<path clip-path=\"url(#clip780)\" d=\"\n",
       "M170.857 1486.45 L2352.76 1486.45 L2352.76 47.2441 L170.857 47.2441  Z\n",
       "  \" fill=\"#ffffff\" fill-rule=\"evenodd\" fill-opacity=\"1\"/>\n",
       "<defs>\n",
       "  <clipPath id=\"clip782\">\n",
       "    <rect x=\"170\" y=\"47\" width=\"2183\" height=\"1440\"/>\n",
       "  </clipPath>\n",
       "</defs>\n",
       "<polyline clip-path=\"url(#clip782)\" style=\"stroke:#000000; stroke-linecap:butt; stroke-linejoin:round; stroke-width:2; stroke-opacity:0.1; fill:none\" points=\"\n",
       "  232.609,1486.45 232.609,47.2441 \n",
       "  \"/>\n",
       "<polyline clip-path=\"url(#clip782)\" style=\"stroke:#000000; stroke-linecap:butt; stroke-linejoin:round; stroke-width:2; stroke-opacity:0.1; fill:none\" points=\"\n",
       "  680.086,1486.45 680.086,47.2441 \n",
       "  \"/>\n",
       "<polyline clip-path=\"url(#clip782)\" style=\"stroke:#000000; stroke-linecap:butt; stroke-linejoin:round; stroke-width:2; stroke-opacity:0.1; fill:none\" points=\"\n",
       "  1127.56,1486.45 1127.56,47.2441 \n",
       "  \"/>\n",
       "<polyline clip-path=\"url(#clip782)\" style=\"stroke:#000000; stroke-linecap:butt; stroke-linejoin:round; stroke-width:2; stroke-opacity:0.1; fill:none\" points=\"\n",
       "  1575.04,1486.45 1575.04,47.2441 \n",
       "  \"/>\n",
       "<polyline clip-path=\"url(#clip782)\" style=\"stroke:#000000; stroke-linecap:butt; stroke-linejoin:round; stroke-width:2; stroke-opacity:0.1; fill:none\" points=\"\n",
       "  2022.52,1486.45 2022.52,47.2441 \n",
       "  \"/>\n",
       "<polyline clip-path=\"url(#clip780)\" style=\"stroke:#000000; stroke-linecap:butt; stroke-linejoin:round; stroke-width:4; stroke-opacity:1; fill:none\" points=\"\n",
       "  170.857,1486.45 2352.76,1486.45 \n",
       "  \"/>\n",
       "<polyline clip-path=\"url(#clip780)\" style=\"stroke:#000000; stroke-linecap:butt; stroke-linejoin:round; stroke-width:4; stroke-opacity:1; fill:none\" points=\"\n",
       "  232.609,1486.45 232.609,1467.55 \n",
       "  \"/>\n",
       "<polyline clip-path=\"url(#clip780)\" style=\"stroke:#000000; stroke-linecap:butt; stroke-linejoin:round; stroke-width:4; stroke-opacity:1; fill:none\" points=\"\n",
       "  680.086,1486.45 680.086,1467.55 \n",
       "  \"/>\n",
       "<polyline clip-path=\"url(#clip780)\" style=\"stroke:#000000; stroke-linecap:butt; stroke-linejoin:round; stroke-width:4; stroke-opacity:1; fill:none\" points=\"\n",
       "  1127.56,1486.45 1127.56,1467.55 \n",
       "  \"/>\n",
       "<polyline clip-path=\"url(#clip780)\" style=\"stroke:#000000; stroke-linecap:butt; stroke-linejoin:round; stroke-width:4; stroke-opacity:1; fill:none\" points=\"\n",
       "  1575.04,1486.45 1575.04,1467.55 \n",
       "  \"/>\n",
       "<polyline clip-path=\"url(#clip780)\" style=\"stroke:#000000; stroke-linecap:butt; stroke-linejoin:round; stroke-width:4; stroke-opacity:1; fill:none\" points=\"\n",
       "  2022.52,1486.45 2022.52,1467.55 \n",
       "  \"/>\n",
       "<path clip-path=\"url(#clip780)\" d=\"M207.308 1514.29 L225.665 1514.29 L225.665 1518.22 L211.591 1518.22 L211.591 1526.7 Q212.609 1526.35 213.628 1526.19 Q214.646 1526 215.665 1526 Q221.452 1526 224.832 1529.17 Q228.211 1532.34 228.211 1537.76 Q228.211 1543.34 224.739 1546.44 Q221.267 1549.52 214.947 1549.52 Q212.771 1549.52 210.503 1549.15 Q208.258 1548.78 205.85 1548.04 L205.85 1543.34 Q207.933 1544.47 210.156 1545.03 Q212.378 1545.58 214.855 1545.58 Q218.859 1545.58 221.197 1543.48 Q223.535 1541.37 223.535 1537.76 Q223.535 1534.15 221.197 1532.04 Q218.859 1529.94 214.855 1529.94 Q212.98 1529.94 211.105 1530.35 Q209.253 1530.77 207.308 1531.65 L207.308 1514.29 Z\" fill=\"#000000\" fill-rule=\"evenodd\" fill-opacity=\"1\" /><path clip-path=\"url(#clip780)\" d=\"M247.424 1517.37 Q243.813 1517.37 241.984 1520.93 Q240.179 1524.47 240.179 1531.6 Q240.179 1538.71 241.984 1542.27 Q243.813 1545.82 247.424 1545.82 Q251.058 1545.82 252.864 1542.27 Q254.692 1538.71 254.692 1531.6 Q254.692 1524.47 252.864 1520.93 Q251.058 1517.37 247.424 1517.37 M247.424 1513.66 Q253.234 1513.66 256.29 1518.27 Q259.368 1522.85 259.368 1531.6 Q259.368 1540.33 256.29 1544.94 Q253.234 1549.52 247.424 1549.52 Q241.614 1549.52 238.535 1544.94 Q235.48 1540.33 235.48 1531.6 Q235.48 1522.85 238.535 1518.27 Q241.614 1513.66 247.424 1513.66 Z\" fill=\"#000000\" fill-rule=\"evenodd\" fill-opacity=\"1\" /><path clip-path=\"url(#clip780)\" d=\"M655.283 1514.29 L673.64 1514.29 L673.64 1518.22 L659.566 1518.22 L659.566 1526.7 Q660.584 1526.35 661.603 1526.19 Q662.621 1526 663.64 1526 Q669.427 1526 672.806 1529.17 Q676.186 1532.34 676.186 1537.76 Q676.186 1543.34 672.714 1546.44 Q669.242 1549.52 662.922 1549.52 Q660.746 1549.52 658.478 1549.15 Q656.232 1548.78 653.825 1548.04 L653.825 1543.34 Q655.908 1544.47 658.13 1545.03 Q660.353 1545.58 662.83 1545.58 Q666.834 1545.58 669.172 1543.48 Q671.51 1541.37 671.51 1537.76 Q671.51 1534.15 669.172 1532.04 Q666.834 1529.94 662.83 1529.94 Q660.955 1529.94 659.08 1530.35 Q657.228 1530.77 655.283 1531.65 L655.283 1514.29 Z\" fill=\"#000000\" fill-rule=\"evenodd\" fill-opacity=\"1\" /><path clip-path=\"url(#clip780)\" d=\"M685.445 1514.29 L703.802 1514.29 L703.802 1518.22 L689.728 1518.22 L689.728 1526.7 Q690.746 1526.35 691.765 1526.19 Q692.783 1526 693.802 1526 Q699.589 1526 702.968 1529.17 Q706.348 1532.34 706.348 1537.76 Q706.348 1543.34 702.876 1546.44 Q699.403 1549.52 693.084 1549.52 Q690.908 1549.52 688.64 1549.15 Q686.394 1548.78 683.987 1548.04 L683.987 1543.34 Q686.07 1544.47 688.292 1545.03 Q690.515 1545.58 692.991 1545.58 Q696.996 1545.58 699.334 1543.48 Q701.672 1541.37 701.672 1537.76 Q701.672 1534.15 699.334 1532.04 Q696.996 1529.94 692.991 1529.94 Q691.116 1529.94 689.241 1530.35 Q687.39 1530.77 685.445 1531.65 L685.445 1514.29 Z\" fill=\"#000000\" fill-rule=\"evenodd\" fill-opacity=\"1\" /><path clip-path=\"url(#clip780)\" d=\"M1112.97 1529.7 Q1109.82 1529.7 1107.97 1531.86 Q1106.14 1534.01 1106.14 1537.76 Q1106.14 1541.49 1107.97 1543.66 Q1109.82 1545.82 1112.97 1545.82 Q1116.12 1545.82 1117.95 1543.66 Q1119.8 1541.49 1119.8 1537.76 Q1119.8 1534.01 1117.95 1531.86 Q1116.12 1529.7 1112.97 1529.7 M1122.25 1515.05 L1122.25 1519.31 Q1120.49 1518.48 1118.69 1518.04 Q1116.9 1517.6 1115.14 1517.6 Q1110.52 1517.6 1108.06 1520.72 Q1105.63 1523.85 1105.28 1530.17 Q1106.65 1528.15 1108.71 1527.09 Q1110.77 1526 1113.25 1526 Q1118.45 1526 1121.46 1529.17 Q1124.5 1532.32 1124.5 1537.76 Q1124.5 1543.08 1121.35 1546.3 Q1118.2 1549.52 1112.97 1549.52 Q1106.97 1549.52 1103.8 1544.94 Q1100.63 1540.33 1100.63 1531.6 Q1100.63 1523.41 1104.52 1518.55 Q1108.41 1513.66 1114.96 1513.66 Q1116.72 1513.66 1118.5 1514.01 Q1120.31 1514.36 1122.25 1515.05 Z\" fill=\"#000000\" fill-rule=\"evenodd\" fill-opacity=\"1\" /><path clip-path=\"url(#clip780)\" d=\"M1142.55 1517.37 Q1138.94 1517.37 1137.11 1520.93 Q1135.31 1524.47 1135.31 1531.6 Q1135.31 1538.71 1137.11 1542.27 Q1138.94 1545.82 1142.55 1545.82 Q1146.19 1545.82 1147.99 1542.27 Q1149.82 1538.71 1149.82 1531.6 Q1149.82 1524.47 1147.99 1520.93 Q1146.19 1517.37 1142.55 1517.37 M1142.55 1513.66 Q1148.36 1513.66 1151.42 1518.27 Q1154.5 1522.85 1154.5 1531.6 Q1154.5 1540.33 1151.42 1544.94 Q1148.36 1549.52 1142.55 1549.52 Q1136.74 1549.52 1133.66 1544.94 Q1130.61 1540.33 1130.61 1531.6 Q1130.61 1522.85 1133.66 1518.27 Q1136.74 1513.66 1142.55 1513.66 Z\" fill=\"#000000\" fill-rule=\"evenodd\" fill-opacity=\"1\" /><path clip-path=\"url(#clip780)\" d=\"M1560.94 1529.7 Q1557.8 1529.7 1555.94 1531.86 Q1554.11 1534.01 1554.11 1537.76 Q1554.11 1541.49 1555.94 1543.66 Q1557.8 1545.82 1560.94 1545.82 Q1564.09 1545.82 1565.92 1543.66 Q1567.77 1541.49 1567.77 1537.76 Q1567.77 1534.01 1565.92 1531.86 Q1564.09 1529.7 1560.94 1529.7 M1570.23 1515.05 L1570.23 1519.31 Q1568.47 1518.48 1566.66 1518.04 Q1564.88 1517.6 1563.12 1517.6 Q1558.49 1517.6 1556.04 1520.72 Q1553.61 1523.85 1553.26 1530.17 Q1554.62 1528.15 1556.68 1527.09 Q1558.74 1526 1561.22 1526 Q1566.43 1526 1569.44 1529.17 Q1572.47 1532.32 1572.47 1537.76 Q1572.47 1543.08 1569.32 1546.3 Q1566.17 1549.52 1560.94 1549.52 Q1554.95 1549.52 1551.78 1544.94 Q1548.61 1540.33 1548.61 1531.6 Q1548.61 1523.41 1552.49 1518.55 Q1556.38 1513.66 1562.93 1513.66 Q1564.69 1513.66 1566.48 1514.01 Q1568.28 1514.36 1570.23 1515.05 Z\" fill=\"#000000\" fill-rule=\"evenodd\" fill-opacity=\"1\" /><path clip-path=\"url(#clip780)\" d=\"M1580.57 1514.29 L1598.93 1514.29 L1598.93 1518.22 L1584.86 1518.22 L1584.86 1526.7 Q1585.87 1526.35 1586.89 1526.19 Q1587.91 1526 1588.93 1526 Q1594.72 1526 1598.1 1529.17 Q1601.48 1532.34 1601.48 1537.76 Q1601.48 1543.34 1598 1546.44 Q1594.53 1549.52 1588.21 1549.52 Q1586.04 1549.52 1583.77 1549.15 Q1581.52 1548.78 1579.11 1548.04 L1579.11 1543.34 Q1581.2 1544.47 1583.42 1545.03 Q1585.64 1545.58 1588.12 1545.58 Q1592.12 1545.58 1594.46 1543.48 Q1596.8 1541.37 1596.8 1537.76 Q1596.8 1534.15 1594.46 1532.04 Q1592.12 1529.94 1588.12 1529.94 Q1586.24 1529.94 1584.37 1530.35 Q1582.52 1530.77 1580.57 1531.65 L1580.57 1514.29 Z\" fill=\"#000000\" fill-rule=\"evenodd\" fill-opacity=\"1\" /><path clip-path=\"url(#clip780)\" d=\"M1995.87 1514.29 L2018.1 1514.29 L2018.1 1516.28 L2005.55 1548.85 L2000.67 1548.85 L2012.47 1518.22 L1995.87 1518.22 L1995.87 1514.29 Z\" fill=\"#000000\" fill-rule=\"evenodd\" fill-opacity=\"1\" /><path clip-path=\"url(#clip780)\" d=\"M2037.22 1517.37 Q2033.61 1517.37 2031.78 1520.93 Q2029.97 1524.47 2029.97 1531.6 Q2029.97 1538.71 2031.78 1542.27 Q2033.61 1545.82 2037.22 1545.82 Q2040.85 1545.82 2042.66 1542.27 Q2044.49 1538.71 2044.49 1531.6 Q2044.49 1524.47 2042.66 1520.93 Q2040.85 1517.37 2037.22 1517.37 M2037.22 1513.66 Q2043.03 1513.66 2046.08 1518.27 Q2049.16 1522.85 2049.16 1531.6 Q2049.16 1540.33 2046.08 1544.94 Q2043.03 1549.52 2037.22 1549.52 Q2031.41 1549.52 2028.33 1544.94 Q2025.27 1540.33 2025.27 1531.6 Q2025.27 1522.85 2028.33 1518.27 Q2031.41 1513.66 2037.22 1513.66 Z\" fill=\"#000000\" fill-rule=\"evenodd\" fill-opacity=\"1\" /><polyline clip-path=\"url(#clip782)\" style=\"stroke:#000000; stroke-linecap:butt; stroke-linejoin:round; stroke-width:2; stroke-opacity:0.1; fill:none\" points=\"\n",
       "  170.857,1474.49 2352.76,1474.49 \n",
       "  \"/>\n",
       "<polyline clip-path=\"url(#clip782)\" style=\"stroke:#000000; stroke-linecap:butt; stroke-linejoin:round; stroke-width:2; stroke-opacity:0.1; fill:none\" points=\"\n",
       "  170.857,1147.48 2352.76,1147.48 \n",
       "  \"/>\n",
       "<polyline clip-path=\"url(#clip782)\" style=\"stroke:#000000; stroke-linecap:butt; stroke-linejoin:round; stroke-width:2; stroke-opacity:0.1; fill:none\" points=\"\n",
       "  170.857,820.475 2352.76,820.475 \n",
       "  \"/>\n",
       "<polyline clip-path=\"url(#clip782)\" style=\"stroke:#000000; stroke-linecap:butt; stroke-linejoin:round; stroke-width:2; stroke-opacity:0.1; fill:none\" points=\"\n",
       "  170.857,493.467 2352.76,493.467 \n",
       "  \"/>\n",
       "<polyline clip-path=\"url(#clip782)\" style=\"stroke:#000000; stroke-linecap:butt; stroke-linejoin:round; stroke-width:2; stroke-opacity:0.1; fill:none\" points=\"\n",
       "  170.857,166.458 2352.76,166.458 \n",
       "  \"/>\n",
       "<polyline clip-path=\"url(#clip780)\" style=\"stroke:#000000; stroke-linecap:butt; stroke-linejoin:round; stroke-width:4; stroke-opacity:1; fill:none\" points=\"\n",
       "  170.857,1486.45 170.857,47.2441 \n",
       "  \"/>\n",
       "<polyline clip-path=\"url(#clip780)\" style=\"stroke:#000000; stroke-linecap:butt; stroke-linejoin:round; stroke-width:4; stroke-opacity:1; fill:none\" points=\"\n",
       "  170.857,1474.49 189.755,1474.49 \n",
       "  \"/>\n",
       "<polyline clip-path=\"url(#clip780)\" style=\"stroke:#000000; stroke-linecap:butt; stroke-linejoin:round; stroke-width:4; stroke-opacity:1; fill:none\" points=\"\n",
       "  170.857,1147.48 189.755,1147.48 \n",
       "  \"/>\n",
       "<polyline clip-path=\"url(#clip780)\" style=\"stroke:#000000; stroke-linecap:butt; stroke-linejoin:round; stroke-width:4; stroke-opacity:1; fill:none\" points=\"\n",
       "  170.857,820.475 189.755,820.475 \n",
       "  \"/>\n",
       "<polyline clip-path=\"url(#clip780)\" style=\"stroke:#000000; stroke-linecap:butt; stroke-linejoin:round; stroke-width:4; stroke-opacity:1; fill:none\" points=\"\n",
       "  170.857,493.467 189.755,493.467 \n",
       "  \"/>\n",
       "<polyline clip-path=\"url(#clip780)\" style=\"stroke:#000000; stroke-linecap:butt; stroke-linejoin:round; stroke-width:4; stroke-opacity:1; fill:none\" points=\"\n",
       "  170.857,166.458 189.755,166.458 \n",
       "  \"/>\n",
       "<path clip-path=\"url(#clip780)\" d=\"M122.913 1460.29 Q119.302 1460.29 117.473 1463.86 Q115.668 1467.4 115.668 1474.53 Q115.668 1481.63 117.473 1485.2 Q119.302 1488.74 122.913 1488.74 Q126.547 1488.74 128.353 1485.2 Q130.182 1481.63 130.182 1474.53 Q130.182 1467.4 128.353 1463.86 Q126.547 1460.29 122.913 1460.29 M122.913 1456.59 Q128.723 1456.59 131.779 1461.19 Q134.857 1465.78 134.857 1474.53 Q134.857 1483.25 131.779 1487.86 Q128.723 1492.44 122.913 1492.44 Q117.103 1492.44 114.024 1487.86 Q110.969 1483.25 110.969 1474.53 Q110.969 1465.78 114.024 1461.19 Q117.103 1456.59 122.913 1456.59 Z\" fill=\"#000000\" fill-rule=\"evenodd\" fill-opacity=\"1\" /><path clip-path=\"url(#clip780)\" d=\"M82.7975 1130.2 L101.154 1130.2 L101.154 1134.14 L87.0799 1134.14 L87.0799 1142.61 Q88.0984 1142.26 89.1169 1142.1 Q90.1354 1141.92 91.1539 1141.92 Q96.941 1141.92 100.321 1145.09 Q103.7 1148.26 103.7 1153.68 Q103.7 1159.25 100.228 1162.36 Q96.7558 1165.44 90.4364 1165.44 Q88.2604 1165.44 85.9919 1165.06 Q83.7466 1164.69 81.3392 1163.95 L81.3392 1159.25 Q83.4225 1160.39 85.6447 1160.94 Q87.8669 1161.5 90.3438 1161.5 Q94.3484 1161.5 96.6863 1159.39 Q99.0243 1157.29 99.0243 1153.68 Q99.0243 1150.06 96.6863 1147.96 Q94.3484 1145.85 90.3438 1145.85 Q88.4688 1145.85 86.5938 1146.27 Q84.7419 1146.69 82.7975 1147.56 L82.7975 1130.2 Z\" fill=\"#000000\" fill-rule=\"evenodd\" fill-opacity=\"1\" /><path clip-path=\"url(#clip780)\" d=\"M122.913 1133.28 Q119.302 1133.28 117.473 1136.85 Q115.668 1140.39 115.668 1147.52 Q115.668 1154.63 117.473 1158.19 Q119.302 1161.73 122.913 1161.73 Q126.547 1161.73 128.353 1158.19 Q130.182 1154.63 130.182 1147.52 Q130.182 1140.39 128.353 1136.85 Q126.547 1133.28 122.913 1133.28 M122.913 1129.58 Q128.723 1129.58 131.779 1134.19 Q134.857 1138.77 134.857 1147.52 Q134.857 1156.25 131.779 1160.85 Q128.723 1165.44 122.913 1165.44 Q117.103 1165.44 114.024 1160.85 Q110.969 1156.25 110.969 1147.52 Q110.969 1138.77 114.024 1134.19 Q117.103 1129.58 122.913 1129.58 Z\" fill=\"#000000\" fill-rule=\"evenodd\" fill-opacity=\"1\" /><path clip-path=\"url(#clip780)\" d=\"M53.3995 833.82 L61.0384 833.82 L61.0384 807.455 L52.7282 809.121 L52.7282 804.862 L60.9921 803.195 L65.668 803.195 L65.668 833.82 L73.3068 833.82 L73.3068 837.755 L53.3995 837.755 L53.3995 833.82 Z\" fill=\"#000000\" fill-rule=\"evenodd\" fill-opacity=\"1\" /><path clip-path=\"url(#clip780)\" d=\"M92.7512 806.274 Q89.1401 806.274 87.3114 809.839 Q85.5058 813.381 85.5058 820.51 Q85.5058 827.617 87.3114 831.181 Q89.1401 834.723 92.7512 834.723 Q96.3854 834.723 98.1909 831.181 Q100.02 827.617 100.02 820.51 Q100.02 813.381 98.1909 809.839 Q96.3854 806.274 92.7512 806.274 M92.7512 802.57 Q98.5613 802.57 101.617 807.177 Q104.696 811.76 104.696 820.51 Q104.696 829.237 101.617 833.843 Q98.5613 838.427 92.7512 838.427 Q86.941 838.427 83.8623 833.843 Q80.8068 829.237 80.8068 820.51 Q80.8068 811.76 83.8623 807.177 Q86.941 802.57 92.7512 802.57 Z\" fill=\"#000000\" fill-rule=\"evenodd\" fill-opacity=\"1\" /><path clip-path=\"url(#clip780)\" d=\"M122.913 806.274 Q119.302 806.274 117.473 809.839 Q115.668 813.381 115.668 820.51 Q115.668 827.617 117.473 831.181 Q119.302 834.723 122.913 834.723 Q126.547 834.723 128.353 831.181 Q130.182 827.617 130.182 820.51 Q130.182 813.381 128.353 809.839 Q126.547 806.274 122.913 806.274 M122.913 802.57 Q128.723 802.57 131.779 807.177 Q134.857 811.76 134.857 820.51 Q134.857 829.237 131.779 833.843 Q128.723 838.427 122.913 838.427 Q117.103 838.427 114.024 833.843 Q110.969 829.237 110.969 820.51 Q110.969 811.76 114.024 807.177 Q117.103 802.57 122.913 802.57 Z\" fill=\"#000000\" fill-rule=\"evenodd\" fill-opacity=\"1\" /><path clip-path=\"url(#clip780)\" d=\"M53.3995 506.812 L61.0384 506.812 L61.0384 480.446 L52.7282 482.113 L52.7282 477.854 L60.9921 476.187 L65.668 476.187 L65.668 506.812 L73.3068 506.812 L73.3068 510.747 L53.3995 510.747 L53.3995 506.812 Z\" fill=\"#000000\" fill-rule=\"evenodd\" fill-opacity=\"1\" /><path clip-path=\"url(#clip780)\" d=\"M82.7975 476.187 L101.154 476.187 L101.154 480.122 L87.0799 480.122 L87.0799 488.594 Q88.0984 488.247 89.1169 488.085 Q90.1354 487.9 91.1539 487.9 Q96.941 487.9 100.321 491.071 Q103.7 494.242 103.7 499.659 Q103.7 505.238 100.228 508.339 Q96.7558 511.418 90.4364 511.418 Q88.2604 511.418 85.9919 511.048 Q83.7466 510.677 81.3392 509.937 L81.3392 505.238 Q83.4225 506.372 85.6447 506.927 Q87.8669 507.483 90.3438 507.483 Q94.3484 507.483 96.6863 505.377 Q99.0243 503.27 99.0243 499.659 Q99.0243 496.048 96.6863 493.941 Q94.3484 491.835 90.3438 491.835 Q88.4688 491.835 86.5938 492.252 Q84.7419 492.668 82.7975 493.548 L82.7975 476.187 Z\" fill=\"#000000\" fill-rule=\"evenodd\" fill-opacity=\"1\" /><path clip-path=\"url(#clip780)\" d=\"M122.913 479.266 Q119.302 479.266 117.473 482.83 Q115.668 486.372 115.668 493.502 Q115.668 500.608 117.473 504.173 Q119.302 507.714 122.913 507.714 Q126.547 507.714 128.353 504.173 Q130.182 500.608 130.182 493.502 Q130.182 486.372 128.353 482.83 Q126.547 479.266 122.913 479.266 M122.913 475.562 Q128.723 475.562 131.779 480.168 Q134.857 484.752 134.857 493.502 Q134.857 502.228 131.779 506.835 Q128.723 511.418 122.913 511.418 Q117.103 511.418 114.024 506.835 Q110.969 502.228 110.969 493.502 Q110.969 484.752 114.024 480.168 Q117.103 475.562 122.913 475.562 Z\" fill=\"#000000\" fill-rule=\"evenodd\" fill-opacity=\"1\" /><path clip-path=\"url(#clip780)\" d=\"M56.6171 179.803 L72.9365 179.803 L72.9365 183.738 L50.9921 183.738 L50.9921 179.803 Q53.6541 177.049 58.2375 172.419 Q62.8439 167.766 64.0245 166.424 Q66.2698 163.9 67.1494 162.164 Q68.0522 160.405 68.0522 158.715 Q68.0522 155.961 66.1078 154.225 Q64.1865 152.488 61.0847 152.488 Q58.8856 152.488 56.4319 153.252 Q54.0014 154.016 51.2236 155.567 L51.2236 150.845 Q54.0477 149.711 56.5014 149.132 Q58.955 148.553 60.9921 148.553 Q66.3624 148.553 69.5568 151.238 Q72.7513 153.924 72.7513 158.414 Q72.7513 160.544 71.9411 162.465 Q71.1541 164.363 69.0476 166.956 Q68.4689 167.627 65.367 170.845 Q62.2652 174.039 56.6171 179.803 Z\" fill=\"#000000\" fill-rule=\"evenodd\" fill-opacity=\"1\" /><path clip-path=\"url(#clip780)\" d=\"M92.7512 152.257 Q89.1401 152.257 87.3114 155.822 Q85.5058 159.363 85.5058 166.493 Q85.5058 173.599 87.3114 177.164 Q89.1401 180.706 92.7512 180.706 Q96.3854 180.706 98.1909 177.164 Q100.02 173.599 100.02 166.493 Q100.02 159.363 98.1909 155.822 Q96.3854 152.257 92.7512 152.257 M92.7512 148.553 Q98.5613 148.553 101.617 153.16 Q104.696 157.743 104.696 166.493 Q104.696 175.22 101.617 179.826 Q98.5613 184.41 92.7512 184.41 Q86.941 184.41 83.8623 179.826 Q80.8068 175.22 80.8068 166.493 Q80.8068 157.743 83.8623 153.16 Q86.941 148.553 92.7512 148.553 Z\" fill=\"#000000\" fill-rule=\"evenodd\" fill-opacity=\"1\" /><path clip-path=\"url(#clip780)\" d=\"M122.913 152.257 Q119.302 152.257 117.473 155.822 Q115.668 159.363 115.668 166.493 Q115.668 173.599 117.473 177.164 Q119.302 180.706 122.913 180.706 Q126.547 180.706 128.353 177.164 Q130.182 173.599 130.182 166.493 Q130.182 159.363 128.353 155.822 Q126.547 152.257 122.913 152.257 M122.913 148.553 Q128.723 148.553 131.779 153.16 Q134.857 157.743 134.857 166.493 Q134.857 175.22 131.779 179.826 Q128.723 184.41 122.913 184.41 Q117.103 184.41 114.024 179.826 Q110.969 175.22 110.969 166.493 Q110.969 157.743 114.024 153.16 Q117.103 148.553 122.913 148.553 Z\" fill=\"#000000\" fill-rule=\"evenodd\" fill-opacity=\"1\" /><circle clip-path=\"url(#clip782)\" cx=\"232.609\" cy=\"1445.72\" r=\"14\" fill=\"#009af9\" fill-rule=\"evenodd\" fill-opacity=\"1\" stroke=\"#000000\" stroke-opacity=\"1\" stroke-width=\"3.2\"/>\n",
       "<circle clip-path=\"url(#clip782)\" cx=\"322.105\" cy=\"1443.75\" r=\"14\" fill=\"#009af9\" fill-rule=\"evenodd\" fill-opacity=\"1\" stroke=\"#000000\" stroke-opacity=\"1\" stroke-width=\"3.2\"/>\n",
       "<circle clip-path=\"url(#clip782)\" cx=\"411.6\" cy=\"1443.75\" r=\"14\" fill=\"#009af9\" fill-rule=\"evenodd\" fill-opacity=\"1\" stroke=\"#000000\" stroke-opacity=\"1\" stroke-width=\"3.2\"/>\n",
       "<circle clip-path=\"url(#clip782)\" cx=\"501.096\" cy=\"1435.91\" r=\"14\" fill=\"#009af9\" fill-rule=\"evenodd\" fill-opacity=\"1\" stroke=\"#000000\" stroke-opacity=\"1\" stroke-width=\"3.2\"/>\n",
       "<circle clip-path=\"url(#clip782)\" cx=\"590.591\" cy=\"1431.33\" r=\"14\" fill=\"#009af9\" fill-rule=\"evenodd\" fill-opacity=\"1\" stroke=\"#000000\" stroke-opacity=\"1\" stroke-width=\"3.2\"/>\n",
       "<circle clip-path=\"url(#clip782)\" cx=\"680.086\" cy=\"1426.75\" r=\"14\" fill=\"#009af9\" fill-rule=\"evenodd\" fill-opacity=\"1\" stroke=\"#000000\" stroke-opacity=\"1\" stroke-width=\"3.2\"/>\n",
       "<circle clip-path=\"url(#clip782)\" cx=\"769.582\" cy=\"1421.52\" r=\"14\" fill=\"#009af9\" fill-rule=\"evenodd\" fill-opacity=\"1\" stroke=\"#000000\" stroke-opacity=\"1\" stroke-width=\"3.2\"/>\n",
       "<circle clip-path=\"url(#clip782)\" cx=\"859.077\" cy=\"1416.94\" r=\"14\" fill=\"#009af9\" fill-rule=\"evenodd\" fill-opacity=\"1\" stroke=\"#000000\" stroke-opacity=\"1\" stroke-width=\"3.2\"/>\n",
       "<circle clip-path=\"url(#clip782)\" cx=\"948.573\" cy=\"1405.17\" r=\"14\" fill=\"#009af9\" fill-rule=\"evenodd\" fill-opacity=\"1\" stroke=\"#000000\" stroke-opacity=\"1\" stroke-width=\"3.2\"/>\n",
       "<circle clip-path=\"url(#clip782)\" cx=\"1038.07\" cy=\"1396.01\" r=\"14\" fill=\"#009af9\" fill-rule=\"evenodd\" fill-opacity=\"1\" stroke=\"#000000\" stroke-opacity=\"1\" stroke-width=\"3.2\"/>\n",
       "<circle clip-path=\"url(#clip782)\" cx=\"1127.56\" cy=\"1386.2\" r=\"14\" fill=\"#009af9\" fill-rule=\"evenodd\" fill-opacity=\"1\" stroke=\"#000000\" stroke-opacity=\"1\" stroke-width=\"3.2\"/>\n",
       "<circle clip-path=\"url(#clip782)\" cx=\"1217.06\" cy=\"1377.04\" r=\"14\" fill=\"#009af9\" fill-rule=\"evenodd\" fill-opacity=\"1\" stroke=\"#000000\" stroke-opacity=\"1\" stroke-width=\"3.2\"/>\n",
       "<circle clip-path=\"url(#clip782)\" cx=\"1306.55\" cy=\"1369.2\" r=\"14\" fill=\"#009af9\" fill-rule=\"evenodd\" fill-opacity=\"1\" stroke=\"#000000\" stroke-opacity=\"1\" stroke-width=\"3.2\"/>\n",
       "<circle clip-path=\"url(#clip782)\" cx=\"1396.05\" cy=\"1335.84\" r=\"14\" fill=\"#009af9\" fill-rule=\"evenodd\" fill-opacity=\"1\" stroke=\"#000000\" stroke-opacity=\"1\" stroke-width=\"3.2\"/>\n",
       "<circle clip-path=\"url(#clip782)\" cx=\"1485.55\" cy=\"696.212\" r=\"14\" fill=\"#009af9\" fill-rule=\"evenodd\" fill-opacity=\"1\" stroke=\"#000000\" stroke-opacity=\"1\" stroke-width=\"3.2\"/>\n",
       "<circle clip-path=\"url(#clip782)\" cx=\"1575.04\" cy=\"663.511\" r=\"14\" fill=\"#009af9\" fill-rule=\"evenodd\" fill-opacity=\"1\" stroke=\"#000000\" stroke-opacity=\"1\" stroke-width=\"3.2\"/>\n",
       "<circle clip-path=\"url(#clip782)\" cx=\"1664.54\" cy=\"545.788\" r=\"14\" fill=\"#009af9\" fill-rule=\"evenodd\" fill-opacity=\"1\" stroke=\"#000000\" stroke-opacity=\"1\" stroke-width=\"3.2\"/>\n",
       "<circle clip-path=\"url(#clip782)\" cx=\"1754.03\" cy=\"434.605\" r=\"14\" fill=\"#009af9\" fill-rule=\"evenodd\" fill-opacity=\"1\" stroke=\"#000000\" stroke-opacity=\"1\" stroke-width=\"3.2\"/>\n",
       "<circle clip-path=\"url(#clip782)\" cx=\"1843.53\" cy=\"284.181\" r=\"14\" fill=\"#009af9\" fill-rule=\"evenodd\" fill-opacity=\"1\" stroke=\"#000000\" stroke-opacity=\"1\" stroke-width=\"3.2\"/>\n",
       "<circle clip-path=\"url(#clip782)\" cx=\"1933.02\" cy=\"87.9763\" r=\"14\" fill=\"#009af9\" fill-rule=\"evenodd\" fill-opacity=\"1\" stroke=\"#000000\" stroke-opacity=\"1\" stroke-width=\"3.2\"/>\n",
       "<circle clip-path=\"url(#clip782)\" cx=\"2022.52\" cy=\"1193.27\" r=\"14\" fill=\"#009af9\" fill-rule=\"evenodd\" fill-opacity=\"1\" stroke=\"#000000\" stroke-opacity=\"1\" stroke-width=\"3.2\"/>\n",
       "<circle clip-path=\"url(#clip782)\" cx=\"2112.01\" cy=\"1317.53\" r=\"14\" fill=\"#009af9\" fill-rule=\"evenodd\" fill-opacity=\"1\" stroke=\"#000000\" stroke-opacity=\"1\" stroke-width=\"3.2\"/>\n",
       "<circle clip-path=\"url(#clip782)\" cx=\"2201.51\" cy=\"1297.91\" r=\"14\" fill=\"#009af9\" fill-rule=\"evenodd\" fill-opacity=\"1\" stroke=\"#000000\" stroke-opacity=\"1\" stroke-width=\"3.2\"/>\n",
       "<circle clip-path=\"url(#clip782)\" cx=\"2291\" cy=\"1284.83\" r=\"14\" fill=\"#009af9\" fill-rule=\"evenodd\" fill-opacity=\"1\" stroke=\"#000000\" stroke-opacity=\"1\" stroke-width=\"3.2\"/>\n",
       "<path clip-path=\"url(#clip780)\" d=\"\n",
       "M1985.16 198.898 L2280.03 198.898 L2280.03 95.2176 L1985.16 95.2176  Z\n",
       "  \" fill=\"#ffffff\" fill-rule=\"evenodd\" fill-opacity=\"1\"/>\n",
       "<polyline clip-path=\"url(#clip780)\" style=\"stroke:#000000; stroke-linecap:butt; stroke-linejoin:round; stroke-width:4; stroke-opacity:1; fill:none\" points=\"\n",
       "  1985.16,198.898 2280.03,198.898 2280.03,95.2176 1985.16,95.2176 1985.16,198.898 \n",
       "  \"/>\n",
       "<circle clip-path=\"url(#clip780)\" cx=\"2082.14\" cy=\"147.058\" r=\"23\" fill=\"#009af9\" fill-rule=\"evenodd\" fill-opacity=\"1\" stroke=\"#000000\" stroke-opacity=\"1\" stroke-width=\"5.12\"/>\n",
       "<path clip-path=\"url(#clip780)\" d=\"M2192.95 166.745 Q2191.15 171.375 2189.43 172.787 Q2187.72 174.199 2184.85 174.199 L2181.45 174.199 L2181.45 170.634 L2183.95 170.634 Q2185.71 170.634 2186.68 169.8 Q2187.65 168.967 2188.83 165.865 L2189.6 163.921 L2179.11 138.412 L2183.62 138.412 L2191.72 158.689 L2199.83 138.412 L2204.34 138.412 L2192.95 166.745 Z\" fill=\"#000000\" fill-rule=\"evenodd\" fill-opacity=\"1\" /><path clip-path=\"url(#clip780)\" d=\"M2211.63 160.402 L2219.27 160.402 L2219.27 134.037 L2210.96 135.703 L2210.96 131.444 L2219.22 129.778 L2223.9 129.778 L2223.9 160.402 L2231.54 160.402 L2231.54 164.338 L2211.63 164.338 L2211.63 160.402 Z\" fill=\"#000000\" fill-rule=\"evenodd\" fill-opacity=\"1\" /></svg>\n"
      ]
     },
     "execution_count": 3,
     "metadata": {},
     "output_type": "execute_result"
    }
   ],
   "source": [
    "scatter(year, calls)"
   ]
  },
  {
   "cell_type": "markdown",
   "id": "fa494184-9d23-4492-b12d-fe47696802d6",
   "metadata": {},
   "source": [
    "## Goal Programming Model"
   ]
  },
  {
   "cell_type": "markdown",
   "id": "caface34-1087-4c26-8d43-9a553b71f36b",
   "metadata": {},
   "source": [
    "$$\n",
    "\\begin{aligned}\n",
    "\\min z & = \\sum_{i=1}^{n} d_i^{-} + d_i^{+}\\\\\n",
    "\\text{subject to:} \\\\\n",
    "& y[i] - \\beta_0 - \\beta_1 x[i] + d_1^{-} - d_1^{+} = 0 \\\\\n",
    "& d_i^{-}, d_i^{+} \\ge 0 \\\\\n",
    "& \\beta_0, \\beta_1 \\in  \\mathbb{R} \\\\\n",
    "& i = 1, 2, \\ldots, n\n",
    "\\end{aligned}\n",
    "$$"
   ]
  },
  {
   "cell_type": "markdown",
   "id": "eb604fa3-7587-4c90-87f1-6c1d75cdeff6",
   "metadata": {},
   "source": [
    "## Creating Model"
   ]
  },
  {
   "cell_type": "code",
   "execution_count": 4,
   "id": "2041154b-dad3-492d-880d-b3f63b9c9784",
   "metadata": {},
   "outputs": [
    {
     "name": "stderr",
     "output_type": "stream",
     "text": [
      "┌ Info: Creating model\n",
      "└ @ Main In[4]:1\n"
     ]
    },
    {
     "data": {
      "text/plain": [
       "A JuMP Model\n",
       "Feasibility problem with:\n",
       "Variables: 0\n",
       "Model mode: AUTOMATIC\n",
       "CachingOptimizer state: EMPTY_OPTIMIZER\n",
       "Solver name: GLPK"
      ]
     },
     "execution_count": 4,
     "metadata": {},
     "output_type": "execute_result"
    }
   ],
   "source": [
    "@info \"Creating model\"\n",
    "m = Model(GLPK.Optimizer)"
   ]
  },
  {
   "cell_type": "markdown",
   "id": "eb34e78a-0df4-400a-900a-4351906a2bce",
   "metadata": {},
   "source": [
    "## Number of observations"
   ]
  },
  {
   "cell_type": "code",
   "execution_count": 5,
   "id": "7ebcbf07-cf72-4c9f-974b-36751fb0e720",
   "metadata": {},
   "outputs": [
    {
     "name": "stderr",
     "output_type": "stream",
     "text": [
      "┌ Info: Length\n",
      "│   n = 24\n",
      "└ @ Main In[5]:2\n"
     ]
    }
   ],
   "source": [
    "n = length(year)\n",
    "@info \"Length\" n"
   ]
  },
  {
   "cell_type": "markdown",
   "id": "174bd9fd-8133-45e8-bee6-7f30451b39d3",
   "metadata": {},
   "source": [
    "## Creating Decision Variables"
   ]
  },
  {
   "cell_type": "code",
   "execution_count": 6,
   "id": "08497182-6a21-4b4a-955a-40c81c21fd8f",
   "metadata": {},
   "outputs": [
    {
     "name": "stderr",
     "output_type": "stream",
     "text": [
      "┌ Info: Creating variables\n",
      "└ @ Main In[6]:1\n"
     ]
    }
   ],
   "source": [
    "@info \"Creating variables\"\n",
    "@variable(m, d[1:(2n)])\n",
    "@variable(m, beta0)\n",
    "@variable(m, beta1);"
   ]
  },
  {
   "cell_type": "markdown",
   "id": "b86b0830-44be-4ac0-80f0-2c5ec71c40ce",
   "metadata": {},
   "source": [
    "## Creating objective function"
   ]
  },
  {
   "cell_type": "code",
   "execution_count": 7,
   "id": "c19448e8-9f8a-4147-bd3f-5754b9d73ca9",
   "metadata": {},
   "outputs": [
    {
     "name": "stderr",
     "output_type": "stream",
     "text": [
      "┌ Info: Creating Goal function\n",
      "└ @ Main In[7]:1\n"
     ]
    },
    {
     "data": {
      "text/latex": [
       "$$ d_{1} + d_{2} + d_{3} + d_{4} + d_{5} + d_{6} + d_{7} + d_{8} + d_{9} + d_{10} + d_{11} + d_{12} + d_{13} + d_{14} + d_{15} + d_{16} + d_{17} + d_{18} + d_{19} + d_{20} + d_{21} + d_{22} + d_{23} + d_{24} + d_{25} + d_{26} + d_{27} + d_{28} + d_{29} + d_{30} + d_{31} + d_{32} + d_{33} + d_{34} + d_{35} + d_{36} + d_{37} + d_{38} + d_{39} + d_{40} + d_{41} + d_{42} + d_{43} + d_{44} + d_{45} + d_{46} + d_{47} + d_{48} $$"
      ],
      "text/plain": [
       "d[1] + d[2] + d[3] + d[4] + d[5] + d[6] + d[7] + d[8] + d[9] + d[10] + d[11] + d[12] + d[13] + d[14] + d[15] + d[16] + d[17] + d[18] + d[19] + d[20] + d[21] + d[22] + d[23] + d[24] + d[25] + d[26] + d[27] + d[28] + d[29] + d[30] + d[31] + d[32] + d[33] + d[34] + d[35] + d[36] + d[37] + d[38] + d[39] + d[40] + d[41] + d[42] + d[43] + d[44] + d[45] + d[46] + d[47] + d[48]"
      ]
     },
     "execution_count": 7,
     "metadata": {},
     "output_type": "execute_result"
    }
   ],
   "source": [
    "@info \"Creating Goal function\"\n",
    "@objective(m, Min, sum(d[i] for i in 1:(2n)))"
   ]
  },
  {
   "cell_type": "markdown",
   "id": "cdcd87cf-2c8d-404e-83fc-6bd9b2f1d740",
   "metadata": {},
   "source": [
    "## Creating constraints"
   ]
  },
  {
   "cell_type": "code",
   "execution_count": 8,
   "id": "b6fa44a3-55c4-4af5-a663-dde6d4ffd3ac",
   "metadata": {},
   "outputs": [
    {
     "name": "stderr",
     "output_type": "stream",
     "text": [
      "┌ Info: Creating constraints\n",
      "└ @ Main In[8]:1\n"
     ]
    }
   ],
   "source": [
    "@info \"Creating constraints\"\n",
    "for i in 1:n\n",
    "    @constraint(m,  calls[i] - beta0 - beta1 * year[i] + d[i] - d[n + i] == 0)\n",
    "end"
   ]
  },
  {
   "cell_type": "code",
   "execution_count": 9,
   "id": "042120d0-c5da-4aa2-9adf-c1334b91e621",
   "metadata": {},
   "outputs": [
    {
     "name": "stderr",
     "output_type": "stream",
     "text": [
      "┌ Info: Adding sign constraints\n",
      "└ @ Main In[9]:1\n"
     ]
    }
   ],
   "source": [
    "@info \"Adding sign constraints\"\n",
    "for i in 1:(2n)\n",
    "    @constraint(m, d[i] >= 0)\n",
    "end"
   ]
  },
  {
   "cell_type": "markdown",
   "id": "99cc8fae-bbcc-4c95-99e8-d8465b75a13c",
   "metadata": {},
   "source": [
    "## Solve!"
   ]
  },
  {
   "cell_type": "code",
   "execution_count": 10,
   "id": "570be8e4-6e9e-4907-aa27-79e7757a1cf0",
   "metadata": {},
   "outputs": [
    {
     "name": "stderr",
     "output_type": "stream",
     "text": [
      "┌ Info: Solving\n",
      "└ @ Main In[10]:1\n"
     ]
    }
   ],
   "source": [
    "@info \"Solving\"\n",
    "optimize!(m)"
   ]
  },
  {
   "cell_type": "code",
   "execution_count": 11,
   "id": "789b0075-2d7a-4b78-bffc-a9ff7914b5bb",
   "metadata": {},
   "outputs": [
    {
     "name": "stderr",
     "output_type": "stream",
     "text": [
      "┌ Info: -75.18999999999991\n",
      "└ @ Main In[11]:1\n",
      "┌ Info: 1.529999999999998\n",
      "└ @ Main In[11]:2\n"
     ]
    }
   ],
   "source": [
    "@info value(beta0)\n",
    "@info value(beta1)"
   ]
  },
  {
   "cell_type": "markdown",
   "id": "c26cb940-1dad-41e2-928b-8624e48ed271",
   "metadata": {},
   "source": [
    "## Estimated Regression Model"
   ]
  },
  {
   "cell_type": "markdown",
   "id": "fa376681-676c-4a6f-9a71-6c5cf7860d8a",
   "metadata": {},
   "source": [
    "$$\n",
    "\\hat{y} = -75.18999 + 1.5299 x \n",
    "$$"
   ]
  },
  {
   "cell_type": "code",
   "execution_count": 16,
   "id": "3a2a0845-e682-4207-9f05-d977195eef3f",
   "metadata": {},
   "outputs": [
    {
     "data": {
      "image/svg+xml": [
       "<?xml version=\"1.0\" encoding=\"utf-8\"?>\n",
       "<svg xmlns=\"http://www.w3.org/2000/svg\" xmlns:xlink=\"http://www.w3.org/1999/xlink\" width=\"600\" height=\"400\" viewBox=\"0 0 2400 1600\">\n",
       "<defs>\n",
       "  <clipPath id=\"clip940\">\n",
       "    <rect x=\"0\" y=\"0\" width=\"2400\" height=\"1600\"/>\n",
       "  </clipPath>\n",
       "</defs>\n",
       "<path clip-path=\"url(#clip940)\" d=\"\n",
       "M0 1600 L2400 1600 L2400 0 L0 0  Z\n",
       "  \" fill=\"#ffffff\" fill-rule=\"evenodd\" fill-opacity=\"1\"/>\n",
       "<defs>\n",
       "  <clipPath id=\"clip941\">\n",
       "    <rect x=\"480\" y=\"0\" width=\"1681\" height=\"1600\"/>\n",
       "  </clipPath>\n",
       "</defs>\n",
       "<path clip-path=\"url(#clip940)\" d=\"\n",
       "M170.857 1486.45 L2352.76 1486.45 L2352.76 47.2441 L170.857 47.2441  Z\n",
       "  \" fill=\"#ffffff\" fill-rule=\"evenodd\" fill-opacity=\"1\"/>\n",
       "<defs>\n",
       "  <clipPath id=\"clip942\">\n",
       "    <rect x=\"170\" y=\"47\" width=\"2183\" height=\"1440\"/>\n",
       "  </clipPath>\n",
       "</defs>\n",
       "<polyline clip-path=\"url(#clip942)\" style=\"stroke:#000000; stroke-linecap:butt; stroke-linejoin:round; stroke-width:2; stroke-opacity:0.1; fill:none\" points=\"\n",
       "  232.609,1486.45 232.609,47.2441 \n",
       "  \"/>\n",
       "<polyline clip-path=\"url(#clip942)\" style=\"stroke:#000000; stroke-linecap:butt; stroke-linejoin:round; stroke-width:2; stroke-opacity:0.1; fill:none\" points=\"\n",
       "  680.086,1486.45 680.086,47.2441 \n",
       "  \"/>\n",
       "<polyline clip-path=\"url(#clip942)\" style=\"stroke:#000000; stroke-linecap:butt; stroke-linejoin:round; stroke-width:2; stroke-opacity:0.1; fill:none\" points=\"\n",
       "  1127.56,1486.45 1127.56,47.2441 \n",
       "  \"/>\n",
       "<polyline clip-path=\"url(#clip942)\" style=\"stroke:#000000; stroke-linecap:butt; stroke-linejoin:round; stroke-width:2; stroke-opacity:0.1; fill:none\" points=\"\n",
       "  1575.04,1486.45 1575.04,47.2441 \n",
       "  \"/>\n",
       "<polyline clip-path=\"url(#clip942)\" style=\"stroke:#000000; stroke-linecap:butt; stroke-linejoin:round; stroke-width:2; stroke-opacity:0.1; fill:none\" points=\"\n",
       "  2022.52,1486.45 2022.52,47.2441 \n",
       "  \"/>\n",
       "<polyline clip-path=\"url(#clip940)\" style=\"stroke:#000000; stroke-linecap:butt; stroke-linejoin:round; stroke-width:4; stroke-opacity:1; fill:none\" points=\"\n",
       "  170.857,1486.45 2352.76,1486.45 \n",
       "  \"/>\n",
       "<polyline clip-path=\"url(#clip940)\" style=\"stroke:#000000; stroke-linecap:butt; stroke-linejoin:round; stroke-width:4; stroke-opacity:1; fill:none\" points=\"\n",
       "  232.609,1486.45 232.609,1467.55 \n",
       "  \"/>\n",
       "<polyline clip-path=\"url(#clip940)\" style=\"stroke:#000000; stroke-linecap:butt; stroke-linejoin:round; stroke-width:4; stroke-opacity:1; fill:none\" points=\"\n",
       "  680.086,1486.45 680.086,1467.55 \n",
       "  \"/>\n",
       "<polyline clip-path=\"url(#clip940)\" style=\"stroke:#000000; stroke-linecap:butt; stroke-linejoin:round; stroke-width:4; stroke-opacity:1; fill:none\" points=\"\n",
       "  1127.56,1486.45 1127.56,1467.55 \n",
       "  \"/>\n",
       "<polyline clip-path=\"url(#clip940)\" style=\"stroke:#000000; stroke-linecap:butt; stroke-linejoin:round; stroke-width:4; stroke-opacity:1; fill:none\" points=\"\n",
       "  1575.04,1486.45 1575.04,1467.55 \n",
       "  \"/>\n",
       "<polyline clip-path=\"url(#clip940)\" style=\"stroke:#000000; stroke-linecap:butt; stroke-linejoin:round; stroke-width:4; stroke-opacity:1; fill:none\" points=\"\n",
       "  2022.52,1486.45 2022.52,1467.55 \n",
       "  \"/>\n",
       "<path clip-path=\"url(#clip940)\" d=\"M207.308 1514.29 L225.665 1514.29 L225.665 1518.22 L211.591 1518.22 L211.591 1526.7 Q212.609 1526.35 213.628 1526.19 Q214.646 1526 215.665 1526 Q221.452 1526 224.832 1529.17 Q228.211 1532.34 228.211 1537.76 Q228.211 1543.34 224.739 1546.44 Q221.267 1549.52 214.947 1549.52 Q212.771 1549.52 210.503 1549.15 Q208.258 1548.78 205.85 1548.04 L205.85 1543.34 Q207.933 1544.47 210.156 1545.03 Q212.378 1545.58 214.855 1545.58 Q218.859 1545.58 221.197 1543.48 Q223.535 1541.37 223.535 1537.76 Q223.535 1534.15 221.197 1532.04 Q218.859 1529.94 214.855 1529.94 Q212.98 1529.94 211.105 1530.35 Q209.253 1530.77 207.308 1531.65 L207.308 1514.29 Z\" fill=\"#000000\" fill-rule=\"evenodd\" fill-opacity=\"1\" /><path clip-path=\"url(#clip940)\" d=\"M247.424 1517.37 Q243.813 1517.37 241.984 1520.93 Q240.179 1524.47 240.179 1531.6 Q240.179 1538.71 241.984 1542.27 Q243.813 1545.82 247.424 1545.82 Q251.058 1545.82 252.864 1542.27 Q254.692 1538.71 254.692 1531.6 Q254.692 1524.47 252.864 1520.93 Q251.058 1517.37 247.424 1517.37 M247.424 1513.66 Q253.234 1513.66 256.29 1518.27 Q259.368 1522.85 259.368 1531.6 Q259.368 1540.33 256.29 1544.94 Q253.234 1549.52 247.424 1549.52 Q241.614 1549.52 238.535 1544.94 Q235.48 1540.33 235.48 1531.6 Q235.48 1522.85 238.535 1518.27 Q241.614 1513.66 247.424 1513.66 Z\" fill=\"#000000\" fill-rule=\"evenodd\" fill-opacity=\"1\" /><path clip-path=\"url(#clip940)\" d=\"M655.283 1514.29 L673.64 1514.29 L673.64 1518.22 L659.566 1518.22 L659.566 1526.7 Q660.584 1526.35 661.603 1526.19 Q662.621 1526 663.64 1526 Q669.427 1526 672.806 1529.17 Q676.186 1532.34 676.186 1537.76 Q676.186 1543.34 672.714 1546.44 Q669.242 1549.52 662.922 1549.52 Q660.746 1549.52 658.478 1549.15 Q656.232 1548.78 653.825 1548.04 L653.825 1543.34 Q655.908 1544.47 658.13 1545.03 Q660.353 1545.58 662.83 1545.58 Q666.834 1545.58 669.172 1543.48 Q671.51 1541.37 671.51 1537.76 Q671.51 1534.15 669.172 1532.04 Q666.834 1529.94 662.83 1529.94 Q660.955 1529.94 659.08 1530.35 Q657.228 1530.77 655.283 1531.65 L655.283 1514.29 Z\" fill=\"#000000\" fill-rule=\"evenodd\" fill-opacity=\"1\" /><path clip-path=\"url(#clip940)\" d=\"M685.445 1514.29 L703.802 1514.29 L703.802 1518.22 L689.728 1518.22 L689.728 1526.7 Q690.746 1526.35 691.765 1526.19 Q692.783 1526 693.802 1526 Q699.589 1526 702.968 1529.17 Q706.348 1532.34 706.348 1537.76 Q706.348 1543.34 702.876 1546.44 Q699.403 1549.52 693.084 1549.52 Q690.908 1549.52 688.64 1549.15 Q686.394 1548.78 683.987 1548.04 L683.987 1543.34 Q686.07 1544.47 688.292 1545.03 Q690.515 1545.58 692.991 1545.58 Q696.996 1545.58 699.334 1543.48 Q701.672 1541.37 701.672 1537.76 Q701.672 1534.15 699.334 1532.04 Q696.996 1529.94 692.991 1529.94 Q691.116 1529.94 689.241 1530.35 Q687.39 1530.77 685.445 1531.65 L685.445 1514.29 Z\" fill=\"#000000\" fill-rule=\"evenodd\" fill-opacity=\"1\" /><path clip-path=\"url(#clip940)\" d=\"M1112.97 1529.7 Q1109.82 1529.7 1107.97 1531.86 Q1106.14 1534.01 1106.14 1537.76 Q1106.14 1541.49 1107.97 1543.66 Q1109.82 1545.82 1112.97 1545.82 Q1116.12 1545.82 1117.95 1543.66 Q1119.8 1541.49 1119.8 1537.76 Q1119.8 1534.01 1117.95 1531.86 Q1116.12 1529.7 1112.97 1529.7 M1122.25 1515.05 L1122.25 1519.31 Q1120.49 1518.48 1118.69 1518.04 Q1116.9 1517.6 1115.14 1517.6 Q1110.52 1517.6 1108.06 1520.72 Q1105.63 1523.85 1105.28 1530.17 Q1106.65 1528.15 1108.71 1527.09 Q1110.77 1526 1113.25 1526 Q1118.45 1526 1121.46 1529.17 Q1124.5 1532.32 1124.5 1537.76 Q1124.5 1543.08 1121.35 1546.3 Q1118.2 1549.52 1112.97 1549.52 Q1106.97 1549.52 1103.8 1544.94 Q1100.63 1540.33 1100.63 1531.6 Q1100.63 1523.41 1104.52 1518.55 Q1108.41 1513.66 1114.96 1513.66 Q1116.72 1513.66 1118.5 1514.01 Q1120.31 1514.36 1122.25 1515.05 Z\" fill=\"#000000\" fill-rule=\"evenodd\" fill-opacity=\"1\" /><path clip-path=\"url(#clip940)\" d=\"M1142.55 1517.37 Q1138.94 1517.37 1137.11 1520.93 Q1135.31 1524.47 1135.31 1531.6 Q1135.31 1538.71 1137.11 1542.27 Q1138.94 1545.82 1142.55 1545.82 Q1146.19 1545.82 1147.99 1542.27 Q1149.82 1538.71 1149.82 1531.6 Q1149.82 1524.47 1147.99 1520.93 Q1146.19 1517.37 1142.55 1517.37 M1142.55 1513.66 Q1148.36 1513.66 1151.42 1518.27 Q1154.5 1522.85 1154.5 1531.6 Q1154.5 1540.33 1151.42 1544.94 Q1148.36 1549.52 1142.55 1549.52 Q1136.74 1549.52 1133.66 1544.94 Q1130.61 1540.33 1130.61 1531.6 Q1130.61 1522.85 1133.66 1518.27 Q1136.74 1513.66 1142.55 1513.66 Z\" fill=\"#000000\" fill-rule=\"evenodd\" fill-opacity=\"1\" /><path clip-path=\"url(#clip940)\" d=\"M1560.94 1529.7 Q1557.8 1529.7 1555.94 1531.86 Q1554.11 1534.01 1554.11 1537.76 Q1554.11 1541.49 1555.94 1543.66 Q1557.8 1545.82 1560.94 1545.82 Q1564.09 1545.82 1565.92 1543.66 Q1567.77 1541.49 1567.77 1537.76 Q1567.77 1534.01 1565.92 1531.86 Q1564.09 1529.7 1560.94 1529.7 M1570.23 1515.05 L1570.23 1519.31 Q1568.47 1518.48 1566.66 1518.04 Q1564.88 1517.6 1563.12 1517.6 Q1558.49 1517.6 1556.04 1520.72 Q1553.61 1523.85 1553.26 1530.17 Q1554.62 1528.15 1556.68 1527.09 Q1558.74 1526 1561.22 1526 Q1566.43 1526 1569.44 1529.17 Q1572.47 1532.32 1572.47 1537.76 Q1572.47 1543.08 1569.32 1546.3 Q1566.17 1549.52 1560.94 1549.52 Q1554.95 1549.52 1551.78 1544.94 Q1548.61 1540.33 1548.61 1531.6 Q1548.61 1523.41 1552.49 1518.55 Q1556.38 1513.66 1562.93 1513.66 Q1564.69 1513.66 1566.48 1514.01 Q1568.28 1514.36 1570.23 1515.05 Z\" fill=\"#000000\" fill-rule=\"evenodd\" fill-opacity=\"1\" /><path clip-path=\"url(#clip940)\" d=\"M1580.57 1514.29 L1598.93 1514.29 L1598.93 1518.22 L1584.86 1518.22 L1584.86 1526.7 Q1585.87 1526.35 1586.89 1526.19 Q1587.91 1526 1588.93 1526 Q1594.72 1526 1598.1 1529.17 Q1601.48 1532.34 1601.48 1537.76 Q1601.48 1543.34 1598 1546.44 Q1594.53 1549.52 1588.21 1549.52 Q1586.04 1549.52 1583.77 1549.15 Q1581.52 1548.78 1579.11 1548.04 L1579.11 1543.34 Q1581.2 1544.47 1583.42 1545.03 Q1585.64 1545.58 1588.12 1545.58 Q1592.12 1545.58 1594.46 1543.48 Q1596.8 1541.37 1596.8 1537.76 Q1596.8 1534.15 1594.46 1532.04 Q1592.12 1529.94 1588.12 1529.94 Q1586.24 1529.94 1584.37 1530.35 Q1582.52 1530.77 1580.57 1531.65 L1580.57 1514.29 Z\" fill=\"#000000\" fill-rule=\"evenodd\" fill-opacity=\"1\" /><path clip-path=\"url(#clip940)\" d=\"M1995.87 1514.29 L2018.1 1514.29 L2018.1 1516.28 L2005.55 1548.85 L2000.67 1548.85 L2012.47 1518.22 L1995.87 1518.22 L1995.87 1514.29 Z\" fill=\"#000000\" fill-rule=\"evenodd\" fill-opacity=\"1\" /><path clip-path=\"url(#clip940)\" d=\"M2037.22 1517.37 Q2033.61 1517.37 2031.78 1520.93 Q2029.97 1524.47 2029.97 1531.6 Q2029.97 1538.71 2031.78 1542.27 Q2033.61 1545.82 2037.22 1545.82 Q2040.85 1545.82 2042.66 1542.27 Q2044.49 1538.71 2044.49 1531.6 Q2044.49 1524.47 2042.66 1520.93 Q2040.85 1517.37 2037.22 1517.37 M2037.22 1513.66 Q2043.03 1513.66 2046.08 1518.27 Q2049.16 1522.85 2049.16 1531.6 Q2049.16 1540.33 2046.08 1544.94 Q2043.03 1549.52 2037.22 1549.52 Q2031.41 1549.52 2028.33 1544.94 Q2025.27 1540.33 2025.27 1531.6 Q2025.27 1522.85 2028.33 1518.27 Q2031.41 1513.66 2037.22 1513.66 Z\" fill=\"#000000\" fill-rule=\"evenodd\" fill-opacity=\"1\" /><polyline clip-path=\"url(#clip942)\" style=\"stroke:#000000; stroke-linecap:butt; stroke-linejoin:round; stroke-width:2; stroke-opacity:0.1; fill:none\" points=\"\n",
       "  170.857,1474.49 2352.76,1474.49 \n",
       "  \"/>\n",
       "<polyline clip-path=\"url(#clip942)\" style=\"stroke:#000000; stroke-linecap:butt; stroke-linejoin:round; stroke-width:2; stroke-opacity:0.1; fill:none\" points=\"\n",
       "  170.857,1147.48 2352.76,1147.48 \n",
       "  \"/>\n",
       "<polyline clip-path=\"url(#clip942)\" style=\"stroke:#000000; stroke-linecap:butt; stroke-linejoin:round; stroke-width:2; stroke-opacity:0.1; fill:none\" points=\"\n",
       "  170.857,820.475 2352.76,820.475 \n",
       "  \"/>\n",
       "<polyline clip-path=\"url(#clip942)\" style=\"stroke:#000000; stroke-linecap:butt; stroke-linejoin:round; stroke-width:2; stroke-opacity:0.1; fill:none\" points=\"\n",
       "  170.857,493.467 2352.76,493.467 \n",
       "  \"/>\n",
       "<polyline clip-path=\"url(#clip942)\" style=\"stroke:#000000; stroke-linecap:butt; stroke-linejoin:round; stroke-width:2; stroke-opacity:0.1; fill:none\" points=\"\n",
       "  170.857,166.458 2352.76,166.458 \n",
       "  \"/>\n",
       "<polyline clip-path=\"url(#clip940)\" style=\"stroke:#000000; stroke-linecap:butt; stroke-linejoin:round; stroke-width:4; stroke-opacity:1; fill:none\" points=\"\n",
       "  170.857,1486.45 170.857,47.2441 \n",
       "  \"/>\n",
       "<polyline clip-path=\"url(#clip940)\" style=\"stroke:#000000; stroke-linecap:butt; stroke-linejoin:round; stroke-width:4; stroke-opacity:1; fill:none\" points=\"\n",
       "  170.857,1474.49 189.755,1474.49 \n",
       "  \"/>\n",
       "<polyline clip-path=\"url(#clip940)\" style=\"stroke:#000000; stroke-linecap:butt; stroke-linejoin:round; stroke-width:4; stroke-opacity:1; fill:none\" points=\"\n",
       "  170.857,1147.48 189.755,1147.48 \n",
       "  \"/>\n",
       "<polyline clip-path=\"url(#clip940)\" style=\"stroke:#000000; stroke-linecap:butt; stroke-linejoin:round; stroke-width:4; stroke-opacity:1; fill:none\" points=\"\n",
       "  170.857,820.475 189.755,820.475 \n",
       "  \"/>\n",
       "<polyline clip-path=\"url(#clip940)\" style=\"stroke:#000000; stroke-linecap:butt; stroke-linejoin:round; stroke-width:4; stroke-opacity:1; fill:none\" points=\"\n",
       "  170.857,493.467 189.755,493.467 \n",
       "  \"/>\n",
       "<polyline clip-path=\"url(#clip940)\" style=\"stroke:#000000; stroke-linecap:butt; stroke-linejoin:round; stroke-width:4; stroke-opacity:1; fill:none\" points=\"\n",
       "  170.857,166.458 189.755,166.458 \n",
       "  \"/>\n",
       "<path clip-path=\"url(#clip940)\" d=\"M122.913 1460.29 Q119.302 1460.29 117.473 1463.86 Q115.668 1467.4 115.668 1474.53 Q115.668 1481.63 117.473 1485.2 Q119.302 1488.74 122.913 1488.74 Q126.547 1488.74 128.353 1485.2 Q130.182 1481.63 130.182 1474.53 Q130.182 1467.4 128.353 1463.86 Q126.547 1460.29 122.913 1460.29 M122.913 1456.59 Q128.723 1456.59 131.779 1461.19 Q134.857 1465.78 134.857 1474.53 Q134.857 1483.25 131.779 1487.86 Q128.723 1492.44 122.913 1492.44 Q117.103 1492.44 114.024 1487.86 Q110.969 1483.25 110.969 1474.53 Q110.969 1465.78 114.024 1461.19 Q117.103 1456.59 122.913 1456.59 Z\" fill=\"#000000\" fill-rule=\"evenodd\" fill-opacity=\"1\" /><path clip-path=\"url(#clip940)\" d=\"M82.7975 1130.2 L101.154 1130.2 L101.154 1134.14 L87.0799 1134.14 L87.0799 1142.61 Q88.0984 1142.26 89.1169 1142.1 Q90.1354 1141.92 91.1539 1141.92 Q96.941 1141.92 100.321 1145.09 Q103.7 1148.26 103.7 1153.68 Q103.7 1159.25 100.228 1162.36 Q96.7558 1165.44 90.4364 1165.44 Q88.2604 1165.44 85.9919 1165.06 Q83.7466 1164.69 81.3392 1163.95 L81.3392 1159.25 Q83.4225 1160.39 85.6447 1160.94 Q87.8669 1161.5 90.3438 1161.5 Q94.3484 1161.5 96.6863 1159.39 Q99.0243 1157.29 99.0243 1153.68 Q99.0243 1150.06 96.6863 1147.96 Q94.3484 1145.85 90.3438 1145.85 Q88.4688 1145.85 86.5938 1146.27 Q84.7419 1146.69 82.7975 1147.56 L82.7975 1130.2 Z\" fill=\"#000000\" fill-rule=\"evenodd\" fill-opacity=\"1\" /><path clip-path=\"url(#clip940)\" d=\"M122.913 1133.28 Q119.302 1133.28 117.473 1136.85 Q115.668 1140.39 115.668 1147.52 Q115.668 1154.63 117.473 1158.19 Q119.302 1161.73 122.913 1161.73 Q126.547 1161.73 128.353 1158.19 Q130.182 1154.63 130.182 1147.52 Q130.182 1140.39 128.353 1136.85 Q126.547 1133.28 122.913 1133.28 M122.913 1129.58 Q128.723 1129.58 131.779 1134.19 Q134.857 1138.77 134.857 1147.52 Q134.857 1156.25 131.779 1160.85 Q128.723 1165.44 122.913 1165.44 Q117.103 1165.44 114.024 1160.85 Q110.969 1156.25 110.969 1147.52 Q110.969 1138.77 114.024 1134.19 Q117.103 1129.58 122.913 1129.58 Z\" fill=\"#000000\" fill-rule=\"evenodd\" fill-opacity=\"1\" /><path clip-path=\"url(#clip940)\" d=\"M53.3995 833.82 L61.0384 833.82 L61.0384 807.455 L52.7282 809.121 L52.7282 804.862 L60.9921 803.195 L65.668 803.195 L65.668 833.82 L73.3068 833.82 L73.3068 837.755 L53.3995 837.755 L53.3995 833.82 Z\" fill=\"#000000\" fill-rule=\"evenodd\" fill-opacity=\"1\" /><path clip-path=\"url(#clip940)\" d=\"M92.7512 806.274 Q89.1401 806.274 87.3114 809.839 Q85.5058 813.381 85.5058 820.51 Q85.5058 827.617 87.3114 831.181 Q89.1401 834.723 92.7512 834.723 Q96.3854 834.723 98.1909 831.181 Q100.02 827.617 100.02 820.51 Q100.02 813.381 98.1909 809.839 Q96.3854 806.274 92.7512 806.274 M92.7512 802.57 Q98.5613 802.57 101.617 807.177 Q104.696 811.76 104.696 820.51 Q104.696 829.237 101.617 833.843 Q98.5613 838.427 92.7512 838.427 Q86.941 838.427 83.8623 833.843 Q80.8068 829.237 80.8068 820.51 Q80.8068 811.76 83.8623 807.177 Q86.941 802.57 92.7512 802.57 Z\" fill=\"#000000\" fill-rule=\"evenodd\" fill-opacity=\"1\" /><path clip-path=\"url(#clip940)\" d=\"M122.913 806.274 Q119.302 806.274 117.473 809.839 Q115.668 813.381 115.668 820.51 Q115.668 827.617 117.473 831.181 Q119.302 834.723 122.913 834.723 Q126.547 834.723 128.353 831.181 Q130.182 827.617 130.182 820.51 Q130.182 813.381 128.353 809.839 Q126.547 806.274 122.913 806.274 M122.913 802.57 Q128.723 802.57 131.779 807.177 Q134.857 811.76 134.857 820.51 Q134.857 829.237 131.779 833.843 Q128.723 838.427 122.913 838.427 Q117.103 838.427 114.024 833.843 Q110.969 829.237 110.969 820.51 Q110.969 811.76 114.024 807.177 Q117.103 802.57 122.913 802.57 Z\" fill=\"#000000\" fill-rule=\"evenodd\" fill-opacity=\"1\" /><path clip-path=\"url(#clip940)\" d=\"M53.3995 506.812 L61.0384 506.812 L61.0384 480.446 L52.7282 482.113 L52.7282 477.854 L60.9921 476.187 L65.668 476.187 L65.668 506.812 L73.3068 506.812 L73.3068 510.747 L53.3995 510.747 L53.3995 506.812 Z\" fill=\"#000000\" fill-rule=\"evenodd\" fill-opacity=\"1\" /><path clip-path=\"url(#clip940)\" d=\"M82.7975 476.187 L101.154 476.187 L101.154 480.122 L87.0799 480.122 L87.0799 488.594 Q88.0984 488.247 89.1169 488.085 Q90.1354 487.9 91.1539 487.9 Q96.941 487.9 100.321 491.071 Q103.7 494.242 103.7 499.659 Q103.7 505.238 100.228 508.339 Q96.7558 511.418 90.4364 511.418 Q88.2604 511.418 85.9919 511.048 Q83.7466 510.677 81.3392 509.937 L81.3392 505.238 Q83.4225 506.372 85.6447 506.927 Q87.8669 507.483 90.3438 507.483 Q94.3484 507.483 96.6863 505.377 Q99.0243 503.27 99.0243 499.659 Q99.0243 496.048 96.6863 493.941 Q94.3484 491.835 90.3438 491.835 Q88.4688 491.835 86.5938 492.252 Q84.7419 492.668 82.7975 493.548 L82.7975 476.187 Z\" fill=\"#000000\" fill-rule=\"evenodd\" fill-opacity=\"1\" /><path clip-path=\"url(#clip940)\" d=\"M122.913 479.266 Q119.302 479.266 117.473 482.83 Q115.668 486.372 115.668 493.502 Q115.668 500.608 117.473 504.173 Q119.302 507.714 122.913 507.714 Q126.547 507.714 128.353 504.173 Q130.182 500.608 130.182 493.502 Q130.182 486.372 128.353 482.83 Q126.547 479.266 122.913 479.266 M122.913 475.562 Q128.723 475.562 131.779 480.168 Q134.857 484.752 134.857 493.502 Q134.857 502.228 131.779 506.835 Q128.723 511.418 122.913 511.418 Q117.103 511.418 114.024 506.835 Q110.969 502.228 110.969 493.502 Q110.969 484.752 114.024 480.168 Q117.103 475.562 122.913 475.562 Z\" fill=\"#000000\" fill-rule=\"evenodd\" fill-opacity=\"1\" /><path clip-path=\"url(#clip940)\" d=\"M56.6171 179.803 L72.9365 179.803 L72.9365 183.738 L50.9921 183.738 L50.9921 179.803 Q53.6541 177.049 58.2375 172.419 Q62.8439 167.766 64.0245 166.424 Q66.2698 163.9 67.1494 162.164 Q68.0522 160.405 68.0522 158.715 Q68.0522 155.961 66.1078 154.225 Q64.1865 152.488 61.0847 152.488 Q58.8856 152.488 56.4319 153.252 Q54.0014 154.016 51.2236 155.567 L51.2236 150.845 Q54.0477 149.711 56.5014 149.132 Q58.955 148.553 60.9921 148.553 Q66.3624 148.553 69.5568 151.238 Q72.7513 153.924 72.7513 158.414 Q72.7513 160.544 71.9411 162.465 Q71.1541 164.363 69.0476 166.956 Q68.4689 167.627 65.367 170.845 Q62.2652 174.039 56.6171 179.803 Z\" fill=\"#000000\" fill-rule=\"evenodd\" fill-opacity=\"1\" /><path clip-path=\"url(#clip940)\" d=\"M92.7512 152.257 Q89.1401 152.257 87.3114 155.822 Q85.5058 159.363 85.5058 166.493 Q85.5058 173.599 87.3114 177.164 Q89.1401 180.706 92.7512 180.706 Q96.3854 180.706 98.1909 177.164 Q100.02 173.599 100.02 166.493 Q100.02 159.363 98.1909 155.822 Q96.3854 152.257 92.7512 152.257 M92.7512 148.553 Q98.5613 148.553 101.617 153.16 Q104.696 157.743 104.696 166.493 Q104.696 175.22 101.617 179.826 Q98.5613 184.41 92.7512 184.41 Q86.941 184.41 83.8623 179.826 Q80.8068 175.22 80.8068 166.493 Q80.8068 157.743 83.8623 153.16 Q86.941 148.553 92.7512 148.553 Z\" fill=\"#000000\" fill-rule=\"evenodd\" fill-opacity=\"1\" /><path clip-path=\"url(#clip940)\" d=\"M122.913 152.257 Q119.302 152.257 117.473 155.822 Q115.668 159.363 115.668 166.493 Q115.668 173.599 117.473 177.164 Q119.302 180.706 122.913 180.706 Q126.547 180.706 128.353 177.164 Q130.182 173.599 130.182 166.493 Q130.182 159.363 128.353 155.822 Q126.547 152.257 122.913 152.257 M122.913 148.553 Q128.723 148.553 131.779 153.16 Q134.857 157.743 134.857 166.493 Q134.857 175.22 131.779 179.826 Q128.723 184.41 122.913 184.41 Q117.103 184.41 114.024 179.826 Q110.969 175.22 110.969 166.493 Q110.969 157.743 114.024 153.16 Q117.103 148.553 122.913 148.553 Z\" fill=\"#000000\" fill-rule=\"evenodd\" fill-opacity=\"1\" /><circle clip-path=\"url(#clip942)\" cx=\"232.609\" cy=\"1445.72\" r=\"14\" fill=\"#009af9\" fill-rule=\"evenodd\" fill-opacity=\"1\" stroke=\"#000000\" stroke-opacity=\"1\" stroke-width=\"3.2\"/>\n",
       "<circle clip-path=\"url(#clip942)\" cx=\"322.105\" cy=\"1443.75\" r=\"14\" fill=\"#009af9\" fill-rule=\"evenodd\" fill-opacity=\"1\" stroke=\"#000000\" stroke-opacity=\"1\" stroke-width=\"3.2\"/>\n",
       "<circle clip-path=\"url(#clip942)\" cx=\"411.6\" cy=\"1443.75\" r=\"14\" fill=\"#009af9\" fill-rule=\"evenodd\" fill-opacity=\"1\" stroke=\"#000000\" stroke-opacity=\"1\" stroke-width=\"3.2\"/>\n",
       "<circle clip-path=\"url(#clip942)\" cx=\"501.096\" cy=\"1435.91\" r=\"14\" fill=\"#009af9\" fill-rule=\"evenodd\" fill-opacity=\"1\" stroke=\"#000000\" stroke-opacity=\"1\" stroke-width=\"3.2\"/>\n",
       "<circle clip-path=\"url(#clip942)\" cx=\"590.591\" cy=\"1431.33\" r=\"14\" fill=\"#009af9\" fill-rule=\"evenodd\" fill-opacity=\"1\" stroke=\"#000000\" stroke-opacity=\"1\" stroke-width=\"3.2\"/>\n",
       "<circle clip-path=\"url(#clip942)\" cx=\"680.086\" cy=\"1426.75\" r=\"14\" fill=\"#009af9\" fill-rule=\"evenodd\" fill-opacity=\"1\" stroke=\"#000000\" stroke-opacity=\"1\" stroke-width=\"3.2\"/>\n",
       "<circle clip-path=\"url(#clip942)\" cx=\"769.582\" cy=\"1421.52\" r=\"14\" fill=\"#009af9\" fill-rule=\"evenodd\" fill-opacity=\"1\" stroke=\"#000000\" stroke-opacity=\"1\" stroke-width=\"3.2\"/>\n",
       "<circle clip-path=\"url(#clip942)\" cx=\"859.077\" cy=\"1416.94\" r=\"14\" fill=\"#009af9\" fill-rule=\"evenodd\" fill-opacity=\"1\" stroke=\"#000000\" stroke-opacity=\"1\" stroke-width=\"3.2\"/>\n",
       "<circle clip-path=\"url(#clip942)\" cx=\"948.573\" cy=\"1405.17\" r=\"14\" fill=\"#009af9\" fill-rule=\"evenodd\" fill-opacity=\"1\" stroke=\"#000000\" stroke-opacity=\"1\" stroke-width=\"3.2\"/>\n",
       "<circle clip-path=\"url(#clip942)\" cx=\"1038.07\" cy=\"1396.01\" r=\"14\" fill=\"#009af9\" fill-rule=\"evenodd\" fill-opacity=\"1\" stroke=\"#000000\" stroke-opacity=\"1\" stroke-width=\"3.2\"/>\n",
       "<circle clip-path=\"url(#clip942)\" cx=\"1127.56\" cy=\"1386.2\" r=\"14\" fill=\"#009af9\" fill-rule=\"evenodd\" fill-opacity=\"1\" stroke=\"#000000\" stroke-opacity=\"1\" stroke-width=\"3.2\"/>\n",
       "<circle clip-path=\"url(#clip942)\" cx=\"1217.06\" cy=\"1377.04\" r=\"14\" fill=\"#009af9\" fill-rule=\"evenodd\" fill-opacity=\"1\" stroke=\"#000000\" stroke-opacity=\"1\" stroke-width=\"3.2\"/>\n",
       "<circle clip-path=\"url(#clip942)\" cx=\"1306.55\" cy=\"1369.2\" r=\"14\" fill=\"#009af9\" fill-rule=\"evenodd\" fill-opacity=\"1\" stroke=\"#000000\" stroke-opacity=\"1\" stroke-width=\"3.2\"/>\n",
       "<circle clip-path=\"url(#clip942)\" cx=\"1396.05\" cy=\"1335.84\" r=\"14\" fill=\"#009af9\" fill-rule=\"evenodd\" fill-opacity=\"1\" stroke=\"#000000\" stroke-opacity=\"1\" stroke-width=\"3.2\"/>\n",
       "<circle clip-path=\"url(#clip942)\" cx=\"1485.55\" cy=\"696.212\" r=\"14\" fill=\"#009af9\" fill-rule=\"evenodd\" fill-opacity=\"1\" stroke=\"#000000\" stroke-opacity=\"1\" stroke-width=\"3.2\"/>\n",
       "<circle clip-path=\"url(#clip942)\" cx=\"1575.04\" cy=\"663.511\" r=\"14\" fill=\"#009af9\" fill-rule=\"evenodd\" fill-opacity=\"1\" stroke=\"#000000\" stroke-opacity=\"1\" stroke-width=\"3.2\"/>\n",
       "<circle clip-path=\"url(#clip942)\" cx=\"1664.54\" cy=\"545.788\" r=\"14\" fill=\"#009af9\" fill-rule=\"evenodd\" fill-opacity=\"1\" stroke=\"#000000\" stroke-opacity=\"1\" stroke-width=\"3.2\"/>\n",
       "<circle clip-path=\"url(#clip942)\" cx=\"1754.03\" cy=\"434.605\" r=\"14\" fill=\"#009af9\" fill-rule=\"evenodd\" fill-opacity=\"1\" stroke=\"#000000\" stroke-opacity=\"1\" stroke-width=\"3.2\"/>\n",
       "<circle clip-path=\"url(#clip942)\" cx=\"1843.53\" cy=\"284.181\" r=\"14\" fill=\"#009af9\" fill-rule=\"evenodd\" fill-opacity=\"1\" stroke=\"#000000\" stroke-opacity=\"1\" stroke-width=\"3.2\"/>\n",
       "<circle clip-path=\"url(#clip942)\" cx=\"1933.02\" cy=\"87.9763\" r=\"14\" fill=\"#009af9\" fill-rule=\"evenodd\" fill-opacity=\"1\" stroke=\"#000000\" stroke-opacity=\"1\" stroke-width=\"3.2\"/>\n",
       "<circle clip-path=\"url(#clip942)\" cx=\"2022.52\" cy=\"1193.27\" r=\"14\" fill=\"#009af9\" fill-rule=\"evenodd\" fill-opacity=\"1\" stroke=\"#000000\" stroke-opacity=\"1\" stroke-width=\"3.2\"/>\n",
       "<circle clip-path=\"url(#clip942)\" cx=\"2112.01\" cy=\"1317.53\" r=\"14\" fill=\"#009af9\" fill-rule=\"evenodd\" fill-opacity=\"1\" stroke=\"#000000\" stroke-opacity=\"1\" stroke-width=\"3.2\"/>\n",
       "<circle clip-path=\"url(#clip942)\" cx=\"2201.51\" cy=\"1297.91\" r=\"14\" fill=\"#009af9\" fill-rule=\"evenodd\" fill-opacity=\"1\" stroke=\"#000000\" stroke-opacity=\"1\" stroke-width=\"3.2\"/>\n",
       "<circle clip-path=\"url(#clip942)\" cx=\"2291\" cy=\"1284.83\" r=\"14\" fill=\"#009af9\" fill-rule=\"evenodd\" fill-opacity=\"1\" stroke=\"#000000\" stroke-opacity=\"1\" stroke-width=\"3.2\"/>\n",
       "<polyline clip-path=\"url(#clip942)\" style=\"stroke:#e26f46; stroke-linecap:butt; stroke-linejoin:round; stroke-width:4; stroke-opacity:1; fill:none\" points=\"\n",
       "  -2011.04,1716.8 4534.65,984.978 \n",
       "  \"/>\n",
       "<path clip-path=\"url(#clip940)\" d=\"\n",
       "M1985.16 250.738 L2280.03 250.738 L2280.03 95.2176 L1985.16 95.2176  Z\n",
       "  \" fill=\"#ffffff\" fill-rule=\"evenodd\" fill-opacity=\"1\"/>\n",
       "<polyline clip-path=\"url(#clip940)\" style=\"stroke:#000000; stroke-linecap:butt; stroke-linejoin:round; stroke-width:4; stroke-opacity:1; fill:none\" points=\"\n",
       "  1985.16,250.738 2280.03,250.738 2280.03,95.2176 1985.16,95.2176 1985.16,250.738 \n",
       "  \"/>\n",
       "<circle clip-path=\"url(#clip940)\" cx=\"2082.14\" cy=\"147.058\" r=\"23\" fill=\"#009af9\" fill-rule=\"evenodd\" fill-opacity=\"1\" stroke=\"#000000\" stroke-opacity=\"1\" stroke-width=\"5.12\"/>\n",
       "<path clip-path=\"url(#clip940)\" d=\"M2192.95 166.745 Q2191.15 171.375 2189.43 172.787 Q2187.72 174.199 2184.85 174.199 L2181.45 174.199 L2181.45 170.634 L2183.95 170.634 Q2185.71 170.634 2186.68 169.8 Q2187.65 168.967 2188.83 165.865 L2189.6 163.921 L2179.11 138.412 L2183.62 138.412 L2191.72 158.689 L2199.83 138.412 L2204.34 138.412 L2192.95 166.745 Z\" fill=\"#000000\" fill-rule=\"evenodd\" fill-opacity=\"1\" /><path clip-path=\"url(#clip940)\" d=\"M2211.63 160.402 L2219.27 160.402 L2219.27 134.037 L2210.96 135.703 L2210.96 131.444 L2219.22 129.778 L2223.9 129.778 L2223.9 160.402 L2231.54 160.402 L2231.54 164.338 L2211.63 164.338 L2211.63 160.402 Z\" fill=\"#000000\" fill-rule=\"evenodd\" fill-opacity=\"1\" /><polyline clip-path=\"url(#clip940)\" style=\"stroke:#e26f46; stroke-linecap:butt; stroke-linejoin:round; stroke-width:4; stroke-opacity:1; fill:none\" points=\"\n",
       "  2009.41,198.898 2154.87,198.898 \n",
       "  \"/>\n",
       "<path clip-path=\"url(#clip940)\" d=\"M2192.95 218.585 Q2191.15 223.215 2189.43 224.627 Q2187.72 226.039 2184.85 226.039 L2181.45 226.039 L2181.45 222.474 L2183.95 222.474 Q2185.71 222.474 2186.68 221.64 Q2187.65 220.807 2188.83 217.705 L2189.6 215.761 L2179.11 190.252 L2183.62 190.252 L2191.72 210.529 L2199.83 190.252 L2204.34 190.252 L2192.95 218.585 Z\" fill=\"#000000\" fill-rule=\"evenodd\" fill-opacity=\"1\" /><path clip-path=\"url(#clip940)\" d=\"M2214.85 212.242 L2231.17 212.242 L2231.17 216.178 L2209.22 216.178 L2209.22 212.242 Q2211.89 209.488 2216.47 204.858 Q2221.08 200.205 2222.26 198.863 Q2224.5 196.34 2225.38 194.604 Q2226.28 192.844 2226.28 191.155 Q2226.28 188.4 2224.34 186.664 Q2222.42 184.928 2219.32 184.928 Q2217.12 184.928 2214.66 185.692 Q2212.23 186.455 2209.46 188.006 L2209.46 183.284 Q2212.28 182.15 2214.73 181.571 Q2217.19 180.993 2219.22 180.993 Q2224.59 180.993 2227.79 183.678 Q2230.98 186.363 2230.98 190.854 Q2230.98 192.983 2230.17 194.905 Q2229.39 196.803 2227.28 199.395 Q2226.7 200.067 2223.6 203.284 Q2220.5 206.479 2214.85 212.242 Z\" fill=\"#000000\" fill-rule=\"evenodd\" fill-opacity=\"1\" /></svg>\n"
      ]
     },
     "execution_count": 16,
     "metadata": {},
     "output_type": "execute_result"
    }
   ],
   "source": [
    "scatter(year,calls)\n",
    "Plots.abline!(1.5299, -75.18999)"
   ]
  },
  {
   "cell_type": "code",
   "execution_count": null,
   "id": "c239796c-019e-469e-a1b6-f04ec27ce6e7",
   "metadata": {},
   "outputs": [],
   "source": []
  }
 ],
 "metadata": {
  "kernelspec": {
   "display_name": "Julia 1.7.0",
   "language": "julia",
   "name": "julia-1.7"
  },
  "language_info": {
   "file_extension": ".jl",
   "mimetype": "application/julia",
   "name": "julia",
   "version": "1.7.0"
  }
 },
 "nbformat": 4,
 "nbformat_minor": 5
}
