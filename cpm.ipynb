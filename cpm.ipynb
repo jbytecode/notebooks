{
 "cells": [
  {
   "cell_type": "markdown",
   "id": "b760c319",
   "metadata": {},
   "source": [
    "## Critical Path Method (CPM)"
   ]
  },
  {
   "cell_type": "code",
   "execution_count": 1,
   "id": "93d9081a",
   "metadata": {},
   "outputs": [],
   "source": [
    "using Pkg"
   ]
  },
  {
   "cell_type": "code",
   "execution_count": 2,
   "id": "87dfc61b",
   "metadata": {},
   "outputs": [
    {
     "name": "stderr",
     "output_type": "stream",
     "text": [
      "\u001b[32m\u001b[1m  Activating\u001b[22m\u001b[39m project at `~/code/julia/notebooks`\n"
     ]
    }
   ],
   "source": [
    "Pkg.activate(\".\")"
   ]
  },
  {
   "cell_type": "code",
   "execution_count": 3,
   "id": "b1c6d55b",
   "metadata": {},
   "outputs": [],
   "source": [
    "using OperationsResearchModels"
   ]
  },
  {
   "cell_type": "markdown",
   "id": "d72d4225",
   "metadata": {},
   "source": [
    "## The Problem"
   ]
  },
  {
   "cell_type": "markdown",
   "id": "581e676e",
   "metadata": {},
   "source": [
    "|  Activity   |   Dependencies  |  Time    | \n",
    "| :--------:  | :-------------: | :-----:  |\n",
    "|      A      |      -          |   5      |\n",
    "|      B      |      -          |   3      |\n",
    "|      C      |      A          |   7      |\n",
    "|      D      |      B, C       |   8      |\n",
    "|      E      |      C, D       |   2      |\n",
    "|      F      |      D          |   8      |\n",
    "|      G      |      C, D       |   4      |\n",
    "|      H      |      E, F       |   10     |"
   ]
  },
  {
   "cell_type": "code",
   "execution_count": 5,
   "id": "42ee1bb4",
   "metadata": {},
   "outputs": [],
   "source": [
    "A = CpmActivity(\"A\", 5, []);\n",
    "B = CpmActivity(\"B\", 3, []);\n",
    "C = CpmActivity(\"C\", 7, [A]);\n",
    "D = CpmActivity(\"D\", 8, [B, C]);\n",
    "E = CpmActivity(\"E\", 2, [C, D]);\n",
    "F = CpmActivity(\"F\", 8, [D]);\n",
    "G = CpmActivity(\"G\", 4, [C, D]);\n",
    "H = CpmActivity(\"H\", 10, [E, F]);"
   ]
  },
  {
   "cell_type": "code",
   "execution_count": 12,
   "id": "9f73fd5c",
   "metadata": {},
   "outputs": [],
   "source": [
    "problem = CpmProblem([A, B, C, D, E, F, G, H]);"
   ]
  },
  {
   "cell_type": "code",
   "execution_count": 13,
   "id": "ce769d0b",
   "metadata": {},
   "outputs": [],
   "source": [
    "result = solve(problem);"
   ]
  },
  {
   "cell_type": "code",
   "execution_count": 8,
   "id": "45089fac",
   "metadata": {},
   "outputs": [
    {
     "data": {
      "text/plain": [
       "5-element Vector{String}:\n",
       " \"A\"\n",
       " \"C\"\n",
       " \"D\"\n",
       " \"F\"\n",
       " \"H\""
      ]
     },
     "execution_count": 8,
     "metadata": {},
     "output_type": "execute_result"
    }
   ],
   "source": [
    "result.pathstr"
   ]
  },
  {
   "cell_type": "code",
   "execution_count": 10,
   "id": "f9c3fa17",
   "metadata": {},
   "outputs": [
    {
     "data": {
      "text/plain": [
       "5-element Vector{Float64}:\n",
       "  5.0\n",
       "  7.0\n",
       "  8.0\n",
       "  8.0\n",
       " 10.0"
      ]
     },
     "execution_count": 10,
     "metadata": {},
     "output_type": "execute_result"
    }
   ],
   "source": [
    "times = map(x-> x.time, result.path)"
   ]
  },
  {
   "cell_type": "code",
   "execution_count": 11,
   "id": "b97cd9ff",
   "metadata": {},
   "outputs": [
    {
     "data": {
      "text/plain": [
       "38.0"
      ]
     },
     "execution_count": 11,
     "metadata": {},
     "output_type": "execute_result"
    }
   ],
   "source": [
    "earliest_finishing_time = sum(times)"
   ]
  },
  {
   "cell_type": "code",
   "execution_count": null,
   "id": "c8a7b598",
   "metadata": {},
   "outputs": [],
   "source": []
  }
 ],
 "metadata": {
  "kernelspec": {
   "display_name": "Julia 1.12.0-rc2",
   "language": "julia",
   "name": "julia-1.12"
  },
  "language_info": {
   "file_extension": ".jl",
   "mimetype": "application/julia",
   "name": "julia",
   "version": "1.12.0"
  }
 },
 "nbformat": 4,
 "nbformat_minor": 5
}
