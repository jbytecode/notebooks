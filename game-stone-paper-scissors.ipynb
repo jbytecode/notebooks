{
 "cells": [
  {
   "cell_type": "markdown",
   "id": "e386818e-0314-4111-9de9-06d35e98a8b3",
   "metadata": {},
   "source": [
    "## Stone-Paper-Scissors Game"
   ]
  },
  {
   "cell_type": "markdown",
   "id": "2d2e6b45-a01a-4f38-a044-9ced5a2fe18b",
   "metadata": {},
   "source": [
    "### Payoff matrix"
   ]
  },
  {
   "cell_type": "markdown",
   "id": "eb62df96-a8d2-4593-b3ea-72799b9b864a",
   "metadata": {},
   "source": [
    "|        |    Stone     |   Paper      | Scissors     |\n",
    "| :----: | :---------:  | :---------:  | :--------:   |\n",
    "| Stone  |     0        |      -1      |       1      |\n",
    "| Paper  |     1        |       0      |      -1      |\n",
    "| Scissors|    -1       |       1      |       0      |"
   ]
  },
  {
   "cell_type": "markdown",
   "id": "6b3ff495-b7bb-4c64-89a7-2f34ae0e01c8",
   "metadata": {},
   "source": [
    "### Payoff matrix with non-negative values "
   ]
  },
  {
   "cell_type": "markdown",
   "id": "8aa31010-f280-4c22-969a-eb28e02fddae",
   "metadata": {},
   "source": [
    "|        |    Stone     |   Paper      | Scissors     |\n",
    "| :----: | :---------:  | :---------:  | :--------:   |\n",
    "| Stone  |     1        |       0      |       2      |\n",
    "| Paper  |     2        |       1      |       0      |\n",
    "| Scissors|    0       |       2      |       1      |"
   ]
  },
  {
   "cell_type": "markdown",
   "id": "d81a5e14-c217-4e6c-9614-7941c1490a28",
   "metadata": {},
   "source": [
    "### The model"
   ]
  },
  {
   "cell_type": "markdown",
   "id": "d8c4c758-d321-4bce-b54f-3234ca5199e1",
   "metadata": {},
   "source": [
    "$$\n",
    "\\begin{aligned}\n",
    "\\max z & = g \\\\\n",
    "\\text{Subject to:} \\\\    \n",
    "& y_1 + 2 y_2 \\ge g \\\\\n",
    "& y_2 + 2 y_3 \\ge g \\\\\n",
    "& 2y_1 + y_3 \\ge g \\\\\n",
    "& y_1 + y_2 + y_3 = 1 \\\\\n",
    "& y_1, y_2, y_3, g \\ge 0\n",
    "\\end{aligned}\n",
    "$$"
   ]
  },
  {
   "cell_type": "code",
   "execution_count": 1,
   "id": "7d7f4bab-3bdb-4595-8169-1e60b636e47b",
   "metadata": {},
   "outputs": [],
   "source": [
    "using JuMP"
   ]
  },
  {
   "cell_type": "code",
   "execution_count": 2,
   "id": "c4737897-a5f3-4c99-b3fc-5a8c3df1b07c",
   "metadata": {},
   "outputs": [],
   "source": [
    "using GLPK"
   ]
  },
  {
   "cell_type": "code",
   "execution_count": 4,
   "id": "ad4fd56d-1ed5-4dde-9a3a-e090a007f2d7",
   "metadata": {},
   "outputs": [
    {
     "data": {
      "text/plain": [
       "A JuMP Model\n",
       "Feasibility problem with:\n",
       "Variables: 0\n",
       "Model mode: AUTOMATIC\n",
       "CachingOptimizer state: EMPTY_OPTIMIZER\n",
       "Solver name: GLPK"
      ]
     },
     "execution_count": 4,
     "metadata": {},
     "output_type": "execute_result"
    }
   ],
   "source": [
    "model = Model(GLPK.Optimizer)"
   ]
  },
  {
   "cell_type": "code",
   "execution_count": 5,
   "id": "957467d7-fda2-4e0d-b95e-985de9102c4a",
   "metadata": {},
   "outputs": [],
   "source": [
    "@variable(model, y1);\n",
    "@variable(model, y2);\n",
    "@variable(model, y3);\n",
    "@variable(model, g);"
   ]
  },
  {
   "cell_type": "code",
   "execution_count": 7,
   "id": "9ee4d085-127b-41d4-aa3e-c99d16ed58e1",
   "metadata": {},
   "outputs": [],
   "source": [
    "@objective(model, Max, g);"
   ]
  },
  {
   "cell_type": "code",
   "execution_count": 8,
   "id": "5a242473-b8c0-4fde-9fbf-b2a806e7ba72",
   "metadata": {},
   "outputs": [],
   "source": [
    "@constraint(model, y1 + 2y2 >= g);\n",
    "@constraint(model, y2 + 2y3 >= g);\n",
    "@constraint(model, 2y1 + y3 >= g);\n",
    "@constraint(model, y1 + y2 + y3 == 1);"
   ]
  },
  {
   "cell_type": "code",
   "execution_count": 10,
   "id": "4360587a-03a4-4b8f-947f-90c2cf5969fc",
   "metadata": {},
   "outputs": [],
   "source": [
    "@constraint(model, y1 >= 0);\n",
    "@constraint(model, y2 >= 0);\n",
    "@constraint(model, y3 >= 0);\n",
    "@constraint(model, g >= 0);"
   ]
  },
  {
   "cell_type": "code",
   "execution_count": 12,
   "id": "a0136f8a-6aad-4c7e-9946-dd582d6d462f",
   "metadata": {},
   "outputs": [],
   "source": [
    "optimize!(model)"
   ]
  },
  {
   "cell_type": "code",
   "execution_count": 15,
   "id": "02352703-f385-4395-9982-19da63270def",
   "metadata": {},
   "outputs": [
    {
     "data": {
      "text/plain": [
       "0.3333333333333334"
      ]
     },
     "execution_count": 15,
     "metadata": {},
     "output_type": "execute_result"
    }
   ],
   "source": [
    "value(y1)"
   ]
  },
  {
   "cell_type": "code",
   "execution_count": 16,
   "id": "3005ecfd-9325-498d-8c2e-12834d08fd9e",
   "metadata": {},
   "outputs": [
    {
     "data": {
      "text/plain": [
       "0.3333333333333333"
      ]
     },
     "execution_count": 16,
     "metadata": {},
     "output_type": "execute_result"
    }
   ],
   "source": [
    "value(y2)"
   ]
  },
  {
   "cell_type": "code",
   "execution_count": 17,
   "id": "f437caaf-d72b-4673-a01b-d69378bd23f0",
   "metadata": {},
   "outputs": [
    {
     "data": {
      "text/plain": [
       "0.3333333333333333"
      ]
     },
     "execution_count": 17,
     "metadata": {},
     "output_type": "execute_result"
    }
   ],
   "source": [
    "value(y3)"
   ]
  },
  {
   "cell_type": "code",
   "execution_count": 19,
   "id": "27f8958c-bf1d-4e8d-8b55-d76f9d6b8fbe",
   "metadata": {},
   "outputs": [
    {
     "data": {
      "text/plain": [
       "1.0"
      ]
     },
     "execution_count": 19,
     "metadata": {},
     "output_type": "execute_result"
    }
   ],
   "source": [
    "value(g)"
   ]
  },
  {
   "cell_type": "markdown",
   "id": "8bee9be1-7fc4-47d7-a7e7-6499b3c8322d",
   "metadata": {},
   "source": [
    "Since we have added 1 to each single element of the payoff matrix, the value of the game is"
   ]
  },
  {
   "cell_type": "code",
   "execution_count": 20,
   "id": "f1f14adc-7f58-4645-8e90-2c6da6bd40c2",
   "metadata": {},
   "outputs": [
    {
     "data": {
      "text/plain": [
       "0.0"
      ]
     },
     "execution_count": 20,
     "metadata": {},
     "output_type": "execute_result"
    }
   ],
   "source": [
    "value(g) - 1"
   ]
  },
  {
   "cell_type": "code",
   "execution_count": null,
   "id": "15c4f066-1e44-47fc-ab0d-937de71c1e49",
   "metadata": {},
   "outputs": [],
   "source": []
  }
 ],
 "metadata": {
  "kernelspec": {
   "display_name": "Julia 1.7.2",
   "language": "julia",
   "name": "julia-1.7"
  },
  "language_info": {
   "file_extension": ".jl",
   "mimetype": "application/julia",
   "name": "julia",
   "version": "1.7.2"
  }
 },
 "nbformat": 4,
 "nbformat_minor": 5
}
