{
 "cells": [
  {
   "cell_type": "markdown",
   "id": "1017ec70",
   "metadata": {},
   "source": [
    "# Goal Programming Example"
   ]
  },
  {
   "cell_type": "markdown",
   "id": "3af5681b",
   "metadata": {},
   "source": [
    "|          |       A       |      B          |    Capacity      |\n",
    "| :----:   | :---------:   | :----------:    | :----------:     |\n",
    "|  Labour  |      6        |      8          |     960          |\n",
    "|  Machine |      9        |      7          |     870          |\n",
    "|  Profit  |      10       |      11         |                  |"
   ]
  },
  {
   "cell_type": "markdown",
   "id": "3efa6765",
   "metadata": {},
   "source": [
    "## Maximization of profit (Simple Linear Programming)"
   ]
  },
  {
   "cell_type": "markdown",
   "id": "3d8b9f62",
   "metadata": {},
   "source": [
    "$$\n",
    "\\begin{aligned}\n",
    "\\max z = & 10x_1 + 11x_2 \\\\\n",
    "\\text{Subject to:} & \\\\\n",
    "& 6x_1 + 8x_2 \\le 960 \\\\\n",
    "& 9x_1 + 7x_2 \\le 870 \\\\\n",
    "& x_1, x_2 \\ge 0 \\\\\n",
    "\\end{aligned}\n",
    "$$"
   ]
  },
  {
   "cell_type": "code",
   "execution_count": 2,
   "id": "3ed5aaa4",
   "metadata": {},
   "outputs": [
    {
     "name": "stderr",
     "output_type": "stream",
     "text": [
      "\u001b[32m\u001b[1m  Activating\u001b[22m\u001b[39m project at `~/code/julia/notebooks`\n"
     ]
    }
   ],
   "source": [
    "using Pkg; Pkg.activate(\".\"); using JuMP, HiGHS"
   ]
  },
  {
   "cell_type": "code",
   "execution_count": 3,
   "id": "37c697cc",
   "metadata": {},
   "outputs": [
    {
     "data": {
      "text/plain": [
       "A JuMP Model\n",
       "├ solver: HiGHS\n",
       "├ objective_sense: FEASIBILITY_SENSE\n",
       "├ num_variables: 0\n",
       "├ num_constraints: 0\n",
       "└ Names registered in the model: none"
      ]
     },
     "execution_count": 3,
     "metadata": {},
     "output_type": "execute_result"
    }
   ],
   "source": [
    "m = Model(HiGHS.Optimizer)"
   ]
  },
  {
   "cell_type": "code",
   "execution_count": 4,
   "id": "42cf0df3",
   "metadata": {},
   "outputs": [
    {
     "data": {
      "text/latex": [
       "$ x1 $"
      ],
      "text/plain": [
       "x1"
      ]
     },
     "execution_count": 4,
     "metadata": {},
     "output_type": "execute_result"
    }
   ],
   "source": [
    "@variable(m, x1 >= 0)"
   ]
  },
  {
   "cell_type": "code",
   "execution_count": 5,
   "id": "d61e8c73",
   "metadata": {},
   "outputs": [
    {
     "data": {
      "text/latex": [
       "$ x2 $"
      ],
      "text/plain": [
       "x2"
      ]
     },
     "execution_count": 5,
     "metadata": {},
     "output_type": "execute_result"
    }
   ],
   "source": [
    "@variable(m, x2 >= 0)"
   ]
  },
  {
   "cell_type": "code",
   "execution_count": 6,
   "id": "6cc68e4d",
   "metadata": {},
   "outputs": [
    {
     "data": {
      "text/latex": [
       "$ 10 x1 + 11 x2 $"
      ],
      "text/plain": [
       "10 x1 + 11 x2"
      ]
     },
     "execution_count": 6,
     "metadata": {},
     "output_type": "execute_result"
    }
   ],
   "source": [
    "@objective(m, Max, 10*x1 + 11*x2)"
   ]
  },
  {
   "cell_type": "code",
   "execution_count": 7,
   "id": "a1986944",
   "metadata": {},
   "outputs": [
    {
     "data": {
      "text/latex": [
       "$$ 6 x1 + 8 x2 \\leq 960 $$"
      ],
      "text/plain": [
       "6 x1 + 8 x2 ≤ 960"
      ]
     },
     "execution_count": 7,
     "metadata": {},
     "output_type": "execute_result"
    }
   ],
   "source": [
    "@constraint(m, 6*x1 + 8*x2 <= 960)"
   ]
  },
  {
   "cell_type": "code",
   "execution_count": 8,
   "id": "80dfbc9a",
   "metadata": {},
   "outputs": [
    {
     "data": {
      "text/latex": [
       "$$ 9 x1 + 7 x2 \\leq 870 $$"
      ],
      "text/plain": [
       "9 x1 + 7 x2 ≤ 870"
      ]
     },
     "execution_count": 8,
     "metadata": {},
     "output_type": "execute_result"
    }
   ],
   "source": [
    "@constraint(m, 9*x1 + 7*x2 <= 870)"
   ]
  },
  {
   "cell_type": "code",
   "execution_count": 9,
   "id": "4e715912",
   "metadata": {},
   "outputs": [
    {
     "name": "stdout",
     "output_type": "stream",
     "text": [
      "Running HiGHS 1.10.0 (git hash: fd8665394e): Copyright (c) 2025 HiGHS under MIT licence terms\n",
      "LP   has 2 rows; 2 cols; 4 nonzeros\n",
      "Coefficient ranges:\n",
      "  Matrix [6e+00, 9e+00]\n",
      "  Cost   [1e+01, 1e+01]\n",
      "  Bound  [0e+00, 0e+00]\n",
      "  RHS    [9e+02, 1e+03]\n",
      "Presolving model\n",
      "2 rows, 2 cols, 4 nonzeros  0s\n",
      "2 rows, 2 cols, 4 nonzeros  0s\n",
      "Presolve : Reductions: rows 2(-0); columns 2(-0); elements 4(-0) - Not reduced\n",
      "Problem not reduced by presolve: solving the LP\n",
      "Using EKK dual simplex solver - serial\n",
      "  Iteration        Objective     Infeasibilities num(sum)\n",
      "          0    -2.6249964556e+00 Ph1: 2(3.75); Du: 2(2.625) 0s\n",
      "          2     1.3340000000e+03 Pr: 0(0) 0s\n",
      "Model status        : Optimal\n",
      "Simplex   iterations: 2\n",
      "Objective value     :  1.3340000000e+03\n",
      "Relative P-D gap    :  0.0000000000e+00\n",
      "HiGHS run time      :          0.00\n"
     ]
    }
   ],
   "source": [
    "optimize!(m)"
   ]
  },
  {
   "cell_type": "code",
   "execution_count": 10,
   "id": "c9457b6c",
   "metadata": {},
   "outputs": [
    {
     "data": {
      "text/plain": [
       "2-element Vector{Float64}:\n",
       "   7.999999999999983\n",
       " 114.00000000000001"
      ]
     },
     "execution_count": 10,
     "metadata": {},
     "output_type": "execute_result"
    }
   ],
   "source": [
    "value.([x1, x2])"
   ]
  },
  {
   "cell_type": "code",
   "execution_count": 11,
   "id": "cbf4728b",
   "metadata": {},
   "outputs": [
    {
     "data": {
      "text/plain": [
       "1334.0"
      ]
     },
     "execution_count": 11,
     "metadata": {},
     "output_type": "execute_result"
    }
   ],
   "source": [
    "objective_value(m)"
   ]
  },
  {
   "cell_type": "markdown",
   "id": "76bec289",
   "metadata": {},
   "source": [
    "## Weighted Goal Programming"
   ]
  },
  {
   "cell_type": "markdown",
   "id": "765dcd57",
   "metadata": {},
   "source": [
    "- Goal 1: Obtain at least 1320 of profit\n",
    "- Goal 2: Produce at least 15 units from A\n",
    "- The first goal is twice as asimportant as the second one"
   ]
  },
  {
   "cell_type": "markdown",
   "id": "7c1f69fe",
   "metadata": {},
   "source": [
    "$$\n",
    "\\begin{aligned}\n",
    "\\min z = & 2d_1^- + d_2^- \\\\\n",
    "\\text{Subject to:} & \\\\\n",
    "& 10x_1 + 11x_2 + d_1^- - d_1^+ = 1320 \\\\\n",
    "& x_1 + d_2^- - d_2^+ = 15 \\\\\n",
    "& 6x_1 + 8x_2 \\le 960 \\\\\n",
    "& 9x_1 + 7x_2 \\le 870 \\\\\n",
    "& x_1, x_2, d_1^-, d_1^+, d_2^-, d_2^+ \\ge 0 \\\\\n",
    "\\end{aligned}\n",
    "$$"
   ]
  },
  {
   "cell_type": "code",
   "execution_count": 20,
   "id": "d8889b61",
   "metadata": {},
   "outputs": [
    {
     "name": "stdout",
     "output_type": "stream",
     "text": [
      "Running HiGHS 1.10.0 (git hash: fd8665394e): Copyright (c) 2025 HiGHS under MIT licence terms\n",
      "LP   has 4 rows; 6 cols; 11 nonzeros\n",
      "Coefficient ranges:\n",
      "  Matrix [1e+00, 1e+01]\n",
      "  Cost   [1e+00, 2e+00]\n",
      "  Bound  [0e+00, 0e+00]\n",
      "  RHS    [2e+01, 1e+03]\n",
      "Presolving model\n",
      "4 rows, 6 cols, 11 nonzeros  0s\n",
      "Dependent equations search running on 2 equations with time limit of 1000.00s\n",
      "Dependent equations search removed 0 rows and 0 nonzeros in 0.00s (limit = 1000.00s)\n",
      "4 rows, 6 cols, 11 nonzeros  0s\n",
      "Presolve : Reductions: rows 4(-0); columns 6(-0); elements 11(-0) - Not reduced\n",
      "Problem not reduced by presolve: solving the LP\n",
      "Using EKK dual simplex solver - serial\n",
      "  Iteration        Objective     Infeasibilities num(sum)\n",
      "          0     0.0000000000e+00 Pr: 2(390) 0s\n",
      "          3     3.6206896552e+00 Pr: 0(0) 0s\n",
      "Model status        : Optimal\n",
      "Simplex   iterations: 3\n",
      "Objective value     :  3.6206896552e+00\n",
      "Relative P-D gap    :  1.2020014613e-14\n",
      "HiGHS run time      :          0.00\n",
      "[11.379310344827605, 109.65517241379308, 0.0, 0.0, 3.6206896551723977, 0.0]\n"
     ]
    }
   ],
   "source": [
    "begin \n",
    "    m = Model(HiGHS.Optimizer)\n",
    "    @variable(m, x1 >= 0)\n",
    "    @variable(m, x2 >= 0)\n",
    "    @variable(m, d1minus >= 0)\n",
    "    @variable(m, d1plus >= 0)\n",
    "    @variable(m, d2minus >= 0)\n",
    "    @variable(m, d2plus >= 0)\n",
    "    @objective(m, Min, 2*d1minus + d2minus)\n",
    "    @constraint(m, 10*x1 + 11*x2 + d1minus - d1plus == 1320)\n",
    "    @constraint(m, x1 + d2minus - d2plus == 15)\n",
    "    @constraint(m, 6*x1 + 8*x2 <= 960)\n",
    "    @constraint(m, 9*x1 + 7*x2 <= 870)\n",
    "    optimize!(m);\n",
    "    println(value.([x1, x2, d1minus, d1plus, d2minus, d2plus]))\n",
    "end "
   ]
  },
  {
   "cell_type": "markdown",
   "id": "9896e0d9",
   "metadata": {},
   "source": [
    "- $d_1^- = 0$ and $d_1^+ = 0$ so Goal 1 is satisfied"
   ]
  },
  {
   "cell_type": "markdown",
   "id": "d769a683",
   "metadata": {},
   "source": [
    "- $d_2^- = 3.6206$ and $d_2^+ = 0$ so Goal 2 is **not** satisfied"
   ]
  },
  {
   "cell_type": "markdown",
   "id": "1b64a1cf",
   "metadata": {},
   "source": [
    "## Pre-emptive Goal Programming"
   ]
  },
  {
   "cell_type": "markdown",
   "id": "822771e8",
   "metadata": {},
   "source": [
    "- Goal 1: Obtain at least 1320 of profit\n",
    "- Goal 2: Produce at least 15 units from A\n",
    "- Goal 2 is more important than the Goal 1"
   ]
  },
  {
   "cell_type": "markdown",
   "id": "d235992b",
   "metadata": {},
   "source": [
    "$$\n",
    "\\begin{aligned}\n",
    "\\min z = & d_2^- \\\\\n",
    "\\text{Subject to:} & \\\\\n",
    "& 10x_1 + 11x_2 + d_1^- - d_1^+ = 1320 \\\\\n",
    "& x_1 + d_2^- - d_2^+ = 15 \\\\\n",
    "& 6x_1 + 8x_2 \\le 960 \\\\\n",
    "& 9x_1 + 7x_2 \\le 870 \\\\\n",
    "& x_1, x_2, d_1^-, d_1^+, d_2^-, d_2^+ \\ge 0 \\\\\n",
    "\\end{aligned}\n",
    "$$"
   ]
  },
  {
   "cell_type": "code",
   "execution_count": 21,
   "id": "43e64b7a",
   "metadata": {},
   "outputs": [
    {
     "name": "stdout",
     "output_type": "stream",
     "text": [
      "Running HiGHS 1.10.0 (git hash: fd8665394e): Copyright (c) 2025 HiGHS under MIT licence terms\n",
      "LP   has 4 rows; 6 cols; 11 nonzeros\n",
      "Coefficient ranges:\n",
      "  Matrix [1e+00, 1e+01]\n",
      "  Cost   [1e+00, 1e+00]\n",
      "  Bound  [0e+00, 0e+00]\n",
      "  RHS    [2e+01, 1e+03]\n",
      "Presolving model\n",
      "4 rows, 6 cols, 11 nonzeros  0s\n",
      "0 rows, 0 cols, 0 nonzeros  0s\n",
      "Presolve : Reductions: rows 0(-4); columns 0(-6); elements 0(-11) - Reduced to empty\n",
      "Solving the original LP from the solution after postsolve\n",
      "Model status        : Optimal\n",
      "Objective value     :  0.0000000000e+00\n",
      "Relative P-D gap    :  0.0000000000e+00\n",
      "HiGHS run time      :          0.00\n",
      "[96.66666666666667, 0.0, 353.33333333333326, 0.0, 0.0, 81.66666666666666]\n"
     ]
    }
   ],
   "source": [
    "begin \n",
    "    m = Model(HiGHS.Optimizer)\n",
    "    @variable(m, x1 >= 0)\n",
    "    @variable(m, x2 >= 0)\n",
    "    @variable(m, d1minus >= 0)\n",
    "    @variable(m, d1plus >= 0)\n",
    "    @variable(m, d2minus >= 0)\n",
    "    @variable(m, d2plus >= 0)\n",
    "    @objective(m, Min, d2minus)\n",
    "    @constraint(m, 10*x1 + 11*x2 + d1minus - d1plus == 1320)\n",
    "    @constraint(m, x1 + d2minus - d2plus == 15)\n",
    "    @constraint(m, 6*x1 + 8*x2 <= 960)\n",
    "    @constraint(m, 9*x1 + 7*x2 <= 870)\n",
    "    optimize!(m);\n",
    "    println(value.([x1, x2, d1minus, d1plus, d2minus, d2plus]))\n",
    "end "
   ]
  },
  {
   "cell_type": "markdown",
   "id": "ce1dd9e3",
   "metadata": {},
   "source": [
    "- $d_2^-$ is zero. Now substitude the value in the new model"
   ]
  },
  {
   "cell_type": "markdown",
   "id": "a950664c",
   "metadata": {},
   "source": [
    "$$\n",
    "\\begin{aligned}\n",
    "\\min z = & d_1^- \\\\\n",
    "\\text{Subject to:} & \\\\\n",
    "& 10x_1 + 11x_2 + d_1^- - d_1^+ = 1320 \\\\\n",
    "& x_1 - d_2^+ = 15 \\\\\n",
    "& 6x_1 + 8x_2 \\le 960 \\\\\n",
    "& 9x_1 + 7x_2 \\le 870 \\\\\n",
    "& x_1, x_2, d_1^-, d_1^+, d_2^-, d_2^+ \\ge 0 \\\\\n",
    "\\end{aligned}\n",
    "$$"
   ]
  },
  {
   "cell_type": "code",
   "execution_count": 22,
   "id": "812417c0",
   "metadata": {},
   "outputs": [
    {
     "name": "stdout",
     "output_type": "stream",
     "text": [
      "Running HiGHS 1.10.0 (git hash: fd8665394e): Copyright (c) 2025 HiGHS under MIT licence terms\n",
      "LP   has 4 rows; 6 cols; 10 nonzeros\n",
      "Coefficient ranges:\n",
      "  Matrix [1e+00, 1e+01]\n",
      "  Cost   [1e+00, 1e+00]\n",
      "  Bound  [0e+00, 0e+00]\n",
      "  RHS    [2e+01, 1e+03]\n",
      "Presolving model\n",
      "3 rows, 4 cols, 8 nonzeros  0s\n",
      "Dependent equations search running on 1 equations with time limit of 1000.00s\n",
      "Dependent equations search removed 0 rows and 0 nonzeros in 0.00s (limit = 1000.00s)\n",
      "3 rows, 4 cols, 8 nonzeros  0s\n",
      "Presolve : Reductions: rows 3(-1); columns 4(-2); elements 8(-2)\n",
      "Solving the presolved LP\n",
      "Using EKK dual simplex solver - serial\n",
      "  Iteration        Objective     Infeasibilities num(sum)\n",
      "          0     7.9210135324e-05 Pr: 1(1170) 0s\n",
      "          2     1.5000000000e+01 Pr: 0(0) 0s\n",
      "Solving the original LP from the solution after postsolve\n",
      "Model status        : Optimal\n",
      "Simplex   iterations: 2\n",
      "Objective value     :  1.5000000000e+01\n",
      "Relative P-D gap    :  0.0000000000e+00\n",
      "HiGHS run time      :          0.00\n",
      "[15.0, 105.0, 15.0, 0.0, 0.0, 0.0]\n"
     ]
    }
   ],
   "source": [
    "begin \n",
    "    m = Model(HiGHS.Optimizer)\n",
    "    @variable(m, x1 >= 0)\n",
    "    @variable(m, x2 >= 0)\n",
    "    @variable(m, d1minus >= 0)\n",
    "    @variable(m, d1plus >= 0)\n",
    "    @variable(m, d2minus >= 0)\n",
    "    @variable(m, d2plus >= 0)\n",
    "    @objective(m, Min, d1minus)\n",
    "    @constraint(m, 10*x1 + 11*x2 + d1minus - d1plus == 1320)\n",
    "    @constraint(m, x1 - d2plus == 15)\n",
    "    @constraint(m, 6*x1 + 8*x2 <= 960)\n",
    "    @constraint(m, 9*x1 + 7*x2 <= 870)\n",
    "    optimize!(m);\n",
    "    println(value.([x1, x2, d1minus, d1plus, d2minus, d2plus]))\n",
    "end "
   ]
  },
  {
   "cell_type": "markdown",
   "id": "060f50a5",
   "metadata": {},
   "source": [
    "- $d_1^- = 15$ and $d_1^+ = 0$ so Goal 1 is **not** satisfied\n",
    "- $d_2^- = 0$ and $d_2^+ = 0$ so Goal 2 is satisfied"
   ]
  },
  {
   "cell_type": "code",
   "execution_count": null,
   "id": "fb0849aa",
   "metadata": {},
   "outputs": [],
   "source": []
  }
 ],
 "metadata": {
  "kernelspec": {
   "display_name": "Julia 1.11.4",
   "language": "julia",
   "name": "julia-1.11"
  },
  "language_info": {
   "file_extension": ".jl",
   "mimetype": "application/julia",
   "name": "julia",
   "version": "1.11.4"
  }
 },
 "nbformat": 4,
 "nbformat_minor": 5
}
