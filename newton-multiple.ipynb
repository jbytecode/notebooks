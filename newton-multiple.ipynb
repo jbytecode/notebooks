{
 "cells": [
  {
   "cell_type": "code",
   "execution_count": 44,
   "id": "c90cc5e0-9298-462f-910f-f72964f07736",
   "metadata": {},
   "outputs": [],
   "source": [
    "using ForwardDiff"
   ]
  },
  {
   "cell_type": "markdown",
   "id": "cb4d781e-3ea2-4d42-afd9-a0bb684bff41",
   "metadata": {},
   "source": [
    "# Newton's method "
   ]
  },
  {
   "cell_type": "markdown",
   "id": "a8702e57-809d-4b99-b9f1-10e30506edaf",
   "metadata": {},
   "source": [
    "- $f(x_1, x_2, \\ldots, x_n)$: Function to minimize\n",
    "- $\\nabla{f}$ is gradient vector where\n",
    "\n",
    "\n",
    "$$\n",
    "\\nabla{f} =  \\Big[\\frac{\\partial f}{\\partial x_1}, \\frac{\\partial f}{\\partial x_2}, \\ldots, \\frac{\\partial f}{\\partial x_n} \\Big] \n",
    "$$\n",
    "\n",
    "- $H$ is Hessian matrix\n",
    "- $x$ is the initial solution"
   ]
  },
  {
   "cell_type": "markdown",
   "id": "4f67f75d-451d-40a0-ae05-d8a3ba4af12b",
   "metadata": {},
   "source": [
    "- General algorithm:\n",
    "- iterate until convergence\n",
    "- $x := x - H^{-1}|_{x} \\nabla f|_{x}$"
   ]
  },
  {
   "cell_type": "code",
   "execution_count": 23,
   "id": "5eddb9d2-c4df-4c3f-81d7-b3185800ee3d",
   "metadata": {},
   "outputs": [
    {
     "data": {
      "text/plain": [
       "f (generic function with 1 method)"
      ]
     },
     "execution_count": 23,
     "metadata": {},
     "output_type": "execute_result"
    }
   ],
   "source": [
    "f(x) = (x[1] - 3.14159265)^2 + (x[2] - exp(1))^2 + (x[1] * x[2] - 8.539734)^2"
   ]
  },
  {
   "cell_type": "code",
   "execution_count": 45,
   "id": "3d30532e-eb0e-42f0-aad6-c4270da3e1aa",
   "metadata": {},
   "outputs": [
    {
     "name": "stderr",
     "output_type": "stream",
     "text": [
      "┌ Info: Result\n",
      "│   i = 8\n",
      "│   x = [3.1415848245146822, 2.7182952709785266]\n",
      "└ @ Main In[45]:8\n"
     ]
    }
   ],
   "source": [
    "epsilon = 0.0001\n",
    "x = [3.0, 4.0]\n",
    "for i in 1:100\n",
    "    df = ForwardDiff.gradient(f, x)\n",
    "    hs = ForwardDiff.hessian(f, x)\n",
    "    newx = x - inv(hs) * df\n",
    "    if sum((x .- newx) .|> abs) < 0.0001\n",
    "        @info \"Result\" i x\n",
    "        break\n",
    "    end\n",
    "    x = newx\n",
    "end"
   ]
  },
  {
   "cell_type": "code",
   "execution_count": null,
   "id": "7d3ba4d3-b31c-4fc9-9ed9-a2ebe1642ed0",
   "metadata": {},
   "outputs": [],
   "source": []
  }
 ],
 "metadata": {
  "kernelspec": {
   "display_name": "Julia 1.7.1",
   "language": "julia",
   "name": "julia-1.7"
  },
  "language_info": {
   "file_extension": ".jl",
   "mimetype": "application/julia",
   "name": "julia",
   "version": "1.7.1"
  }
 },
 "nbformat": 4,
 "nbformat_minor": 5
}
