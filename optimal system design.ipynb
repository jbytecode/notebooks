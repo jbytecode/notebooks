{
 "cells": [
  {
   "cell_type": "code",
   "execution_count": 7,
   "id": "8045ddf4",
   "metadata": {},
   "outputs": [
    {
     "name": "stderr",
     "output_type": "stream",
     "text": [
      "\u001b[32m\u001b[1m  Activating\u001b[22m\u001b[39m project at `~/code/julia/notebooks`\n"
     ]
    }
   ],
   "source": [
    "using Pkg\n",
    "Pkg.activate(\".\")"
   ]
  },
  {
   "cell_type": "code",
   "execution_count": 8,
   "id": "92ab1f4a",
   "metadata": {},
   "outputs": [],
   "source": [
    "using JuMP, HiGHS"
   ]
  },
  {
   "cell_type": "markdown",
   "id": "b39e77a9",
   "metadata": {},
   "source": [
    "|           |   Product 1  |     Product 2 |     Capacity       |\n",
    "| :----:    | :---------:  | :----------:  | :-------------:    |\n",
    "| Labour    |      2       |       3       |        a           |\n",
    "| Machine   |      4       |       2       |        b           |\n",
    "| Profit    |      3       |       3       |                    |"
   ]
  },
  {
   "cell_type": "markdown",
   "id": "1aa1793d",
   "metadata": {},
   "source": [
    "- The total capacity of sources is limited to 500 hours"
   ]
  },
  {
   "cell_type": "markdown",
   "id": "8e273140",
   "metadata": {},
   "source": [
    "$$\n",
    "\\begin{aligned}\n",
    "\\max z = & 3x + 3y \\\\\n",
    "\\text{Subject to:} & \\\\\n",
    "& 2x + 3y \\le a \\\\\n",
    "& 4x + 2y \\le b \\\\\n",
    "& a + b \\le 500 \\\\\n",
    "& x, y, a, b \\ge 0 \\\\\n",
    "\\end{aligned}\n",
    "$$"
   ]
  },
  {
   "cell_type": "code",
   "execution_count": 9,
   "id": "514f2668",
   "metadata": {},
   "outputs": [
    {
     "name": "stdout",
     "output_type": "stream",
     "text": [
      "Running HiGHS 1.10.0 (git hash: fd8665394e): Copyright (c) 2025 HiGHS under MIT licence terms\n",
      "LP   has 3 rows; 4 cols; 8 nonzeros\n",
      "Coefficient ranges:\n",
      "  Matrix [1e+00, 4e+00]\n",
      "  Cost   [3e+00, 3e+00]\n",
      "  Bound  [0e+00, 0e+00]\n",
      "  RHS    [5e+02, 5e+02]\n",
      "Presolving model\n",
      "3 rows, 4 cols, 8 nonzeros  0s\n",
      "2 rows, 3 cols, 6 nonzeros  0s\n",
      "1 rows, 2 cols, 2 nonzeros  0s\n",
      "0 rows, 0 cols, 0 nonzeros  0s\n",
      "Presolve : Reductions: rows 0(-3); columns 0(-4); elements 0(-8) - Reduced to empty\n",
      "Solving the original LP from the solution after postsolve\n",
      "Model status        : Optimal\n",
      "Objective value     :  3.0000000000e+02\n",
      "Relative P-D gap    :  0.0000000000e+00\n",
      "HiGHS run time      :          0.00\n"
     ]
    }
   ],
   "source": [
    "m = Model(HiGHS.Optimizer)\n",
    "@variable(m, x >= 0)\n",
    "@variable(m, y >= 0)\n",
    "@variable(m, a >= 0)\n",
    "@variable(m, b >= 0)\n",
    "@objective(m, Max, 3x + 3y)\n",
    "@constraint(m, 2x + 3y <= a)\n",
    "@constraint(m, 4x + 2y <= b)\n",
    "@constraint(m, a + b <= 500)\n",
    "optimize!(m)"
   ]
  },
  {
   "cell_type": "code",
   "execution_count": 10,
   "id": "cd644760",
   "metadata": {},
   "outputs": [
    {
     "data": {
      "text/plain": [
       "true"
      ]
     },
     "execution_count": 10,
     "metadata": {},
     "output_type": "execute_result"
    }
   ],
   "source": [
    "JuMP.is_solved_and_feasible(m)"
   ]
  },
  {
   "cell_type": "code",
   "execution_count": 11,
   "id": "b3d169ef",
   "metadata": {},
   "outputs": [
    {
     "data": {
      "text/plain": [
       "4-element Vector{Float64}:\n",
       "   0.0\n",
       " 100.0\n",
       " 300.0\n",
       " 200.0"
      ]
     },
     "execution_count": 11,
     "metadata": {},
     "output_type": "execute_result"
    }
   ],
   "source": [
    "value.([x, y, a, b])"
   ]
  },
  {
   "cell_type": "code",
   "execution_count": 12,
   "id": "1b58ffbc",
   "metadata": {},
   "outputs": [
    {
     "data": {
      "text/plain": [
       "300.0"
      ]
     },
     "execution_count": 12,
     "metadata": {},
     "output_type": "execute_result"
    }
   ],
   "source": [
    "JuMP.objective_value(m)"
   ]
  },
  {
   "cell_type": "markdown",
   "id": "4d185630",
   "metadata": {},
   "source": [
    "- $x = 0$\n",
    "- $y = 100$\n",
    "- $a = 300$\n",
    "- $b = 200$\n",
    "- $z = 300$"
   ]
  },
  {
   "cell_type": "code",
   "execution_count": null,
   "id": "f89ecc84",
   "metadata": {},
   "outputs": [],
   "source": []
  }
 ],
 "metadata": {
  "kernelspec": {
   "display_name": "Julia 1.11.4",
   "language": "julia",
   "name": "julia-1.11"
  },
  "language_info": {
   "file_extension": ".jl",
   "mimetype": "application/julia",
   "name": "julia",
   "version": "1.11.4"
  }
 },
 "nbformat": 4,
 "nbformat_minor": 5
}
