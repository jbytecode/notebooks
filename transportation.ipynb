{
 "cells": [
  {
   "cell_type": "markdown",
   "id": "7754f665-b7d2-49b3-a3fc-1792f884a468",
   "metadata": {},
   "source": [
    "# Transportation problem example"
   ]
  },
  {
   "cell_type": "markdown",
   "id": "803e2ee9-d9ad-4d74-9d63-63f153988c53",
   "metadata": {},
   "source": [
    "|            |    Retail 1   |   Retail  2   |   Retail 3    |    Supply   |\n",
    "| :-------:  | :----------:  | :----------:  | :---------:   | :---------: |\n",
    "|  Supplier 1|       10      |      9        |       15      |    100      |\n",
    "|  Supplier 2|       7       |      19       |       9       |    50      |\n",
    "|  Supplier 3|       11      |      21       |       11      |    60      |\n",
    "|  Supplier 4|       15      |      8        |       10      |    40      |\n",
    "|  Demand    |      100      |     100       |       50      |            |"
   ]
  },
  {
   "cell_type": "markdown",
   "id": "fb38d95f-c1d0-4f13-9139-0470501e17e0",
   "metadata": {},
   "source": [
    "$$\n",
    "\\begin{aligned}\n",
    "\\min z & = 10x_{11} + 9x_{12} + 15x_{13} + \\ldots + 15x_{41} + 8x_{42} + 10x_{43} \\\\\n",
    "\\text{Subjecto to:} \\\\\n",
    "& \\sum_{i=1}^{4} x_{i1} + x_{i2} + x_{i3} = \\text{Supply}_i \\\\ \n",
    "& \\sum_{j=1}^{3} x_{1j} + x_{2j} + x_{3j} = \\text{Demand}_j \\\\ \n",
    "& x_{ij} \\ge 0 \\\\\n",
    "& i = 1,2,3,4 \\\\\n",
    "& j = 1,2,3\n",
    "\\end{aligned}    \n",
    "$$"
   ]
  },
  {
   "cell_type": "code",
   "execution_count": 49,
   "id": "4427220c-709d-4922-8b48-76b8e2fe15ff",
   "metadata": {},
   "outputs": [],
   "source": [
    "using JuMP"
   ]
  },
  {
   "cell_type": "code",
   "execution_count": 50,
   "id": "ab493923-7729-47cd-a8b2-e28df543b8e6",
   "metadata": {},
   "outputs": [],
   "source": [
    "using GLPK"
   ]
  },
  {
   "cell_type": "code",
   "execution_count": 51,
   "id": "05671035-5faf-453c-9d1d-f2b3bd92cafb",
   "metadata": {},
   "outputs": [
    {
     "data": {
      "text/plain": [
       "A JuMP Model\n",
       "Feasibility problem with:\n",
       "Variables: 0\n",
       "Model mode: AUTOMATIC\n",
       "CachingOptimizer state: EMPTY_OPTIMIZER\n",
       "Solver name: GLPK"
      ]
     },
     "execution_count": 51,
     "metadata": {},
     "output_type": "execute_result"
    }
   ],
   "source": [
    "m = Model(GLPK.Optimizer)"
   ]
  },
  {
   "cell_type": "code",
   "execution_count": 52,
   "id": "7532e5f0-296b-496d-b6e5-b43601637a58",
   "metadata": {},
   "outputs": [
    {
     "data": {
      "text/plain": [
       "3-element Vector{Int64}:\n",
       " 100\n",
       " 100\n",
       "  50"
      ]
     },
     "execution_count": 52,
     "metadata": {},
     "output_type": "execute_result"
    }
   ],
   "source": [
    "c = [10, 7, 11, 15, 9, 19, 21, 8, 15, 9, 11, 10 ]\n",
    "supply = [100, 50, 60, 40]\n",
    "demand = [100, 100, 50]"
   ]
  },
  {
   "cell_type": "code",
   "execution_count": 53,
   "id": "e7cfde7d-1b5d-4f87-bd3e-46f73a422b0c",
   "metadata": {},
   "outputs": [
    {
     "data": {
      "text/plain": [
       "true"
      ]
     },
     "execution_count": 53,
     "metadata": {},
     "output_type": "execute_result"
    }
   ],
   "source": [
    "sum(supply) == sum(demand)"
   ]
  },
  {
   "cell_type": "code",
   "execution_count": 54,
   "id": "fc061bcc-d10f-4db6-b019-48ca3c8f0600",
   "metadata": {},
   "outputs": [
    {
     "data": {
      "text/plain": [
       "4×3 Matrix{VariableRef}:\n",
       " x[1,1]  x[1,2]  x[1,3]\n",
       " x[2,1]  x[2,2]  x[2,3]\n",
       " x[3,1]  x[3,2]  x[3,3]\n",
       " x[4,1]  x[4,2]  x[4,3]"
      ]
     },
     "execution_count": 54,
     "metadata": {},
     "output_type": "execute_result"
    }
   ],
   "source": [
    "@variable(m, x[1:4, 1:3])"
   ]
  },
  {
   "cell_type": "code",
   "execution_count": 55,
   "id": "a8eb90b6-47d7-45a7-8f25-a1c54ee0a651",
   "metadata": {},
   "outputs": [
    {
     "data": {
      "text/latex": [
       "$$ 10 x_{1,1} + 7 x_{2,1} + 11 x_{3,1} + 15 x_{4,1} + 9 x_{1,2} + 19 x_{2,2} + 21 x_{3,2} + 8 x_{4,2} + 15 x_{1,3} + 9 x_{2,3} + 11 x_{3,3} + 10 x_{4,3} $$"
      ],
      "text/plain": [
       "10 x[1,1] + 7 x[2,1] + 11 x[3,1] + 15 x[4,1] + 9 x[1,2] + 19 x[2,2] + 21 x[3,2] + 8 x[4,2] + 15 x[1,3] + 9 x[2,3] + 11 x[3,3] + 10 x[4,3]"
      ]
     },
     "execution_count": 55,
     "metadata": {},
     "output_type": "execute_result"
    }
   ],
   "source": [
    "@objective(m, Min, sum(c .* x[:]))"
   ]
  },
  {
   "cell_type": "code",
   "execution_count": 56,
   "id": "90800b2a-de3a-4ca1-a704-a04884b6d45c",
   "metadata": {},
   "outputs": [],
   "source": [
    "for i in 1:4\n",
    "    @constraint(m, sum(x[i,:]) == supply[i])\n",
    "end"
   ]
  },
  {
   "cell_type": "code",
   "execution_count": 57,
   "id": "4ca7234f-983c-410f-8bda-ce81962872cd",
   "metadata": {},
   "outputs": [],
   "source": [
    "for j in 1:3\n",
    "    @constraint(m, sum(x[:,j]) == demand[j])\n",
    "end"
   ]
  },
  {
   "cell_type": "code",
   "execution_count": 58,
   "id": "b624afe3-4520-48c6-ba4f-1f246988759c",
   "metadata": {},
   "outputs": [],
   "source": [
    "@constraint(m, x[:] .>= 0);"
   ]
  },
  {
   "cell_type": "code",
   "execution_count": 59,
   "id": "2a430f36-761a-460f-af9c-0e27e99c51bb",
   "metadata": {},
   "outputs": [
    {
     "name": "stdout",
     "output_type": "stream",
     "text": [
      "Min 10 x[1,1] + 7 x[2,1] + 11 x[3,1] + 15 x[4,1] + 9 x[1,2] + 19 x[2,2] + 21 x[3,2] + 8 x[4,2] + 15 x[1,3] + 9 x[2,3] + 11 x[3,3] + 10 x[4,3]\n",
      "Subject to\n",
      " x[1,1] + x[1,2] + x[1,3] = 100.0\n",
      " x[2,1] + x[2,2] + x[2,3] = 50.0\n",
      " x[3,1] + x[3,2] + x[3,3] = 60.0\n",
      " x[4,1] + x[4,2] + x[4,3] = 40.0\n",
      " x[1,1] + x[2,1] + x[3,1] + x[4,1] = 100.0\n",
      " x[1,2] + x[2,2] + x[3,2] + x[4,2] = 100.0\n",
      " x[1,3] + x[2,3] + x[3,3] + x[4,3] = 50.0\n",
      " x[1,1] ≥ 0.0\n",
      " x[2,1] ≥ 0.0\n",
      " x[3,1] ≥ 0.0\n",
      " x[4,1] ≥ 0.0\n",
      " x[1,2] ≥ 0.0\n",
      " x[2,2] ≥ 0.0\n",
      " x[3,2] ≥ 0.0\n",
      " x[4,2] ≥ 0.0\n",
      " x[1,3] ≥ 0.0\n",
      " x[2,3] ≥ 0.0\n",
      " x[3,3] ≥ 0.0\n",
      " x[4,3] ≥ 0.0\n",
      "\n"
     ]
    }
   ],
   "source": [
    "println(m)"
   ]
  },
  {
   "cell_type": "code",
   "execution_count": 60,
   "id": "f89afcb1-c228-4487-97c0-16123870956f",
   "metadata": {},
   "outputs": [],
   "source": [
    "optimize!(m)"
   ]
  },
  {
   "cell_type": "code",
   "execution_count": 61,
   "id": "1a617f4e-fc55-439b-b5e9-e7e931ec32e0",
   "metadata": {},
   "outputs": [
    {
     "data": {
      "text/plain": [
       "4×3 Matrix{Float64}:\n",
       " 40.0  60.0   0.0\n",
       " 50.0   0.0   0.0\n",
       " 10.0   0.0  50.0\n",
       "  0.0  40.0   0.0"
      ]
     },
     "execution_count": 61,
     "metadata": {},
     "output_type": "execute_result"
    }
   ],
   "source": [
    "value.(x)"
   ]
  },
  {
   "cell_type": "markdown",
   "id": "5cf87acd-5d22-4222-a167-2d16a15e0ec3",
   "metadata": {},
   "source": [
    "|            |    Retail 1   |   Retail  2   |   Retail 3    |    Supply   |\n",
    "| :-------:  | :----------:  | :----------:  | :---------:   | :---------: |\n",
    "|  Supplier 1|       10 (40) |   9 (60)      |   15          |    100      |\n",
    "|  Supplier 2|       7  (50) |   19          |       9       |    50      |\n",
    "|  Supplier 3|       11 (10) |   21          |   11 (50)     |    60      |\n",
    "|  Supplier 4|   15          |   8 (40)      |       10      |    40      |\n",
    "|  Demand    |      100      |     100       |       50      |            |"
   ]
  },
  {
   "cell_type": "code",
   "execution_count": 64,
   "id": "e8d13210-e406-4fd7-8c46-d91f1ee4cea5",
   "metadata": {},
   "outputs": [
    {
     "data": {
      "text/plain": [
       "2270"
      ]
     },
     "execution_count": 64,
     "metadata": {},
     "output_type": "execute_result"
    }
   ],
   "source": [
    "totalcost = 10 * 40 + 9 * 60 + 7 * 50 + 11 * 10 + 11 * 50 + 8 * 40 "
   ]
  },
  {
   "cell_type": "code",
   "execution_count": 65,
   "id": "619d1afe-5e3e-46b1-994c-0dac60301394",
   "metadata": {},
   "outputs": [
    {
     "data": {
      "text/plain": [
       "* Solver : GLPK\n",
       "\n",
       "* Status\n",
       "  Termination status : OPTIMAL\n",
       "  Primal status      : FEASIBLE_POINT\n",
       "  Dual status        : FEASIBLE_POINT\n",
       "  Message from the solver:\n",
       "  \"Solution is optimal\"\n",
       "\n",
       "* Candidate solution\n",
       "  Objective value      : 2270.0\n",
       "  Objective bound      : -Inf\n",
       "  Dual objective value : 2270.0\n",
       "\n",
       "* Work counters\n",
       "  Solve time (sec)   : 0.00011\n"
      ]
     },
     "execution_count": 65,
     "metadata": {},
     "output_type": "execute_result"
    }
   ],
   "source": [
    "solution_summary(m)"
   ]
  },
  {
   "cell_type": "code",
   "execution_count": null,
   "id": "b14442b5-a294-48f8-bf73-22ee0098f536",
   "metadata": {},
   "outputs": [],
   "source": []
  }
 ],
 "metadata": {
  "kernelspec": {
   "display_name": "Julia 1.7.1",
   "language": "julia",
   "name": "julia-1.7"
  },
  "language_info": {
   "file_extension": ".jl",
   "mimetype": "application/julia",
   "name": "julia",
   "version": "1.7.1"
  }
 },
 "nbformat": 4,
 "nbformat_minor": 5
}
