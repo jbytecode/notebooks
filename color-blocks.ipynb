{
 "cells": [
  {
   "cell_type": "markdown",
   "id": "12240dd9-c190-4ce9-bb76-b628e08e4a2d",
   "metadata": {},
   "source": [
    "![](blocks.png)"
   ]
  },
  {
   "cell_type": "code",
   "execution_count": 21,
   "id": "9c2fdd3b-7097-412d-b5a7-75533d217f6e",
   "metadata": {},
   "outputs": [],
   "source": [
    "using JuMP, GLPK"
   ]
  },
  {
   "cell_type": "code",
   "execution_count": 25,
   "id": "ba5fd7a4-f9a2-4165-8332-d28ca2d604ce",
   "metadata": {},
   "outputs": [
    {
     "name": "stdout",
     "output_type": "stream",
     "text": [
      "Red: 7.0\n",
      "Green: 3.0\n",
      "Blue: 8.0\n",
      "Yellow: 1.0\n"
     ]
    }
   ],
   "source": [
    "m = Model(GLPK.Optimizer)\n",
    "@variable(m, y, Int)\n",
    "@variable(m, b, Int)\n",
    "@variable(m, g, Int)\n",
    "@variable(m, r, Int)\n",
    "@constraint(m, \n",
    "    (1000y + 100b + 10b + g) \n",
    "    + (1000g + 100r + 10y + y) \n",
    "    + (1000y + 100r + 10y + r) == (1000r + 100g + 10y + y))\n",
    "@constraint(m, 1 <= y <= 9)\n",
    "@constraint(m, 1 <= g <= 9)\n",
    "@constraint(m, 0 <= b <= 9)\n",
    "@constraint(m, 1 <= r <= 9)\n",
    "optimize!(m)\n",
    "println(\"Red: \", value(r))\n",
    "println(\"Green: \", value(g))\n",
    "println(\"Blue: \", value(b))\n",
    "println(\"Yellow: \", value(y))"
   ]
  },
  {
   "cell_type": "code",
   "execution_count": 23,
   "id": "9a28c0b8-bdc4-4141-b2f5-de4d701362cc",
   "metadata": {},
   "outputs": [
    {
     "name": "stdout",
     "output_type": "stream",
     "text": [
      "Feasibility\n",
      "Subject to\n",
      " 2010 y + 110 b + 901 g - 799 r = 0.0\n",
      " y ∈ [1.0, 9.0]\n",
      " g ∈ [1.0, 9.0]\n",
      " b ∈ [0.0, 9.0]\n",
      " r ∈ [1.0, 9.0]\n",
      " y integer\n",
      " b integer\n",
      " g integer\n",
      " r integer\n",
      "\n"
     ]
    }
   ],
   "source": [
    "println(m)"
   ]
  },
  {
   "cell_type": "code",
   "execution_count": 24,
   "id": "7d917d22-4d55-4201-9f2b-92201955e27d",
   "metadata": {},
   "outputs": [
    {
     "data": {
      "text/plain": [
       "4-element Vector{Float64}:\n",
       " 7.0\n",
       " 3.0\n",
       " 1.0\n",
       " 1.0"
      ]
     },
     "execution_count": 24,
     "metadata": {},
     "output_type": "execute_result"
    }
   ],
   "source": [
    "value.([r, g, y, y])"
   ]
  },
  {
   "cell_type": "code",
   "execution_count": null,
   "id": "64530fac-cb62-4a37-bf29-f8ff414720e5",
   "metadata": {},
   "outputs": [],
   "source": []
  }
 ],
 "metadata": {
  "kernelspec": {
   "display_name": "Julia 1.9.0-DEV",
   "language": "julia",
   "name": "julia-1.9"
  },
  "language_info": {
   "file_extension": ".jl",
   "mimetype": "application/julia",
   "name": "julia",
   "version": "1.9.0"
  }
 },
 "nbformat": 4,
 "nbformat_minor": 5
}
