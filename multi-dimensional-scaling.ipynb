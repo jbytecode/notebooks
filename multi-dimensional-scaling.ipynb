{
 "cells": [
  {
   "cell_type": "code",
   "execution_count": 142,
   "id": "dc1aada8-b7a5-4942-bc69-12e5f3600fd5",
   "metadata": {},
   "outputs": [],
   "source": [
    "using MultivariateStats\n",
    "using Plots\n",
    "using Optim"
   ]
  },
  {
   "cell_type": "code",
   "execution_count": 143,
   "id": "676cbccc-c26c-4ccb-ae6a-e966062c0965",
   "metadata": {},
   "outputs": [
    {
     "name": "stdout",
     "output_type": "stream",
     "text": [
      "points = [0.04236404900185098 0.5706043052349906 0.7069500333195994 0.19326687415477062 0.594682915673788; 0.11491791460253942 0.8548723334643146 0.1690412629569895 0.5446601705314281 0.12525503327329712; 0.012358394364994196 0.27255852312724316 0.27685156879361006 0.2168123741061787 0.16803818104321333; 0.5613106490811601 0.21629937968499924 0.32767490503054786 0.9227032795281015 0.2812454715012348; 0.10800528956802324 0.8334687954849764 0.017621769457183634 0.36658251952327137 0.5765688237478639; 5.0 4.0 3.0 7.0 14.0; 5.0 6.0 5.0 4.0 3.0]\n"
     ]
    },
    {
     "data": {
      "text/plain": [
       "7×5 Matrix{Float64}:\n",
       " 0.042364   0.570604  0.70695    0.193267   0.594683\n",
       " 0.114918   0.854872  0.169041   0.54466    0.125255\n",
       " 0.0123584  0.272559  0.276852   0.216812   0.168038\n",
       " 0.561311   0.216299  0.327675   0.922703   0.281245\n",
       " 0.108005   0.833469  0.0176218  0.366583   0.576569\n",
       " 5.0        4.0       3.0        7.0       14.0\n",
       " 5.0        6.0       5.0        4.0        3.0"
      ]
     },
     "execution_count": 143,
     "metadata": {},
     "output_type": "execute_result"
    }
   ],
   "source": [
    "points = rand(7, 5);\n",
    "points[6,:] .= [5.0, 4.0, 3.0, 7.0, 14.0];\n",
    "points[7,:] .= [5.0, 6.0, 5.0, 4.0, 3.0];\n",
    "@show points"
   ]
  },
  {
   "cell_type": "code",
   "execution_count": 144,
   "id": "602f5b76-5e37-4451-9253-a097ee2ebe9e",
   "metadata": {},
   "outputs": [
    {
     "data": {
      "text/plain": [
       "Classical MDS(indim = 7, outdim = 2)"
      ]
     },
     "execution_count": 144,
     "metadata": {},
     "output_type": "execute_result"
    }
   ],
   "source": [
    "M = fit(MDS, points, maxoutdim=2, distances=false)"
   ]
  },
  {
   "cell_type": "code",
   "execution_count": 145,
   "id": "c8accb25-b30c-4bdb-80d2-fd7981fe91c1",
   "metadata": {},
   "outputs": [
    {
     "data": {
      "text/plain": [
       "2×7 Matrix{Float64}:\n",
       " -0.367397  2.00167   0.407144    0.110948  -1.94256   -79.2747    18.5223\n",
       "  0.274914  0.552255  0.0815158  -0.482635   0.758415    0.282563   1.23577"
      ]
     },
     "execution_count": 145,
     "metadata": {},
     "output_type": "execute_result"
    }
   ],
   "source": [
    "d2d = predict(M) * transpose(points)"
   ]
  },
  {
   "cell_type": "code",
   "execution_count": 146,
   "id": "143fa171-d158-484f-a650-13b708375f90",
   "metadata": {},
   "outputs": [
    {
     "data": {
      "image/svg+xml": [
       "<?xml version=\"1.0\" encoding=\"utf-8\"?>\n",
       "<svg xmlns=\"http://www.w3.org/2000/svg\" xmlns:xlink=\"http://www.w3.org/1999/xlink\" width=\"600\" height=\"400\" viewBox=\"0 0 2400 1600\">\n",
       "<defs>\n",
       "  <clipPath id=\"clip030\">\n",
       "    <rect x=\"0\" y=\"0\" width=\"2400\" height=\"1600\"/>\n",
       "  </clipPath>\n",
       "</defs>\n",
       "<path clip-path=\"url(#clip030)\" d=\"\n",
       "M0 1600 L2400 1600 L2400 0 L0 0  Z\n",
       "  \" fill=\"#ffffff\" fill-rule=\"evenodd\" fill-opacity=\"1\"/>\n",
       "<defs>\n",
       "  <clipPath id=\"clip031\">\n",
       "    <rect x=\"480\" y=\"0\" width=\"1681\" height=\"1600\"/>\n",
       "  </clipPath>\n",
       "</defs>\n",
       "<path clip-path=\"url(#clip030)\" d=\"\n",
       "M192.941 1486.45 L2352.76 1486.45 L2352.76 47.2441 L192.941 47.2441  Z\n",
       "  \" fill=\"#ffffff\" fill-rule=\"evenodd\" fill-opacity=\"1\"/>\n",
       "<defs>\n",
       "  <clipPath id=\"clip032\">\n",
       "    <rect x=\"192\" y=\"47\" width=\"2161\" height=\"1440\"/>\n",
       "  </clipPath>\n",
       "</defs>\n",
       "<polyline clip-path=\"url(#clip032)\" style=\"stroke:#000000; stroke-linecap:butt; stroke-linejoin:round; stroke-width:2; stroke-opacity:0.1; fill:none\" points=\"\n",
       "  343.129,1486.45 343.129,47.2441 \n",
       "  \"/>\n",
       "<polyline clip-path=\"url(#clip032)\" style=\"stroke:#000000; stroke-linecap:butt; stroke-linejoin:round; stroke-width:2; stroke-opacity:0.1; fill:none\" points=\"\n",
       "  863.994,1486.45 863.994,47.2441 \n",
       "  \"/>\n",
       "<polyline clip-path=\"url(#clip032)\" style=\"stroke:#000000; stroke-linecap:butt; stroke-linejoin:round; stroke-width:2; stroke-opacity:0.1; fill:none\" points=\"\n",
       "  1384.86,1486.45 1384.86,47.2441 \n",
       "  \"/>\n",
       "<polyline clip-path=\"url(#clip032)\" style=\"stroke:#000000; stroke-linecap:butt; stroke-linejoin:round; stroke-width:2; stroke-opacity:0.1; fill:none\" points=\"\n",
       "  1905.72,1486.45 1905.72,47.2441 \n",
       "  \"/>\n",
       "<polyline clip-path=\"url(#clip030)\" style=\"stroke:#000000; stroke-linecap:butt; stroke-linejoin:round; stroke-width:4; stroke-opacity:1; fill:none\" points=\"\n",
       "  192.941,1486.45 2352.76,1486.45 \n",
       "  \"/>\n",
       "<polyline clip-path=\"url(#clip030)\" style=\"stroke:#000000; stroke-linecap:butt; stroke-linejoin:round; stroke-width:4; stroke-opacity:1; fill:none\" points=\"\n",
       "  343.129,1486.45 343.129,1467.55 \n",
       "  \"/>\n",
       "<polyline clip-path=\"url(#clip030)\" style=\"stroke:#000000; stroke-linecap:butt; stroke-linejoin:round; stroke-width:4; stroke-opacity:1; fill:none\" points=\"\n",
       "  863.994,1486.45 863.994,1467.55 \n",
       "  \"/>\n",
       "<polyline clip-path=\"url(#clip030)\" style=\"stroke:#000000; stroke-linecap:butt; stroke-linejoin:round; stroke-width:4; stroke-opacity:1; fill:none\" points=\"\n",
       "  1384.86,1486.45 1384.86,1467.55 \n",
       "  \"/>\n",
       "<polyline clip-path=\"url(#clip030)\" style=\"stroke:#000000; stroke-linecap:butt; stroke-linejoin:round; stroke-width:4; stroke-opacity:1; fill:none\" points=\"\n",
       "  1905.72,1486.45 1905.72,1467.55 \n",
       "  \"/>\n",
       "<path clip-path=\"url(#clip030)\" d=\"M297.689 1532.02 L327.365 1532.02 L327.365 1535.95 L297.689 1535.95 L297.689 1532.02 Z\" fill=\"#000000\" fill-rule=\"evenodd\" fill-opacity=\"1\" /><path clip-path=\"url(#clip030)\" d=\"M336.277 1514.29 L358.499 1514.29 L358.499 1516.28 L345.953 1548.85 L341.069 1548.85 L352.874 1518.22 L336.277 1518.22 L336.277 1514.29 Z\" fill=\"#000000\" fill-rule=\"evenodd\" fill-opacity=\"1\" /><path clip-path=\"url(#clip030)\" d=\"M367.666 1514.29 L386.022 1514.29 L386.022 1518.22 L371.948 1518.22 L371.948 1526.7 Q372.967 1526.35 373.985 1526.19 Q375.004 1526 376.022 1526 Q381.809 1526 385.189 1529.17 Q388.568 1532.34 388.568 1537.76 Q388.568 1543.34 385.096 1546.44 Q381.624 1549.52 375.304 1549.52 Q373.129 1549.52 370.86 1549.15 Q368.615 1548.78 366.207 1548.04 L366.207 1543.34 Q368.291 1544.47 370.513 1545.03 Q372.735 1545.58 375.212 1545.58 Q379.216 1545.58 381.554 1543.48 Q383.892 1541.37 383.892 1537.76 Q383.892 1534.15 381.554 1532.04 Q379.216 1529.94 375.212 1529.94 Q373.337 1529.94 371.462 1530.35 Q369.61 1530.77 367.666 1531.65 L367.666 1514.29 Z\" fill=\"#000000\" fill-rule=\"evenodd\" fill-opacity=\"1\" /><path clip-path=\"url(#clip030)\" d=\"M818.057 1532.02 L847.732 1532.02 L847.732 1535.95 L818.057 1535.95 L818.057 1532.02 Z\" fill=\"#000000\" fill-rule=\"evenodd\" fill-opacity=\"1\" /><path clip-path=\"url(#clip030)\" d=\"M857.871 1514.29 L876.227 1514.29 L876.227 1518.22 L862.153 1518.22 L862.153 1526.7 Q863.172 1526.35 864.191 1526.19 Q865.209 1526 866.228 1526 Q872.015 1526 875.394 1529.17 Q878.774 1532.34 878.774 1537.76 Q878.774 1543.34 875.302 1546.44 Q871.829 1549.52 865.51 1549.52 Q863.334 1549.52 861.066 1549.15 Q858.82 1548.78 856.413 1548.04 L856.413 1543.34 Q858.496 1544.47 860.718 1545.03 Q862.941 1545.58 865.417 1545.58 Q869.422 1545.58 871.76 1543.48 Q874.098 1541.37 874.098 1537.76 Q874.098 1534.15 871.76 1532.04 Q869.422 1529.94 865.417 1529.94 Q863.542 1529.94 861.667 1530.35 Q859.816 1530.77 857.871 1531.65 L857.871 1514.29 Z\" fill=\"#000000\" fill-rule=\"evenodd\" fill-opacity=\"1\" /><path clip-path=\"url(#clip030)\" d=\"M897.987 1517.37 Q894.376 1517.37 892.547 1520.93 Q890.741 1524.47 890.741 1531.6 Q890.741 1538.71 892.547 1542.27 Q894.376 1545.82 897.987 1545.82 Q901.621 1545.82 903.426 1542.27 Q905.255 1538.71 905.255 1531.6 Q905.255 1524.47 903.426 1520.93 Q901.621 1517.37 897.987 1517.37 M897.987 1513.66 Q903.797 1513.66 906.852 1518.27 Q909.931 1522.85 909.931 1531.6 Q909.931 1540.33 906.852 1544.94 Q903.797 1549.52 897.987 1549.52 Q892.176 1549.52 889.098 1544.94 Q886.042 1540.33 886.042 1531.6 Q886.042 1522.85 889.098 1518.27 Q892.176 1513.66 897.987 1513.66 Z\" fill=\"#000000\" fill-rule=\"evenodd\" fill-opacity=\"1\" /><path clip-path=\"url(#clip030)\" d=\"M1339.42 1532.02 L1369.1 1532.02 L1369.1 1535.95 L1339.42 1535.95 L1339.42 1532.02 Z\" fill=\"#000000\" fill-rule=\"evenodd\" fill-opacity=\"1\" /><path clip-path=\"url(#clip030)\" d=\"M1383.22 1544.91 L1399.53 1544.91 L1399.53 1548.85 L1377.59 1548.85 L1377.59 1544.91 Q1380.25 1542.16 1384.84 1537.53 Q1389.44 1532.88 1390.62 1531.53 Q1392.87 1529.01 1393.75 1527.27 Q1394.65 1525.51 1394.65 1523.82 Q1394.65 1521.07 1392.71 1519.33 Q1390.78 1517.6 1387.68 1517.6 Q1385.48 1517.6 1383.03 1518.36 Q1380.6 1519.13 1377.82 1520.68 L1377.82 1515.95 Q1380.65 1514.82 1383.1 1514.24 Q1385.55 1513.66 1387.59 1513.66 Q1392.96 1513.66 1396.16 1516.35 Q1399.35 1519.03 1399.35 1523.52 Q1399.35 1525.65 1398.54 1527.57 Q1397.75 1529.47 1395.65 1532.07 Q1395.07 1532.74 1391.97 1535.95 Q1388.86 1539.15 1383.22 1544.91 Z\" fill=\"#000000\" fill-rule=\"evenodd\" fill-opacity=\"1\" /><path clip-path=\"url(#clip030)\" d=\"M1409.4 1514.29 L1427.75 1514.29 L1427.75 1518.22 L1413.68 1518.22 L1413.68 1526.7 Q1414.7 1526.35 1415.72 1526.19 Q1416.73 1526 1417.75 1526 Q1423.54 1526 1426.92 1529.17 Q1430.3 1532.34 1430.3 1537.76 Q1430.3 1543.34 1426.83 1546.44 Q1423.35 1549.52 1417.03 1549.52 Q1414.86 1549.52 1412.59 1549.15 Q1410.34 1548.78 1407.94 1548.04 L1407.94 1543.34 Q1410.02 1544.47 1412.24 1545.03 Q1414.47 1545.58 1416.94 1545.58 Q1420.95 1545.58 1423.28 1543.48 Q1425.62 1541.37 1425.62 1537.76 Q1425.62 1534.15 1423.28 1532.04 Q1420.95 1529.94 1416.94 1529.94 Q1415.07 1529.94 1413.19 1530.35 Q1411.34 1530.77 1409.4 1531.65 L1409.4 1514.29 Z\" fill=\"#000000\" fill-rule=\"evenodd\" fill-opacity=\"1\" /><path clip-path=\"url(#clip030)\" d=\"M1905.72 1517.37 Q1902.11 1517.37 1900.28 1520.93 Q1898.48 1524.47 1898.48 1531.6 Q1898.48 1538.71 1900.28 1542.27 Q1902.11 1545.82 1905.72 1545.82 Q1909.36 1545.82 1911.16 1542.27 Q1912.99 1538.71 1912.99 1531.6 Q1912.99 1524.47 1911.16 1520.93 Q1909.36 1517.37 1905.72 1517.37 M1905.72 1513.66 Q1911.53 1513.66 1914.59 1518.27 Q1917.67 1522.85 1917.67 1531.6 Q1917.67 1540.33 1914.59 1544.94 Q1911.53 1549.52 1905.72 1549.52 Q1899.91 1549.52 1896.84 1544.94 Q1893.78 1540.33 1893.78 1531.6 Q1893.78 1522.85 1896.84 1518.27 Q1899.91 1513.66 1905.72 1513.66 Z\" fill=\"#000000\" fill-rule=\"evenodd\" fill-opacity=\"1\" /><polyline clip-path=\"url(#clip032)\" style=\"stroke:#000000; stroke-linecap:butt; stroke-linejoin:round; stroke-width:2; stroke-opacity:0.1; fill:none\" points=\"\n",
       "  192.941,1459.44 2352.76,1459.44 \n",
       "  \"/>\n",
       "<polyline clip-path=\"url(#clip032)\" style=\"stroke:#000000; stroke-linecap:butt; stroke-linejoin:round; stroke-width:2; stroke-opacity:0.1; fill:none\" points=\"\n",
       "  192.941,1064.38 2352.76,1064.38 \n",
       "  \"/>\n",
       "<polyline clip-path=\"url(#clip032)\" style=\"stroke:#000000; stroke-linecap:butt; stroke-linejoin:round; stroke-width:2; stroke-opacity:0.1; fill:none\" points=\"\n",
       "  192.941,669.32 2352.76,669.32 \n",
       "  \"/>\n",
       "<polyline clip-path=\"url(#clip032)\" style=\"stroke:#000000; stroke-linecap:butt; stroke-linejoin:round; stroke-width:2; stroke-opacity:0.1; fill:none\" points=\"\n",
       "  192.941,274.262 2352.76,274.262 \n",
       "  \"/>\n",
       "<polyline clip-path=\"url(#clip030)\" style=\"stroke:#000000; stroke-linecap:butt; stroke-linejoin:round; stroke-width:4; stroke-opacity:1; fill:none\" points=\"\n",
       "  192.941,1486.45 192.941,47.2441 \n",
       "  \"/>\n",
       "<polyline clip-path=\"url(#clip030)\" style=\"stroke:#000000; stroke-linecap:butt; stroke-linejoin:round; stroke-width:4; stroke-opacity:1; fill:none\" points=\"\n",
       "  192.941,1459.44 211.838,1459.44 \n",
       "  \"/>\n",
       "<polyline clip-path=\"url(#clip030)\" style=\"stroke:#000000; stroke-linecap:butt; stroke-linejoin:round; stroke-width:4; stroke-opacity:1; fill:none\" points=\"\n",
       "  192.941,1064.38 211.838,1064.38 \n",
       "  \"/>\n",
       "<polyline clip-path=\"url(#clip030)\" style=\"stroke:#000000; stroke-linecap:butt; stroke-linejoin:round; stroke-width:4; stroke-opacity:1; fill:none\" points=\"\n",
       "  192.941,669.32 211.838,669.32 \n",
       "  \"/>\n",
       "<polyline clip-path=\"url(#clip030)\" style=\"stroke:#000000; stroke-linecap:butt; stroke-linejoin:round; stroke-width:4; stroke-opacity:1; fill:none\" points=\"\n",
       "  192.941,274.262 211.838,274.262 \n",
       "  \"/>\n",
       "<path clip-path=\"url(#clip030)\" d=\"M50.9921 1459.89 L80.6679 1459.89 L80.6679 1463.82 L50.9921 1463.82 L50.9921 1459.89 Z\" fill=\"#000000\" fill-rule=\"evenodd\" fill-opacity=\"1\" /><path clip-path=\"url(#clip030)\" d=\"M100.76 1445.23 Q97.1493 1445.23 95.3206 1448.8 Q93.515 1452.34 93.515 1459.47 Q93.515 1466.58 95.3206 1470.14 Q97.1493 1473.68 100.76 1473.68 Q104.395 1473.68 106.2 1470.14 Q108.029 1466.58 108.029 1459.47 Q108.029 1452.34 106.2 1448.8 Q104.395 1445.23 100.76 1445.23 M100.76 1441.53 Q106.571 1441.53 109.626 1446.14 Q112.705 1450.72 112.705 1459.47 Q112.705 1468.2 109.626 1472.8 Q106.571 1477.39 100.76 1477.39 Q94.9502 1477.39 91.8715 1472.8 Q88.816 1468.2 88.816 1459.47 Q88.816 1450.72 91.8715 1446.14 Q94.9502 1441.53 100.76 1441.53 Z\" fill=\"#000000\" fill-rule=\"evenodd\" fill-opacity=\"1\" /><path clip-path=\"url(#clip030)\" d=\"M120.922 1470.84 L125.807 1470.84 L125.807 1476.72 L120.922 1476.72 L120.922 1470.84 Z\" fill=\"#000000\" fill-rule=\"evenodd\" fill-opacity=\"1\" /><path clip-path=\"url(#clip030)\" d=\"M136.038 1442.16 L154.394 1442.16 L154.394 1446.09 L140.32 1446.09 L140.32 1454.56 Q141.339 1454.22 142.357 1454.05 Q143.376 1453.87 144.394 1453.87 Q150.181 1453.87 153.561 1457.04 Q156.941 1460.21 156.941 1465.63 Q156.941 1471.21 153.468 1474.31 Q149.996 1477.39 143.677 1477.39 Q141.501 1477.39 139.232 1477.02 Q136.987 1476.65 134.58 1475.91 L134.58 1471.21 Q136.663 1472.34 138.885 1472.9 Q141.107 1473.45 143.584 1473.45 Q147.589 1473.45 149.927 1471.35 Q152.265 1469.24 152.265 1465.63 Q152.265 1462.02 149.927 1459.91 Q147.589 1457.8 143.584 1457.8 Q141.709 1457.8 139.834 1458.22 Q137.982 1458.64 136.038 1459.52 L136.038 1442.16 Z\" fill=\"#000000\" fill-rule=\"evenodd\" fill-opacity=\"1\" /><path clip-path=\"url(#clip030)\" d=\"M99.765 1050.18 Q96.1539 1050.18 94.3252 1053.74 Q92.5197 1057.28 92.5197 1064.41 Q92.5197 1071.52 94.3252 1075.08 Q96.1539 1078.63 99.765 1078.63 Q103.399 1078.63 105.205 1075.08 Q107.033 1071.52 107.033 1064.41 Q107.033 1057.28 105.205 1053.74 Q103.399 1050.18 99.765 1050.18 M99.765 1046.47 Q105.575 1046.47 108.631 1051.08 Q111.709 1055.66 111.709 1064.41 Q111.709 1073.14 108.631 1077.75 Q105.575 1082.33 99.765 1082.33 Q93.9549 1082.33 90.8762 1077.75 Q87.8206 1073.14 87.8206 1064.41 Q87.8206 1055.66 90.8762 1051.08 Q93.9549 1046.47 99.765 1046.47 Z\" fill=\"#000000\" fill-rule=\"evenodd\" fill-opacity=\"1\" /><path clip-path=\"url(#clip030)\" d=\"M119.927 1075.78 L124.811 1075.78 L124.811 1081.66 L119.927 1081.66 L119.927 1075.78 Z\" fill=\"#000000\" fill-rule=\"evenodd\" fill-opacity=\"1\" /><path clip-path=\"url(#clip030)\" d=\"M144.996 1050.18 Q141.385 1050.18 139.556 1053.74 Q137.751 1057.28 137.751 1064.41 Q137.751 1071.52 139.556 1075.08 Q141.385 1078.63 144.996 1078.63 Q148.63 1078.63 150.436 1075.08 Q152.265 1071.52 152.265 1064.41 Q152.265 1057.28 150.436 1053.74 Q148.63 1050.18 144.996 1050.18 M144.996 1046.47 Q150.806 1046.47 153.862 1051.08 Q156.941 1055.66 156.941 1064.41 Q156.941 1073.14 153.862 1077.75 Q150.806 1082.33 144.996 1082.33 Q139.186 1082.33 136.107 1077.75 Q133.052 1073.14 133.052 1064.41 Q133.052 1055.66 136.107 1051.08 Q139.186 1046.47 144.996 1046.47 Z\" fill=\"#000000\" fill-rule=\"evenodd\" fill-opacity=\"1\" /><path clip-path=\"url(#clip030)\" d=\"M100.76 655.118 Q97.1493 655.118 95.3206 658.683 Q93.515 662.225 93.515 669.354 Q93.515 676.461 95.3206 680.026 Q97.1493 683.567 100.76 683.567 Q104.395 683.567 106.2 680.026 Q108.029 676.461 108.029 669.354 Q108.029 662.225 106.2 658.683 Q104.395 655.118 100.76 655.118 M100.76 651.415 Q106.571 651.415 109.626 656.021 Q112.705 660.605 112.705 669.354 Q112.705 678.081 109.626 682.688 Q106.571 687.271 100.76 687.271 Q94.9502 687.271 91.8715 682.688 Q88.816 678.081 88.816 669.354 Q88.816 660.605 91.8715 656.021 Q94.9502 651.415 100.76 651.415 Z\" fill=\"#000000\" fill-rule=\"evenodd\" fill-opacity=\"1\" /><path clip-path=\"url(#clip030)\" d=\"M120.922 680.72 L125.807 680.72 L125.807 686.6 L120.922 686.6 L120.922 680.72 Z\" fill=\"#000000\" fill-rule=\"evenodd\" fill-opacity=\"1\" /><path clip-path=\"url(#clip030)\" d=\"M136.038 652.04 L154.394 652.04 L154.394 655.975 L140.32 655.975 L140.32 664.447 Q141.339 664.1 142.357 663.938 Q143.376 663.753 144.394 663.753 Q150.181 663.753 153.561 666.924 Q156.941 670.095 156.941 675.512 Q156.941 681.091 153.468 684.192 Q149.996 687.271 143.677 687.271 Q141.501 687.271 139.232 686.901 Q136.987 686.53 134.58 685.79 L134.58 681.091 Q136.663 682.225 138.885 682.78 Q141.107 683.336 143.584 683.336 Q147.589 683.336 149.927 681.229 Q152.265 679.123 152.265 675.512 Q152.265 671.901 149.927 669.794 Q147.589 667.688 143.584 667.688 Q141.709 667.688 139.834 668.104 Q137.982 668.521 136.038 669.401 L136.038 652.04 Z\" fill=\"#000000\" fill-rule=\"evenodd\" fill-opacity=\"1\" /><path clip-path=\"url(#clip030)\" d=\"M90.5752 287.606 L98.2141 287.606 L98.2141 261.241 L89.904 262.907 L89.904 258.648 L98.1678 256.982 L102.844 256.982 L102.844 287.606 L110.483 287.606 L110.483 291.542 L90.5752 291.542 L90.5752 287.606 Z\" fill=\"#000000\" fill-rule=\"evenodd\" fill-opacity=\"1\" /><path clip-path=\"url(#clip030)\" d=\"M119.927 285.662 L124.811 285.662 L124.811 291.542 L119.927 291.542 L119.927 285.662 Z\" fill=\"#000000\" fill-rule=\"evenodd\" fill-opacity=\"1\" /><path clip-path=\"url(#clip030)\" d=\"M144.996 260.06 Q141.385 260.06 139.556 263.625 Q137.751 267.167 137.751 274.296 Q137.751 281.403 139.556 284.967 Q141.385 288.509 144.996 288.509 Q148.63 288.509 150.436 284.967 Q152.265 281.403 152.265 274.296 Q152.265 267.167 150.436 263.625 Q148.63 260.06 144.996 260.06 M144.996 256.357 Q150.806 256.357 153.862 260.963 Q156.941 265.546 156.941 274.296 Q156.941 283.023 153.862 287.629 Q150.806 292.213 144.996 292.213 Q139.186 292.213 136.107 287.629 Q133.052 283.023 133.052 274.296 Q133.052 265.546 136.107 260.963 Q139.186 256.357 144.996 256.357 Z\" fill=\"#000000\" fill-rule=\"evenodd\" fill-opacity=\"1\" /><circle clip-path=\"url(#clip032)\" cx=\"1898.07\" cy=\"847.164\" r=\"14\" fill=\"#009af9\" fill-rule=\"evenodd\" fill-opacity=\"1\" stroke=\"#000000\" stroke-opacity=\"1\" stroke-width=\"3.2\"/>\n",
       "<circle clip-path=\"url(#clip032)\" cx=\"1947.43\" cy=\"628.032\" r=\"14\" fill=\"#009af9\" fill-rule=\"evenodd\" fill-opacity=\"1\" stroke=\"#000000\" stroke-opacity=\"1\" stroke-width=\"3.2\"/>\n",
       "<circle clip-path=\"url(#clip032)\" cx=\"1914.21\" cy=\"999.971\" r=\"14\" fill=\"#009af9\" fill-rule=\"evenodd\" fill-opacity=\"1\" stroke=\"#000000\" stroke-opacity=\"1\" stroke-width=\"3.2\"/>\n",
       "<circle clip-path=\"url(#clip032)\" cx=\"1908.04\" cy=\"1445.72\" r=\"14\" fill=\"#009af9\" fill-rule=\"evenodd\" fill-opacity=\"1\" stroke=\"#000000\" stroke-opacity=\"1\" stroke-width=\"3.2\"/>\n",
       "<circle clip-path=\"url(#clip032)\" cx=\"1865.25\" cy=\"465.142\" r=\"14\" fill=\"#009af9\" fill-rule=\"evenodd\" fill-opacity=\"1\" stroke=\"#000000\" stroke-opacity=\"1\" stroke-width=\"3.2\"/>\n",
       "<circle clip-path=\"url(#clip032)\" cx=\"254.067\" cy=\"841.12\" r=\"14\" fill=\"#009af9\" fill-rule=\"evenodd\" fill-opacity=\"1\" stroke=\"#000000\" stroke-opacity=\"1\" stroke-width=\"3.2\"/>\n",
       "<circle clip-path=\"url(#clip032)\" cx=\"2291.63\" cy=\"87.9763\" r=\"14\" fill=\"#009af9\" fill-rule=\"evenodd\" fill-opacity=\"1\" stroke=\"#000000\" stroke-opacity=\"1\" stroke-width=\"3.2\"/>\n",
       "</svg>\n"
      ]
     },
     "execution_count": 146,
     "metadata": {},
     "output_type": "execute_result"
    }
   ],
   "source": [
    "scatter(d2d[1,:], d2d[2,:], legend = false)"
   ]
  },
  {
   "cell_type": "code",
   "execution_count": 147,
   "id": "930a30fc-ad85-47c1-949e-6f01e31ca501",
   "metadata": {},
   "outputs": [
    {
     "data": {
      "text/plain": [
       "cost (generic function with 1 method)"
      ]
     },
     "execution_count": 147,
     "metadata": {},
     "output_type": "execute_result"
    }
   ],
   "source": [
    "function dist(x, y)\n",
    "    x .- y |> x -> x .* x |> sum |> sqrt\n",
    "end\n",
    "\n",
    "function cost(x)\n",
    "    myx = reshape(x, 7, 2)\n",
    "    s = 0.0\n",
    "    for i in 1:6\n",
    "        for j in (i+1):7\n",
    "            s += (dist(myx[i,:], myx[j, :]) - dist(points[i,:], points[j,:]))^2.0\n",
    "        end\n",
    "    end\n",
    "    return s\n",
    "end"
   ]
  },
  {
   "cell_type": "code",
   "execution_count": 148,
   "id": "e7ae8820-5165-4805-b96c-5429163dfd5e",
   "metadata": {},
   "outputs": [
    {
     "data": {
      "text/plain": [
       " * Status: success\n",
       "\n",
       " * Candidate solution\n",
       "    Final objective value:     7.482287e-01\n",
       "\n",
       " * Found with\n",
       "    Algorithm:     Gradient Descent\n",
       "\n",
       " * Convergence measures\n",
       "    |x - x'|               = 1.34e-09 ≰ 0.0e+00\n",
       "    |x - x'|/|x'|          = 1.20e-10 ≰ 0.0e+00\n",
       "    |f(x) - f(x')|         = 1.89e-15 ≰ 0.0e+00\n",
       "    |f(x) - f(x')|/|f(x')| = 2.52e-15 ≰ 0.0e+00\n",
       "    |g(x)|                 = 8.71e-09 ≤ 1.0e-08\n",
       "\n",
       " * Work counters\n",
       "    Seconds run:   0  (vs limit Inf)\n",
       "    Iterations:    136\n",
       "    f(x) calls:    339\n",
       "    ∇f(x) calls:   339\n"
      ]
     },
     "execution_count": 148,
     "metadata": {},
     "output_type": "execute_result"
    }
   ],
   "source": [
    "initial = rand(7, 2)\n",
    "optresult = optimize(cost, initial, GradientDescent())"
   ]
  },
  {
   "cell_type": "code",
   "execution_count": 149,
   "id": "4e0cdbb1-c48e-4c69-91ac-ca2c598ee9cc",
   "metadata": {},
   "outputs": [
    {
     "data": {
      "text/plain": [
       "7×2 Matrix{Float64}:\n",
       "   3.60247  -0.024171\n",
       "   4.07177  -0.420142\n",
       "   4.34064   0.0440607\n",
       "   3.79577   0.622604\n",
       "   3.76334  -0.506984\n",
       " -11.1053    6.75789\n",
       "  -5.23702  -3.38922"
      ]
     },
     "execution_count": 149,
     "metadata": {},
     "output_type": "execute_result"
    }
   ],
   "source": [
    "d2d = reshape(optresult.minimizer, 7, 2)"
   ]
  },
  {
   "cell_type": "code",
   "execution_count": 150,
   "id": "0f39b6ff-9999-4d0f-8737-303e0eabfd69",
   "metadata": {},
   "outputs": [
    {
     "data": {
      "image/svg+xml": [
       "<?xml version=\"1.0\" encoding=\"utf-8\"?>\n",
       "<svg xmlns=\"http://www.w3.org/2000/svg\" xmlns:xlink=\"http://www.w3.org/1999/xlink\" width=\"600\" height=\"400\" viewBox=\"0 0 2400 1600\">\n",
       "<defs>\n",
       "  <clipPath id=\"clip070\">\n",
       "    <rect x=\"0\" y=\"0\" width=\"2400\" height=\"1600\"/>\n",
       "  </clipPath>\n",
       "</defs>\n",
       "<path clip-path=\"url(#clip070)\" d=\"\n",
       "M0 1600 L2400 1600 L2400 0 L0 0  Z\n",
       "  \" fill=\"#ffffff\" fill-rule=\"evenodd\" fill-opacity=\"1\"/>\n",
       "<defs>\n",
       "  <clipPath id=\"clip071\">\n",
       "    <rect x=\"480\" y=\"0\" width=\"1681\" height=\"1600\"/>\n",
       "  </clipPath>\n",
       "</defs>\n",
       "<path clip-path=\"url(#clip070)\" d=\"\n",
       "M147.108 1486.45 L2352.76 1486.45 L2352.76 47.2441 L147.108 47.2441  Z\n",
       "  \" fill=\"#ffffff\" fill-rule=\"evenodd\" fill-opacity=\"1\"/>\n",
       "<defs>\n",
       "  <clipPath id=\"clip072\">\n",
       "    <rect x=\"147\" y=\"47\" width=\"2207\" height=\"1440\"/>\n",
       "  </clipPath>\n",
       "</defs>\n",
       "<polyline clip-path=\"url(#clip072)\" style=\"stroke:#000000; stroke-linecap:butt; stroke-linejoin:round; stroke-width:2; stroke-opacity:0.1; fill:none\" points=\"\n",
       "  493.143,1486.45 493.143,47.2441 \n",
       "  \"/>\n",
       "<polyline clip-path=\"url(#clip072)\" style=\"stroke:#000000; stroke-linecap:butt; stroke-linejoin:round; stroke-width:2; stroke-opacity:0.1; fill:none\" points=\"\n",
       "  897.289,1486.45 897.289,47.2441 \n",
       "  \"/>\n",
       "<polyline clip-path=\"url(#clip072)\" style=\"stroke:#000000; stroke-linecap:butt; stroke-linejoin:round; stroke-width:2; stroke-opacity:0.1; fill:none\" points=\"\n",
       "  1301.43,1486.45 1301.43,47.2441 \n",
       "  \"/>\n",
       "<polyline clip-path=\"url(#clip072)\" style=\"stroke:#000000; stroke-linecap:butt; stroke-linejoin:round; stroke-width:2; stroke-opacity:0.1; fill:none\" points=\"\n",
       "  1705.58,1486.45 1705.58,47.2441 \n",
       "  \"/>\n",
       "<polyline clip-path=\"url(#clip072)\" style=\"stroke:#000000; stroke-linecap:butt; stroke-linejoin:round; stroke-width:2; stroke-opacity:0.1; fill:none\" points=\"\n",
       "  2109.73,1486.45 2109.73,47.2441 \n",
       "  \"/>\n",
       "<polyline clip-path=\"url(#clip070)\" style=\"stroke:#000000; stroke-linecap:butt; stroke-linejoin:round; stroke-width:4; stroke-opacity:1; fill:none\" points=\"\n",
       "  147.108,1486.45 2352.76,1486.45 \n",
       "  \"/>\n",
       "<polyline clip-path=\"url(#clip070)\" style=\"stroke:#000000; stroke-linecap:butt; stroke-linejoin:round; stroke-width:4; stroke-opacity:1; fill:none\" points=\"\n",
       "  493.143,1486.45 493.143,1467.55 \n",
       "  \"/>\n",
       "<polyline clip-path=\"url(#clip070)\" style=\"stroke:#000000; stroke-linecap:butt; stroke-linejoin:round; stroke-width:4; stroke-opacity:1; fill:none\" points=\"\n",
       "  897.289,1486.45 897.289,1467.55 \n",
       "  \"/>\n",
       "<polyline clip-path=\"url(#clip070)\" style=\"stroke:#000000; stroke-linecap:butt; stroke-linejoin:round; stroke-width:4; stroke-opacity:1; fill:none\" points=\"\n",
       "  1301.43,1486.45 1301.43,1467.55 \n",
       "  \"/>\n",
       "<polyline clip-path=\"url(#clip070)\" style=\"stroke:#000000; stroke-linecap:butt; stroke-linejoin:round; stroke-width:4; stroke-opacity:1; fill:none\" points=\"\n",
       "  1705.58,1486.45 1705.58,1467.55 \n",
       "  \"/>\n",
       "<polyline clip-path=\"url(#clip070)\" style=\"stroke:#000000; stroke-linecap:butt; stroke-linejoin:round; stroke-width:4; stroke-opacity:1; fill:none\" points=\"\n",
       "  2109.73,1486.45 2109.73,1467.55 \n",
       "  \"/>\n",
       "<path clip-path=\"url(#clip070)\" d=\"M462.379 1532.02 L492.055 1532.02 L492.055 1535.95 L462.379 1535.95 L462.379 1532.02 Z\" fill=\"#000000\" fill-rule=\"evenodd\" fill-opacity=\"1\" /><path clip-path=\"url(#clip070)\" d=\"M502.286 1548.13 L502.286 1543.87 Q504.045 1544.7 505.851 1545.14 Q507.656 1545.58 509.392 1545.58 Q514.022 1545.58 516.453 1542.48 Q518.906 1539.36 519.254 1533.01 Q517.911 1535.01 515.851 1536.07 Q513.791 1537.13 511.291 1537.13 Q506.105 1537.13 503.073 1534.01 Q500.064 1530.86 500.064 1525.42 Q500.064 1520.1 503.212 1516.88 Q506.36 1513.66 511.592 1513.66 Q517.587 1513.66 520.735 1518.27 Q523.906 1522.85 523.906 1531.6 Q523.906 1539.77 520.017 1544.66 Q516.152 1549.52 509.601 1549.52 Q507.842 1549.52 506.036 1549.17 Q504.23 1548.82 502.286 1548.13 M511.592 1533.48 Q514.74 1533.48 516.568 1531.32 Q518.42 1529.17 518.42 1525.42 Q518.42 1521.7 516.568 1519.54 Q514.74 1517.37 511.592 1517.37 Q508.443 1517.37 506.592 1519.54 Q504.763 1521.7 504.763 1525.42 Q504.763 1529.17 506.592 1531.32 Q508.443 1533.48 511.592 1533.48 Z\" fill=\"#000000\" fill-rule=\"evenodd\" fill-opacity=\"1\" /><path clip-path=\"url(#clip070)\" d=\"M866.351 1532.02 L896.027 1532.02 L896.027 1535.95 L866.351 1535.95 L866.351 1532.02 Z\" fill=\"#000000\" fill-rule=\"evenodd\" fill-opacity=\"1\" /><path clip-path=\"url(#clip070)\" d=\"M916.698 1529.7 Q913.55 1529.7 911.698 1531.86 Q909.869 1534.01 909.869 1537.76 Q909.869 1541.49 911.698 1543.66 Q913.55 1545.82 916.698 1545.82 Q919.846 1545.82 921.675 1543.66 Q923.527 1541.49 923.527 1537.76 Q923.527 1534.01 921.675 1531.86 Q919.846 1529.7 916.698 1529.7 M925.981 1515.05 L925.981 1519.31 Q924.221 1518.48 922.416 1518.04 Q920.633 1517.6 918.874 1517.6 Q914.244 1517.6 911.791 1520.72 Q909.36 1523.85 909.013 1530.17 Q910.379 1528.15 912.439 1527.09 Q914.499 1526 916.976 1526 Q922.184 1526 925.193 1529.17 Q928.226 1532.32 928.226 1537.76 Q928.226 1543.08 925.078 1546.3 Q921.93 1549.52 916.698 1549.52 Q910.703 1549.52 907.532 1544.94 Q904.36 1540.33 904.36 1531.6 Q904.36 1523.41 908.249 1518.55 Q912.138 1513.66 918.689 1513.66 Q920.448 1513.66 922.231 1514.01 Q924.036 1514.36 925.981 1515.05 Z\" fill=\"#000000\" fill-rule=\"evenodd\" fill-opacity=\"1\" /><path clip-path=\"url(#clip070)\" d=\"M1270.9 1532.02 L1300.58 1532.02 L1300.58 1535.95 L1270.9 1535.95 L1270.9 1532.02 Z\" fill=\"#000000\" fill-rule=\"evenodd\" fill-opacity=\"1\" /><path clip-path=\"url(#clip070)\" d=\"M1324.84 1530.21 Q1328.19 1530.93 1330.07 1533.2 Q1331.97 1535.47 1331.97 1538.8 Q1331.97 1543.92 1328.45 1546.72 Q1324.93 1549.52 1318.45 1549.52 Q1316.27 1549.52 1313.96 1549.08 Q1311.67 1548.66 1309.21 1547.81 L1309.21 1543.29 Q1311.16 1544.43 1313.47 1545.01 Q1315.79 1545.58 1318.31 1545.58 Q1322.71 1545.58 1325 1543.85 Q1327.31 1542.11 1327.31 1538.8 Q1327.31 1535.75 1325.16 1534.03 Q1323.03 1532.3 1319.21 1532.3 L1315.18 1532.3 L1315.18 1528.45 L1319.4 1528.45 Q1322.85 1528.45 1324.68 1527.09 Q1326.5 1525.7 1326.5 1523.11 Q1326.5 1520.45 1324.61 1519.03 Q1322.73 1517.6 1319.21 1517.6 Q1317.29 1517.6 1315.09 1518.01 Q1312.89 1518.43 1310.25 1519.31 L1310.25 1515.14 Q1312.92 1514.4 1315.23 1514.03 Q1317.57 1513.66 1319.63 1513.66 Q1324.95 1513.66 1328.05 1516.09 Q1331.16 1518.5 1331.16 1522.62 Q1331.16 1525.49 1329.51 1527.48 Q1327.87 1529.45 1324.84 1530.21 Z\" fill=\"#000000\" fill-rule=\"evenodd\" fill-opacity=\"1\" /><path clip-path=\"url(#clip070)\" d=\"M1705.58 1517.37 Q1701.97 1517.37 1700.14 1520.93 Q1698.34 1524.47 1698.34 1531.6 Q1698.34 1538.71 1700.14 1542.27 Q1701.97 1545.82 1705.58 1545.82 Q1709.21 1545.82 1711.02 1542.27 Q1712.85 1538.71 1712.85 1531.6 Q1712.85 1524.47 1711.02 1520.93 Q1709.21 1517.37 1705.58 1517.37 M1705.58 1513.66 Q1711.39 1513.66 1714.45 1518.27 Q1717.52 1522.85 1717.52 1531.6 Q1717.52 1540.33 1714.45 1544.94 Q1711.39 1549.52 1705.58 1549.52 Q1699.77 1549.52 1696.69 1544.94 Q1693.64 1540.33 1693.64 1531.6 Q1693.64 1522.85 1696.69 1518.27 Q1699.77 1513.66 1705.58 1513.66 Z\" fill=\"#000000\" fill-rule=\"evenodd\" fill-opacity=\"1\" /><path clip-path=\"url(#clip070)\" d=\"M2113.97 1530.21 Q2117.33 1530.93 2119.21 1533.2 Q2121.1 1535.47 2121.1 1538.8 Q2121.1 1543.92 2117.59 1546.72 Q2114.07 1549.52 2107.59 1549.52 Q2105.41 1549.52 2103.09 1549.08 Q2100.8 1548.66 2098.35 1547.81 L2098.35 1543.29 Q2100.29 1544.43 2102.61 1545.01 Q2104.92 1545.58 2107.45 1545.58 Q2111.84 1545.58 2114.14 1543.85 Q2116.45 1542.11 2116.45 1538.8 Q2116.45 1535.75 2114.3 1534.03 Q2112.17 1532.3 2108.35 1532.3 L2104.32 1532.3 L2104.32 1528.45 L2108.53 1528.45 Q2111.98 1528.45 2113.81 1527.09 Q2115.64 1525.7 2115.64 1523.11 Q2115.64 1520.45 2113.74 1519.03 Q2111.87 1517.6 2108.35 1517.6 Q2106.43 1517.6 2104.23 1518.01 Q2102.03 1518.43 2099.39 1519.31 L2099.39 1515.14 Q2102.05 1514.4 2104.37 1514.03 Q2106.71 1513.66 2108.77 1513.66 Q2114.09 1513.66 2117.19 1516.09 Q2120.29 1518.5 2120.29 1522.62 Q2120.29 1525.49 2118.65 1527.48 Q2117.01 1529.45 2113.97 1530.21 Z\" fill=\"#000000\" fill-rule=\"evenodd\" fill-opacity=\"1\" /><polyline clip-path=\"url(#clip072)\" style=\"stroke:#000000; stroke-linecap:butt; stroke-linejoin:round; stroke-width:2; stroke-opacity:0.1; fill:none\" points=\"\n",
       "  147.108,1259.83 2352.76,1259.83 \n",
       "  \"/>\n",
       "<polyline clip-path=\"url(#clip072)\" style=\"stroke:#000000; stroke-linecap:butt; stroke-linejoin:round; stroke-width:2; stroke-opacity:0.1; fill:none\" points=\"\n",
       "  147.108,992.219 2352.76,992.219 \n",
       "  \"/>\n",
       "<polyline clip-path=\"url(#clip072)\" style=\"stroke:#000000; stroke-linecap:butt; stroke-linejoin:round; stroke-width:2; stroke-opacity:0.1; fill:none\" points=\"\n",
       "  147.108,724.608 2352.76,724.608 \n",
       "  \"/>\n",
       "<polyline clip-path=\"url(#clip072)\" style=\"stroke:#000000; stroke-linecap:butt; stroke-linejoin:round; stroke-width:2; stroke-opacity:0.1; fill:none\" points=\"\n",
       "  147.108,456.997 2352.76,456.997 \n",
       "  \"/>\n",
       "<polyline clip-path=\"url(#clip072)\" style=\"stroke:#000000; stroke-linecap:butt; stroke-linejoin:round; stroke-width:2; stroke-opacity:0.1; fill:none\" points=\"\n",
       "  147.108,189.386 2352.76,189.386 \n",
       "  \"/>\n",
       "<polyline clip-path=\"url(#clip070)\" style=\"stroke:#000000; stroke-linecap:butt; stroke-linejoin:round; stroke-width:4; stroke-opacity:1; fill:none\" points=\"\n",
       "  147.108,1486.45 147.108,47.2441 \n",
       "  \"/>\n",
       "<polyline clip-path=\"url(#clip070)\" style=\"stroke:#000000; stroke-linecap:butt; stroke-linejoin:round; stroke-width:4; stroke-opacity:1; fill:none\" points=\"\n",
       "  147.108,1259.83 166.005,1259.83 \n",
       "  \"/>\n",
       "<polyline clip-path=\"url(#clip070)\" style=\"stroke:#000000; stroke-linecap:butt; stroke-linejoin:round; stroke-width:4; stroke-opacity:1; fill:none\" points=\"\n",
       "  147.108,992.219 166.005,992.219 \n",
       "  \"/>\n",
       "<polyline clip-path=\"url(#clip070)\" style=\"stroke:#000000; stroke-linecap:butt; stroke-linejoin:round; stroke-width:4; stroke-opacity:1; fill:none\" points=\"\n",
       "  147.108,724.608 166.005,724.608 \n",
       "  \"/>\n",
       "<polyline clip-path=\"url(#clip070)\" style=\"stroke:#000000; stroke-linecap:butt; stroke-linejoin:round; stroke-width:4; stroke-opacity:1; fill:none\" points=\"\n",
       "  147.108,456.997 166.005,456.997 \n",
       "  \"/>\n",
       "<polyline clip-path=\"url(#clip070)\" style=\"stroke:#000000; stroke-linecap:butt; stroke-linejoin:round; stroke-width:4; stroke-opacity:1; fill:none\" points=\"\n",
       "  147.108,189.386 166.005,189.386 \n",
       "  \"/>\n",
       "<path clip-path=\"url(#clip070)\" d=\"M50.9921 1260.28 L80.6679 1260.28 L80.6679 1264.22 L50.9921 1264.22 L50.9921 1260.28 Z\" fill=\"#000000\" fill-rule=\"evenodd\" fill-opacity=\"1\" /><path clip-path=\"url(#clip070)\" d=\"M94.7882 1273.17 L111.108 1273.17 L111.108 1277.11 L89.1632 1277.11 L89.1632 1273.17 Q91.8252 1270.42 96.4085 1265.79 Q101.015 1261.14 102.196 1259.8 Q104.441 1257.27 105.321 1255.54 Q106.223 1253.78 106.223 1252.09 Q106.223 1249.33 104.279 1247.6 Q102.358 1245.86 99.2558 1245.86 Q97.0567 1245.86 94.603 1246.62 Q92.1725 1247.39 89.3947 1248.94 L89.3947 1244.22 Q92.2188 1243.08 94.6724 1242.5 Q97.1261 1241.93 99.1632 1241.93 Q104.534 1241.93 107.728 1244.61 Q110.922 1247.3 110.922 1251.79 Q110.922 1253.92 110.112 1255.84 Q109.325 1257.74 107.219 1260.33 Q106.64 1261 103.538 1264.22 Q100.436 1267.41 94.7882 1273.17 Z\" fill=\"#000000\" fill-rule=\"evenodd\" fill-opacity=\"1\" /><path clip-path=\"url(#clip070)\" d=\"M99.1632 978.018 Q95.5521 978.018 93.7234 981.583 Q91.9178 985.124 91.9178 992.254 Q91.9178 999.36 93.7234 1002.93 Q95.5521 1006.47 99.1632 1006.47 Q102.797 1006.47 104.603 1002.93 Q106.432 999.36 106.432 992.254 Q106.432 985.124 104.603 981.583 Q102.797 978.018 99.1632 978.018 M99.1632 974.314 Q104.973 974.314 108.029 978.921 Q111.108 983.504 111.108 992.254 Q111.108 1000.98 108.029 1005.59 Q104.973 1010.17 99.1632 1010.17 Q93.353 1010.17 90.2743 1005.59 Q87.2188 1000.98 87.2188 992.254 Q87.2188 983.504 90.2743 978.921 Q93.353 974.314 99.1632 974.314 Z\" fill=\"#000000\" fill-rule=\"evenodd\" fill-opacity=\"1\" /><path clip-path=\"url(#clip070)\" d=\"M94.7882 737.953 L111.108 737.953 L111.108 741.888 L89.1632 741.888 L89.1632 737.953 Q91.8252 735.198 96.4085 730.569 Q101.015 725.916 102.196 724.573 Q104.441 722.05 105.321 720.314 Q106.223 718.555 106.223 716.865 Q106.223 714.11 104.279 712.374 Q102.358 710.638 99.2558 710.638 Q97.0567 710.638 94.603 711.402 Q92.1725 712.166 89.3947 713.717 L89.3947 708.995 Q92.2188 707.86 94.6724 707.282 Q97.1261 706.703 99.1632 706.703 Q104.534 706.703 107.728 709.388 Q110.922 712.073 110.922 716.564 Q110.922 718.694 110.112 720.615 Q109.325 722.513 107.219 725.106 Q106.64 725.777 103.538 728.995 Q100.436 732.189 94.7882 737.953 Z\" fill=\"#000000\" fill-rule=\"evenodd\" fill-opacity=\"1\" /><path clip-path=\"url(#clip070)\" d=\"M101.524 443.791 L89.7188 462.24 L101.524 462.24 L101.524 443.791 M100.297 439.717 L106.177 439.717 L106.177 462.24 L111.108 462.24 L111.108 466.129 L106.177 466.129 L106.177 474.277 L101.524 474.277 L101.524 466.129 L85.9225 466.129 L85.9225 461.615 L100.297 439.717 Z\" fill=\"#000000\" fill-rule=\"evenodd\" fill-opacity=\"1\" /><path clip-path=\"url(#clip070)\" d=\"M99.5798 187.523 Q96.4317 187.523 94.5799 189.675 Q92.7512 191.828 92.7512 195.578 Q92.7512 199.305 94.5799 201.481 Q96.4317 203.634 99.5798 203.634 Q102.728 203.634 104.557 201.481 Q106.408 199.305 106.408 195.578 Q106.408 191.828 104.557 189.675 Q102.728 187.523 99.5798 187.523 M108.862 172.87 L108.862 177.129 Q107.103 176.296 105.297 175.856 Q103.515 175.416 101.756 175.416 Q97.1261 175.416 94.6724 178.541 Q92.2419 181.666 91.8947 187.985 Q93.2604 185.972 95.3206 184.907 Q97.3808 183.819 99.8576 183.819 Q105.066 183.819 108.075 186.99 Q111.108 190.138 111.108 195.578 Q111.108 200.902 107.959 204.12 Q104.811 207.337 99.5798 207.337 Q93.5845 207.337 90.4132 202.754 Q87.2419 198.147 87.2419 189.421 Q87.2419 181.226 91.1308 176.365 Q95.0197 171.481 101.571 171.481 Q103.33 171.481 105.112 171.828 Q106.918 172.175 108.862 172.87 Z\" fill=\"#000000\" fill-rule=\"evenodd\" fill-opacity=\"1\" /><circle clip-path=\"url(#clip072)\" cx=\"2190.89\" cy=\"995.453\" r=\"14\" fill=\"#009af9\" fill-rule=\"evenodd\" fill-opacity=\"1\" stroke=\"#000000\" stroke-opacity=\"1\" stroke-width=\"3.2\"/>\n",
       "<circle clip-path=\"url(#clip072)\" cx=\"2254.11\" cy=\"1048.44\" r=\"14\" fill=\"#009af9\" fill-rule=\"evenodd\" fill-opacity=\"1\" stroke=\"#000000\" stroke-opacity=\"1\" stroke-width=\"3.2\"/>\n",
       "<circle clip-path=\"url(#clip072)\" cx=\"2290.33\" cy=\"986.324\" r=\"14\" fill=\"#009af9\" fill-rule=\"evenodd\" fill-opacity=\"1\" stroke=\"#000000\" stroke-opacity=\"1\" stroke-width=\"3.2\"/>\n",
       "<circle clip-path=\"url(#clip072)\" cx=\"2216.93\" cy=\"908.911\" r=\"14\" fill=\"#009af9\" fill-rule=\"evenodd\" fill-opacity=\"1\" stroke=\"#000000\" stroke-opacity=\"1\" stroke-width=\"3.2\"/>\n",
       "<circle clip-path=\"url(#clip072)\" cx=\"2212.56\" cy=\"1060.06\" r=\"14\" fill=\"#009af9\" fill-rule=\"evenodd\" fill-opacity=\"1\" stroke=\"#000000\" stroke-opacity=\"1\" stroke-width=\"3.2\"/>\n",
       "<circle clip-path=\"url(#clip072)\" cx=\"209.532\" cy=\"87.9763\" r=\"14\" fill=\"#009af9\" fill-rule=\"evenodd\" fill-opacity=\"1\" stroke=\"#000000\" stroke-opacity=\"1\" stroke-width=\"3.2\"/>\n",
       "<circle clip-path=\"url(#clip072)\" cx=\"1000.07\" cy=\"1445.72\" r=\"14\" fill=\"#009af9\" fill-rule=\"evenodd\" fill-opacity=\"1\" stroke=\"#000000\" stroke-opacity=\"1\" stroke-width=\"3.2\"/>\n",
       "</svg>\n"
      ]
     },
     "execution_count": 150,
     "metadata": {},
     "output_type": "execute_result"
    }
   ],
   "source": [
    "scatter(d2d[:,1], d2d[:,2], legend = false)"
   ]
  },
  {
   "cell_type": "code",
   "execution_count": null,
   "id": "7a6d8715-4b2e-4113-9bea-6830b855c1a1",
   "metadata": {},
   "outputs": [],
   "source": []
  }
 ],
 "metadata": {
  "kernelspec": {
   "display_name": "Julia 1.7.2",
   "language": "julia",
   "name": "julia-1.7"
  },
  "language_info": {
   "file_extension": ".jl",
   "mimetype": "application/julia",
   "name": "julia",
   "version": "1.7.2"
  }
 },
 "nbformat": 4,
 "nbformat_minor": 5
}
