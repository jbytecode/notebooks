{
 "cells": [
  {
   "cell_type": "markdown",
   "id": "ee83fc74",
   "metadata": {},
   "source": [
    "Example has been taken:\n",
    "- https://discourse.julialang.org/t/julia-flux-how-to-build-a-simple-multilayer-perception-to-solve-xor-problem/48901/5"
   ]
  },
  {
   "cell_type": "code",
   "execution_count": 1,
   "id": "8c908243-404c-4f3c-8262-3caaa57b5eba",
   "metadata": {},
   "outputs": [],
   "source": [
    "using Flux"
   ]
  },
  {
   "cell_type": "code",
   "execution_count": 2,
   "id": "ee185cb3-71ab-48dc-a2bc-b6f9b5e40b5d",
   "metadata": {},
   "outputs": [
    {
     "data": {
      "text/plain": [
       "1×4 Matrix{Float32}:\n",
       " 0.0  1.0  1.0  0.0"
      ]
     },
     "execution_count": 2,
     "metadata": {},
     "output_type": "execute_result"
    }
   ],
   "source": [
    "X = Float32[\n",
    "    0.0 0 1 1; \n",
    "    0.0 1 0 1\n",
    "    ]\n",
    "y = Float32[0.0 1 1 0]"
   ]
  },
  {
   "cell_type": "code",
   "execution_count": 3,
   "id": "44187413-927b-42f7-a2b4-87f5801b90c5",
   "metadata": {},
   "outputs": [
    {
     "data": {
      "text/plain": [
       "Chain(Dense(2, 3, σ), Dense(3, 1, σ))"
      ]
     },
     "execution_count": 3,
     "metadata": {},
     "output_type": "execute_result"
    }
   ],
   "source": [
    "model = Chain(\n",
    "    Dense(2, 3, Flux.sigmoid),\n",
    "    Dense(3, 1, Flux.sigmoid)\n",
    ")"
   ]
  },
  {
   "cell_type": "code",
   "execution_count": 4,
   "id": "e438a06e-9ebc-40e3-9288-c6544fadbf49",
   "metadata": {},
   "outputs": [
    {
     "data": {
      "text/plain": [
       "loss_fn (generic function with 1 method)"
      ]
     },
     "execution_count": 4,
     "metadata": {},
     "output_type": "execute_result"
    }
   ],
   "source": [
    "loss_fn(x, y) = Flux.mse(model(x), y)"
   ]
  },
  {
   "cell_type": "code",
   "execution_count": 5,
   "id": "978188ed-4d4a-4aa4-9adf-7f731cb2dc35",
   "metadata": {},
   "outputs": [
    {
     "data": {
      "text/plain": [
       "ADAM(0.1, (0.9, 0.999), IdDict{Any, Any}())"
      ]
     },
     "execution_count": 5,
     "metadata": {},
     "output_type": "execute_result"
    }
   ],
   "source": [
    "opt = Flux.ADAM(0.1)"
   ]
  },
  {
   "cell_type": "code",
   "execution_count": 7,
   "id": "cd798cb8-b7a7-40af-8b41-e7af44358160",
   "metadata": {},
   "outputs": [
    {
     "name": "stdout",
     "output_type": "stream",
     "text": [
      "0.00011575997\n",
      "3.301706e-5\n",
      "1.4382855e-5\n",
      "7.329355e-6\n",
      "4.027235e-6\n",
      "2.3041612e-6\n",
      "1.3489207e-6\n",
      "8.0038114e-7\n",
      "4.788012e-7\n",
      "2.8784052e-7\n"
     ]
    }
   ],
   "source": [
    "N = 10000\n",
    "loss = zeros(Float32, N)\n",
    "for i in 1:N\n",
    "    Flux.train!(loss_fn, params(model), [(X, y)], opt)\n",
    "    loss[i] = loss_fn(X, y).data\n",
    "    if i % 1000 == 0\n",
    "        println(loss[i])\n",
    "    end\n",
    "end "
   ]
  },
  {
   "cell_type": "code",
   "execution_count": 17,
   "id": "710ec401-5338-4d5a-8050-730b885baac8",
   "metadata": {},
   "outputs": [
    {
     "data": {
      "text/plain": [
       "1×4 Matrix{Float32}:\n",
       " 0.000296875  0.999411  0.999405  0.000601562"
      ]
     },
     "execution_count": 17,
     "metadata": {},
     "output_type": "execute_result"
    }
   ],
   "source": [
    "model(X).data"
   ]
  },
  {
   "cell_type": "code",
   "execution_count": 9,
   "id": "1b6e53c5-c1ad-4461-bd66-af1b0c49913d",
   "metadata": {},
   "outputs": [
    {
     "data": {
      "text/plain": [
       "1×4 Matrix{Float32}:\n",
       " 0.0  1.0  1.0  0.0"
      ]
     },
     "execution_count": 9,
     "metadata": {},
     "output_type": "execute_result"
    }
   ],
   "source": [
    "y"
   ]
  },
  {
   "cell_type": "code",
   "execution_count": null,
   "id": "eee1e3b8-6657-4fea-966d-abbc98a4ac7f",
   "metadata": {},
   "outputs": [],
   "source": []
  }
 ],
 "metadata": {
  "kernelspec": {
   "display_name": "Julia 1.7.1",
   "language": "julia",
   "name": "julia-1.7"
  },
  "language_info": {
   "file_extension": ".jl",
   "mimetype": "application/julia",
   "name": "julia",
   "version": "1.7.1"
  }
 },
 "nbformat": 4,
 "nbformat_minor": 5
}
