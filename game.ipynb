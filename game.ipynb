{
 "cells": [
  {
   "cell_type": "markdown",
   "id": "c73937d4",
   "metadata": {},
   "source": [
    "# Activating the environment"
   ]
  },
  {
   "cell_type": "code",
   "execution_count": 1,
   "id": "224c44da",
   "metadata": {},
   "outputs": [],
   "source": [
    "using Pkg"
   ]
  },
  {
   "cell_type": "code",
   "execution_count": 2,
   "id": "5e247df7",
   "metadata": {},
   "outputs": [
    {
     "name": "stderr",
     "output_type": "stream",
     "text": [
      "\u001b[32m\u001b[1m  Activating\u001b[22m\u001b[39m project at `~/code/julia/notebooks`\n"
     ]
    }
   ],
   "source": [
    "Pkg.activate(\".\")"
   ]
  },
  {
   "cell_type": "code",
   "execution_count": 3,
   "id": "4e8519c3",
   "metadata": {},
   "outputs": [],
   "source": [
    "using OperationsResearchModels"
   ]
  },
  {
   "cell_type": "markdown",
   "id": "5367f488",
   "metadata": {},
   "source": [
    "# Problem 1 - Pure Strategy"
   ]
  },
  {
   "cell_type": "code",
   "execution_count": 4,
   "id": "dd36e043",
   "metadata": {},
   "outputs": [],
   "source": [
    "mat = [1 4 5; 2 4 6];"
   ]
  },
  {
   "cell_type": "code",
   "execution_count": 5,
   "id": "75dc9e9e",
   "metadata": {},
   "outputs": [
    {
     "data": {
      "text/plain": [
       "GameProblem([1 4 5; 2 4 6])"
      ]
     },
     "execution_count": 5,
     "metadata": {},
     "output_type": "execute_result"
    }
   ],
   "source": [
    "problem = GameProblem(mat)"
   ]
  },
  {
   "cell_type": "code",
   "execution_count": 7,
   "id": "77817b31",
   "metadata": {},
   "outputs": [],
   "source": [
    "results = solve(problem);"
   ]
  },
  {
   "cell_type": "code",
   "execution_count": 9,
   "id": "8c40a68a",
   "metadata": {},
   "outputs": [],
   "source": [
    "rowplayerresult = results[1];"
   ]
  },
  {
   "cell_type": "code",
   "execution_count": 11,
   "id": "9c7abb70",
   "metadata": {},
   "outputs": [
    {
     "name": "stdout",
     "output_type": "stream",
     "text": [
      "Max g\n",
      "Subject to\n",
      " x[1] + x[2] = 1\n",
      " x[1] + 2 x[2] - g ≥ 0\n",
      " 4 x[1] + 4 x[2] - g ≥ 0\n",
      " 5 x[1] + 6 x[2] - g ≥ 0\n",
      " x[1] ≥ 0\n",
      " x[2] ≥ 0\n",
      "\n"
     ]
    }
   ],
   "source": [
    "println(rowplayerresult.model)"
   ]
  },
  {
   "cell_type": "code",
   "execution_count": 12,
   "id": "d42a566d",
   "metadata": {},
   "outputs": [
    {
     "data": {
      "text/plain": [
       "2-element Vector{Float64}:\n",
       " -0.0\n",
       "  1.0"
      ]
     },
     "execution_count": 12,
     "metadata": {},
     "output_type": "execute_result"
    }
   ],
   "source": [
    "rowplayerresult.probabilities"
   ]
  },
  {
   "cell_type": "code",
   "execution_count": 13,
   "id": "f66ebeb1",
   "metadata": {},
   "outputs": [
    {
     "data": {
      "text/plain": [
       "2.0"
      ]
     },
     "execution_count": 13,
     "metadata": {},
     "output_type": "execute_result"
    }
   ],
   "source": [
    "rowplayerresult.value"
   ]
  },
  {
   "cell_type": "markdown",
   "id": "ee12eaa9",
   "metadata": {},
   "source": [
    "# Problem 2 - Pure Strategy"
   ]
  },
  {
   "cell_type": "code",
   "execution_count": 14,
   "id": "6808ff6d",
   "metadata": {},
   "outputs": [],
   "source": [
    "mat = [1 4 5 3; 2 4 6 8];"
   ]
  },
  {
   "cell_type": "code",
   "execution_count": 15,
   "id": "47ac95df",
   "metadata": {},
   "outputs": [
    {
     "data": {
      "text/plain": [
       "GameProblem([1 4 5 3; 2 4 6 8])"
      ]
     },
     "execution_count": 15,
     "metadata": {},
     "output_type": "execute_result"
    }
   ],
   "source": [
    "problem = GameProblem(mat)"
   ]
  },
  {
   "cell_type": "code",
   "execution_count": 16,
   "id": "da378c18",
   "metadata": {},
   "outputs": [],
   "source": [
    "results = solve(problem);"
   ]
  },
  {
   "cell_type": "code",
   "execution_count": 17,
   "id": "ad31cf4c",
   "metadata": {},
   "outputs": [],
   "source": [
    "rowplayerresult = results[1];"
   ]
  },
  {
   "cell_type": "code",
   "execution_count": 19,
   "id": "8ce74af5",
   "metadata": {},
   "outputs": [
    {
     "name": "stdout",
     "output_type": "stream",
     "text": [
      "Max g\n",
      "Subject to\n",
      " x[1] + x[2] = 1\n",
      " x[1] + 2 x[2] - g ≥ 0\n",
      " 4 x[1] + 4 x[2] - g ≥ 0\n",
      " 5 x[1] + 6 x[2] - g ≥ 0\n",
      " 3 x[1] + 8 x[2] - g ≥ 0\n",
      " x[1] ≥ 0\n",
      " x[2] ≥ 0\n",
      "\n"
     ]
    }
   ],
   "source": [
    "println(rowplayerresult.model)"
   ]
  },
  {
   "cell_type": "code",
   "execution_count": 20,
   "id": "0017fa9b",
   "metadata": {},
   "outputs": [
    {
     "name": "stdout",
     "output_type": "stream",
     "text": [
      "[-0.0, 1.0]\n"
     ]
    }
   ],
   "source": [
    "println(rowplayerresult.probabilities)"
   ]
  },
  {
   "cell_type": "code",
   "execution_count": 21,
   "id": "6ae77cae",
   "metadata": {},
   "outputs": [
    {
     "name": "stdout",
     "output_type": "stream",
     "text": [
      "2.0\n"
     ]
    }
   ],
   "source": [
    "println(rowplayerresult.value)"
   ]
  },
  {
   "cell_type": "markdown",
   "id": "66b5baa0",
   "metadata": {},
   "source": [
    "# Problem 3 - Mixed Strategy"
   ]
  },
  {
   "cell_type": "code",
   "execution_count": 56,
   "id": "1f56e04e",
   "metadata": {},
   "outputs": [
    {
     "name": "stdout",
     "output_type": "stream",
     "text": [
      "[0.3333333333333333, 0.6666666666666667]\n",
      "Max g\n",
      "Subject to\n",
      " x[1] + x[2] = 1\n",
      " 5 x[1] + 7 x[2] - g ≥ 0\n",
      " 7 x[1] + 6 x[2] - g ≥ 0\n",
      " x[1] ≥ 0\n",
      " x[2] ≥ 0\n",
      "\n"
     ]
    }
   ],
   "source": [
    "begin \n",
    "    mat = [5 7; 7 6];\n",
    "    problem = GameProblem(mat);\n",
    "    results = solve(problem)\n",
    "    result1 = results[1]\n",
    "    println(result1.probabilities)\n",
    "    println(result1.model)\n",
    "end"
   ]
  },
  {
   "cell_type": "markdown",
   "id": "5fa57b83",
   "metadata": {},
   "source": [
    "# Problem 4 - Pure Strategy"
   ]
  },
  {
   "cell_type": "code",
   "execution_count": 57,
   "id": "6c363ab0",
   "metadata": {},
   "outputs": [
    {
     "name": "stdout",
     "output_type": "stream",
     "text": [
      "[-0.0, 1.0]\n",
      "Max g\n",
      "Subject to\n",
      " x[1] + x[2] = 1\n",
      " 2 x[1] + 7 x[2] - g ≥ 0\n",
      " 3 x[1] + 6 x[2] - g ≥ 0\n",
      " x[1] ≥ 0\n",
      " x[2] ≥ 0\n",
      "\n"
     ]
    }
   ],
   "source": [
    "begin \n",
    "    mat = [2 3; 7 6];\n",
    "    problem = GameProblem(mat);\n",
    "    results = solve(problem)\n",
    "    result1 = results[1]\n",
    "    println(result1.probabilities)\n",
    "    println(result1.model)\n",
    "end"
   ]
  },
  {
   "cell_type": "markdown",
   "id": "5c85e991",
   "metadata": {},
   "source": [
    "# Problem 5 - Mixed Strategy"
   ]
  },
  {
   "cell_type": "code",
   "execution_count": 60,
   "id": "9a365936",
   "metadata": {},
   "outputs": [
    {
     "name": "stdout",
     "output_type": "stream",
     "text": [
      "[0.5, 0.5]\n",
      "Max g\n",
      "Subject to\n",
      " x[1] + x[2] = 1\n",
      " x[1] + 3 x[2] - g ≥ 0\n",
      " 3 x[1] + x[2] - g ≥ 0\n",
      " x[1] ≥ 0\n",
      " x[2] ≥ 0\n",
      "\n"
     ]
    }
   ],
   "source": [
    "begin \n",
    "    mat = [1 3; 3 1];\n",
    "    problem = GameProblem(mat);\n",
    "    results = solve(problem)\n",
    "    result1 = results[1]\n",
    "    println(result1.probabilities)\n",
    "    println(result1.model)\n",
    "end"
   ]
  },
  {
   "cell_type": "markdown",
   "id": "70db9ec2",
   "metadata": {},
   "source": [
    "# Problem 6 - Pure Strategy"
   ]
  },
  {
   "cell_type": "code",
   "execution_count": 70,
   "id": "71cc4eb4",
   "metadata": {},
   "outputs": [
    {
     "name": "stdout",
     "output_type": "stream",
     "text": [
      "[1.0, -0.0, -0.0]\n",
      "Max g\n",
      "Subject to\n",
      " x[1] + x[2] + x[3] = 1\n",
      " 7 x[1] + 8 x[2] + 9 x[3] - g ≥ 0\n",
      " 5 x[1] + 3 x[2] + 4 x[3] - g ≥ 0\n",
      " 5 x[1] + 5 x[2] + x[3] - g ≥ 0\n",
      " x[1] ≥ 0\n",
      " x[2] ≥ 0\n",
      " x[3] ≥ 0\n",
      "\n"
     ]
    }
   ],
   "source": [
    "begin \n",
    "    mat = [7 5 5; 8 3 5; 9 4 1];\n",
    "    problem = GameProblem(mat);\n",
    "    results = solve(problem)\n",
    "    result1 = results[1]\n",
    "    println(result1.probabilities)\n",
    "    println(result1.model)\n",
    "end"
   ]
  },
  {
   "cell_type": "markdown",
   "id": "e10b0ebc",
   "metadata": {},
   "source": [
    "# Problem 7- Pure Strategy"
   ]
  },
  {
   "cell_type": "code",
   "execution_count": 5,
   "id": "9151d29a",
   "metadata": {},
   "outputs": [
    {
     "name": "stdout",
     "output_type": "stream",
     "text": [
      "[1.0, -0.0, -0.0]\n",
      "Max g\n",
      "Subject to\n",
      " x[1] + x[2] + x[3] = 1\n",
      " 16 x[1] + 8 x[2] + 9 x[3] - g ≥ 0\n",
      " 10 x[1] + 9 x[2] + x[3] - g ≥ 0\n",
      " 7 x[1] + 4 x[2] + 2 x[3] - g ≥ 0\n",
      " x[1] ≥ 0\n",
      " x[2] ≥ 0\n",
      " x[3] ≥ 0\n",
      "\n"
     ]
    }
   ],
   "source": [
    "begin \n",
    "    mat = [16 10 7; 8 9 4; 9 1 2];\n",
    "    problem = GameProblem(mat);\n",
    "    results = solve(problem)\n",
    "    result1 = results[1]\n",
    "    println(result1.probabilities)\n",
    "    println(result1.model)\n",
    "end"
   ]
  },
  {
   "cell_type": "code",
   "execution_count": 7,
   "id": "fb5bb024",
   "metadata": {},
   "outputs": [
    {
     "name": "stdout",
     "output_type": "stream",
     "text": [
      "[-0.0, -0.0, 1.0]\n",
      "Max g\n",
      "Subject to\n",
      " x[1] + x[2] + x[3] = 1\n",
      " -16 x[1] - 10 x[2] - 7 x[3] - g ≥ 0\n",
      " -8 x[1] - 9 x[2] - 4 x[3] - g ≥ 0\n",
      " -9 x[1] - x[2] - 2 x[3] - g ≥ 0\n",
      " x[1] ≥ 0\n",
      " x[2] ≥ 0\n",
      " x[3] ≥ 0\n",
      "\n"
     ]
    }
   ],
   "source": [
    "begin \n",
    "    mat = [16 10 7; 8 9 4; 9 1 2];\n",
    "    problem = GameProblem(mat);\n",
    "    results = solve(problem)\n",
    "    result2 = results[2]\n",
    "    println(result2.probabilities)\n",
    "    println(result2.model)\n",
    "end"
   ]
  },
  {
   "cell_type": "markdown",
   "id": "82d2d63b",
   "metadata": {},
   "source": [
    "# Problem 8 - Pure Strategy"
   ]
  },
  {
   "cell_type": "code",
   "execution_count": 12,
   "id": "1fc68d01",
   "metadata": {},
   "outputs": [
    {
     "name": "stdout",
     "output_type": "stream",
     "text": [
      "[-0.0, -0.0, -0.0, 1.0]\n",
      "Max g\n",
      "Subject to\n",
      " x[1] + x[2] + x[3] + x[4] = 1\n",
      " -8 x[1] + x[2] + 4 x[3] + 7 x[4] - g ≥ 0\n",
      " 7 x[1] - 6 x[2] - 4 x[3] + 7 x[4] - g ≥ 0\n",
      " 2 x[1] - 2 x[2] - 8 x[3] + 3 x[4] - g ≥ 0\n",
      " 3 x[1] + 5 x[2] + 6 x[3] + 6 x[4] - g ≥ 0\n",
      " x[1] ≥ 0\n",
      " x[2] ≥ 0\n",
      " x[3] ≥ 0\n",
      " x[4] ≥ 0\n",
      "\n"
     ]
    }
   ],
   "source": [
    "begin \n",
    "    mat = [-8 7 2 3; 1 -6 -2 5; 4 -4 -8 6; 7 7 3 6];\n",
    "    problem = GameProblem(mat);\n",
    "    results = solve(problem)\n",
    "    result1 = results[1]\n",
    "    println(result1.probabilities)\n",
    "    println(result1.model)\n",
    "end"
   ]
  },
  {
   "cell_type": "code",
   "execution_count": 13,
   "id": "994700be",
   "metadata": {},
   "outputs": [
    {
     "name": "stdout",
     "output_type": "stream",
     "text": [
      "[-0.0, -0.0, 1.0, -0.0]\n",
      "Max g\n",
      "Subject to\n",
      " x[1] + x[2] + x[3] + x[4] = 1\n",
      " 8 x[1] - 7 x[2] - 2 x[3] - 3 x[4] - g ≥ 0\n",
      " -x[1] + 6 x[2] + 2 x[3] - 5 x[4] - g ≥ 0\n",
      " -4 x[1] + 4 x[2] + 8 x[3] - 6 x[4] - g ≥ 0\n",
      " -7 x[1] - 7 x[2] - 3 x[3] - 6 x[4] - g ≥ 0\n",
      " x[1] ≥ 0\n",
      " x[2] ≥ 0\n",
      " x[3] ≥ 0\n",
      " x[4] ≥ 0\n",
      "\n"
     ]
    }
   ],
   "source": [
    "begin \n",
    "    mat = [-8 7 2 3; 1 -6 -2 5; 4 -4 -8 6; 7 7 3 6];\n",
    "    problem = GameProblem(mat);\n",
    "    results = solve(problem)\n",
    "    result2 = results[2]\n",
    "    println(result2.probabilities)\n",
    "    println(result2.model)\n",
    "end"
   ]
  },
  {
   "cell_type": "code",
   "execution_count": 14,
   "id": "f471d1d2",
   "metadata": {},
   "outputs": [
    {
     "data": {
      "text/plain": [
       "3.0"
      ]
     },
     "execution_count": 14,
     "metadata": {},
     "output_type": "execute_result"
    }
   ],
   "source": [
    "result1.value"
   ]
  },
  {
   "cell_type": "code",
   "execution_count": 15,
   "id": "5f923c94",
   "metadata": {},
   "outputs": [
    {
     "data": {
      "text/plain": [
       "-3.0"
      ]
     },
     "execution_count": 15,
     "metadata": {},
     "output_type": "execute_result"
    }
   ],
   "source": [
    "result2.value"
   ]
  },
  {
   "cell_type": "code",
   "execution_count": null,
   "id": "5cb2a3ca",
   "metadata": {},
   "outputs": [],
   "source": []
  }
 ],
 "metadata": {
  "kernelspec": {
   "display_name": "Julia 1.12.1",
   "language": "julia",
   "name": "julia-1.12"
  },
  "language_info": {
   "file_extension": ".jl",
   "mimetype": "application/julia",
   "name": "julia",
   "version": "1.12.1"
  }
 },
 "nbformat": 4,
 "nbformat_minor": 5
}
