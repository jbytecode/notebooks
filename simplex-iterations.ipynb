{
 "cells": [
  {
   "cell_type": "markdown",
   "id": "0238126f",
   "metadata": {},
   "source": [
    "## The Problem"
   ]
  },
  {
   "cell_type": "code",
   "execution_count": 1,
   "id": "4c1d9aa4",
   "metadata": {},
   "outputs": [],
   "source": [
    "using OperationsResearchModels.Simplex"
   ]
  },
  {
   "cell_type": "markdown",
   "id": "83657a8e",
   "metadata": {},
   "source": [
    "$$\n",
    "\\begin{aligned}\n",
    "\\max z = & 2x_1 + 3x_2 \\\\\n",
    "\\text{Subject to:} & \\\\\n",
    "& x_1 + 2x_2 \\le 100 \\\\\n",
    "& 2x_1 + x_2 \\le 150 \\\\\n",
    "& x_1, x_2 \\ge 0\n",
    "\\end{aligned}\n",
    "$$"
   ]
  },
  {
   "cell_type": "code",
   "execution_count": 20,
   "id": "ba6c3575",
   "metadata": {},
   "outputs": [
    {
     "name": "stdout",
     "output_type": "stream",
     "text": [
      "Maximize -> 2.0x1 + 3.0x2\n",
      "S.t:\n",
      "1.0x1 + 2.0x2 LE 100.0\n",
      "2.0x1 + 1.0x2 LE 150.0\n",
      "All variables are non-negative\n",
      "\n"
     ]
    }
   ],
   "source": [
    "problem = createsimplexproblem(\n",
    "    Float64[2, 3],\n",
    "    Float64[1 2; 2 1],\n",
    "    Float64[100, 150],\n",
    "    [LE, LE],\n",
    "    Maximize\n",
    ");\n",
    "println(problem)"
   ]
  },
  {
   "cell_type": "markdown",
   "id": "36dcd81a",
   "metadata": {},
   "source": [
    "## Pretty Printing the Iterations"
   ]
  },
  {
   "cell_type": "code",
   "execution_count": 6,
   "id": "9591943f",
   "metadata": {},
   "outputs": [
    {
     "name": "stdout",
     "output_type": "stream",
     "text": [
      "Maximize -> 2.0x1 + 3.0x2\n",
      "S.t:\n",
      "1.0x1 + 2.0x2 LE 100.0\n",
      "2.0x1 + 1.0x2 LE 150.0\n",
      "All variables are non-negative\n",
      "\n"
     ]
    },
    {
     "name": "stderr",
     "output_type": "stream",
     "text": [
      "\u001b[36m\u001b[1m[ \u001b[22m\u001b[39m\u001b[36m\u001b[1mInfo: \u001b[22m\u001b[39mThe problem:\n",
      "\u001b[36m\u001b[1m[ \u001b[22m\u001b[39m\u001b[36m\u001b[1mInfo: \u001b[22m\u001b[39mThe standard form:\n"
     ]
    },
    {
     "name": "stdout",
     "output_type": "stream",
     "text": [
      "Maximize -> 2.0x1 + 3.0x2 + 0.0x3 + 0.0x4\n",
      "S.t:\n",
      "x3: 1.0x1 + 2.0x2 + 1.0x3 + 0.0x4 EQ 100.0\n",
      "x4: 2.0x1 + 1.0x2 + 0.0x3 + 1.0x4 EQ 150.0\n",
      "Slack: [3, 4]\n",
      "Basic Variables: [3, 4]\n",
      "All variables are non-negative\n",
      "\n",
      "Maximize -> 2.0x1 + 3.0x2 + 0.0x3 + 0.0x4\n",
      "S.t:\n",
      "x3: 1.0x1 + 2.0x2 + 1.0x3 + 0.0x4 EQ 100.0\n",
      "x4: 2.0x1 + 1.0x2 + 0.0x3 + 1.0x4 EQ 150.0\n",
      "Slack: [3, 4]\n",
      "Basic Variables: [3, 4]\n",
      "All variables are non-negative\n",
      "\n"
     ]
    },
    {
     "name": "stderr",
     "output_type": "stream",
     "text": [
      "\u001b[36m\u001b[1m[ \u001b[22m\u001b[39m\u001b[36m\u001b[1mInfo: \u001b[22m\u001b[39mM Method corrections:\n"
     ]
    },
    {
     "name": "stdout",
     "output_type": "stream",
     "text": [
      "Maximize -> 0.5x1 + 0.0x2 + -1.5x3 + 0.0x4\n",
      "S.t:\n",
      "x2: 0.5x1 + 1.0x2 + 0.5x3 + 0.0x4 EQ 50.0\n",
      "x4: 1.5x1 + 0.0x2 + -0.5x3 + 1.0x4 EQ 100.0\n",
      "Slack: [3, 4]\n",
      "Basic Variables: [2, 4]\n",
      "All variables are non-negative\n",
      "\n",
      "Maximize -> 0.0x1 + 0.0x2 + -1.3333333333333333x3 + -0.3333333333333333x4\n",
      "S.t:\n",
      "x2: 0.0x1 + 1.0x2 + 0.6666666666666666x3 + -0.3333333333333333x4 EQ 16.666666666666664\n",
      "x1: 1.0x1 + 0.0x2 + -0.3333333333333333x3 + 0.6666666666666666x4 EQ 66.66666666666667\n",
      "Slack: [3, 4]\n",
      "Basic Variables: [2, 1]\n",
      "All variables are non-negative\n",
      "\n",
      "Maximize -> 0.0x1 + 0.0x2 + -1.3333333333333333x3 + -0.3333333333333333x4\n",
      "S.t:\n",
      "x2: 0.0x1 + 1.0x2 + 0.6666666666666666x3 + -0.3333333333333333x4 EQ 16.666666666666664\n",
      "x1: 1.0x1 + 0.0x2 + -0.3333333333333333x3 + 0.6666666666666666x4 EQ 66.66666666666667\n",
      "Slack: [3, 4]\n",
      "Basic Variables: [2, 1]\n",
      "All variables are non-negative\n",
      "Status: CONVERGED!\n",
      "\n"
     ]
    },
    {
     "name": "stderr",
     "output_type": "stream",
     "text": [
      "\u001b[36m\u001b[1m[ \u001b[22m\u001b[39m\u001b[36m\u001b[1mInfo: \u001b[22m\u001b[39mIteration 1\n",
      "\u001b[36m\u001b[1m[ \u001b[22m\u001b[39m\u001b[36m\u001b[1mInfo: \u001b[22m\u001b[39mIteration 2\n",
      "\u001b[36m\u001b[1m[ \u001b[22m\u001b[39m\u001b[36m\u001b[1mInfo: \u001b[22m\u001b[39mIteration 3\n",
      "\u001b[36m\u001b[1m[ \u001b[22m\u001b[39m\u001b[36m\u001b[1mInfo: \u001b[22m\u001b[39mThe problem is converged\n",
      "\u001b[36m\u001b[1m[ \u001b[22m\u001b[39m\u001b[36m\u001b[1mInfo: \u001b[22m\u001b[39mHere is the result\n",
      "\u001b[36m\u001b[1m[ \u001b[22m\u001b[39m\u001b[36m\u001b[1mInfo: \u001b[22m\u001b[39mx2 = 16.666666666666664\n",
      "\u001b[36m\u001b[1m[ \u001b[22m\u001b[39m\u001b[36m\u001b[1mInfo: \u001b[22m\u001b[39mx1 = 66.66666666666667\n",
      "\u001b[36m\u001b[1m[ \u001b[22m\u001b[39m\u001b[36m\u001b[1mInfo: \u001b[22m\u001b[39mObjective value: 183.33333333333334\n"
     ]
    }
   ],
   "source": [
    "simplexpretty(problem)"
   ]
  },
  {
   "cell_type": "markdown",
   "id": "7d3e0e0c",
   "metadata": {},
   "source": [
    "## Just Solve "
   ]
  },
  {
   "cell_type": "code",
   "execution_count": 8,
   "id": "b737548e",
   "metadata": {},
   "outputs": [
    {
     "name": "stdout",
     "output_type": "stream",
     "text": [
      "Maximize -> 2.0x1 + 3.0x2\n",
      "S.t:\n",
      "1.0x1 + 2.0x2 LE 100.0\n",
      "2.0x1 + 1.0x2 LE 150.0\n",
      "All variables are non-negative\n",
      "\n"
     ]
    }
   ],
   "source": [
    "problem = createsimplexproblem(\n",
    "    Float64[2, 3],\n",
    "    Float64[1 2; 2 1],\n",
    "    Float64[100, 150],\n",
    "    [LE, LE],\n",
    "    Maximize\n",
    ");\n",
    "println(problem)"
   ]
  },
  {
   "cell_type": "code",
   "execution_count": 11,
   "id": "d7f0f887",
   "metadata": {},
   "outputs": [
    {
     "name": "stdout",
     "output_type": "stream",
     "text": [
      "Maximize -> 0.0x1 + 0.0x2 + -1.3333333333333333x3 + -0.3333333333333333x4\n",
      "S.t:\n",
      "x2: 0.0x1 + 1.0x2 + 0.6666666666666666x3 + -0.3333333333333333x4 EQ 16.666666666666664\n",
      "x1: 1.0x1 + 0.0x2 + -0.3333333333333333x3 + 0.6666666666666666x4 EQ 66.66666666666667\n",
      "Slack: [3, 4]\n",
      "Basic Variables: [2, 1]\n",
      "All variables are non-negative\n",
      "Status: CONVERGED!\n",
      "\n"
     ]
    },
    {
     "name": "stderr",
     "output_type": "stream",
     "text": [
      "\u001b[33m\u001b[1m┌ \u001b[22m\u001b[39m\u001b[33m\u001b[1mWarning: \u001b[22m\u001b[39mThe problem is already in standard form\n",
      "\u001b[33m\u001b[1m└ \u001b[22m\u001b[39m\u001b[90m@ OperationsResearchModels.Simplex ~/code/julia/OperationsResearchModels.jl/src/simplex.jl:273\u001b[39m\n"
     ]
    }
   ],
   "source": [
    "solve!(problem);\n",
    "println(problem)"
   ]
  },
  {
   "cell_type": "markdown",
   "id": "6c265eac",
   "metadata": {},
   "source": [
    "## Just Standard Form"
   ]
  },
  {
   "cell_type": "code",
   "execution_count": 12,
   "id": "a7495b67",
   "metadata": {},
   "outputs": [
    {
     "name": "stdout",
     "output_type": "stream",
     "text": [
      "Maximize -> 2.0x1 + 3.0x2\n",
      "S.t:\n",
      "1.0x1 + 2.0x2 LE 100.0\n",
      "2.0x1 + 1.0x2 LE 150.0\n",
      "All variables are non-negative\n",
      "\n"
     ]
    }
   ],
   "source": [
    "problem = createsimplexproblem(\n",
    "    Float64[2, 3],\n",
    "    Float64[1 2; 2 1],\n",
    "    Float64[100, 150],\n",
    "    [LE, LE],\n",
    "    Maximize\n",
    ");\n",
    "println(problem)"
   ]
  },
  {
   "cell_type": "code",
   "execution_count": 14,
   "id": "f1718e06",
   "metadata": {},
   "outputs": [
    {
     "name": "stdout",
     "output_type": "stream",
     "text": [
      "Maximize -> 2.0x1 + 3.0x2 + 0.0x3 + 0.0x4\n",
      "S.t:\n",
      "x3: 1.0x1 + 2.0x2 + 1.0x3 + 0.0x4 EQ 100.0\n",
      "x4: 2.0x1 + 1.0x2 + 0.0x3 + 1.0x4 EQ 150.0\n",
      "Slack: [3, 4]\n",
      "Basic Variables: [3, 4]\n",
      "All variables are non-negative\n",
      "\n"
     ]
    },
    {
     "name": "stderr",
     "output_type": "stream",
     "text": [
      "\u001b[33m\u001b[1m┌ \u001b[22m\u001b[39m\u001b[33m\u001b[1mWarning: \u001b[22m\u001b[39mThe problem is already in standard form\n",
      "\u001b[33m\u001b[1m└ \u001b[22m\u001b[39m\u001b[90m@ OperationsResearchModels.Simplex ~/code/julia/OperationsResearchModels.jl/src/simplex.jl:273\u001b[39m\n"
     ]
    }
   ],
   "source": [
    "standardform!(problem);\n",
    "println(problem)"
   ]
  },
  {
   "cell_type": "markdown",
   "id": "1faeff92",
   "metadata": {},
   "source": [
    "## M-Method Corrections "
   ]
  },
  {
   "cell_type": "code",
   "execution_count": 16,
   "id": "02ac8432",
   "metadata": {},
   "outputs": [
    {
     "name": "stdout",
     "output_type": "stream",
     "text": [
      "Minimize -> 100.0x1 + 150.0x2\n",
      "S.t:\n",
      "1.0x1 + 2.0x2 GE 2.0\n",
      "2.0x1 + 1.0x2 GE 3.0\n",
      "All variables are non-negative\n",
      "\n"
     ]
    }
   ],
   "source": [
    "problem = createsimplexproblem(\n",
    "    Float64[100, 150],\n",
    "    Float64[1 2; 2 1],\n",
    "    Float64[2, 3],\n",
    "    [GE, GE],\n",
    "    Minimize\n",
    ");\n",
    "println(problem)"
   ]
  },
  {
   "cell_type": "code",
   "execution_count": 17,
   "id": "8a8f3139",
   "metadata": {},
   "outputs": [
    {
     "name": "stdout",
     "output_type": "stream",
     "text": [
      "Minimize -> 100.0x1 + 150.0x2 + 0.0x3 + 1500.0x4 + 0.0x5 + 1500.0x6\n",
      "S.t:\n",
      "x4: 1.0x1 + 2.0x2 + -1.0x3 + 1.0x4 + 0.0x5 + 0.0x6 EQ 2.0\n",
      "x6: 2.0x1 + 1.0x2 + 0.0x3 + 0.0x4 + -1.0x5 + 1.0x6 EQ 3.0\n",
      "Surplus: [3, 5]\n",
      "Artificial: [4, 6]\n",
      "Basic Variables: [4, 6]\n",
      "All variables are non-negative\n",
      "\n"
     ]
    }
   ],
   "source": [
    "standardform!(problem);\n",
    "println(problem)"
   ]
  },
  {
   "cell_type": "code",
   "execution_count": 18,
   "id": "f8b433ed",
   "metadata": {},
   "outputs": [
    {
     "name": "stdout",
     "output_type": "stream",
     "text": [
      "Minimize -> 0.0x1 + 0.0x2 + 66.66666666666674x3 + 1433.3333333333333x4 + 16.66666666666663x5 + 1483.3333333333335x6\n",
      "S.t:\n",
      "x2: 0.0x1 + 1.0x2 + -0.6666666666666666x3 + 0.6666666666666666x4 + 0.3333333333333333x5 + -0.3333333333333333x6 EQ 0.3333333333333333\n",
      "x1: 1.0x1 + 0.0x2 + 0.3333333333333333x3 + -0.3333333333333333x4 + -0.6666666666666666x5 + 0.6666666666666666x6 EQ 1.3333333333333333\n",
      "Surplus: [3, 5]\n",
      "Artificial: [4, 6]\n",
      "Basic Variables: [2, 1]\n",
      "All variables are non-negative\n",
      "Status: CONVERGED!\n",
      "\n"
     ]
    }
   ],
   "source": [
    "problem = createsimplexproblem(\n",
    "    Float64[100, 150],\n",
    "    Float64[1 2; 2 1],\n",
    "    Float64[2, 3],\n",
    "    [GE, GE],\n",
    "    Minimize\n",
    ");\n",
    "solve!(problem);\n",
    "println(problem)"
   ]
  },
  {
   "cell_type": "code",
   "execution_count": 19,
   "id": "d60ca94a",
   "metadata": {},
   "outputs": [
    {
     "name": "stdout",
     "output_type": "stream",
     "text": [
      "Minimize -> 100.0x1 + 150.0x2\n",
      "S.t:\n",
      "1.0x1 + 2.0x2 GE 2.0\n",
      "2.0x1 + 1.0x2 GE 3.0\n",
      "All variables are non-negative\n",
      "\n",
      "Minimize -> 100.0x1 + 150.0x2 + 0.0x3 + 1500.0x4 + 0.0x5 + 1500.0x6\n",
      "S.t:\n",
      "x4: 1.0x1 + 2.0x2 + -1.0x3 + 1.0x4 + 0.0x5 + 0.0x6 EQ 2.0\n",
      "x6: 2.0x1 + 1.0x2 + 0.0x3 + 0.0x4 + -1.0x5 + 1.0x6 EQ 3.0\n",
      "Surplus: [3, 5]\n",
      "Artificial: [4, 6]\n",
      "Basic Variables: [4, 6]\n",
      "All variables are non-negative\n",
      "\n",
      "Minimize -> -4400.0x1 + -4350.0x2 + 1500.0x3 + 0.0x4 + 1500.0x5 + 0.0x6\n",
      "S.t:\n",
      "x4: 1.0x1 + 2.0x2 + -1.0x3 + 1.0x4 + 0.0x5 + 0.0x6 EQ 2.0\n",
      "x6: 2.0x1 + 1.0x2 + 0.0x3 + 0.0x4 + -1.0x5 + 1.0x6 EQ 3.0\n",
      "Surplus: [3, 5]\n",
      "Artificial: [4, 6]\n",
      "Basic Variables: [4, 6]\n",
      "All variables are non-negative\n",
      "\n",
      "Minimize -> 0.0x1 + -2150.0x2 + 1500.0x3 + 0.0x4 + -700.0x5 + 2200.0x6\n",
      "S.t:\n",
      "x4: 0.0x1 + 1.5x2 + -1.0x3 + 1.0x4 + 0.5x5 + -0.5x6 EQ 0.5\n",
      "x1: 1.0x1 + 0.5x2 + 0.0x3 + 0.0x4 + -0.5x5 + 0.5x6 EQ 1.5\n",
      "Surplus: [3, 5]\n",
      "Artificial: [4, 6]\n",
      "Basic Variables: [4, 1]\n",
      "All variables are non-negative\n",
      "\n",
      "Minimize -> 0.0x1 + 0.0x2 + 66.66666666666674x3 + 1433.3333333333333x4 + 16.66666666666663x5 + 1483.3333333333335x6\n",
      "S.t:\n",
      "x2: 0.0x1 + 1.0x2 + -0.6666666666666666x3 + 0.6666666666666666x4 + 0.3333333333333333x5 + -0.3333333333333333x6 EQ 0.3333333333333333\n",
      "x1: 1.0x1 + 0.0x2 + 0.3333333333333333x3 + -0.3333333333333333x4 + -0.6666666666666666x5 + 0.6666666666666666x6 EQ 1.3333333333333333\n",
      "Surplus: [3, 5]\n",
      "Artificial: [4, 6]\n",
      "Basic Variables: [2, 1]\n",
      "All variables are non-negative\n",
      "\n",
      "Minimize -> 0.0x1 + 0.0x2 + 66.66666666666674x3 + 1433.3333333333333x4 + 16.66666666666663x5 + 1483.3333333333335x6\n",
      "S.t:\n",
      "x2: 0.0x1 + 1.0x2 + -0.6666666666666666x3 + 0.6666666666666666x4 + 0.3333333333333333x5 + -0.3333333333333333x6 EQ 0.3333333333333333\n",
      "x1: 1.0x1 + 0.0x2 + 0.3333333333333333x3 + -0.3333333333333333x4 + -0.6666666666666666x5 + 0.6666666666666666x6 EQ 1.3333333333333333\n",
      "Surplus: [3, 5]\n",
      "Artificial: [4, 6]\n",
      "Basic Variables: [2, 1]\n",
      "All variables are non-negative\n",
      "Status: CONVERGED!\n",
      "\n"
     ]
    },
    {
     "name": "stderr",
     "output_type": "stream",
     "text": [
      "\u001b[36m\u001b[1m[ \u001b[22m\u001b[39m\u001b[36m\u001b[1mInfo: \u001b[22m\u001b[39mThe problem:\n",
      "\u001b[36m\u001b[1m[ \u001b[22m\u001b[39m\u001b[36m\u001b[1mInfo: \u001b[22m\u001b[39mThe standard form:\n",
      "\u001b[36m\u001b[1m[ \u001b[22m\u001b[39m\u001b[36m\u001b[1mInfo: \u001b[22m\u001b[39mM Method corrections:\n",
      "\u001b[36m\u001b[1m[ \u001b[22m\u001b[39m\u001b[36m\u001b[1mInfo: \u001b[22m\u001b[39mIteration 1\n",
      "\u001b[36m\u001b[1m[ \u001b[22m\u001b[39m\u001b[36m\u001b[1mInfo: \u001b[22m\u001b[39mIteration 2\n",
      "\u001b[36m\u001b[1m[ \u001b[22m\u001b[39m\u001b[36m\u001b[1mInfo: \u001b[22m\u001b[39mIteration 3\n",
      "\u001b[36m\u001b[1m[ \u001b[22m\u001b[39m\u001b[36m\u001b[1mInfo: \u001b[22m\u001b[39mThe problem is converged\n",
      "\u001b[36m\u001b[1m[ \u001b[22m\u001b[39m\u001b[36m\u001b[1mInfo: \u001b[22m\u001b[39mHere is the result\n",
      "\u001b[36m\u001b[1m[ \u001b[22m\u001b[39m\u001b[36m\u001b[1mInfo: \u001b[22m\u001b[39mx2 = 0.3333333333333333\n",
      "\u001b[36m\u001b[1m[ \u001b[22m\u001b[39m\u001b[36m\u001b[1mInfo: \u001b[22m\u001b[39mx1 = 1.3333333333333333\n",
      "\u001b[36m\u001b[1m[ \u001b[22m\u001b[39m\u001b[36m\u001b[1mInfo: \u001b[22m\u001b[39mObjective value: 183.33333333333331\n"
     ]
    }
   ],
   "source": [
    "problem = createsimplexproblem(\n",
    "    Float64[100, 150],\n",
    "    Float64[1 2; 2 1],\n",
    "    Float64[2, 3],\n",
    "    [GE, GE],\n",
    "    Minimize\n",
    ");\n",
    "simplexpretty(problem)"
   ]
  },
  {
   "cell_type": "markdown",
   "id": "81763ccf",
   "metadata": {},
   "source": [
    "## Vector of iterations "
   ]
  },
  {
   "cell_type": "code",
   "execution_count": 21,
   "id": "ad3e4bb9",
   "metadata": {},
   "outputs": [
    {
     "name": "stdout",
     "output_type": "stream",
     "text": [
      "Maximize -> 2.0x1 + 3.0x2\n",
      "S.t:\n",
      "1.0x1 + 2.0x2 LE 100.0\n",
      "2.0x1 + 1.0x2 LE 150.0\n",
      "All variables are non-negative\n",
      "\n"
     ]
    }
   ],
   "source": [
    "problem = createsimplexproblem(\n",
    "    Float64[2, 3],\n",
    "    Float64[1 2; 2 1],\n",
    "    Float64[100, 150],\n",
    "    [LE, LE],\n",
    "    Maximize\n",
    ");\n",
    "println(problem)"
   ]
  },
  {
   "cell_type": "code",
   "execution_count": 23,
   "id": "19693ea2",
   "metadata": {},
   "outputs": [],
   "source": [
    "iters = simplexiterations(problem);"
   ]
  },
  {
   "cell_type": "code",
   "execution_count": 24,
   "id": "75c1f67a",
   "metadata": {},
   "outputs": [
    {
     "data": {
      "text/plain": [
       "5"
      ]
     },
     "execution_count": 24,
     "metadata": {},
     "output_type": "execute_result"
    }
   ],
   "source": [
    "length(iters)"
   ]
  },
  {
   "cell_type": "code",
   "execution_count": 25,
   "id": "1a8099e1",
   "metadata": {},
   "outputs": [
    {
     "data": {
      "text/plain": [
       "2.0x1 + 3.0x2 + 0.0x3 + 0.0x4\n",
       "S.t:\n",
       "x3: 1.0x1 + 2.0x2 + 1.0x3 + 0.0x4 EQ 100.0\n",
       "x4: 2.0x1 + 1.0x2 + 0.0x3 + 1.0x4 EQ 150.0\n",
       "Slack: [3, 4]\n",
       "Basic Variables: [3, 4]\n",
       "All variables are non-negative\n"
      ]
     },
     "execution_count": 25,
     "metadata": {},
     "output_type": "execute_result"
    },
    {
     "name": "stdout",
     "output_type": "stream",
     "text": [
      "Maximize -> "
     ]
    }
   ],
   "source": [
    "iters[1]"
   ]
  },
  {
   "cell_type": "code",
   "execution_count": 26,
   "id": "8471e52b",
   "metadata": {},
   "outputs": [
    {
     "data": {
      "text/plain": [
       "2.0x1 + 3.0x2 + 0.0x3 + 0.0x4\n",
       "S.t:\n",
       "x3: 1.0x1 + 2.0x2 + 1.0x3 + 0.0x4 EQ 100.0\n",
       "x4: 2.0x1 + 1.0x2 + 0.0x3 + 1.0x4 EQ 150.0\n",
       "Slack: [3, 4]\n",
       "Basic Variables: [3, 4]\n",
       "All variables are non-negative\n"
      ]
     },
     "execution_count": 26,
     "metadata": {},
     "output_type": "execute_result"
    },
    {
     "name": "stdout",
     "output_type": "stream",
     "text": [
      "Maximize -> "
     ]
    }
   ],
   "source": [
    "iters[2]"
   ]
  },
  {
   "cell_type": "code",
   "execution_count": 27,
   "id": "db52cf49",
   "metadata": {},
   "outputs": [
    {
     "data": {
      "text/plain": [
       "0.5x1 + 0.0x2 + -1.5x3 + 0.0x4\n",
       "S.t:\n",
       "x2: 0.5x1 + 1.0x2 + 0.5x3 + 0.0x4 EQ 50.0\n",
       "x4: 1.5x1 + 0.0x2 + -0.5x3 + 1.0x4 EQ 100.0\n",
       "Slack: [3, 4]\n",
       "Basic Variables: [2, 4]\n",
       "All variables are non-negative\n"
      ]
     },
     "execution_count": 27,
     "metadata": {},
     "output_type": "execute_result"
    },
    {
     "name": "stdout",
     "output_type": "stream",
     "text": [
      "Maximize -> "
     ]
    }
   ],
   "source": [
    "iters[3]"
   ]
  },
  {
   "cell_type": "code",
   "execution_count": 28,
   "id": "b1fb7fd4",
   "metadata": {},
   "outputs": [
    {
     "data": {
      "text/plain": [
       "0.0x1 + 0.0x2 + -1.3333333333333333x3 + -0.3333333333333333x4\n",
       "S.t:\n",
       "x2: 0.0x1 + 1.0x2 + 0.6666666666666666x3 + -0.3333333333333333x4 EQ 16.666666666666664\n",
       "x1: 1.0x1 + 0.0x2 + -0.3333333333333333x3 + 0.6666666666666666x4 EQ 66.66666666666667\n",
       "Slack: [3, 4]\n",
       "Basic Variables: [2, 1]\n",
       "All variables are non-negative\n"
      ]
     },
     "execution_count": 28,
     "metadata": {},
     "output_type": "execute_result"
    },
    {
     "name": "stdout",
     "output_type": "stream",
     "text": [
      "Maximize -> "
     ]
    }
   ],
   "source": [
    "iters[4]"
   ]
  },
  {
   "cell_type": "code",
   "execution_count": 29,
   "id": "bd475f19",
   "metadata": {},
   "outputs": [
    {
     "data": {
      "text/plain": [
       "0.0x1 + 0.0x2 + -1.3333333333333333x3 + -0.3333333333333333x4\n",
       "S.t:\n",
       "x2: 0.0x1 + 1.0x2 + 0.6666666666666666x3 + -0.3333333333333333x4 EQ 16.666666666666664\n",
       "x1: 1.0x1 + 0.0x2 + -0.3333333333333333x3 + 0.6666666666666666x4 EQ 66.66666666666667\n",
       "Slack: [3, 4]\n",
       "Basic Variables: [2, 1]\n",
       "All variables are non-negative\n",
       "Status: CONVERGED!\n"
      ]
     },
     "execution_count": 29,
     "metadata": {},
     "output_type": "execute_result"
    },
    {
     "name": "stdout",
     "output_type": "stream",
     "text": [
      "Maximize -> "
     ]
    }
   ],
   "source": [
    "iters[5]"
   ]
  },
  {
   "cell_type": "code",
   "execution_count": null,
   "id": "e25476ba",
   "metadata": {},
   "outputs": [],
   "source": []
  }
 ],
 "metadata": {
  "kernelspec": {
   "display_name": "Julia 1.10.0-rc1",
   "language": "julia",
   "name": "julia-1.10"
  },
  "language_info": {
   "file_extension": ".jl",
   "mimetype": "application/julia",
   "name": "julia",
   "version": "1.10.0"
  }
 },
 "nbformat": 4,
 "nbformat_minor": 5
}
