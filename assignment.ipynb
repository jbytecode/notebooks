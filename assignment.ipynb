{
 "cells": [
  {
   "cell_type": "code",
   "execution_count": 56,
   "id": "5318e66e-be19-440b-804d-611e02e9e3b3",
   "metadata": {},
   "outputs": [],
   "source": [
    "using JuMP"
   ]
  },
  {
   "cell_type": "code",
   "execution_count": 57,
   "id": "9797e424-66e7-4950-a1c9-f0f8962e037c",
   "metadata": {},
   "outputs": [],
   "source": [
    "using GLPK"
   ]
  },
  {
   "cell_type": "markdown",
   "id": "63034f6a-811a-4634-b101-d94db99b8273",
   "metadata": {},
   "source": [
    "# Assignment problem"
   ]
  },
  {
   "cell_type": "markdown",
   "id": "d1d5af64-6ac3-47fe-b86d-a0ec3500694c",
   "metadata": {},
   "source": [
    "|       |   Task 1  |  Task 2 | Task 3 |\n",
    "| :---: | :-------: | :-----: | :----: |\n",
    "| Per1  |     1     |     5   |   4    |\n",
    "| Per2  |     3     |     9   |   7    |\n",
    "| Per3  |     3     |     6   |   2    |"
   ]
  },
  {
   "cell_type": "markdown",
   "id": "12be7930-a4fa-49a4-9f3b-36a72e010a81",
   "metadata": {},
   "source": [
    "$$\n",
    "\\begin{aligned}\n",
    "\\min z & = x_{11} + 5x_{12} + 4x_{13} + 3x_{21} + 9x_{22} + 7x_{23} + 3x_{31} + 6x_{32} + 2x_{33} \\\\\n",
    "\\text{Subjecto to:} \\\\\n",
    "& \\sum_{i=1}^{3} x_{i1} + x_{i2} + x_{i3} = 1 \\\\\n",
    "& \\sum_{j=1}^{3} x_{1j} + x_{2j} + x_{3j} = 1 \\\\\n",
    "& x_{ij} \\in \\{0,1\\} \\\\\n",
    "& i = 1,2,3 \\\\\n",
    "& j = 1,2,3\n",
    "\\end{aligned}\n",
    "$$"
   ]
  },
  {
   "cell_type": "code",
   "execution_count": 58,
   "id": "e6ac2cf3-e5eb-4032-81f4-c410b7d93891",
   "metadata": {},
   "outputs": [
    {
     "data": {
      "text/plain": [
       "A JuMP Model\n",
       "Feasibility problem with:\n",
       "Variables: 0\n",
       "Model mode: AUTOMATIC\n",
       "CachingOptimizer state: EMPTY_OPTIMIZER\n",
       "Solver name: GLPK"
      ]
     },
     "execution_count": 58,
     "metadata": {},
     "output_type": "execute_result"
    }
   ],
   "source": [
    "m = Model(GLPK.Optimizer)"
   ]
  },
  {
   "cell_type": "code",
   "execution_count": 59,
   "id": "09972f9b-cbb4-4038-9749-5f0bf3839b10",
   "metadata": {},
   "outputs": [
    {
     "data": {
      "text/plain": [
       "3×3 Matrix{VariableRef}:\n",
       " x[1,1]  x[1,2]  x[1,3]\n",
       " x[2,1]  x[2,2]  x[2,3]\n",
       " x[3,1]  x[3,2]  x[3,3]"
      ]
     },
     "execution_count": 59,
     "metadata": {},
     "output_type": "execute_result"
    }
   ],
   "source": [
    "@variable(m, x[1:3, 1:3], Bin)"
   ]
  },
  {
   "cell_type": "code",
   "execution_count": 60,
   "id": "f334d3cf-c204-402d-af55-d9893ae195c2",
   "metadata": {},
   "outputs": [],
   "source": [
    "c = [1, 5, 4, 3, 9, 7, 3, 6, 2];"
   ]
  },
  {
   "cell_type": "code",
   "execution_count": 61,
   "id": "625ea2c6-9a8f-4f4d-8634-e36aba53ca7b",
   "metadata": {},
   "outputs": [
    {
     "data": {
      "text/latex": [
       "$$ x_{1,1} + 5 x_{2,1} + 4 x_{3,1} + 3 x_{1,2} + 9 x_{2,2} + 7 x_{3,2} + 3 x_{1,3} + 6 x_{2,3} + 2 x_{3,3} $$"
      ],
      "text/plain": [
       "x[1,1] + 5 x[2,1] + 4 x[3,1] + 3 x[1,2] + 9 x[2,2] + 7 x[3,2] + 3 x[1,3] + 6 x[2,3] + 2 x[3,3]"
      ]
     },
     "execution_count": 61,
     "metadata": {},
     "output_type": "execute_result"
    }
   ],
   "source": [
    "@objective(m, Min, sum(c .* x[:]))"
   ]
  },
  {
   "cell_type": "code",
   "execution_count": 62,
   "id": "702b5457-3bc5-40d5-b135-1858110c5ead",
   "metadata": {},
   "outputs": [],
   "source": [
    "for i in 1:3\n",
    "    @constraint(m, sum(x[i,:]) == 1)\n",
    "end"
   ]
  },
  {
   "cell_type": "code",
   "execution_count": 63,
   "id": "3799e366-efcb-4659-982b-397340157b22",
   "metadata": {},
   "outputs": [],
   "source": [
    "for i in 1:3\n",
    "    @constraint(m, sum(x[:,i]) == 1)\n",
    "end"
   ]
  },
  {
   "cell_type": "code",
   "execution_count": 64,
   "id": "a773f18f-7239-4a4d-af0d-654b3ac782a1",
   "metadata": {},
   "outputs": [
    {
     "name": "stdout",
     "output_type": "stream",
     "text": [
      "Min x[1,1] + 5 x[2,1] + 4 x[3,1] + 3 x[1,2] + 9 x[2,2] + 7 x[3,2] + 3 x[1,3] + 6 x[2,3] + 2 x[3,3]\n",
      "Subject to\n",
      " x[1,1] + x[1,2] + x[1,3] = 1.0\n",
      " x[2,1] + x[2,2] + x[2,3] = 1.0\n",
      " x[3,1] + x[3,2] + x[3,3] = 1.0\n",
      " x[1,1] + x[2,1] + x[3,1] = 1.0\n",
      " x[1,2] + x[2,2] + x[3,2] = 1.0\n",
      " x[1,3] + x[2,3] + x[3,3] = 1.0\n",
      " x[1,1] binary\n",
      " x[2,1] binary\n",
      " x[3,1] binary\n",
      " x[1,2] binary\n",
      " x[2,2] binary\n",
      " x[3,2] binary\n",
      " x[1,3] binary\n",
      " x[2,3] binary\n",
      " x[3,3] binary\n",
      "\n"
     ]
    }
   ],
   "source": [
    "println(m)"
   ]
  },
  {
   "cell_type": "code",
   "execution_count": 65,
   "id": "85bf6ed4-d579-4cc4-9795-7ee649462e93",
   "metadata": {},
   "outputs": [],
   "source": [
    "optimize!(m)"
   ]
  },
  {
   "cell_type": "code",
   "execution_count": 66,
   "id": "880d6c60-4ca3-413e-8e45-48fcfc250472",
   "metadata": {},
   "outputs": [
    {
     "data": {
      "text/plain": [
       "3×3 Matrix{Float64}:\n",
       " 0.0  1.0  0.0\n",
       " 1.0  0.0  0.0\n",
       " 0.0  0.0  1.0"
      ]
     },
     "execution_count": 66,
     "metadata": {},
     "output_type": "execute_result"
    }
   ],
   "source": [
    "value.(x)"
   ]
  },
  {
   "cell_type": "code",
   "execution_count": 67,
   "id": "ed3b02f2-ccee-40b2-9d58-b855e930407f",
   "metadata": {},
   "outputs": [
    {
     "data": {
      "text/plain": [
       "10"
      ]
     },
     "execution_count": 67,
     "metadata": {},
     "output_type": "execute_result"
    }
   ],
   "source": [
    "totalcost = 5 + 3 + 2"
   ]
  },
  {
   "cell_type": "code",
   "execution_count": 68,
   "id": "d4e55f94-9265-4e42-a82e-20751ebc7a90",
   "metadata": {},
   "outputs": [
    {
     "data": {
      "text/plain": [
       "* Solver : GLPK\n",
       "\n",
       "* Status\n",
       "  Termination status : OPTIMAL\n",
       "  Primal status      : FEASIBLE_POINT\n",
       "  Dual status        : NO_SOLUTION\n",
       "  Message from the solver:\n",
       "  \"Solution is optimal\"\n",
       "\n",
       "* Candidate solution\n",
       "  Objective value      : 10.0\n",
       "  Objective bound      : 10.0\n",
       "\n",
       "* Work counters\n",
       "  Solve time (sec)   : 0.00020\n"
      ]
     },
     "execution_count": 68,
     "metadata": {},
     "output_type": "execute_result"
    }
   ],
   "source": [
    "JuMP.solution_summary(m)"
   ]
  },
  {
   "cell_type": "code",
   "execution_count": null,
   "id": "66776132-468a-4cf2-a090-ea2b90151a54",
   "metadata": {},
   "outputs": [],
   "source": []
  }
 ],
 "metadata": {
  "kernelspec": {
   "display_name": "Julia 1.7.1",
   "language": "julia",
   "name": "julia-1.7"
  },
  "language_info": {
   "file_extension": ".jl",
   "mimetype": "application/julia",
   "name": "julia",
   "version": "1.7.1"
  }
 },
 "nbformat": 4,
 "nbformat_minor": 5
}
