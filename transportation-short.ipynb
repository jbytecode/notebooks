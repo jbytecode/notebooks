{
 "cells": [
  {
   "cell_type": "code",
   "execution_count": 1,
   "id": "38dbc3d4-2ade-4ab0-a450-1d0818bba959",
   "metadata": {},
   "outputs": [
    {
     "name": "stdout",
     "output_type": "stream",
     "text": [
      "Min 10 x[1,1] + 16 x[2,1] + 18 x[3,1] + 13 x[1,2] + 11 x[2,2] + 20 x[3,2] + 15 x[1,3] + 12 x[2,3] + 17 x[3,3] + 14 x[1,4] + 19 x[2,4] + 21 x[3,4]\n",
      "Subject to\n",
      " x[1,1] + x[1,2] + x[1,3] + x[1,4] = 60.0\n",
      " x[2,1] + x[2,2] + x[2,3] + x[2,4] = 150.0\n",
      " x[3,1] + x[3,2] + x[3,3] + x[3,4] = 40.0\n",
      " x[1,1] + x[2,1] + x[3,1] = 30.0\n",
      " x[1,2] + x[2,2] + x[3,2] = 100.0\n",
      " x[1,3] + x[2,3] + x[3,3] = 70.0\n",
      " x[1,4] + x[2,4] + x[3,4] = 50.0\n",
      " x[1,1] ≥ 0.0\n",
      " x[2,1] ≥ 0.0\n",
      " x[3,1] ≥ 0.0\n",
      " x[1,2] ≥ 0.0\n",
      " x[2,2] ≥ 0.0\n",
      " x[3,2] ≥ 0.0\n",
      " x[1,3] ≥ 0.0\n",
      " x[2,3] ≥ 0.0\n",
      " x[3,3] ≥ 0.0\n",
      " x[1,4] ≥ 0.0\n",
      " x[2,4] ≥ 0.0\n",
      " x[3,4] ≥ 0.0\n",
      "\n",
      "[30.0 0.0 0.0 30.0; 0.0 100.0 50.0 0.0; 0.0 0.0 20.0 20.0]\n"
     ]
    }
   ],
   "source": [
    "using GLPK\n",
    "using JuMP\n",
    "\n",
    "costs = [\n",
    "    10 13 15 14;\n",
    "    16 11 12 19;\n",
    "    18 20 17 21\n",
    "]\n",
    "\n",
    "supply = [60, 150, 40]\n",
    "demand = [30, 100, 70, 50]\n",
    "\n",
    "model = Model(GLPK.Optimizer)\n",
    "@variable(model, x[1:3, 1:4])\n",
    "@objective(model, Min, sum(costs .* x))\n",
    "@constraint(model, sum(x[1:3, j] for j in 1:4) .== supply)\n",
    "@constraint(model, sum(x[i, 1:4] for i in 1:3) .== demand)\n",
    "@constraint(model, x .>= 0)\n",
    "\n",
    "optimize!(model)\n",
    "\n",
    "println(model)\n",
    "println(value.(x))"
   ]
  },
  {
   "cell_type": "code",
   "execution_count": null,
   "id": "149c6349-9cc5-4c8f-87a4-fca56c385c89",
   "metadata": {},
   "outputs": [],
   "source": []
  }
 ],
 "metadata": {
  "kernelspec": {
   "display_name": "Julia 1.7.2",
   "language": "julia",
   "name": "julia-1.7"
  },
  "language_info": {
   "file_extension": ".jl",
   "mimetype": "application/julia",
   "name": "julia",
   "version": "1.7.2"
  }
 },
 "nbformat": 4,
 "nbformat_minor": 5
}
