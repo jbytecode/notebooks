{
 "cells": [
  {
   "cell_type": "code",
   "execution_count": 108,
   "id": "ef8b29f0",
   "metadata": {},
   "outputs": [],
   "source": [
    "using Metaheuristics"
   ]
  },
  {
   "cell_type": "markdown",
   "id": "0c3b3628",
   "metadata": {},
   "source": [
    "Suppose the model is \n",
    "\n",
    "$$\n",
    "y = 5 + 5x + \\varepsilon\n",
    "$$\n",
    "\n",
    "The first objective is to find $\\hat{\\beta_0}$ and $\\hat{\\beta_1}$ that minimize the sum of squared residuals:\n",
    "\n",
    "\n",
    "$$\n",
    "\\sum e^2\n",
    "$$\n",
    "\n",
    "where $e = y - \\hat{y}$. The second objective is to minimize \n",
    "\n",
    "$$\n",
    "\\Big| 4 - \\sum \\hat{\\beta} \\Big|\n",
    "$$"
   ]
  },
  {
   "cell_type": "code",
   "execution_count": 109,
   "id": "9e79d76c",
   "metadata": {},
   "outputs": [
    {
     "data": {
      "text/plain": [
       "2×2 Matrix{Float64}:\n",
       " -10.0  -10.0\n",
       "  10.0   10.0"
      ]
     },
     "execution_count": 109,
     "metadata": {},
     "output_type": "execute_result"
    }
   ],
   "source": [
    "n = 30\n",
    "x = rand(n)\n",
    "e = rand(n)\n",
    "y = 5 .+ 5 * x .+ e\n",
    "\n",
    "function f1(betas)::Float64\n",
    "    res = y .- betas[1] - betas[2] * x \n",
    "    return sum(res .^ 2.0)\n",
    "end \n",
    "\n",
    "function f2(betas)::Float64\n",
    "    return abs(sum(betas) - 4.0)\n",
    "end \n",
    "\n",
    "function f(x)\n",
    "    return ([f1(x), f2(x)], [0.0], [0.0])\n",
    "end\n",
    "\n",
    "bounds = [-10.0 -10.0; 10.0 10.0]"
   ]
  },
  {
   "cell_type": "code",
   "execution_count": 110,
   "id": "e5e6d2c9",
   "metadata": {},
   "outputs": [
    {
     "data": {
      "text/html": [
       "<pre>\n",
       "Optimization Result\n",
       "===================\n",
       "  Iteration:       251\n",
       "  Non-dominated:   100 / 100\n",
       "  Function calls:  50100\n",
       "  Feasibles:       100 / 100 in final population\n",
       "  Total time:      0.6327 s\n",
       "  Stop reason:     Maximum objective function calls exceeded.\n",
       "</pre>\n"
      ],
      "text/plain": [
       "\u001b[34m\u001b[1mOptimization Result\u001b[22m\u001b[39m\n",
       "\u001b[39m===================\u001b[39m\n",
       "  Iteration:       251\n",
       "  Non-dominated:   100 / 100\n",
       "  Function calls:  50100\n",
       "  Feasibles:       100 / 100 in final population\n",
       "  Total time:      0.6327 s\n",
       "  Stop reason:     Maximum objective function calls exceeded.\n"
      ]
     },
     "execution_count": 110,
     "metadata": {},
     "output_type": "execute_result"
    }
   ],
   "source": [
    "result = optimize(f, bounds, NSGA2(N = 100, p_cr = 0.90, p_m=0.01))"
   ]
  },
  {
   "cell_type": "code",
   "execution_count": 111,
   "id": "36089189",
   "metadata": {},
   "outputs": [
    {
     "data": {
      "text/plain": [
       "(f = [720.367, 0.403679], g = [0.0], h = [0.0], x = [2.03569, 2.36799])"
      ]
     },
     "execution_count": 111,
     "metadata": {},
     "output_type": "execute_result"
    }
   ],
   "source": [
    "result.best_sol"
   ]
  },
  {
   "cell_type": "code",
   "execution_count": 112,
   "id": "96b2b70b",
   "metadata": {},
   "outputs": [
    {
     "data": {
      "text/plain": [
       "720.3669771927136"
      ]
     },
     "execution_count": 112,
     "metadata": {},
     "output_type": "execute_result"
    }
   ],
   "source": [
    "f1(result.best_sol.x)"
   ]
  },
  {
   "cell_type": "code",
   "execution_count": 113,
   "id": "af60142d",
   "metadata": {},
   "outputs": [
    {
     "data": {
      "text/plain": [
       "0.40367923763018787"
      ]
     },
     "execution_count": 113,
     "metadata": {},
     "output_type": "execute_result"
    }
   ],
   "source": [
    "f2(result.best_sol.x)"
   ]
  },
  {
   "cell_type": "code",
   "execution_count": null,
   "id": "3cc3cab6",
   "metadata": {},
   "outputs": [],
   "source": []
  }
 ],
 "metadata": {
  "kernelspec": {
   "display_name": "Julia 1.9.0-rc3",
   "language": "julia",
   "name": "julia-1.9"
  },
  "language_info": {
   "file_extension": ".jl",
   "mimetype": "application/julia",
   "name": "julia",
   "version": "1.9.0"
  }
 },
 "nbformat": 4,
 "nbformat_minor": 5
}
