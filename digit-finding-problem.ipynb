{
 "cells": [
  {
   "cell_type": "code",
   "execution_count": 4,
   "id": "6f442e7a-f48b-49ae-bb32-18216505acd6",
   "metadata": {},
   "outputs": [],
   "source": [
    "using JuMP\n",
    "using GLPK"
   ]
  },
  {
   "cell_type": "markdown",
   "id": "91c8fc2e-2de9-4d11-9dd0-d1ca1c36c689",
   "metadata": {},
   "source": [
    "# Goal Programming Approach"
   ]
  },
  {
   "cell_type": "markdown",
   "id": "165b435e-df16-4e6c-a83c-9e79b7eb5833",
   "metadata": {},
   "source": [
    "- I am 3 digit number between 400 and 800\n",
    "- My digits add up to 15\n",
    "- My ten's digit is twice hundereds' digit\n",
    "- What number am I?"
   ]
  },
  {
   "cell_type": "markdown",
   "id": "9ff85896-cf01-4b9c-9d67-d36af47f5cfa",
   "metadata": {},
   "source": [
    "$$\n",
    "\\begin{aligned}\n",
    "\\min z = & d_1^- + d_1^+ \\\\\n",
    "\\text{Subject to:} \\\\\n",
    "& x_1 + x_2 + x_3 + d_1^- - d_1^+ = 15 \\\\\n",
    "& x_2 - 2x_1 = 0 \\\\\n",
    "& 100x_1 + 10x_2 + x_3 \\le 800 \\\\\n",
    "& 100x_1 + 10x_2 + x_3 \\ge 400 \\\\\n",
    "& x_1, x_2, x_3 \\ge 0 \\\\\n",
    "& x_1, x_2, x_3 \\le 9 \\\\\n",
    "& d_1^-, d_1^+ \\ge 0 \\\\\n",
    "& x_1, x_2, x_3 \\in \\{0, Z^+\\}\n",
    "\\end{aligned}\n",
    "$$"
   ]
  },
  {
   "cell_type": "code",
   "execution_count": 5,
   "id": "cd2b34cb-b61d-4d2b-acf5-daed586c9c93",
   "metadata": {},
   "outputs": [],
   "source": [
    "using JuMP, GLPK\n",
    "\n",
    "m = Model(GLPK.Optimizer)\n",
    "\n",
    "@variable(m, x[1:3], Int)\n",
    "@variable(m, d[1:2])\n",
    "\n",
    "@objective(m, Min, sum(d[1:2]))\n",
    "@constraint(m, x[1] + x[2] + x[3] + d[1] - d[2] == 15)\n",
    "@constraint(m, x[2] == 2 * x[1])\n",
    "@constraint(m, x[1] * 100 + x[2] *10 + x[3] <= 800)\n",
    "@constraint(m, x[1] * 100 + x[2] *10 + x[3] >= 400)\n",
    "@constraint(m, x[1:3] .>= 0)\n",
    "@constraint(m, x[1:3] .<= 9)\n",
    "@constraint(m, d[1:2] .>= 0)\n",
    "\n",
    "optimize!(m)"
   ]
  },
  {
   "cell_type": "code",
   "execution_count": 6,
   "id": "6e79611a-e5da-4357-ba04-373ec15b11c4",
   "metadata": {},
   "outputs": [
    {
     "data": {
      "text/plain": [
       "3-element Vector{Float64}:\n",
       " 4.0\n",
       " 8.0\n",
       " 3.0"
      ]
     },
     "execution_count": 6,
     "metadata": {},
     "output_type": "execute_result"
    }
   ],
   "source": [
    "value.(x[1:3])"
   ]
  },
  {
   "cell_type": "markdown",
   "id": "8162fddb-f853-411c-b417-7058ff7eaa3b",
   "metadata": {},
   "source": [
    "# Constraint Satisfaction Approach"
   ]
  },
  {
   "cell_type": "markdown",
   "id": "2d4b5158-39ad-4273-ae2b-0eb4d377d3a4",
   "metadata": {},
   "source": [
    "- I am 3 digit number between 400 and 800\n",
    "- My digits add up to 15\n",
    "- My ten's digit is twice hundereds' digit\n",
    "- What number am I?"
   ]
  },
  {
   "cell_type": "code",
   "execution_count": 7,
   "id": "4d8602fe-4d03-4f7e-a2c7-e8c6317c7194",
   "metadata": {},
   "outputs": [
    {
     "data": {
      "text/plain": [
       "3-element Vector{Float64}:\n",
       " 4.0\n",
       " 8.0\n",
       " 3.0"
      ]
     },
     "execution_count": 7,
     "metadata": {},
     "output_type": "execute_result"
    }
   ],
   "source": [
    "m = Model(GLPK.Optimizer)\n",
    "@variable(m, a, Int)\n",
    "@variable(m, b, Int)\n",
    "@variable(m, c, Int)\n",
    "\n",
    "@constraint(m, 400 <= 100a + 10b + c <= 800)\n",
    "@constraint(m, a + b + c == 15)\n",
    "@constraint(m, b == 2a)\n",
    "@constraint(m, 0 .<= [a, b, c] .<= 9)\n",
    "\n",
    "optimize!(m)\n",
    "value.([a, b, c])"
   ]
  },
  {
   "cell_type": "code",
   "execution_count": null,
   "id": "236d3d2d-b5db-40d1-a1f2-b137783213af",
   "metadata": {},
   "outputs": [],
   "source": []
  }
 ],
 "metadata": {
  "kernelspec": {
   "display_name": "Julia 1.9.0-DEV",
   "language": "julia",
   "name": "julia-1.9"
  },
  "language_info": {
   "file_extension": ".jl",
   "mimetype": "application/julia",
   "name": "julia",
   "version": "1.9.0"
  }
 },
 "nbformat": 4,
 "nbformat_minor": 5
}
