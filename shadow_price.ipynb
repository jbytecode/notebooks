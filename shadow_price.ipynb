{
 "cells": [
  {
   "cell_type": "code",
   "execution_count": 1,
   "id": "a1547727-e53c-41e1-af9b-c16f12bbe6a4",
   "metadata": {},
   "outputs": [],
   "source": [
    "using JuMP"
   ]
  },
  {
   "cell_type": "code",
   "execution_count": 2,
   "id": "f14c4c70-171f-4e8a-b05e-9385399fdf83",
   "metadata": {},
   "outputs": [],
   "source": [
    "using GLPK"
   ]
  },
  {
   "cell_type": "markdown",
   "id": "96611709-e5db-4d8f-92bf-fdfb6035d3f0",
   "metadata": {},
   "source": [
    "\\begin{aligned}\n",
    "\\max z & = 3x + 5y \\\\\n",
    "\\text{Subject to:} \\\\\n",
    "& x + y \\le 100 \\\\\n",
    "& x, y \\ge 0\n",
    "\\end{aligned}"
   ]
  },
  {
   "cell_type": "markdown",
   "id": "7c4814fa-8416-473a-baed-347868bc5ccc",
   "metadata": {},
   "source": [
    "### RHS = 100"
   ]
  },
  {
   "cell_type": "code",
   "execution_count": 4,
   "id": "25d60d9d-40d3-40ab-97fb-5492dcc0b846",
   "metadata": {},
   "outputs": [],
   "source": [
    "m = Model(GLPK.Optimizer)\n",
    "@variable(m, x)\n",
    "@variable(m, y)\n",
    "@objective(m, Max, 3x + 5y)\n",
    "@constraint(m, c1, x + y <= 100)\n",
    "@constraint(m, x >= 0)\n",
    "@constraint(m, y >= 0)\n",
    "optimize!(m)"
   ]
  },
  {
   "cell_type": "code",
   "execution_count": 5,
   "id": "6be32bc8-acfd-48fe-8742-1eeb6f85898b",
   "metadata": {},
   "outputs": [
    {
     "data": {
      "text/plain": [
       "0.0"
      ]
     },
     "execution_count": 5,
     "metadata": {},
     "output_type": "execute_result"
    }
   ],
   "source": [
    "value(x)"
   ]
  },
  {
   "cell_type": "code",
   "execution_count": 6,
   "id": "0fd6cb25-93d5-49ea-9bf9-11ddccd913ea",
   "metadata": {},
   "outputs": [
    {
     "data": {
      "text/plain": [
       "100.0"
      ]
     },
     "execution_count": 6,
     "metadata": {},
     "output_type": "execute_result"
    }
   ],
   "source": [
    "value(y)"
   ]
  },
  {
   "cell_type": "code",
   "execution_count": 7,
   "id": "acbe4e01-d065-4f65-89fc-542e315bb8bd",
   "metadata": {},
   "outputs": [
    {
     "data": {
      "text/plain": [
       "500.0"
      ]
     },
     "execution_count": 7,
     "metadata": {},
     "output_type": "execute_result"
    }
   ],
   "source": [
    "objective_value(m)"
   ]
  },
  {
   "cell_type": "code",
   "execution_count": 8,
   "id": "ab02a810-198f-4711-84cc-3d3d238a398a",
   "metadata": {},
   "outputs": [
    {
     "data": {
      "text/plain": [
       "5.0"
      ]
     },
     "execution_count": 8,
     "metadata": {},
     "output_type": "execute_result"
    }
   ],
   "source": [
    "shadow_price(c1)"
   ]
  },
  {
   "cell_type": "markdown",
   "id": "3bd8fe3b-10ad-486e-a293-0fbc12703cff",
   "metadata": {},
   "source": [
    "### RHS = 101"
   ]
  },
  {
   "cell_type": "code",
   "execution_count": 9,
   "id": "1ba1a0c7-87c6-42e8-a19b-8b190753cfd2",
   "metadata": {},
   "outputs": [],
   "source": [
    "m = Model(GLPK.Optimizer)\n",
    "@variable(m, x)\n",
    "@variable(m, y)\n",
    "@objective(m, Max, 3x + 5y)\n",
    "@constraint(m, c1, x + y <= 101)\n",
    "@constraint(m, x >= 0)\n",
    "@constraint(m, y >= 0)\n",
    "optimize!(m)"
   ]
  },
  {
   "cell_type": "code",
   "execution_count": 10,
   "id": "866c438c-189f-43d0-a009-291f6a5efd00",
   "metadata": {},
   "outputs": [
    {
     "data": {
      "text/plain": [
       "0.0"
      ]
     },
     "execution_count": 10,
     "metadata": {},
     "output_type": "execute_result"
    }
   ],
   "source": [
    "value(x)"
   ]
  },
  {
   "cell_type": "code",
   "execution_count": 11,
   "id": "8773109d-07c7-4026-a03b-ea7b770eefcc",
   "metadata": {},
   "outputs": [
    {
     "data": {
      "text/plain": [
       "101.0"
      ]
     },
     "execution_count": 11,
     "metadata": {},
     "output_type": "execute_result"
    }
   ],
   "source": [
    "value(y)"
   ]
  },
  {
   "cell_type": "code",
   "execution_count": 12,
   "id": "7f120100-ec23-42e1-a412-49747f4b5cb9",
   "metadata": {},
   "outputs": [
    {
     "data": {
      "text/plain": [
       "505.0"
      ]
     },
     "execution_count": 12,
     "metadata": {},
     "output_type": "execute_result"
    }
   ],
   "source": [
    "objective_value(m)"
   ]
  },
  {
   "cell_type": "code",
   "execution_count": 13,
   "id": "e5bc84fd-1c91-4032-b1ea-59f921fb3451",
   "metadata": {},
   "outputs": [
    {
     "data": {
      "text/plain": [
       "5.0"
      ]
     },
     "execution_count": 13,
     "metadata": {},
     "output_type": "execute_result"
    }
   ],
   "source": [
    "shadow_price(c1)"
   ]
  },
  {
   "cell_type": "code",
   "execution_count": null,
   "id": "c0136482-6bc3-4411-960d-3dd10c9e9373",
   "metadata": {},
   "outputs": [],
   "source": []
  }
 ],
 "metadata": {
  "kernelspec": {
   "display_name": "Julia 1.9.0-DEV",
   "language": "julia",
   "name": "julia-1.9"
  },
  "language_info": {
   "file_extension": ".jl",
   "mimetype": "application/julia",
   "name": "julia",
   "version": "1.9.0"
  }
 },
 "nbformat": 4,
 "nbformat_minor": 5
}
