{
 "cells": [
  {
   "cell_type": "markdown",
   "id": "8ccdbef4-5835-4fe2-8660-3990f58f68ac",
   "metadata": {},
   "source": [
    "![](maximum-flow.png)"
   ]
  },
  {
   "cell_type": "code",
   "execution_count": 27,
   "id": "f21f5e35-bd9a-482e-86d2-73b969f52f1a",
   "metadata": {},
   "outputs": [],
   "source": [
    "using JuMP"
   ]
  },
  {
   "cell_type": "code",
   "execution_count": 28,
   "id": "d7d7a481-1cb0-49aa-a681-d3f3a16e996e",
   "metadata": {},
   "outputs": [],
   "source": [
    "using GLPK"
   ]
  },
  {
   "cell_type": "code",
   "execution_count": 29,
   "id": "25d24a61-05ec-464d-b7e5-0f8705f80922",
   "metadata": {},
   "outputs": [],
   "source": [
    "m = Model(GLPK.Optimizer)\n",
    "@variable(m, f)\n",
    "@variable(m, x12)\n",
    "@variable(m, x13)\n",
    "@variable(m, x14)\n",
    "@variable(m, x23)\n",
    "@variable(m, x25)\n",
    "@variable(m, x34)\n",
    "@variable(m, x35)\n",
    "@variable(m, x43)\n",
    "@variable(m, x45)\n",
    "\n",
    "@objective(m, Max, f)\n",
    "\n",
    "@constraint(m, x12 + x13 + x14 == f)\n",
    "@constraint(m, x23 + x25 - x12 == 0)\n",
    "@constraint(m, x34 + x35 - x43 - x13 - x23 == 0)\n",
    "@constraint(m, x45 + x43 - x14 - x34 == 0)\n",
    "@constraint(m, x25 + x35 + x45 == f)\n",
    "\n",
    "@constraint(m, x14 <= 10)\n",
    "@constraint(m, x12 <= 20)\n",
    "@constraint(m, x13 <= 30)\n",
    "@constraint(m, x45 <= 20)\n",
    "@constraint(m, x23 <= 40)\n",
    "@constraint(m, x25 <= 30)\n",
    "@constraint(m, x35 <= 20)\n",
    "@constraint(m, x34 <= 10)\n",
    "@constraint(m, x43 <= 5)\n",
    "\n",
    "@constraint(m, x14 >= 0)\n",
    "@constraint(m, x12 >= 0)\n",
    "@constraint(m, x13 >= 0)\n",
    "@constraint(m, x45 >= 0)\n",
    "@constraint(m, x23 >= 0)\n",
    "@constraint(m, x25 >= 0)\n",
    "@constraint(m, x35 >= 0)\n",
    "@constraint(m, x34 >= 0)\n",
    "@constraint(m, x43 >= 0);"
   ]
  },
  {
   "cell_type": "code",
   "execution_count": 30,
   "id": "030813b9-5df0-4c91-aa28-ba7e78fe4848",
   "metadata": {},
   "outputs": [],
   "source": [
    "optimize!(m)"
   ]
  },
  {
   "cell_type": "code",
   "execution_count": 31,
   "id": "7dad42a5-c5dd-4c1e-8ab5-05434ff717bc",
   "metadata": {},
   "outputs": [
    {
     "data": {
      "text/latex": [
       "$$ \\begin{aligned}\n",
       "\\max\\quad & f\\\\\n",
       "\\text{Subject to} \\quad & -f + x12 + x13 + x14 = 0.0\\\\\n",
       " & -x12 + x23 + x25 = 0.0\\\\\n",
       " & -x13 - x23 + x34 + x35 - x43 = 0.0\\\\\n",
       " & -x14 - x34 + x43 + x45 = 0.0\\\\\n",
       " & -f + x25 + x35 + x45 = 0.0\\\\\n",
       " & x14 \\geq 0.0\\\\\n",
       " & x12 \\geq 0.0\\\\\n",
       " & x13 \\geq 0.0\\\\\n",
       " & x45 \\geq 0.0\\\\\n",
       " & x23 \\geq 0.0\\\\\n",
       " & x25 \\geq 0.0\\\\\n",
       " & x35 \\geq 0.0\\\\\n",
       " & x34 \\geq 0.0\\\\\n",
       " & x43 \\geq 0.0\\\\\n",
       " & x14 \\leq 10.0\\\\\n",
       " & x12 \\leq 20.0\\\\\n",
       " & x13 \\leq 30.0\\\\\n",
       " & x45 \\leq 20.0\\\\\n",
       " & x23 \\leq 40.0\\\\\n",
       " & x25 \\leq 30.0\\\\\n",
       " & x35 \\leq 20.0\\\\\n",
       " & x34 \\leq 10.0\\\\\n",
       " & x43 \\leq 5.0\\\\\n",
       "\\end{aligned} $$"
      ]
     },
     "metadata": {},
     "output_type": "display_data"
    }
   ],
   "source": [
    "print(m)"
   ]
  },
  {
   "cell_type": "code",
   "execution_count": 32,
   "id": "e1766fee-f878-4944-bc91-28dd54d2b7fc",
   "metadata": {},
   "outputs": [
    {
     "data": {
      "text/plain": [
       "* Solver : GLPK\n",
       "\n",
       "* Status\n",
       "  Termination status : OPTIMAL\n",
       "  Primal status      : FEASIBLE_POINT\n",
       "  Dual status        : FEASIBLE_POINT\n",
       "  Message from the solver:\n",
       "  \"Solution is optimal\"\n",
       "\n",
       "* Candidate solution\n",
       "  Objective value      : 60.0\n",
       "  Objective bound      : Inf\n",
       "  Dual objective value : 60.0\n",
       "\n",
       "* Work counters\n",
       "  Solve time (sec)   : 0.00006\n"
      ]
     },
     "execution_count": 32,
     "metadata": {},
     "output_type": "execute_result"
    }
   ],
   "source": [
    "JuMP.solution_summary(m)"
   ]
  },
  {
   "cell_type": "code",
   "execution_count": 37,
   "id": "3e76db6f-b080-4145-bfb4-6f4c27c81d3c",
   "metadata": {},
   "outputs": [
    {
     "data": {
      "text/plain": [
       "9-element Vector{VariableRef}:\n",
       " x12\n",
       " x13\n",
       " x14\n",
       " x23\n",
       " x25\n",
       " x34\n",
       " x35\n",
       " x43\n",
       " x45"
      ]
     },
     "execution_count": 37,
     "metadata": {},
     "output_type": "execute_result"
    }
   ],
   "source": [
    "varnames = [x12, x13, x14, x23, x25, x34, x35, x43, x45]"
   ]
  },
  {
   "cell_type": "code",
   "execution_count": 38,
   "id": "5545f811-4f4c-4a9d-8ce2-5bfbeeb75b05",
   "metadata": {},
   "outputs": [
    {
     "data": {
      "text/plain": [
       "9×2 Matrix{AffExpr}:\n",
       " x12  20\n",
       " x13  30\n",
       " x14  10\n",
       " x23  0\n",
       " x25  20\n",
       " x34  10\n",
       " x35  20\n",
       " x43  0\n",
       " x45  20"
      ]
     },
     "execution_count": 38,
     "metadata": {},
     "output_type": "execute_result"
    }
   ],
   "source": [
    "hcat(varnames, value.(varnames))"
   ]
  },
  {
   "cell_type": "code",
   "execution_count": null,
   "id": "8b5d89b2-2a8a-4f35-99eb-5e5ddc4b59a2",
   "metadata": {},
   "outputs": [],
   "source": []
  }
 ],
 "metadata": {
  "kernelspec": {
   "display_name": "Julia 1.7.1",
   "language": "julia",
   "name": "julia-1.7"
  },
  "language_info": {
   "file_extension": ".jl",
   "mimetype": "application/julia",
   "name": "julia",
   "version": "1.7.1"
  }
 },
 "nbformat": 4,
 "nbformat_minor": 5
}
